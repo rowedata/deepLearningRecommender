{
 "cells": [
  {
   "cell_type": "markdown",
   "id": "0f0bd265",
   "metadata": {},
   "source": [
    "## LightFM model"
   ]
  },
  {
   "cell_type": "markdown",
   "id": "0478808e",
   "metadata": {},
   "source": [
    "LightFM is a hybrid matrix factorization model that represents users and items as linear combinations of their content features' latent factors. In other words, it is capable of using both collaborative and content-based information for recommendations, which makes it a good choice for dealing with both cold start and sparsity problems. \n",
    "\n",
    "The inputs to the LightFM model can be divided into two categories:\n",
    "\n",
    "#### Collaborative Input:  \n",
    "This is the user-item interaction matrix. It's a binary matrix where each row represents a user, each column represents an item, and each cell represents the interaction between the user and the item. This can be expressed as explicit feedback (e.g., ratings) or implicit feedback (e.g., views, clicks).\n",
    "#### Content-Based Input: \n",
    "These are the user and item features. They are also represented as binary matrices:\n",
    "#### User features: \n",
    "Each row represents a user, and each column represents a user feature.\n",
    "#### Item features: \n",
    "Each row represents an item, and each column represents an item feature.\n",
    "Note that if you don't provide user and/or item features, LightFM uses their identities as features, which makes it equivalent to Matrix Factorization or collaborative filtering.\n",
    "\n",
    "More info on the method: https://arxiv.org/pdf/1507.08439.pdf\n",
    "\n",
    "https://github.com/lyst/lightfm/issues/494"
   ]
  },
  {
   "cell_type": "code",
   "execution_count": 1,
   "id": "e048c596",
   "metadata": {},
   "outputs": [
    {
     "name": "stderr",
     "output_type": "stream",
     "text": [
      "/Users/benazirrowe/opt/anaconda3/lib/python3.9/site-packages/lightfm/_lightfm_fast.py:9: UserWarning: LightFM was compiled without OpenMP support. Only a single thread will be used.\n",
      "  warnings.warn(\n"
     ]
    }
   ],
   "source": [
    "%matplotlib inline\n",
    "import numpy as np\n",
    "import pandas as pd \n",
    "import matplotlib.pyplot as plt\n",
    "import seaborn as sns\n",
    "\n",
    "\n",
    "from lightfm import LightFM\n",
    "from lightfm.data import Dataset\n",
    "from lightfm.evaluation import auc_score\n",
    "from lightfm.evaluation import precision_at_k\n",
    "\n",
    "from scipy.sparse import csr_matrix"
   ]
  },
  {
   "cell_type": "code",
   "execution_count": 2,
   "id": "2475bfa8",
   "metadata": {},
   "outputs": [],
   "source": [
    "# Load product info\n",
    "product_info = pd.read_csv('../data/raw/archive/product_info.csv')"
   ]
  },
  {
   "cell_type": "code",
   "execution_count": 3,
   "id": "24567ee6",
   "metadata": {},
   "outputs": [],
   "source": [
    "product_info.rename(columns={'product_id': 'item_id'}, inplace=True)\n",
    "product_info1 = product_info[['item_id','limited_edition', 'new', 'online_only', 'out_of_stock', 'sephora_exclusive']]\n",
    "#, 'primary_category', 'child_count'"
   ]
  },
  {
   "cell_type": "code",
   "execution_count": 4,
   "id": "0ac8de82",
   "metadata": {},
   "outputs": [
    {
     "name": "stdout",
     "output_type": "stream",
     "text": [
      "(8494, 6)\n",
      "(8494, 6)\n"
     ]
    }
   ],
   "source": [
    "# All item ids are unique in the dataset\n",
    "print(product_info1.shape)\n",
    "product_info1 = product_info1.drop_duplicates(subset=['item_id'])\n",
    "print(product_info1.shape)"
   ]
  },
  {
   "cell_type": "code",
   "execution_count": 5,
   "id": "eb34ff36",
   "metadata": {},
   "outputs": [
    {
     "data": {
      "text/plain": [
       "array([0, 1])"
      ]
     },
     "execution_count": 5,
     "metadata": {},
     "output_type": "execute_result"
    }
   ],
   "source": [
    "product_info1.out_of_stock.unique()"
   ]
  },
  {
   "cell_type": "code",
   "execution_count": 6,
   "id": "b9fc289e",
   "metadata": {},
   "outputs": [],
   "source": [
    "reviews250 = pd.read_csv('../data/raw/archive/reviews_0_250.csv', low_memory=False, index_col=0)\n",
    "reviews500 = pd.read_csv('../data/raw/archive/reviews_250_500.csv', low_memory=False, index_col=0)\n",
    "reviews750 = pd.read_csv('../data/raw/archive/reviews_500_750.csv', low_memory=False, index_col=0)\n",
    "reviews1000 = pd.read_csv('../data/raw/archive/reviews_750_1000.csv', low_memory=False, index_col=0)\n",
    "reviews1500 = pd.read_csv('../data/raw/archive/reviews_1000_1500.csv', low_memory=False, index_col=0)\n",
    "reviewsend = pd.read_csv('../data/raw/archive/reviews_1500_end.csv', low_memory=False, index_col=0)"
   ]
  },
  {
   "cell_type": "code",
   "execution_count": 7,
   "id": "1f68e7d1",
   "metadata": {},
   "outputs": [
    {
     "name": "stdout",
     "output_type": "stream",
     "text": [
      "(1301136, 18)\n",
      "<class 'pandas.core.frame.DataFrame'>\n",
      "Index: 1301136 entries, 0 to 49976\n",
      "Data columns (total 18 columns):\n",
      " #   Column                    Non-Null Count    Dtype  \n",
      "---  ------                    --------------    -----  \n",
      " 0   author_id                 1301136 non-null  object \n",
      " 1   rating                    1301136 non-null  int64  \n",
      " 2   is_recommended            1107162 non-null  float64\n",
      " 3   helpfulness               631670 non-null   float64\n",
      " 4   total_feedback_count      1301136 non-null  int64  \n",
      " 5   total_neg_feedback_count  1301136 non-null  int64  \n",
      " 6   total_pos_feedback_count  1301136 non-null  int64  \n",
      " 7   submission_time           1301136 non-null  object \n",
      " 8   review_text               1299520 non-null  object \n",
      " 9   review_title              930754 non-null   object \n",
      " 10  skin_tone                 1103798 non-null  object \n",
      " 11  eye_color                 1057734 non-null  object \n",
      " 12  skin_type                 1172830 non-null  object \n",
      " 13  hair_color                1037824 non-null  object \n",
      " 14  product_id                1301136 non-null  object \n",
      " 15  product_name              1301136 non-null  object \n",
      " 16  brand_name                1301136 non-null  object \n",
      " 17  price_usd                 1301136 non-null  float64\n",
      "dtypes: float64(3), int64(4), object(11)\n",
      "memory usage: 188.6+ MB\n"
     ]
    }
   ],
   "source": [
    "df = pd.concat([reviews250, reviews500, reviews750, reviews1000, reviews1500, reviewsend])\n",
    "print(df.shape)\n",
    "df.info()"
   ]
  },
  {
   "cell_type": "code",
   "execution_count": 8,
   "id": "3145210b",
   "metadata": {},
   "outputs": [],
   "source": [
    "# LightFM uses those names internally\n",
    "df.rename(columns={'author_id': 'user_id', 'product_id':'item_id'}, inplace=True)"
   ]
  },
  {
   "cell_type": "code",
   "execution_count": 9,
   "id": "73ae4766",
   "metadata": {},
   "outputs": [],
   "source": [
    "# from combined reviews data frame df we subset interaction matrix inputs and user traits\n",
    "df = df[['user_id','item_id','rating', 'skin_tone', 'eye_color', 'skin_type', 'hair_color']]"
   ]
  },
  {
   "cell_type": "code",
   "execution_count": 10,
   "id": "78a7cbf8",
   "metadata": {},
   "outputs": [
    {
     "name": "stdout",
     "output_type": "stream",
     "text": [
      "(1301136, 7)\n",
      "(1010828, 7)\n"
     ]
    }
   ],
   "source": [
    "# making new data frame with dropped NA values \n",
    "print(df.shape)\n",
    "df =df.dropna(axis = 0, how ='any')    \n",
    "print(df.shape)"
   ]
  },
  {
   "cell_type": "code",
   "execution_count": 11,
   "id": "08d92bd8",
   "metadata": {},
   "outputs": [
    {
     "name": "stdout",
     "output_type": "stream",
     "text": [
      "(843003, 7)\n"
     ]
    }
   ],
   "source": [
    "df = df.drop_duplicates(subset=['user_id', 'item_id'])\n",
    "df = df.reset_index(drop=True)\n",
    "print(df.shape)"
   ]
  },
  {
   "cell_type": "code",
   "execution_count": 12,
   "id": "9b151239",
   "metadata": {},
   "outputs": [
    {
     "data": {
      "text/html": [
       "<div>\n",
       "<style scoped>\n",
       "    .dataframe tbody tr th:only-of-type {\n",
       "        vertical-align: middle;\n",
       "    }\n",
       "\n",
       "    .dataframe tbody tr th {\n",
       "        vertical-align: top;\n",
       "    }\n",
       "\n",
       "    .dataframe thead th {\n",
       "        text-align: right;\n",
       "    }\n",
       "</style>\n",
       "<table border=\"1\" class=\"dataframe\">\n",
       "  <thead>\n",
       "    <tr style=\"text-align: right;\">\n",
       "      <th></th>\n",
       "      <th>user_id</th>\n",
       "      <th>item_id</th>\n",
       "      <th>rating</th>\n",
       "      <th>skin_tone</th>\n",
       "      <th>eye_color</th>\n",
       "      <th>skin_type</th>\n",
       "      <th>hair_color</th>\n",
       "    </tr>\n",
       "  </thead>\n",
       "  <tbody>\n",
       "    <tr>\n",
       "      <th>0</th>\n",
       "      <td>5061282401</td>\n",
       "      <td>P420652</td>\n",
       "      <td>5</td>\n",
       "      <td>light</td>\n",
       "      <td>brown</td>\n",
       "      <td>dry</td>\n",
       "      <td>blonde</td>\n",
       "    </tr>\n",
       "    <tr>\n",
       "      <th>1</th>\n",
       "      <td>42802569154</td>\n",
       "      <td>P420652</td>\n",
       "      <td>4</td>\n",
       "      <td>lightMedium</td>\n",
       "      <td>brown</td>\n",
       "      <td>normal</td>\n",
       "      <td>brown</td>\n",
       "    </tr>\n",
       "    <tr>\n",
       "      <th>2</th>\n",
       "      <td>6941883808</td>\n",
       "      <td>P420652</td>\n",
       "      <td>2</td>\n",
       "      <td>light</td>\n",
       "      <td>blue</td>\n",
       "      <td>combination</td>\n",
       "      <td>brown</td>\n",
       "    </tr>\n",
       "    <tr>\n",
       "      <th>3</th>\n",
       "      <td>27926227988</td>\n",
       "      <td>P420652</td>\n",
       "      <td>5</td>\n",
       "      <td>fairLight</td>\n",
       "      <td>brown</td>\n",
       "      <td>combination</td>\n",
       "      <td>brown</td>\n",
       "    </tr>\n",
       "    <tr>\n",
       "      <th>4</th>\n",
       "      <td>7656791726</td>\n",
       "      <td>P420652</td>\n",
       "      <td>5</td>\n",
       "      <td>light</td>\n",
       "      <td>blue</td>\n",
       "      <td>normal</td>\n",
       "      <td>blonde</td>\n",
       "    </tr>\n",
       "  </tbody>\n",
       "</table>\n",
       "</div>"
      ],
      "text/plain": [
       "       user_id  item_id  rating    skin_tone eye_color    skin_type hair_color\n",
       "0   5061282401  P420652       5        light     brown          dry     blonde\n",
       "1  42802569154  P420652       4  lightMedium     brown       normal      brown\n",
       "2   6941883808  P420652       2        light      blue  combination      brown\n",
       "3  27926227988  P420652       5    fairLight     brown  combination      brown\n",
       "4   7656791726  P420652       5        light      blue       normal     blonde"
      ]
     },
     "execution_count": 12,
     "metadata": {},
     "output_type": "execute_result"
    }
   ],
   "source": [
    "df.head()"
   ]
  },
  {
   "cell_type": "markdown",
   "id": "19602e0c",
   "metadata": {},
   "source": [
    "Now this df is ready for interaction matrix since there are unique use/item combos. To get the unique user features we need to drop all user_id duplicates. \n"
   ]
  },
  {
   "cell_type": "code",
   "execution_count": 13,
   "id": "025fd32b",
   "metadata": {},
   "outputs": [
    {
     "data": {
      "text/plain": [
       "[('5061282401', 'P420652', 5),\n",
       " ('42802569154', 'P420652', 4),\n",
       " ('6941883808', 'P420652', 2),\n",
       " ('27926227988', 'P420652', 5),\n",
       " ('7656791726', 'P420652', 5),\n",
       " ('38727834382', 'P420652', 5),\n",
       " ('37554855017', 'P420652', 5),\n",
       " ('21858073785', 'P420652', 4),\n",
       " ('1216391002', 'P420652', 3),\n",
       " ('45004161653', 'P420652', 5)]"
      ]
     },
     "execution_count": 13,
     "metadata": {},
     "output_type": "execute_result"
    }
   ],
   "source": [
    "# Building the interactions matrix\n",
    "interactions_df = df[['user_id', 'item_id', 'rating']]\n",
    "interactions = list(interactions_df.itertuples(index=False, name=None))\n",
    "interactions[0:10]\n",
    "\n"
   ]
  },
  {
   "cell_type": "code",
   "execution_count": 14,
   "id": "d3464eb6",
   "metadata": {},
   "outputs": [
    {
     "name": "stdout",
     "output_type": "stream",
     "text": [
      "(377879, 7)\n"
     ]
    }
   ],
   "source": [
    "user_features_df = df.drop_duplicates(subset=['user_id'])\n",
    "print(user_features_df.shape)"
   ]
  },
  {
   "cell_type": "markdown",
   "id": "9b837591",
   "metadata": {},
   "source": [
    "df data frame contains both user features and interactions in it. We will now break it up to prepare to feed into LightFM"
   ]
  },
  {
   "cell_type": "code",
   "execution_count": 15,
   "id": "b862a660",
   "metadata": {},
   "outputs": [],
   "source": [
    "user_features_df= df[['user_id', 'skin_tone','eye_color', 'skin_type', 'hair_color']]\n",
    "user_features_df = pd.get_dummies(user_features_df, columns=['skin_tone','eye_color', 'skin_type', 'hair_color'])"
   ]
  },
  {
   "cell_type": "code",
   "execution_count": 16,
   "id": "d44b752d",
   "metadata": {},
   "outputs": [
    {
     "data": {
      "text/html": [
       "<div>\n",
       "<style scoped>\n",
       "    .dataframe tbody tr th:only-of-type {\n",
       "        vertical-align: middle;\n",
       "    }\n",
       "\n",
       "    .dataframe tbody tr th {\n",
       "        vertical-align: top;\n",
       "    }\n",
       "\n",
       "    .dataframe thead th {\n",
       "        text-align: right;\n",
       "    }\n",
       "</style>\n",
       "<table border=\"1\" class=\"dataframe\">\n",
       "  <thead>\n",
       "    <tr style=\"text-align: right;\">\n",
       "      <th></th>\n",
       "      <th>user_id</th>\n",
       "      <th>skin_tone_dark</th>\n",
       "      <th>skin_tone_deep</th>\n",
       "      <th>skin_tone_ebony</th>\n",
       "      <th>skin_tone_fair</th>\n",
       "      <th>skin_tone_fairLight</th>\n",
       "      <th>skin_tone_light</th>\n",
       "      <th>skin_tone_lightMedium</th>\n",
       "      <th>skin_tone_medium</th>\n",
       "      <th>skin_tone_mediumTan</th>\n",
       "      <th>...</th>\n",
       "      <th>skin_type_dry</th>\n",
       "      <th>skin_type_normal</th>\n",
       "      <th>skin_type_oily</th>\n",
       "      <th>hair_color_auburn</th>\n",
       "      <th>hair_color_black</th>\n",
       "      <th>hair_color_blonde</th>\n",
       "      <th>hair_color_brown</th>\n",
       "      <th>hair_color_brunette</th>\n",
       "      <th>hair_color_gray</th>\n",
       "      <th>hair_color_red</th>\n",
       "    </tr>\n",
       "  </thead>\n",
       "  <tbody>\n",
       "    <tr>\n",
       "      <th>0</th>\n",
       "      <td>5061282401</td>\n",
       "      <td>False</td>\n",
       "      <td>False</td>\n",
       "      <td>False</td>\n",
       "      <td>False</td>\n",
       "      <td>False</td>\n",
       "      <td>True</td>\n",
       "      <td>False</td>\n",
       "      <td>False</td>\n",
       "      <td>False</td>\n",
       "      <td>...</td>\n",
       "      <td>True</td>\n",
       "      <td>False</td>\n",
       "      <td>False</td>\n",
       "      <td>False</td>\n",
       "      <td>False</td>\n",
       "      <td>True</td>\n",
       "      <td>False</td>\n",
       "      <td>False</td>\n",
       "      <td>False</td>\n",
       "      <td>False</td>\n",
       "    </tr>\n",
       "    <tr>\n",
       "      <th>1</th>\n",
       "      <td>42802569154</td>\n",
       "      <td>False</td>\n",
       "      <td>False</td>\n",
       "      <td>False</td>\n",
       "      <td>False</td>\n",
       "      <td>False</td>\n",
       "      <td>False</td>\n",
       "      <td>True</td>\n",
       "      <td>False</td>\n",
       "      <td>False</td>\n",
       "      <td>...</td>\n",
       "      <td>False</td>\n",
       "      <td>True</td>\n",
       "      <td>False</td>\n",
       "      <td>False</td>\n",
       "      <td>False</td>\n",
       "      <td>False</td>\n",
       "      <td>True</td>\n",
       "      <td>False</td>\n",
       "      <td>False</td>\n",
       "      <td>False</td>\n",
       "    </tr>\n",
       "    <tr>\n",
       "      <th>2</th>\n",
       "      <td>6941883808</td>\n",
       "      <td>False</td>\n",
       "      <td>False</td>\n",
       "      <td>False</td>\n",
       "      <td>False</td>\n",
       "      <td>False</td>\n",
       "      <td>True</td>\n",
       "      <td>False</td>\n",
       "      <td>False</td>\n",
       "      <td>False</td>\n",
       "      <td>...</td>\n",
       "      <td>False</td>\n",
       "      <td>False</td>\n",
       "      <td>False</td>\n",
       "      <td>False</td>\n",
       "      <td>False</td>\n",
       "      <td>False</td>\n",
       "      <td>True</td>\n",
       "      <td>False</td>\n",
       "      <td>False</td>\n",
       "      <td>False</td>\n",
       "    </tr>\n",
       "    <tr>\n",
       "      <th>3</th>\n",
       "      <td>27926227988</td>\n",
       "      <td>False</td>\n",
       "      <td>False</td>\n",
       "      <td>False</td>\n",
       "      <td>False</td>\n",
       "      <td>True</td>\n",
       "      <td>False</td>\n",
       "      <td>False</td>\n",
       "      <td>False</td>\n",
       "      <td>False</td>\n",
       "      <td>...</td>\n",
       "      <td>False</td>\n",
       "      <td>False</td>\n",
       "      <td>False</td>\n",
       "      <td>False</td>\n",
       "      <td>False</td>\n",
       "      <td>False</td>\n",
       "      <td>True</td>\n",
       "      <td>False</td>\n",
       "      <td>False</td>\n",
       "      <td>False</td>\n",
       "    </tr>\n",
       "    <tr>\n",
       "      <th>4</th>\n",
       "      <td>7656791726</td>\n",
       "      <td>False</td>\n",
       "      <td>False</td>\n",
       "      <td>False</td>\n",
       "      <td>False</td>\n",
       "      <td>False</td>\n",
       "      <td>True</td>\n",
       "      <td>False</td>\n",
       "      <td>False</td>\n",
       "      <td>False</td>\n",
       "      <td>...</td>\n",
       "      <td>False</td>\n",
       "      <td>True</td>\n",
       "      <td>False</td>\n",
       "      <td>False</td>\n",
       "      <td>False</td>\n",
       "      <td>True</td>\n",
       "      <td>False</td>\n",
       "      <td>False</td>\n",
       "      <td>False</td>\n",
       "      <td>False</td>\n",
       "    </tr>\n",
       "  </tbody>\n",
       "</table>\n",
       "<p>5 rows × 32 columns</p>\n",
       "</div>"
      ],
      "text/plain": [
       "       user_id  skin_tone_dark  skin_tone_deep  skin_tone_ebony  \\\n",
       "0   5061282401           False           False            False   \n",
       "1  42802569154           False           False            False   \n",
       "2   6941883808           False           False            False   \n",
       "3  27926227988           False           False            False   \n",
       "4   7656791726           False           False            False   \n",
       "\n",
       "   skin_tone_fair  skin_tone_fairLight  skin_tone_light  \\\n",
       "0           False                False             True   \n",
       "1           False                False            False   \n",
       "2           False                False             True   \n",
       "3           False                 True            False   \n",
       "4           False                False             True   \n",
       "\n",
       "   skin_tone_lightMedium  skin_tone_medium  skin_tone_mediumTan  ...  \\\n",
       "0                  False             False                False  ...   \n",
       "1                   True             False                False  ...   \n",
       "2                  False             False                False  ...   \n",
       "3                  False             False                False  ...   \n",
       "4                  False             False                False  ...   \n",
       "\n",
       "   skin_type_dry  skin_type_normal  skin_type_oily  hair_color_auburn  \\\n",
       "0           True             False           False              False   \n",
       "1          False              True           False              False   \n",
       "2          False             False           False              False   \n",
       "3          False             False           False              False   \n",
       "4          False              True           False              False   \n",
       "\n",
       "   hair_color_black  hair_color_blonde  hair_color_brown  hair_color_brunette  \\\n",
       "0             False               True             False                False   \n",
       "1             False              False              True                False   \n",
       "2             False              False              True                False   \n",
       "3             False              False              True                False   \n",
       "4             False               True             False                False   \n",
       "\n",
       "   hair_color_gray  hair_color_red  \n",
       "0            False           False  \n",
       "1            False           False  \n",
       "2            False           False  \n",
       "3            False           False  \n",
       "4            False           False  \n",
       "\n",
       "[5 rows x 32 columns]"
      ]
     },
     "execution_count": 16,
     "metadata": {},
     "output_type": "execute_result"
    }
   ],
   "source": [
    "user_features_df.head()\n",
    "# Create an iterable of tuples in the form (user_id, [feature1, feature2, ...])\n",
    "#users_features = [(row[0], list(row[1:])) for row in user_features_df.itertuples(index=False)]\n",
    "#items_features = [(row[0], list(row[1:])) for row in product_info1.itertuples(index=False)]"
   ]
  },
  {
   "cell_type": "code",
   "execution_count": 17,
   "id": "9da9cb3f",
   "metadata": {},
   "outputs": [],
   "source": [
    "# Convert DataFrame to a list of tuples\n",
    "users_features = [\n",
    "    (row[1]['user_id'], {col: row[1][col] for col in user_features_df.columns[1:]})\n",
    "    for row in user_features_df.iterrows()\n",
    "]\n"
   ]
  },
  {
   "cell_type": "code",
   "execution_count": 18,
   "id": "260c9b74",
   "metadata": {},
   "outputs": [],
   "source": [
    "# Convert DataFrame to a list of tuples\n",
    "items_features = [\n",
    "    (row[1]['item_id'], {col: row[1][col] for col in product_info1.columns[1:]})\n",
    "    for row in product_info1.iterrows()\n",
    "]\n",
    "\n"
   ]
  },
  {
   "cell_type": "code",
   "execution_count": 19,
   "id": "12a6f62e",
   "metadata": {},
   "outputs": [
    {
     "name": "stdout",
     "output_type": "stream",
     "text": [
      "(843003, 3)\n",
      "            user_id  item_id  rating\n",
      "293252   5879518678  P479734       4\n",
      "293253  11027774146  P479734       4\n",
      "293254  11408314215  P479734       4\n",
      "293255   2574379911  P479734       5\n",
      "293256   2025971463  P479734       5\n",
      "...             ...      ...     ...\n",
      "842998   2555611347  P505392       5\n",
      "842999  32344707475  P505392       5\n",
      "843000   6747641337  P505392       5\n",
      "843001  12175422344  P505392       5\n",
      "843002   1539813076  P505392       5\n",
      "\n",
      "[549751 rows x 3 columns]\n"
     ]
    }
   ],
   "source": [
    "print(interactions_df.shape)\n",
    "train_set = interactions_df.iloc[0:293252]\n",
    "val_set = interactions_df.iloc[293252:]\n",
    "print(val_set[['user_id','item_id','rating']])"
   ]
  },
  {
   "cell_type": "code",
   "execution_count": null,
   "id": "ce4f2f5a",
   "metadata": {},
   "outputs": [],
   "source": [
    "train_set.shape"
   ]
  },
  {
   "cell_type": "markdown",
   "id": "c3e69534",
   "metadata": {},
   "source": [
    "### Side note: calculate interaction matrix sparsity to judge what methods should handle it better"
   ]
  },
  {
   "cell_type": "code",
   "execution_count": null,
   "id": "298c780d",
   "metadata": {},
   "outputs": [],
   "source": [
    "# Pivot the DataFrame to create a user-item matrix\n",
    "matrix = interactions_df.pivot(index='user_id', columns='item_id', values='rating')\n",
    "\n",
    "# Assuming 'interactions' is your interaction matrix\n",
    "total_entries = matrix.shape[0] * matrix.shape[1]\n",
    "num_nan_entries = np.isnan(matrix).sum().sum()\n",
    "sparsity = num_nan_entries / total_entries\n",
    "\n",
    "print(f'Sparsity: ', sparsity)"
   ]
  },
  {
   "cell_type": "markdown",
   "id": "99cb72e6",
   "metadata": {},
   "source": [
    "### Build dataset"
   ]
  },
  {
   "cell_type": "code",
   "execution_count": 20,
   "id": "dc852d68",
   "metadata": {},
   "outputs": [
    {
     "data": {
      "text/plain": [
       "0          5061282401\n",
       "1         42802569154\n",
       "2          6941883808\n",
       "3         27926227988\n",
       "4          7656791726\n",
       "             ...     \n",
       "842998     2555611347\n",
       "842999    32344707475\n",
       "843000     6747641337\n",
       "843001    12175422344\n",
       "843002     1539813076\n",
       "Name: user_id, Length: 843003, dtype: object"
      ]
     },
     "execution_count": 20,
     "metadata": {},
     "output_type": "execute_result"
    }
   ],
   "source": [
    "user_features_df['user_id']"
   ]
  },
  {
   "cell_type": "code",
   "execution_count": 23,
   "id": "deb39f02",
   "metadata": {},
   "outputs": [
    {
     "data": {
      "text/plain": [
       "0       P473671\n",
       "1       P473668\n",
       "2       P473662\n",
       "3       P473660\n",
       "4       P473658\n",
       "         ...   \n",
       "8489    P467659\n",
       "8490    P500874\n",
       "8491    P504428\n",
       "8492    P504448\n",
       "8493    P505461\n",
       "Name: item_id, Length: 8494, dtype: object"
      ]
     },
     "execution_count": 23,
     "metadata": {},
     "output_type": "execute_result"
    }
   ],
   "source": [
    "product_info1['item_id']"
   ]
  },
  {
   "cell_type": "code",
   "execution_count": 24,
   "id": "c9b582a2",
   "metadata": {},
   "outputs": [],
   "source": [
    "dataset = Dataset()\n",
    "# Include all features in fit\n",
    "dataset.fit(\n",
    "    user_features_df['user_id'], \n",
    "    product_info1['item_id'],\n",
    "    item_features=product_info1.columns[1:],\n",
    "    user_features=user_features_df.columns[1:]\n",
    ")"
   ]
  },
  {
   "cell_type": "code",
   "execution_count": 25,
   "id": "b0ac56a5",
   "metadata": {},
   "outputs": [
    {
     "name": "stdout",
     "output_type": "stream",
     "text": [
      "(377879, 8494) (377879, 8494)\n"
     ]
    }
   ],
   "source": [
    "(interactions, weights) = dataset.build_interactions(interactions)\n",
    "\n",
    "print(interactions.shape, weights.shape)"
   ]
  },
  {
   "cell_type": "code",
   "execution_count": 30,
   "id": "1bf4d1c4",
   "metadata": {},
   "outputs": [
    {
     "name": "stdout",
     "output_type": "stream",
     "text": [
      "(843003, 3)\n"
     ]
    }
   ],
   "source": [
    "print(interactions_df.shape)"
   ]
  },
  {
   "cell_type": "code",
   "execution_count": 45,
   "id": "c7ce3169",
   "metadata": {},
   "outputs": [
    {
     "name": "stdout",
     "output_type": "stream",
     "text": [
      "[('23137230454', 'P465803', 4), ('2016492497', 'P465803', 1), ('7065781564', 'P465803', 5), ('5711099888', 'P465803', 5), ('1714992794', 'P465803', 5), ('7700407241', 'P465803', 3), ('8022329851', 'P465803', 5), ('35085403080', 'P465803', 5), ('2131503558', 'P465803', 5), ('11175368306', 'P465803', 5)] [('5061282401', 'P420652', 5), ('42802569154', 'P420652', 4), ('6941883808', 'P420652', 2), ('27926227988', 'P420652', 5), ('7656791726', 'P420652', 5), ('38727834382', 'P420652', 5), ('37554855017', 'P420652', 5), ('21858073785', 'P420652', 4), ('1216391002', 'P420652', 3), ('45004161653', 'P420652', 5)]\n"
     ]
    }
   ],
   "source": [
    "# Building the interactions matrix\n",
    "interactions_df = df[['user_id', 'item_id', 'rating']]\n",
    "#interactions = list(interactions_df.itertuples(index=False, name=None))\n",
    "#interactions[0:10]\n",
    "\n",
    "train_set = interactions_df.iloc[0:800003]\n",
    "val_set = interactions_df.iloc[800003:]\n",
    "\n",
    "train_set = list(train_set.itertuples(index=False, name=None))\n",
    "val_set = list(val_set.itertuples(index=False, name=None))\n",
    "\n",
    "print(val_set[0:10], train_set[0:10])\n",
    "\n",
    "(interactions, weights) = dataset.build_interactions(train_set)\n",
    "\n",
    "\n",
    "(val_interactions, val_weights) = dataset.build_interactions(val_set)\n",
    "\n"
   ]
  },
  {
   "cell_type": "code",
   "execution_count": null,
   "id": "4f95d289",
   "metadata": {},
   "outputs": [],
   "source": [
    "weights"
   ]
  },
  {
   "cell_type": "markdown",
   "id": "dd5c3dbd",
   "metadata": {},
   "source": [
    "If you want to use feature values as part of your model, you should turn them into feature names first. This effectively one-hot encodes your features."
   ]
  },
  {
   "cell_type": "code",
   "execution_count": 26,
   "id": "cad25ef0",
   "metadata": {},
   "outputs": [],
   "source": [
    "user_features_list = dataset.build_user_features(users_features)\n",
    "\n",
    "item_features_list = dataset.build_item_features(items_features)\n",
    "\n"
   ]
  },
  {
   "cell_type": "code",
   "execution_count": 52,
   "id": "db35f9a4",
   "metadata": {},
   "outputs": [
    {
     "name": "stderr",
     "output_type": "stream",
     "text": [
      "Epoch: 100%|███████████████████████████████████████████████████████████| 10/10 [00:13<00:00,  1.34s/it]\n"
     ]
    },
    {
     "data": {
      "text/plain": [
       "<lightfm.lightfm.LightFM at 0x7fbb640d3a60>"
      ]
     },
     "execution_count": 52,
     "metadata": {},
     "output_type": "execute_result"
    }
   ],
   "source": [
    "model = LightFM()\n",
    "\n",
    "model.fit(\n",
    "    interactions=interactions,\n",
    "    #sample_weight=weights,\n",
    "    item_features=item_features_list,\n",
    "    user_features=user_features_list,\n",
    "    verbose=True,\n",
    "    epochs=10,\n",
    "   \n",
    ")"
   ]
  },
  {
   "cell_type": "code",
   "execution_count": 53,
   "id": "9e7733bd",
   "metadata": {},
   "outputs": [
    {
     "data": {
      "text/plain": [
       "0.4954862"
      ]
     },
     "execution_count": 53,
     "metadata": {},
     "output_type": "execute_result"
    }
   ],
   "source": [
    "from lightfm.evaluation import auc_score\n",
    "auc_score(model, val_interactions, train_interactions=interactions, user_features=user_features_list, item_features=item_features_list, preserve_rows=False, num_threads=1, check_intersections=True).mean()"
   ]
  },
  {
   "cell_type": "code",
   "execution_count": 48,
   "id": "8de055c0",
   "metadata": {},
   "outputs": [
    {
     "data": {
      "text/plain": [
       "0.00023891895"
      ]
     },
     "execution_count": 48,
     "metadata": {},
     "output_type": "execute_result"
    }
   ],
   "source": [
    "from lightfm.evaluation import precision_at_k\n",
    "precision_at_k(model,val_interactions, train_interactions=interactions, k=100, user_features=user_features_list, item_features=item_features_list, preserve_rows=False, num_threads=1, check_intersections=True).mean()"
   ]
  },
  {
   "cell_type": "markdown",
   "id": "66428950",
   "metadata": {},
   "source": [
    "Yes, it is possible to compare the LightFM model to SVD (Singular Value Decomposition), or more specifically, to matrix factorization models such as those implemented in packages like Surprise, which can use SVD.\n",
    "\n",
    "Both LightFM and SVD-based models are collaborative filtering methods and can be used to make item recommendations. The primary difference lies in the type of information they can utilize:\n",
    "\n",
    "SVD-based models are purely collaborative filtering methods, meaning they make predictions based on user-item interaction history alone. They don't typically take into account any additional user or item features.\n",
    "LightFM, on the other hand, is a hybrid model that can use both collaborative filtering information and additional features about the users or items (like user demographic information or item attributes).\n",
    "To compare the two, you could fit both types of models to your data and then compare their predictive performance on a held-out test set using an appropriate metric (like precision at K, recall at K, or AUC-ROC, etc.). Keep in mind the fairness of the comparison, as LightFM might have additional information (through user/item features) that SVD models don't have access to.\n",
    "\n"
   ]
  },
  {
   "cell_type": "markdown",
   "id": "71ec8ad1",
   "metadata": {},
   "source": [
    "## Generate predictions: "
   ]
  },
  {
   "cell_type": "code",
   "execution_count": 37,
   "id": "1c0ce611",
   "metadata": {},
   "outputs": [
    {
     "data": {
      "text/html": [
       "<div>\n",
       "<style scoped>\n",
       "    .dataframe tbody tr th:only-of-type {\n",
       "        vertical-align: middle;\n",
       "    }\n",
       "\n",
       "    .dataframe tbody tr th {\n",
       "        vertical-align: top;\n",
       "    }\n",
       "\n",
       "    .dataframe thead th {\n",
       "        text-align: right;\n",
       "    }\n",
       "</style>\n",
       "<table border=\"1\" class=\"dataframe\">\n",
       "  <thead>\n",
       "    <tr style=\"text-align: right;\">\n",
       "      <th></th>\n",
       "      <th>P473671</th>\n",
       "      <th>P473668</th>\n",
       "      <th>P473662</th>\n",
       "      <th>P473660</th>\n",
       "      <th>P473658</th>\n",
       "      <th>P473661</th>\n",
       "      <th>P473659</th>\n",
       "      <th>P473666</th>\n",
       "      <th>P472300</th>\n",
       "      <th>P473667</th>\n",
       "      <th>...</th>\n",
       "      <th>P503754</th>\n",
       "      <th>P503762</th>\n",
       "      <th>P503732</th>\n",
       "      <th>P503763</th>\n",
       "      <th>P503767</th>\n",
       "      <th>P503759</th>\n",
       "      <th>P504779</th>\n",
       "      <th>P503731</th>\n",
       "      <th>P404916</th>\n",
       "      <th>P393281</th>\n",
       "    </tr>\n",
       "  </thead>\n",
       "  <tbody>\n",
       "    <tr>\n",
       "      <th>5061282401</th>\n",
       "      <td>2.772348</td>\n",
       "      <td>2.688248</td>\n",
       "      <td>2.625838</td>\n",
       "      <td>2.692483</td>\n",
       "      <td>2.623582</td>\n",
       "      <td>2.627005</td>\n",
       "      <td>2.689822</td>\n",
       "      <td>2.632319</td>\n",
       "      <td>2.632658</td>\n",
       "      <td>2.686186</td>\n",
       "      <td>...</td>\n",
       "      <td>2.464563</td>\n",
       "      <td>2.503393</td>\n",
       "      <td>2.408705</td>\n",
       "      <td>2.437641</td>\n",
       "      <td>2.500026</td>\n",
       "      <td>2.363281</td>\n",
       "      <td>2.532597</td>\n",
       "      <td>2.417677</td>\n",
       "      <td>2.340836</td>\n",
       "      <td>2.342098</td>\n",
       "    </tr>\n",
       "    <tr>\n",
       "      <th>42802569154</th>\n",
       "      <td>2.288107</td>\n",
       "      <td>2.197438</td>\n",
       "      <td>2.112893</td>\n",
       "      <td>2.181214</td>\n",
       "      <td>2.137878</td>\n",
       "      <td>2.111893</td>\n",
       "      <td>2.181569</td>\n",
       "      <td>2.133735</td>\n",
       "      <td>2.110953</td>\n",
       "      <td>2.19301</td>\n",
       "      <td>...</td>\n",
       "      <td>1.905611</td>\n",
       "      <td>1.960124</td>\n",
       "      <td>1.812233</td>\n",
       "      <td>1.878367</td>\n",
       "      <td>1.938712</td>\n",
       "      <td>1.749898</td>\n",
       "      <td>1.959118</td>\n",
       "      <td>1.82341</td>\n",
       "      <td>1.797784</td>\n",
       "      <td>1.788953</td>\n",
       "    </tr>\n",
       "    <tr>\n",
       "      <th>6941883808</th>\n",
       "      <td>2.377938</td>\n",
       "      <td>2.295445</td>\n",
       "      <td>2.218981</td>\n",
       "      <td>2.292684</td>\n",
       "      <td>2.227798</td>\n",
       "      <td>2.222195</td>\n",
       "      <td>2.283796</td>\n",
       "      <td>2.234237</td>\n",
       "      <td>2.225886</td>\n",
       "      <td>2.285315</td>\n",
       "      <td>...</td>\n",
       "      <td>2.04031</td>\n",
       "      <td>2.082072</td>\n",
       "      <td>1.969405</td>\n",
       "      <td>2.012532</td>\n",
       "      <td>2.074875</td>\n",
       "      <td>1.917089</td>\n",
       "      <td>2.103771</td>\n",
       "      <td>1.977464</td>\n",
       "      <td>1.924192</td>\n",
       "      <td>1.922394</td>\n",
       "    </tr>\n",
       "    <tr>\n",
       "      <th>27926227988</th>\n",
       "      <td>2.772784</td>\n",
       "      <td>2.68418</td>\n",
       "      <td>2.627889</td>\n",
       "      <td>2.692838</td>\n",
       "      <td>2.616759</td>\n",
       "      <td>2.63251</td>\n",
       "      <td>2.689341</td>\n",
       "      <td>2.629053</td>\n",
       "      <td>2.627989</td>\n",
       "      <td>2.68601</td>\n",
       "      <td>...</td>\n",
       "      <td>2.467412</td>\n",
       "      <td>2.495752</td>\n",
       "      <td>2.407281</td>\n",
       "      <td>2.43157</td>\n",
       "      <td>2.506773</td>\n",
       "      <td>2.364477</td>\n",
       "      <td>2.533286</td>\n",
       "      <td>2.414777</td>\n",
       "      <td>2.336723</td>\n",
       "      <td>2.340135</td>\n",
       "    </tr>\n",
       "    <tr>\n",
       "      <th>7656791726</th>\n",
       "      <td>2.524084</td>\n",
       "      <td>2.431491</td>\n",
       "      <td>2.357018</td>\n",
       "      <td>2.423148</td>\n",
       "      <td>2.371355</td>\n",
       "      <td>2.354193</td>\n",
       "      <td>2.421789</td>\n",
       "      <td>2.371447</td>\n",
       "      <td>2.350846</td>\n",
       "      <td>2.429559</td>\n",
       "      <td>...</td>\n",
       "      <td>2.15777</td>\n",
       "      <td>2.195804</td>\n",
       "      <td>2.060462</td>\n",
       "      <td>2.114818</td>\n",
       "      <td>2.18809</td>\n",
       "      <td>2.005367</td>\n",
       "      <td>2.214824</td>\n",
       "      <td>2.072894</td>\n",
       "      <td>2.036029</td>\n",
       "      <td>2.032556</td>\n",
       "    </tr>\n",
       "    <tr>\n",
       "      <th>...</th>\n",
       "      <td>...</td>\n",
       "      <td>...</td>\n",
       "      <td>...</td>\n",
       "      <td>...</td>\n",
       "      <td>...</td>\n",
       "      <td>...</td>\n",
       "      <td>...</td>\n",
       "      <td>...</td>\n",
       "      <td>...</td>\n",
       "      <td>...</td>\n",
       "      <td>...</td>\n",
       "      <td>...</td>\n",
       "      <td>...</td>\n",
       "      <td>...</td>\n",
       "      <td>...</td>\n",
       "      <td>...</td>\n",
       "      <td>...</td>\n",
       "      <td>...</td>\n",
       "      <td>...</td>\n",
       "      <td>...</td>\n",
       "      <td>...</td>\n",
       "    </tr>\n",
       "    <tr>\n",
       "      <th>5353168486</th>\n",
       "      <td>2.77347</td>\n",
       "      <td>2.689643</td>\n",
       "      <td>2.626781</td>\n",
       "      <td>2.691149</td>\n",
       "      <td>2.625134</td>\n",
       "      <td>2.626165</td>\n",
       "      <td>2.692058</td>\n",
       "      <td>2.633233</td>\n",
       "      <td>2.631845</td>\n",
       "      <td>2.687033</td>\n",
       "      <td>...</td>\n",
       "      <td>2.465608</td>\n",
       "      <td>2.50736</td>\n",
       "      <td>2.41048</td>\n",
       "      <td>2.439417</td>\n",
       "      <td>2.502304</td>\n",
       "      <td>2.366251</td>\n",
       "      <td>2.527407</td>\n",
       "      <td>2.419444</td>\n",
       "      <td>2.341688</td>\n",
       "      <td>2.343603</td>\n",
       "    </tr>\n",
       "    <tr>\n",
       "      <th>7770185909</th>\n",
       "      <td>2.25496</td>\n",
       "      <td>2.187226</td>\n",
       "      <td>2.138756</td>\n",
       "      <td>2.202941</td>\n",
       "      <td>2.108424</td>\n",
       "      <td>2.151026</td>\n",
       "      <td>2.198091</td>\n",
       "      <td>2.129907</td>\n",
       "      <td>2.157997</td>\n",
       "      <td>2.176255</td>\n",
       "      <td>...</td>\n",
       "      <td>2.027331</td>\n",
       "      <td>2.053458</td>\n",
       "      <td>2.015259</td>\n",
       "      <td>2.003101</td>\n",
       "      <td>2.071095</td>\n",
       "      <td>1.983706</td>\n",
       "      <td>2.097657</td>\n",
       "      <td>2.015215</td>\n",
       "      <td>1.892942</td>\n",
       "      <td>1.897339</td>\n",
       "    </tr>\n",
       "    <tr>\n",
       "      <th>37463371315</th>\n",
       "      <td>2.515904</td>\n",
       "      <td>2.418399</td>\n",
       "      <td>2.346345</td>\n",
       "      <td>2.408786</td>\n",
       "      <td>2.356459</td>\n",
       "      <td>2.342667</td>\n",
       "      <td>2.409399</td>\n",
       "      <td>2.357719</td>\n",
       "      <td>2.336732</td>\n",
       "      <td>2.421619</td>\n",
       "      <td>...</td>\n",
       "      <td>2.133038</td>\n",
       "      <td>2.173935</td>\n",
       "      <td>2.036226</td>\n",
       "      <td>2.094568</td>\n",
       "      <td>2.168759</td>\n",
       "      <td>1.981557</td>\n",
       "      <td>2.203281</td>\n",
       "      <td>2.0466</td>\n",
       "      <td>2.019089</td>\n",
       "      <td>2.012781</td>\n",
       "    </tr>\n",
       "    <tr>\n",
       "      <th>45595459670</th>\n",
       "      <td>2.621043</td>\n",
       "      <td>2.532435</td>\n",
       "      <td>2.483374</td>\n",
       "      <td>2.540561</td>\n",
       "      <td>2.471092</td>\n",
       "      <td>2.478792</td>\n",
       "      <td>2.539582</td>\n",
       "      <td>2.479352</td>\n",
       "      <td>2.480717</td>\n",
       "      <td>2.533864</td>\n",
       "      <td>...</td>\n",
       "      <td>2.334585</td>\n",
       "      <td>2.363902</td>\n",
       "      <td>2.273956</td>\n",
       "      <td>2.29321</td>\n",
       "      <td>2.365252</td>\n",
       "      <td>2.233622</td>\n",
       "      <td>2.382684</td>\n",
       "      <td>2.284683</td>\n",
       "      <td>2.195835</td>\n",
       "      <td>2.197029</td>\n",
       "    </tr>\n",
       "    <tr>\n",
       "      <th>42326036996</th>\n",
       "      <td>2.512433</td>\n",
       "      <td>2.419214</td>\n",
       "      <td>2.343489</td>\n",
       "      <td>2.405672</td>\n",
       "      <td>2.356018</td>\n",
       "      <td>2.342572</td>\n",
       "      <td>2.407491</td>\n",
       "      <td>2.355777</td>\n",
       "      <td>2.334265</td>\n",
       "      <td>2.417518</td>\n",
       "      <td>...</td>\n",
       "      <td>2.140536</td>\n",
       "      <td>2.173799</td>\n",
       "      <td>2.035188</td>\n",
       "      <td>2.091566</td>\n",
       "      <td>2.170127</td>\n",
       "      <td>1.975943</td>\n",
       "      <td>2.193269</td>\n",
       "      <td>2.045194</td>\n",
       "      <td>2.018295</td>\n",
       "      <td>2.008515</td>\n",
       "    </tr>\n",
       "  </tbody>\n",
       "</table>\n",
       "<p>100 rows × 200 columns</p>\n",
       "</div>"
      ],
      "text/plain": [
       "              P473671   P473668   P473662   P473660   P473658   P473661  \\\n",
       "5061282401   2.772348  2.688248  2.625838  2.692483  2.623582  2.627005   \n",
       "42802569154  2.288107  2.197438  2.112893  2.181214  2.137878  2.111893   \n",
       "6941883808   2.377938  2.295445  2.218981  2.292684  2.227798  2.222195   \n",
       "27926227988  2.772784   2.68418  2.627889  2.692838  2.616759   2.63251   \n",
       "7656791726   2.524084  2.431491  2.357018  2.423148  2.371355  2.354193   \n",
       "...               ...       ...       ...       ...       ...       ...   \n",
       "5353168486    2.77347  2.689643  2.626781  2.691149  2.625134  2.626165   \n",
       "7770185909    2.25496  2.187226  2.138756  2.202941  2.108424  2.151026   \n",
       "37463371315  2.515904  2.418399  2.346345  2.408786  2.356459  2.342667   \n",
       "45595459670  2.621043  2.532435  2.483374  2.540561  2.471092  2.478792   \n",
       "42326036996  2.512433  2.419214  2.343489  2.405672  2.356018  2.342572   \n",
       "\n",
       "              P473659   P473666   P472300   P473667  ...   P503754   P503762  \\\n",
       "5061282401   2.689822  2.632319  2.632658  2.686186  ...  2.464563  2.503393   \n",
       "42802569154  2.181569  2.133735  2.110953   2.19301  ...  1.905611  1.960124   \n",
       "6941883808   2.283796  2.234237  2.225886  2.285315  ...   2.04031  2.082072   \n",
       "27926227988  2.689341  2.629053  2.627989   2.68601  ...  2.467412  2.495752   \n",
       "7656791726   2.421789  2.371447  2.350846  2.429559  ...   2.15777  2.195804   \n",
       "...               ...       ...       ...       ...  ...       ...       ...   \n",
       "5353168486   2.692058  2.633233  2.631845  2.687033  ...  2.465608   2.50736   \n",
       "7770185909   2.198091  2.129907  2.157997  2.176255  ...  2.027331  2.053458   \n",
       "37463371315  2.409399  2.357719  2.336732  2.421619  ...  2.133038  2.173935   \n",
       "45595459670  2.539582  2.479352  2.480717  2.533864  ...  2.334585  2.363902   \n",
       "42326036996  2.407491  2.355777  2.334265  2.417518  ...  2.140536  2.173799   \n",
       "\n",
       "              P503732   P503763   P503767   P503759   P504779   P503731  \\\n",
       "5061282401   2.408705  2.437641  2.500026  2.363281  2.532597  2.417677   \n",
       "42802569154  1.812233  1.878367  1.938712  1.749898  1.959118   1.82341   \n",
       "6941883808   1.969405  2.012532  2.074875  1.917089  2.103771  1.977464   \n",
       "27926227988  2.407281   2.43157  2.506773  2.364477  2.533286  2.414777   \n",
       "7656791726   2.060462  2.114818   2.18809  2.005367  2.214824  2.072894   \n",
       "...               ...       ...       ...       ...       ...       ...   \n",
       "5353168486    2.41048  2.439417  2.502304  2.366251  2.527407  2.419444   \n",
       "7770185909   2.015259  2.003101  2.071095  1.983706  2.097657  2.015215   \n",
       "37463371315  2.036226  2.094568  2.168759  1.981557  2.203281    2.0466   \n",
       "45595459670  2.273956   2.29321  2.365252  2.233622  2.382684  2.284683   \n",
       "42326036996  2.035188  2.091566  2.170127  1.975943  2.193269  2.045194   \n",
       "\n",
       "              P404916   P393281  \n",
       "5061282401   2.340836  2.342098  \n",
       "42802569154  1.797784  1.788953  \n",
       "6941883808   1.924192  1.922394  \n",
       "27926227988  2.336723  2.340135  \n",
       "7656791726   2.036029  2.032556  \n",
       "...               ...       ...  \n",
       "5353168486   2.341688  2.343603  \n",
       "7770185909   1.892942  1.897339  \n",
       "37463371315  2.019089  2.012781  \n",
       "45595459670  2.195835  2.197029  \n",
       "42326036996  2.018295  2.008515  \n",
       "\n",
       "[100 rows x 200 columns]"
      ]
     },
     "execution_count": 37,
     "metadata": {},
     "output_type": "execute_result"
    }
   ],
   "source": [
    "\n",
    "# Get the list of user_ids and item_ids\n",
    "user_ids = list(dataset.mapping()[0].keys())[:100]\n",
    "item_ids = list(dataset.mapping()[2].keys())[:200]\n",
    "\n",
    "# Initialize an empty DataFrame\n",
    "preds = pd.DataFrame(index=user_ids, columns=item_ids)\n",
    "\n",
    "# Loop over users and items and store the predictions in the DataFrame\n",
    "for user_id in user_ids:\n",
    "    for item_id in item_ids:\n",
    "        internal_user_id = dataset.mapping()[0][user_id]\n",
    "        internal_item_id = dataset.mapping()[2][item_id]\n",
    "        predicted_score = model.predict(internal_user_id, np.array([internal_item_id]))\n",
    "        preds.loc[user_id, item_id] = predicted_score[0]\n",
    "# Find the original min and max of the DataFrame\n",
    "original_min = preds.min().min()\n",
    "original_max = preds.max().max()\n",
    "\n",
    "# Perform min-max scaling\n",
    "normalized_preds = 1 + 4 * ((preds - original_min) / (original_max - original_min))\n",
    "\n",
    "normalized_preds"
   ]
  },
  {
   "cell_type": "code",
   "execution_count": null,
   "id": "e8d82dc0",
   "metadata": {},
   "outputs": [],
   "source": []
  }
 ],
 "metadata": {
  "kernelspec": {
   "display_name": "Python 3 (ipykernel)",
   "language": "python",
   "name": "python3"
  },
  "language_info": {
   "codemirror_mode": {
    "name": "ipython",
    "version": 3
   },
   "file_extension": ".py",
   "mimetype": "text/x-python",
   "name": "python",
   "nbconvert_exporter": "python",
   "pygments_lexer": "ipython3",
   "version": "3.9.12"
  }
 },
 "nbformat": 4,
 "nbformat_minor": 5
}
