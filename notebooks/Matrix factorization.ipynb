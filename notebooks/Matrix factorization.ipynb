{
 "cells": [
  {
   "cell_type": "markdown",
   "id": "424bd260",
   "metadata": {},
   "source": [
    "# Modeling"
   ]
  },
  {
   "cell_type": "markdown",
   "id": "0e845bc9",
   "metadata": {},
   "source": [
    "## Model1 : Collaborative Filtering with Surprise SVD\n",
    "Collaborative filtering is to discover the similarities on the user’s past behavior and make predictions to the user based on a similar preference with other users. This model is then used to predict items (or ratings for items) that the user may have an interest in.\n"
   ]
  },
  {
   "cell_type": "markdown",
   "id": "79ab8280",
   "metadata": {},
   "source": [
    "#### Load the packages"
   ]
  },
  {
   "cell_type": "code",
   "execution_count": 1,
   "id": "bb91889f",
   "metadata": {},
   "outputs": [],
   "source": [
    "#standard packages\n",
    "%matplotlib inline\n",
    "import numpy as np\n",
    "import pandas as pd \n",
    "import matplotlib.pyplot as plt\n",
    "import seaborn as sns\n",
    "from sklearn.metrics import roc_curve, auc\n",
    "\n",
    "# Surprise modules\n",
    "from surprise import SVD\n",
    "from surprise.prediction_algorithms import KNNWithMeans, KNNBasic, KNNBaseline\n",
    "from surprise import Dataset, Reader\n",
    "from surprise import accuracy\n",
    "from surprise.model_selection import cross_validate, train_test_split, GridSearchCV"
   ]
  },
  {
   "cell_type": "code",
   "execution_count": 2,
   "id": "f1a27e86",
   "metadata": {},
   "outputs": [],
   "source": [
    "# Load the data\n",
    "product_info = pd.read_csv('../data/raw/archive/product_info.csv')\n",
    "reviews250 = pd.read_csv('../data/raw/archive/reviews_0_250.csv', low_memory=False, index_col=0)\n",
    "reviews500 = pd.read_csv('../data/raw/archive/reviews_250_500.csv', low_memory=False, index_col=0)\n",
    "reviews750 = pd.read_csv('../data/raw/archive/reviews_500_750.csv', low_memory=False, index_col=0)\n",
    "reviews1000 = pd.read_csv('../data/raw/archive/reviews_750_1000.csv', low_memory=False, index_col=0)\n",
    "reviews1500 = pd.read_csv('../data/raw/archive/reviews_1000_1500.csv', low_memory=False, index_col=0)\n",
    "reviewsend = pd.read_csv('../data/raw/archive/reviews_1500_end.csv', low_memory=False, index_col=0)"
   ]
  },
  {
   "cell_type": "code",
   "execution_count": 3,
   "id": "37d1a28a",
   "metadata": {},
   "outputs": [
    {
     "name": "stdout",
     "output_type": "stream",
     "text": [
      "(1301136, 3)\n",
      "(1088886, 3)\n"
     ]
    }
   ],
   "source": [
    "df = pd.concat([reviews250, reviews500, reviews750, reviews1000, reviews1500, reviewsend])\n",
    "df.rename(columns = {'author_id':'user_id', 'product_id':'item_id'}, inplace=True)\n",
    "df = df[['user_id', 'item_id', 'rating']]\n",
    "df.dropna(axis = 0, how = 'any', inplace = True)    \n",
    "# All item ids are unique in the dataset\n",
    "print(df.shape)\n",
    "df = df.drop_duplicates(subset = ['user_id', 'item_id'])\n",
    "print(df.shape)"
   ]
  },
  {
   "cell_type": "markdown",
   "id": "d5663025",
   "metadata": {},
   "source": [
    "### Model fitting"
   ]
  },
  {
   "cell_type": "markdown",
   "id": "7955824c",
   "metadata": {},
   "source": [
    "Prepare the data using Reader function, specify rating type.\n",
    "Perform train/test split\n",
    "Fit the SVD model on the train set"
   ]
  },
  {
   "cell_type": "code",
   "execution_count": 4,
   "id": "9803319e",
   "metadata": {},
   "outputs": [
    {
     "data": {
      "text/plain": [
       "<surprise.prediction_algorithms.matrix_factorization.SVD at 0x7fa5a34004f0>"
      ]
     },
     "execution_count": 4,
     "metadata": {},
     "output_type": "execute_result"
    }
   ],
   "source": [
    "# Assume you have a pandas DataFrame df with columns 'user', 'item', 'rating'\n",
    "reader = Reader(rating_scale=(1, 5))  \n",
    "data = Dataset.load_from_df(df, reader)\n",
    "# Split data into train and test\n",
    "trainset, testset = train_test_split(data, test_size=0.2)\n",
    "# Instantiate SVD and fit the trainset\n",
    "algo = SVD()\n",
    "algo.fit(trainset)"
   ]
  },
  {
   "cell_type": "markdown",
   "id": "21e3ed25",
   "metadata": {},
   "source": [
    "### Model Evaluation\n",
    "\n",
    "We use different evaluation metrics to understand how well  model is performing:\n",
    "Root Mean Square Error (RMSE)\n",
    "Mean Absolute Error (MAE)\n",
    "precision\n",
    "recall, F1 score, and Area Under the ROC Curve (AUC-ROC)."
   ]
  },
  {
   "cell_type": "code",
   "execution_count": 5,
   "id": "9da2555b",
   "metadata": {},
   "outputs": [
    {
     "name": "stdout",
     "output_type": "stream",
     "text": [
      "RMSE: 1.0314\n",
      "MAE:  0.7578\n",
      "Precision: 0.85\n",
      "Recall: 0.98\n",
      "F1: 0.91\n"
     ]
    }
   ],
   "source": [
    "predictions = algo.test(testset)\n",
    "\n",
    "# Then compute RMSE and MAE\n",
    "accuracy.rmse(predictions)\n",
    "accuracy.mae(predictions)\n",
    "\n",
    "# For precision and recall we need to define a threshold for positive vs. negative ratings\n",
    "# Here we'll use 3.5 (on a 5-point scale), but this will depend on how your ratings are distributed\n",
    "threshold = 3.5\n",
    "true_positives = sum([1 for prediction in predictions if prediction.r_ui >= threshold and prediction.est >= threshold])\n",
    "true_negatives = sum([1 for prediction in predictions if prediction.r_ui < threshold and prediction.est < threshold])\n",
    "false_positives = sum([1 for prediction in predictions if prediction.r_ui < threshold and prediction.est >= threshold])\n",
    "false_negatives = sum([1 for prediction in predictions if prediction.r_ui >= threshold and prediction.est < threshold])\n",
    "\n",
    "# Compute precision, recall, and F1 score\n",
    "precision = true_positives / (true_positives + false_positives)\n",
    "recall = true_positives / (true_positives + false_negatives)\n",
    "f1 = 2 * (precision * recall) / (precision + recall)\n",
    "\n",
    "print(f\"Precision: {precision:.2f}\")\n",
    "print(f\"Recall: {recall:.2f}\")\n",
    "print(f\"F1: {f1:.2f}\")\n",
    "\n"
   ]
  },
  {
   "cell_type": "markdown",
   "id": "355bbdee",
   "metadata": {},
   "source": [
    "### Classification metrics\n",
    "We also binarize the ratings into 'good' and 'bad' to produce classification metrics "
   ]
  },
  {
   "cell_type": "code",
   "execution_count": 6,
   "id": "7bc84e07",
   "metadata": {},
   "outputs": [
    {
     "data": {
      "image/png": "[encoded data removed]",
      "text/plain": [
       "<Figure size 432x288 with 1 Axes>"
      ]
     },
     "metadata": {
      "needs_background": "light"
     },
     "output_type": "display_data"
    }
   ],
   "source": [
    "# Binarize the ratings in testset\n",
    "testset_binarized = [1 if rating >= 4 else 0 for (_, _, rating) in testset]\n",
    "\n",
    "# Predict ratings for the testset\n",
    "preds = [pred.est for pred in predictions]\n",
    "\n",
    "# Compute ROC curve and ROC area\n",
    "fpr, tpr, _ = roc_curve(testset_binarized, preds)\n",
    "roc_auc = auc(fpr, tpr)\n",
    "\n",
    "# Plot ROC curve\n",
    "plt.figure()\n",
    "plt.plot(fpr, tpr, color='darkorange', lw=2, label='ROC curve (area = %0.2f)' % roc_auc)\n",
    "plt.plot([0, 1], [0, 1], color='navy', lw=2, linestyle='--')\n",
    "plt.xlim([0.0, 1.0])\n",
    "plt.ylim([0.0, 1.05])\n",
    "plt.xlabel('False Positive Rate')\n",
    "plt.ylabel('True Positive Rate')\n",
    "plt.title('Receiver Operating Characteristic')\n",
    "plt.legend(loc=\"lower right\")\n",
    "plt.show()"
   ]
  },
  {
   "cell_type": "markdown",
   "id": "a149ae3c",
   "metadata": {},
   "source": [
    "### Cross-validation\n",
    "\n",
    "We implement cross-validation to get a more robust estimate of model's performance. "
   ]
  },
  {
   "cell_type": "code",
   "execution_count": 7,
   "id": "ed8f4026",
   "metadata": {},
   "outputs": [
    {
     "name": "stdout",
     "output_type": "stream",
     "text": [
      "Evaluating RMSE, MAE of algorithm SVD on 5 split(s).\n",
      "\n",
      "                  Fold 1  Fold 2  Fold 3  Fold 4  Fold 5  Mean    Std     \n",
      "RMSE (testset)    1.0352  1.0331  1.0311  1.0272  1.0309  1.0315  0.0027  \n",
      "MAE (testset)     0.7616  0.7593  0.7580  0.7556  0.7570  0.7583  0.0020  \n",
      "Fit time          8.13    8.74    8.65    8.54    8.64    8.54    0.22    \n",
      "Test time         0.99    1.00    1.61    1.47    1.75    1.36    0.31    \n"
     ]
    },
    {
     "data": {
      "text/plain": [
       "{'test_rmse': array([1.03521107, 1.03310255, 1.03112916, 1.02716779, 1.03090962]),\n",
       " 'test_mae': array([0.76156895, 0.75930879, 0.75800641, 0.75564947, 0.75701348]),\n",
       " 'fit_time': (8.131620168685913,\n",
       "  8.743112087249756,\n",
       "  8.650327920913696,\n",
       "  8.542724132537842,\n",
       "  8.644946098327637),\n",
       " 'test_time': (0.992419958114624,\n",
       "  0.9996781349182129,\n",
       "  1.608543872833252,\n",
       "  1.4706718921661377,\n",
       "  1.7524387836456299)}"
      ]
     },
     "execution_count": 7,
     "metadata": {},
     "output_type": "execute_result"
    }
   ],
   "source": [
    "# Run 5-fold cross-validation and print results\n",
    "cross_validate(algo, data, measures=['RMSE', 'MAE'], cv=5, verbose=True)"
   ]
  },
  {
   "cell_type": "markdown",
   "id": "1e9db5e4",
   "metadata": {},
   "source": [
    "### Using predictions to produce recommendations"
   ]
  },
  {
   "cell_type": "code",
   "execution_count": 8,
   "id": "717c7e5c",
   "metadata": {},
   "outputs": [
    {
     "name": "stdout",
     "output_type": "stream",
     "text": [
      "4.1216022215021475\n"
     ]
    }
   ],
   "source": [
    "# Predictions can now be made with the predict() method\n",
    "# For example, predicting the rating of the item with id 'item_id' for the user with id 'user_id'\n",
    "user_id = '6538326896'\n",
    "item_id = 'P480354'\n",
    "prediction = algo.predict(user_id, item_id)\n",
    "print(prediction.est)\n",
    "\n",
    "# Assume user_ids and item_ids are arrays or lists of user ids and item ids.\n",
    "user_ids = ['7446977307', '1991973234', '42434587408']\n",
    "item_ids = ['P467602', 'P481993', 'P481993']\n",
    "\n",
    "# Assuming 'algo' is your trained model\n",
    "predictions = [algo.predict(user_id, item_id) for user_id, item_id in zip(user_ids, item_ids)]\n",
    "\n",
    "# Extract the estimated ratings\n",
    "estimated_ratings = [pred.est for pred in predictions]"
   ]
  },
  {
   "cell_type": "code",
   "execution_count": 9,
   "id": "0979df15",
   "metadata": {},
   "outputs": [
    {
     "name": "stdout",
     "output_type": "stream",
     "text": [
      "        user_id  item_id  rating\n",
      "104  6538326896  P381030     5.0\n",
      "145  6538326896  P377561     5.0\n",
      "146  6538326896  P450917     5.0\n",
      "247  6538326896  P405096     5.0\n",
      "289  6538326896  P395615     5.0\n"
     ]
    }
   ],
   "source": [
    "user_id = '6538326896'  # replace with actual user id\n",
    "item_ids = df['item_id'].unique()\n",
    "preds = [algo.predict(user_id, item_id) for item_id in item_ids]\n",
    "preds_df = pd.DataFrame([(pred.uid, pred.iid, pred.est) for pred in preds], columns=['user_id', 'item_id', 'rating'])\n",
    "\n",
    "n_recommendations = 5\n",
    "top_n_recs = preds_df[preds_df['user_id'] == user_id].nlargest(n_recommendations, 'rating')\n",
    "print(top_n_recs)"
   ]
  },
  {
   "cell_type": "markdown",
   "id": "20cd851c",
   "metadata": {},
   "source": [
    "### Provide top 10 recommendations to a user"
   ]
  },
  {
   "cell_type": "code",
   "execution_count": 10,
   "id": "b135378d",
   "metadata": {},
   "outputs": [],
   "source": [
    "\n",
    "def recommend_unreviewed_items(user_id, model, df, n_recommendations=10):\n",
    "    # Get the item IDs that the user has already rated\n",
    "    rated_item_ids = df[df['user_id'] == user_id]['item_id']\n",
    "\n",
    "    # Get all item IDs\n",
    "    all_item_ids = df['item_id'].unique()\n",
    "\n",
    "    # Get the item IDs that the user hasn't rated yet\n",
    "    unrated_item_ids = np.setdiff1d(all_item_ids, rated_item_ids)\n",
    "\n",
    "    # Make predictions for the unrated items only\n",
    "    preds = [model.predict(user_id, item_id) for item_id in unrated_item_ids]\n",
    "\n",
    "    # Convert predictions to DataFrame\n",
    "    preds_df = pd.DataFrame([(pred.uid, pred.iid, pred.est) for pred in preds], columns=['user_id', 'item_id', 'rating'])\n",
    "\n",
    "    # Get top N recommendations\n",
    "    top_n_recs = preds_df.nlargest(n_recommendations, 'rating')\n",
    "\n",
    "    return top_n_recs\n",
    "\n"
   ]
  },
  {
   "cell_type": "code",
   "execution_count": 11,
   "id": "5b772698",
   "metadata": {},
   "outputs": [
    {
     "name": "stdout",
     "output_type": "stream",
     "text": [
      "For user  6538326896  we recommend items:  ['P377561', 'P381030', 'P395615', 'P405096', 'P448852', 'P450917', 'P122762', 'P232915', 'P446930', 'P465803']\n"
     ]
    }
   ],
   "source": [
    "# Example usage:\n",
    "user_id = '6538326896'  # replace with actual user id\n",
    "#print(recommend_unreviewed_items(user_id, algo, df))\n",
    "\n",
    "print('For user ', user_id, ' we recommend items: ' , recommend_unreviewed_items(user_id, algo, df).item_id.tolist())"
   ]
  },
  {
   "cell_type": "markdown",
   "id": "783fef7a",
   "metadata": {},
   "source": [
    "Through our exploration, we employed multiple machine learning methods, including SVD, NMF, KNN, and hybrid models like LightFM. SVD and LightFM (with both item and user features) showed promising results. Despite some challenges related to data sparsity and computational requirements, the models performed reasonably well."
   ]
  },
  {
   "cell_type": "markdown",
   "id": "d2f1b26f",
   "metadata": {},
   "source": [
    "### Exploring additional methods\n",
    "Other common collaborative filtering algoriths include KNN, NMF and Biased SVD.\n",
    "\n",
    "### Note on KNN\n",
    "KNN algorithm is a simple and commonly used method for making recommendations, but it can struggle with large datasets due to its computational complexity.\n",
    "KNN works by computing distances between items or users, which requires comparing each item (or user) to every other item (or user). As a result, the time and space complexity of the algorithm is quadratic in the number of items or users. This means that as the dataset grows, the time and memory required to run KNN increase rapidly.\n",
    "\n",
    "For a dataset with 1,088,886 ratings of unique users and items, KNN was too slow and required a large amount of memory, so we consider using a more scalable algorithm.\n"
   ]
  },
  {
   "cell_type": "markdown",
   "id": "d43d650c",
   "metadata": {},
   "source": [
    "### Model 2: NMF"
   ]
  },
  {
   "cell_type": "markdown",
   "id": "5358cb8e",
   "metadata": {},
   "source": [
    "In this code, we are using the default hyperparameters for the NMF algorithm, which are:\n",
    "\n",
    "n_factors: The number of factors. Default is 15.\n",
    "n_epochs: The number of iteration of the SGD procedure. Default is 50.\n",
    "biased: Whether to use baselines (or biases). Default is True."
   ]
  },
  {
   "cell_type": "code",
   "execution_count": 12,
   "id": "66f31ec8",
   "metadata": {},
   "outputs": [
    {
     "name": "stdout",
     "output_type": "stream",
     "text": [
      "RMSE: 1.1521\n",
      "RMSE:  1.1521099560794323\n",
      "MAE:  0.8521\n",
      "MAE:  0.8521020495090966\n"
     ]
    }
   ],
   "source": [
    "from surprise import NMF, Dataset, Reader, accuracy\n",
    "from surprise.model_selection import train_test_split\n",
    "\n",
    "algo2 = NMF()\n",
    "algo2.fit(trainset)\n",
    "predictions = algo2.test(testset)\n",
    "\n",
    "# Then compute RMSE\n",
    "print(\"RMSE: \", accuracy.rmse(predictions))\n",
    "\n",
    "# compute MAE\n",
    "print(\"MAE: \", accuracy.mae(predictions))\n"
   ]
  },
  {
   "cell_type": "code",
   "execution_count": 13,
   "id": "c187d252",
   "metadata": {},
   "outputs": [
    {
     "name": "stdout",
     "output_type": "stream",
     "text": [
      "Evaluating RMSE, MAE of algorithm NMF on 5 split(s).\n",
      "\n",
      "                  Fold 1  Fold 2  Fold 3  Fold 4  Fold 5  Mean    Std     \n",
      "RMSE (testset)    1.1481  1.1576  1.1545  1.1564  1.1533  1.1540  0.0033  \n",
      "MAE (testset)     0.8464  0.8604  0.8577  0.8579  0.8553  0.8556  0.0049  \n",
      "Fit time          30.71   31.06   30.54   30.73   31.03   30.81   0.20    \n",
      "Test time         0.96    2.25    1.90    0.91    2.12    1.63    0.58    \n"
     ]
    },
    {
     "data": {
      "text/plain": [
       "{'test_rmse': array([1.14810271, 1.15759585, 1.15454224, 1.15643616, 1.15334566]),\n",
       " 'test_mae': array([0.84639629, 0.86044555, 0.85772659, 0.85788809, 0.85533644]),\n",
       " 'fit_time': (30.707982063293457,\n",
       "  31.057239055633545,\n",
       "  30.54215908050537,\n",
       "  30.734320878982544,\n",
       "  31.032498836517334),\n",
       " 'test_time': (0.9573092460632324,\n",
       "  2.254385232925415,\n",
       "  1.8976631164550781,\n",
       "  0.9065380096435547,\n",
       "  2.1175739765167236)}"
      ]
     },
     "execution_count": 13,
     "metadata": {},
     "output_type": "execute_result"
    }
   ],
   "source": [
    "# Run 5-fold cross-validation and print results\n",
    "cross_validate(algo2, data, measures=['RMSE', 'MAE'], cv=5, verbose=True)"
   ]
  },
  {
   "cell_type": "markdown",
   "id": "b69d8af9",
   "metadata": {},
   "source": [
    "Well it looks like the Mean RMSE is 1.10 and MAE is 0.79 while SVD had 0.91, 0.64 RMSE and MAE correspondingly. \n",
    "So SVD seems to do better."
   ]
  },
  {
   "cell_type": "markdown",
   "id": "12fa1750",
   "metadata": {},
   "source": [
    "### Model 3: Biased SVD"
   ]
  },
  {
   "cell_type": "code",
   "execution_count": 14,
   "id": "bb7d1068",
   "metadata": {},
   "outputs": [],
   "source": [
    "# Use the biased SVD algorithm\n",
    "algo3 = SVD(biased = True) # default is True"
   ]
  },
  {
   "cell_type": "code",
   "execution_count": 15,
   "id": "7884d542",
   "metadata": {},
   "outputs": [
    {
     "name": "stdout",
     "output_type": "stream",
     "text": [
      "Evaluating RMSE, MAE of algorithm SVD on 5 split(s).\n",
      "\n",
      "                  Fold 1  Fold 2  Fold 3  Fold 4  Fold 5  Mean    Std     \n",
      "RMSE (testset)    1.0302  1.0290  1.0347  1.0314  1.0332  1.0317  0.0020  \n",
      "MAE (testset)     0.7577  0.7550  0.7591  0.7579  0.7610  0.7581  0.0020  \n",
      "Fit time          8.33    8.56    8.65    8.50    10.31   8.87    0.73    \n",
      "Test time         1.00    0.94    0.96    1.02    1.05    0.99    0.04    \n"
     ]
    },
    {
     "data": {
      "text/plain": [
       "{'test_rmse': array([1.03018876, 1.02903014, 1.0347333 , 1.03138981, 1.03320733]),\n",
       " 'test_mae': array([0.75771992, 0.75496766, 0.75912994, 0.75785965, 0.7609879 ]),\n",
       " 'fit_time': (8.327718257904053,\n",
       "  8.560170888900757,\n",
       "  8.647213220596313,\n",
       "  8.50456690788269,\n",
       "  10.314241170883179),\n",
       " 'test_time': (0.9993619918823242,\n",
       "  0.9395031929016113,\n",
       "  0.9560072422027588,\n",
       "  1.0222668647766113,\n",
       "  1.054103136062622)}"
      ]
     },
     "execution_count": 15,
     "metadata": {},
     "output_type": "execute_result"
    }
   ],
   "source": [
    "# Run 5-fold cross-validation and print results\n",
    "cross_validate(algo3, data, measures = ['RMSE', 'MAE'], cv = 5, verbose = True)"
   ]
  },
  {
   "cell_type": "markdown",
   "id": "91d00f13",
   "metadata": {},
   "source": [
    "Well, it looks like Biased SVD performs better, but has longer fit time\n"
   ]
  },
  {
   "cell_type": "code",
   "execution_count": 16,
   "id": "40d101cf",
   "metadata": {},
   "outputs": [
    {
     "name": "stdout",
     "output_type": "stream",
     "text": [
      "RMSE: 0.6873\n",
      "MAE:  0.4803\n",
      "Precision: 0.92\n",
      "Recall: 0.99\n",
      "F1: 0.96\n"
     ]
    }
   ],
   "source": [
    "predictions = algo3.test(testset)\n",
    "\n",
    "# Then compute RMSE and MAE\n",
    "accuracy.rmse(predictions)\n",
    "accuracy.mae(predictions)\n",
    "\n",
    "# For precision and recall we need to define a threshold for positive vs. negative ratings\n",
    "# Here we'll use 3.5 (on a 5-point scale), but this will depend on how your ratings are distributed\n",
    "threshold = 3.5\n",
    "true_positives = sum([1 for prediction in predictions if prediction.r_ui >= threshold and prediction.est >= threshold])\n",
    "true_negatives = sum([1 for prediction in predictions if prediction.r_ui < threshold and prediction.est < threshold])\n",
    "false_positives = sum([1 for prediction in predictions if prediction.r_ui < threshold and prediction.est >= threshold])\n",
    "false_negatives = sum([1 for prediction in predictions if prediction.r_ui >= threshold and prediction.est < threshold])\n",
    "\n",
    "# Compute precision, recall, and F1 score\n",
    "precision = true_positives / (true_positives + false_positives)\n",
    "recall = true_positives / (true_positives + false_negatives)\n",
    "f1 = 2 * (precision * recall) / (precision + recall)\n",
    "\n",
    "print(f\"Precision: {precision:.2f}\")\n",
    "print(f\"Recall: {recall:.2f}\")\n",
    "print(f\"F1: {f1:.2f}\")\n",
    "\n"
   ]
  },
  {
   "cell_type": "code",
   "execution_count": 17,
   "id": "f5e55cfa",
   "metadata": {},
   "outputs": [
    {
     "data": {
      "image/png": "[encoded data removed]",
      "text/plain": [
       "<Figure size 432x288 with 1 Axes>"
      ]
     },
     "metadata": {
      "needs_background": "light"
     },
     "output_type": "display_data"
    }
   ],
   "source": [
    "# Binarize the ratings in testset\n",
    "testset_binarized = [1 if rating >= 4 else 0 for (_, _, rating) in testset]\n",
    "\n",
    "# Predict ratings for the testset\n",
    "preds = [pred.est for pred in predictions]\n",
    "\n",
    "# Compute ROC curve and ROC area\n",
    "fpr, tpr, _ = roc_curve(testset_binarized, preds)\n",
    "roc_auc = auc(fpr, tpr)\n",
    "\n",
    "# Plot ROC curve\n",
    "plt.figure()\n",
    "plt.plot(fpr, tpr, color='darkorange', lw=2, label='ROC curve (area = %0.2f)' % roc_auc)\n",
    "plt.plot([0, 1], [0, 1], color='navy', lw=2, linestyle='--')\n",
    "plt.xlim([0.0, 1.0])\n",
    "plt.ylim([0.0, 1.05])\n",
    "plt.xlabel('False Positive Rate')\n",
    "plt.ylabel('True Positive Rate')\n",
    "plt.title('Receiver Operating Characteristic')\n",
    "plt.legend(loc=\"lower right\")\n",
    "plt.show()"
   ]
  },
  {
   "cell_type": "markdown",
   "id": "2afb72bb",
   "metadata": {},
   "source": [
    "### Top 10 predictions for Biased SVD"
   ]
  },
  {
   "cell_type": "code",
   "execution_count": 18,
   "id": "ab342e0b",
   "metadata": {},
   "outputs": [
    {
     "name": "stdout",
     "output_type": "stream",
     "text": [
      "For user  6538326896  we recommend items:  ['P203616', 'P411401', 'P504049', 'P473725', 'P470533', 'P122882', 'P188307', 'P419466', 'P423259', 'P472472']\n"
     ]
    }
   ],
   "source": [
    "# Example usage:\n",
    "user_id = '6538326896'  # replace with actual user id\n",
    "#print(recommend_unreviewed_items(user_id, algo, df))\n",
    "\n",
    "print('For user ', user_id, ' we recommend items: ' , recommend_unreviewed_items(user_id, algo3, df).item_id.tolist())"
   ]
  },
  {
   "cell_type": "code",
   "execution_count": 19,
   "id": "a68b27f2",
   "metadata": {},
   "outputs": [
    {
     "name": "stdout",
     "output_type": "stream",
     "text": [
      "<class 'pandas.core.frame.DataFrame'>\n",
      "RangeIndex: 8494 entries, 0 to 8493\n",
      "Data columns (total 27 columns):\n",
      " #   Column              Non-Null Count  Dtype  \n",
      "---  ------              --------------  -----  \n",
      " 0   product_id          8494 non-null   object \n",
      " 1   product_name        8494 non-null   object \n",
      " 2   brand_id            8494 non-null   int64  \n",
      " 3   brand_name          8494 non-null   object \n",
      " 4   loves_count         8494 non-null   int64  \n",
      " 5   rating              8216 non-null   float64\n",
      " 6   reviews             8216 non-null   float64\n",
      " 7   size                6863 non-null   object \n",
      " 8   variation_type      7050 non-null   object \n",
      " 9   variation_value     6896 non-null   object \n",
      " 10  variation_desc      1250 non-null   object \n",
      " 11  ingredients         7549 non-null   object \n",
      " 12  price_usd           8494 non-null   float64\n",
      " 13  value_price_usd     451 non-null    float64\n",
      " 14  sale_price_usd      270 non-null    float64\n",
      " 15  limited_edition     8494 non-null   int64  \n",
      " 16  new                 8494 non-null   int64  \n",
      " 17  online_only         8494 non-null   int64  \n",
      " 18  out_of_stock        8494 non-null   int64  \n",
      " 19  sephora_exclusive   8494 non-null   int64  \n",
      " 20  highlights          6287 non-null   object \n",
      " 21  primary_category    8494 non-null   object \n",
      " 22  secondary_category  8486 non-null   object \n",
      " 23  tertiary_category   7504 non-null   object \n",
      " 24  child_count         8494 non-null   int64  \n",
      " 25  child_max_price     2754 non-null   float64\n",
      " 26  child_min_price     2754 non-null   float64\n",
      "dtypes: float64(7), int64(8), object(12)\n",
      "memory usage: 1.7+ MB\n"
     ]
    }
   ],
   "source": [
    "product_info.info()"
   ]
  },
  {
   "cell_type": "code",
   "execution_count": 21,
   "id": "749ec276",
   "metadata": {},
   "outputs": [],
   "source": [
    "item_ids = ['P421275', 'P122900', 'P423688', 'P442745', 'P428250', 'P481335', 'P454380', 'P443352', 'P470255', 'P420699']\n",
    "subset_df = product_info[product_info['product_id'].isin(item_ids)]\n",
    "subset_df.to_csv('../reports/figures/recommendation_result.csv', index=False)"
   ]
  },
  {
   "cell_type": "code",
   "execution_count": 22,
   "id": "85c46162",
   "metadata": {},
   "outputs": [],
   "source": [
    "# Create dataframe of true and predicted ratings\n",
    "true_ratings = [pred.r_ui for pred in predictions]\n",
    "predicted_ratings = [pred.est for pred in predictions]"
   ]
  },
  {
   "cell_type": "code",
   "execution_count": 23,
   "id": "9c8f08b1",
   "metadata": {},
   "outputs": [
    {
     "data": {
      "image/png": "[encoded data removed]",
      "text/plain": [
       "<Figure size 720x432 with 1 Axes>"
      ]
     },
     "metadata": {
      "needs_background": "light"
     },
     "output_type": "display_data"
    }
   ],
   "source": [
    "import pandas as pd\n",
    "import seaborn as sns\n",
    "import matplotlib.pyplot as plt\n",
    "\n",
    "# Create a dataframe from true and predicted ratings\n",
    "df = pd.DataFrame(data={\"True Ratings\": true_ratings, \"Predicted Ratings\": predicted_ratings})\n",
    "\n",
    "# Round predicted ratings to nearest integer to make groups for plotting\n",
    "df['Predicted Ratings'] #= df['Predicted Ratings'].round()\n",
    "\n",
    "# Generate violin plot\n",
    "plt.figure(figsize=(10,6))\n",
    "sns.violinplot(x=\"True Ratings\", y=\"Predicted Ratings\", data=df)\n",
    "plt.title('Distribution of Predicted Ratings for Each True Rating')\n",
    "plt.show()\n"
   ]
  },
  {
   "cell_type": "code",
   "execution_count": null,
   "id": "e76399ea",
   "metadata": {},
   "outputs": [],
   "source": []
  }
 ],
 "metadata": {
  "kernelspec": {
   "display_name": "Python 3 (ipykernel)",
   "language": "python",
   "name": "python3"
  },
  "language_info": {
   "codemirror_mode": {
    "name": "ipython",
    "version": 3
   },
   "file_extension": ".py",
   "mimetype": "text/x-python",
   "name": "python",
   "nbconvert_exporter": "python",
   "pygments_lexer": "ipython3",
   "version": "3.9.12"
  }
 },
 "nbformat": 4,
 "nbformat_minor": 5
}
