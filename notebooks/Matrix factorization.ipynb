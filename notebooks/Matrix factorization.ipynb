{
 "cells": [
  {
   "cell_type": "markdown",
   "id": "0e845bc9",
   "metadata": {},
   "source": [
    "Collaborative Filtering: Collaborative filtering is to discover the similarities on the user’s past behavior and make predictions to the user based on a similar preferecne with other users. This model is then used to predict items (or ratings for items) that the user may have an interest in.\n",
    "Content-Based Filtering: Content-Based Filtering is used to produce items recommendation based on items’ characteristics.\n"
   ]
  },
  {
   "cell_type": "code",
   "execution_count": 24,
   "id": "bb91889f",
   "metadata": {},
   "outputs": [],
   "source": [
    "%matplotlib inline\n",
    "import numpy as np\n",
    "import pandas as pd \n",
    "import matplotlib.pyplot as plt\n",
    "import seaborn as sns\n",
    "\n"
   ]
  },
  {
   "cell_type": "code",
   "execution_count": 25,
   "id": "10acbdb4",
   "metadata": {},
   "outputs": [
    {
     "name": "stdout",
     "output_type": "stream",
     "text": [
      "<class 'pandas.core.frame.DataFrame'>\n",
      "RangeIndex: 8494 entries, 0 to 8493\n",
      "Data columns (total 27 columns):\n",
      " #   Column              Non-Null Count  Dtype  \n",
      "---  ------              --------------  -----  \n",
      " 0   product_id          8494 non-null   object \n",
      " 1   product_name        8494 non-null   object \n",
      " 2   brand_id            8494 non-null   int64  \n",
      " 3   brand_name          8494 non-null   object \n",
      " 4   loves_count         8494 non-null   int64  \n",
      " 5   rating              8216 non-null   float64\n",
      " 6   reviews             8216 non-null   float64\n",
      " 7   size                6863 non-null   object \n",
      " 8   variation_type      7050 non-null   object \n",
      " 9   variation_value     6896 non-null   object \n",
      " 10  variation_desc      1250 non-null   object \n",
      " 11  ingredients         7549 non-null   object \n",
      " 12  price_usd           8494 non-null   float64\n",
      " 13  value_price_usd     451 non-null    float64\n",
      " 14  sale_price_usd      270 non-null    float64\n",
      " 15  limited_edition     8494 non-null   int64  \n",
      " 16  new                 8494 non-null   int64  \n",
      " 17  online_only         8494 non-null   int64  \n",
      " 18  out_of_stock        8494 non-null   int64  \n",
      " 19  sephora_exclusive   8494 non-null   int64  \n",
      " 20  highlights          6287 non-null   object \n",
      " 21  primary_category    8494 non-null   object \n",
      " 22  secondary_category  8486 non-null   object \n",
      " 23  tertiary_category   7504 non-null   object \n",
      " 24  child_count         8494 non-null   int64  \n",
      " 25  child_max_price     2754 non-null   float64\n",
      " 26  child_min_price     2754 non-null   float64\n",
      "dtypes: float64(7), int64(8), object(12)\n",
      "memory usage: 1.7+ MB\n"
     ]
    }
   ],
   "source": [
    "# Load product info\n",
    "product_info = pd.read_csv('../data/raw/archive/product_info.csv')\n",
    "product_info.info()"
   ]
  },
  {
   "cell_type": "code",
   "execution_count": 26,
   "id": "f1a27e86",
   "metadata": {},
   "outputs": [],
   "source": [
    "reviews250 = pd.read_csv('../data/raw/archive/reviews_0_250.csv', low_memory=False, index_col=0)\n",
    "reviews500 = pd.read_csv('../data/raw/archive/reviews_250_500.csv', low_memory=False, index_col=0)\n",
    "reviews750 = pd.read_csv('../data/raw/archive/reviews_500_750.csv', low_memory=False, index_col=0)\n",
    "reviews1000 = pd.read_csv('../data/raw/archive/reviews_750_1000.csv', low_memory=False, index_col=0)\n",
    "reviews1500 = pd.read_csv('../data/raw/archive/reviews_1000_1500.csv', low_memory=False, index_col=0)\n",
    "reviewsend = pd.read_csv('../data/raw/archive/reviews_1500_end.csv', low_memory=False, index_col=0)"
   ]
  },
  {
   "cell_type": "code",
   "execution_count": 50,
   "id": "790fed59",
   "metadata": {},
   "outputs": [],
   "source": [
    "df = pd.concat([reviews250, reviews500, reviews750, reviews1000, reviews1500, reviewsend])\n"
   ]
  },
  {
   "cell_type": "code",
   "execution_count": 51,
   "id": "321e84cb",
   "metadata": {},
   "outputs": [
    {
     "name": "stdout",
     "output_type": "stream",
     "text": [
      "<class 'pandas.core.frame.DataFrame'>\n",
      "Index: 1301136 entries, 0 to 49976\n",
      "Data columns (total 18 columns):\n",
      " #   Column                    Non-Null Count    Dtype  \n",
      "---  ------                    --------------    -----  \n",
      " 0   author_id                 1301136 non-null  object \n",
      " 1   rating                    1301136 non-null  int64  \n",
      " 2   is_recommended            1107162 non-null  float64\n",
      " 3   helpfulness               631670 non-null   float64\n",
      " 4   total_feedback_count      1301136 non-null  int64  \n",
      " 5   total_neg_feedback_count  1301136 non-null  int64  \n",
      " 6   total_pos_feedback_count  1301136 non-null  int64  \n",
      " 7   submission_time           1301136 non-null  object \n",
      " 8   review_text               1299520 non-null  object \n",
      " 9   review_title              930754 non-null   object \n",
      " 10  skin_tone                 1103798 non-null  object \n",
      " 11  eye_color                 1057734 non-null  object \n",
      " 12  skin_type                 1172830 non-null  object \n",
      " 13  hair_color                1037824 non-null  object \n",
      " 14  product_id                1301136 non-null  object \n",
      " 15  product_name              1301136 non-null  object \n",
      " 16  brand_name                1301136 non-null  object \n",
      " 17  price_usd                 1301136 non-null  float64\n",
      "dtypes: float64(3), int64(4), object(11)\n",
      "memory usage: 188.6+ MB\n",
      "None\n"
     ]
    }
   ],
   "source": [
    "print(df.info())"
   ]
  },
  {
   "cell_type": "code",
   "execution_count": 52,
   "id": "916d2f60",
   "metadata": {},
   "outputs": [],
   "source": [
    "df.rename(columns={'author_id': 'user', 'product_id':'item'}, inplace=True)\n",
    "df = df[['user','item','rating', 'skin_tone', 'eye_color', 'skin_type', 'hair_color']]"
   ]
  },
  {
   "cell_type": "code",
   "execution_count": 53,
   "id": "83fd1e64",
   "metadata": {},
   "outputs": [
    {
     "name": "stdout",
     "output_type": "stream",
     "text": [
      "(1301136, 7)\n",
      "(1010828, 7)\n"
     ]
    }
   ],
   "source": [
    "# making new data frame with dropped NA values \n",
    "print(df.shape)\n",
    "df = df.dropna(axis = 0, how ='any')    \n",
    "print(df.shape)"
   ]
  },
  {
   "cell_type": "code",
   "execution_count": 55,
   "id": "11ef583f",
   "metadata": {},
   "outputs": [],
   "source": [
    "data1 =df[['user','item','rating']]"
   ]
  },
  {
   "cell_type": "code",
   "execution_count": 38,
   "id": "d96face9",
   "metadata": {},
   "outputs": [],
   "source": [
    "from surprise import SVD\n",
    "from surprise.prediction_algorithms import KNNWithMeans, KNNBasic, KNNBaseline\n",
    "from surprise import Dataset, Reader\n",
    "from surprise import accuracy\n",
    "from surprise.model_selection import cross_validate, train_test_split, GridSearchCV"
   ]
  },
  {
   "cell_type": "code",
   "execution_count": 56,
   "id": "b45026d6",
   "metadata": {},
   "outputs": [
    {
     "name": "stdout",
     "output_type": "stream",
     "text": [
      "<class 'pandas.core.frame.DataFrame'>\n",
      "Index: 1010828 entries, 2 to 49974\n",
      "Data columns (total 3 columns):\n",
      " #   Column  Non-Null Count    Dtype \n",
      "---  ------  --------------    ----- \n",
      " 0   user    1010828 non-null  object\n",
      " 1   item    1010828 non-null  object\n",
      " 2   rating  1010828 non-null  int64 \n",
      "dtypes: int64(1), object(2)\n",
      "memory usage: 30.8+ MB\n"
     ]
    }
   ],
   "source": [
    "data1.info()"
   ]
  },
  {
   "cell_type": "code",
   "execution_count": 57,
   "id": "9803319e",
   "metadata": {},
   "outputs": [],
   "source": [
    "# Assume you have a pandas DataFrame df with columns 'user', 'item', 'rating'\n",
    "reader = Reader(rating_scale=(1, 5))  # Here, we assume the ratings are on a scale of 1 to 5.\n",
    "data = Dataset.load_from_df(data1, reader)\n",
    "\n"
   ]
  },
  {
   "cell_type": "code",
   "execution_count": 58,
   "id": "95c0f8ba",
   "metadata": {},
   "outputs": [],
   "source": [
    "# Split data into train and test\n",
    "trainset, testset = train_test_split(data, test_size=0.25)\n",
    "\n"
   ]
  },
  {
   "cell_type": "code",
   "execution_count": 59,
   "id": "40b48339",
   "metadata": {},
   "outputs": [
    {
     "data": {
      "text/plain": [
       "<surprise.prediction_algorithms.matrix_factorization.SVD at 0x7f9446f10130>"
      ]
     },
     "execution_count": 59,
     "metadata": {},
     "output_type": "execute_result"
    }
   ],
   "source": [
    "# Instantiate SVD and fit the trainset\n",
    "algo = SVD()\n",
    "algo.fit(trainset)\n",
    "\n"
   ]
  },
  {
   "cell_type": "code",
   "execution_count": 61,
   "id": "6e7592bd",
   "metadata": {},
   "outputs": [
    {
     "name": "stdout",
     "output_type": "stream",
     "text": [
      "3.8870061706662136\n"
     ]
    }
   ],
   "source": [
    "# Predictions can now be made with the predict() method\n",
    "# For example, predicting the rating of the item with id 'item_id' for the user with id 'user_id'\n",
    "user_id = '6538326896'\n",
    "item_id = 'P480354'\n",
    "prediction = algo.predict(user_id, item_id)\n",
    "print(prediction.est)"
   ]
  },
  {
   "cell_type": "markdown",
   "id": "663e66ff",
   "metadata": {},
   "source": [
    "## Using predictions"
   ]
  },
  {
   "cell_type": "code",
   "execution_count": 29,
   "id": "312f0c1a",
   "metadata": {},
   "outputs": [
    {
     "name": "stdout",
     "output_type": "stream",
     "text": [
      "[4.396479652335173, 4.5000100879965474, 4.403177401203394, 4.364065229910177, 4.181701566746589, 4.387133216525899, 4.527875255609867, 4.090233541220962, 4.195787222993954, 4.389650517678031, 4.408925500260975, 4.688387881922074, 4.364065229910177, 4.221840336423887, 4.364065229910177, 4.626435010840074, 4.406021462965932, 4.097555472862863, 4.626005277772955, 4.057451626677103, 4.513620857359802, 4.614567952560199, 4.147690178529307, 3.8521312078649097, 4.46595316917864, 4.629615195455936, 3.9935201083425267, 3.838939246424404, 4.899294568789001, 4.541559095838191, 4.4454739166493225, 4.3424149759126225, 4.2664101118053095, 4.364065229910177, 4.20563570196139, 4.108267413880228, 4.837437500483864, 3.7908910327062015, 4.450979821455691, 4.273410465807041, 4.5530370412688645, 4.364065229910177, 3.985467574800956, 4.370352807868894, 4.314382237674071, 4.2792569401633855, 4.492426999538507, 4.3857859233084335, 4.67516577411454, 4.364065229910177, 3.936017741042826, 3.849350007615776, 4.011247876265614, 4.652106504628539, 4.178155156285645, 4.4290650536518426, 4.364065229910177, 4.0120803626885335, 4.577436792976209, 4.364065229910177, 4.290573259596398, 4.522020511103148, 4.364065229910177, 4.1315796442018, 4.049651949904982, 4.008232824729997, 4.704538128746105, 4.844930381550462, 4.164499169164829, 4.50173259109064, 4.283872771951217, 4.305858588255437, 4.349188560180905, 4.158904338274063, 4.235931324148044, 4.27833802578377, 4.260273939628086, 4.014384843414653, 3.9035819081299516, 4.311557699374487, 4.622218151830199, 3.7251693041945635, 3.76676059128783, 4.627443917117998, 4.364065229910177, 3.8351354918465272, 4.364065229910177, 4.839211706980619, 4.416805025572128, 4.364065229910177, 4.613297601742548, 4.318048728388712, 4.781046767236634, 4.183042292939965, 4.154439491732255, 4.364065229910177, 4.749533037814058, 4.239395081188687, 4.655116951853842, 4.3142568287701435]\n"
     ]
    }
   ],
   "source": [
    "user_ids = df.user[0:100]\n",
    "item_ids =df.item[240000:240100]\n",
    "# Assume user_ids and item_ids are arrays or lists of user ids and item ids.\n",
    "#user_ids = ['7446977307', '1991973234', '42434587408']\n",
    "#item_ids = ['P467602', 'P481993', 'P481993']\n",
    "\n",
    "# Assuming 'algo' is your trained model\n",
    "predictions = [algo.predict(user_id, item_id) for user_id, item_id in zip(user_ids, item_ids)]\n",
    "\n",
    "# Extract the estimated ratings\n",
    "estimated_ratings = [pred.est for pred in predictions]"
   ]
  },
  {
   "cell_type": "markdown",
   "id": "4675dea6",
   "metadata": {},
   "source": [
    "### Cross-validation"
   ]
  },
  {
   "cell_type": "code",
   "execution_count": 85,
   "id": "47bada41",
   "metadata": {},
   "outputs": [
    {
     "name": "stdout",
     "output_type": "stream",
     "text": [
      "Evaluating RMSE, MAE of algorithm SVD on 5 split(s).\n",
      "\n",
      "                  Fold 1  Fold 2  Fold 3  Fold 4  Fold 5  Mean    Std     \n",
      "RMSE (testset)    1.1007  1.0940  1.0990  1.0866  1.0962  1.0953  0.0049  \n",
      "MAE (testset)     0.8279  0.8217  0.8261  0.8177  0.8227  0.8232  0.0036  \n",
      "Fit time          2.50    2.54    2.59    2.60    2.67    2.58    0.06    \n",
      "Test time         0.47    0.29    0.29    0.64    0.52    0.44    0.14    \n"
     ]
    },
    {
     "data": {
      "text/plain": [
       "{'test_rmse': array([1.10073787, 1.0939508 , 1.09900359, 1.08655776, 1.09622941]),\n",
       " 'test_mae': array([0.8278647 , 0.82174141, 0.82610578, 0.81768021, 0.82273007]),\n",
       " 'fit_time': (2.4970932006835938,\n",
       "  2.537647008895874,\n",
       "  2.586132049560547,\n",
       "  2.5957629680633545,\n",
       "  2.6729037761688232),\n",
       " 'test_time': (0.4716978073120117,\n",
       "  0.29118895530700684,\n",
       "  0.2869832515716553,\n",
       "  0.6413369178771973,\n",
       "  0.5224218368530273)}"
      ]
     },
     "execution_count": 85,
     "metadata": {},
     "output_type": "execute_result"
    }
   ],
   "source": [
    "# Run 5-fold cross-validation and print results\n",
    "cross_validate(algo, data, measures=['RMSE', 'MAE'], cv=5, verbose=True)"
   ]
  },
  {
   "cell_type": "code",
   "execution_count": 86,
   "id": "b239e2ca",
   "metadata": {},
   "outputs": [
    {
     "name": "stdout",
     "output_type": "stream",
     "text": [
      "RMSE: 1.1136\n",
      "MAE:  0.8425\n",
      "Precision: 0.82\n",
      "Recall: 0.96\n",
      "F1: 0.89\n"
     ]
    }
   ],
   "source": [
    "from surprise import SVD, Dataset, Reader, accuracy\n",
    "from surprise.model_selection import cross_validate, train_test_split\n",
    "\n",
    "# Assuming you have a pandas DataFrame df with columns 'user', 'item', 'rating'\n",
    "reader = Reader(rating_scale=(1, 5))  # Here, we assume the ratings are on a scale of 1 to 5.\n",
    "data = Dataset.load_from_df(df[['user', 'item', 'rating']], reader)\n",
    "\n",
    "# Split data into train and test\n",
    "trainset, testset = train_test_split(data, test_size=0.25)\n",
    "\n",
    "# Use the SVD algorithm\n",
    "algo = SVD()\n",
    "\n",
    "# Train the algorithm on the trainset, and predict ratings for the testset\n",
    "algo.fit(trainset)\n",
    "predictions = algo.test(testset)\n",
    "\n",
    "# Then compute RMSE and MAE\n",
    "accuracy.rmse(predictions)\n",
    "accuracy.mae(predictions)\n",
    "\n",
    "# For precision and recall we need to define a threshold for positive vs. negative ratings\n",
    "# Here we'll use 3.5 (on a 5-point scale), but this will depend on how your ratings are distributed\n",
    "threshold = 3.5\n",
    "true_positives = sum([1 for prediction in predictions if prediction.r_ui >= threshold and prediction.est >= threshold])\n",
    "true_negatives = sum([1 for prediction in predictions if prediction.r_ui < threshold and prediction.est < threshold])\n",
    "false_positives = sum([1 for prediction in predictions if prediction.r_ui < threshold and prediction.est >= threshold])\n",
    "false_negatives = sum([1 for prediction in predictions if prediction.r_ui >= threshold and prediction.est < threshold])\n",
    "\n",
    "# Compute precision, recall, and F1 score\n",
    "precision = true_positives / (true_positives + false_positives)\n",
    "recall = true_positives / (true_positives + false_negatives)\n",
    "f1 = 2 * (precision * recall) / (precision + recall)\n",
    "\n",
    "print(f\"Precision: {precision:.2f}\")\n",
    "print(f\"Recall: {recall:.2f}\")\n",
    "print(f\"F1: {f1:.2f}\")\n"
   ]
  },
  {
   "cell_type": "code",
   "execution_count": 87,
   "id": "4e43eee5",
   "metadata": {},
   "outputs": [],
   "source": [
    "from sklearn.metrics import roc_curve, auc\n",
    "import matplotlib.pyplot as plt"
   ]
  },
  {
   "cell_type": "code",
   "execution_count": 88,
   "id": "0f93d45f",
   "metadata": {},
   "outputs": [
    {
     "data": {
      "image/png": "[encoded data removed]",
      "text/plain": [
       "<Figure size 432x288 with 1 Axes>"
      ]
     },
     "metadata": {
      "needs_background": "light"
     },
     "output_type": "display_data"
    }
   ],
   "source": [
    "# Binarize the ratings in testset\n",
    "testset_binarized = [1 if rating >= 4 else 0 for (_, _, rating) in testset]\n",
    "\n",
    "# Predict ratings for the testset\n",
    "preds = [pred.est for pred in predictions]\n",
    "\n",
    "# Compute ROC curve and ROC area\n",
    "fpr, tpr, _ = roc_curve(testset_binarized, preds)\n",
    "roc_auc = auc(fpr, tpr)\n",
    "\n",
    "# Plot ROC curve\n",
    "plt.figure()\n",
    "plt.plot(fpr, tpr, color='darkorange', lw=2, label='ROC curve (area = %0.2f)' % roc_auc)\n",
    "plt.plot([0, 1], [0, 1], color='navy', lw=2, linestyle='--')\n",
    "plt.xlim([0.0, 1.0])\n",
    "plt.ylim([0.0, 1.05])\n",
    "plt.xlabel('False Positive Rate')\n",
    "plt.ylabel('True Positive Rate')\n",
    "plt.title('Receiver Operating Characteristic')\n",
    "plt.legend(loc=\"lower right\")\n",
    "plt.show()"
   ]
  },
  {
   "cell_type": "markdown",
   "id": "6b82a92d",
   "metadata": {},
   "source": [
    "### Hyperparameter tuning"
   ]
  },
  {
   "cell_type": "code",
   "execution_count": 90,
   "id": "514a5c55",
   "metadata": {},
   "outputs": [
    {
     "name": "stdout",
     "output_type": "stream",
     "text": [
      "1.200677801186598\n",
      "{'n_epochs': 20, 'lr_all': 0.01, 'reg_all': 0.2}\n"
     ]
    }
   ],
   "source": [
    "# Define the parameter grid\n",
    "param_grid = {\n",
    "    'n_epochs': [5, 10, 20], \n",
    "    'lr_all': [0.002, 0.005, 0.01], \n",
    "    'reg_all': [0.2, 0.4, 0.6]\n",
    "}\n",
    "\n",
    "algo = SVD\n",
    "# Run a grid search with cross validation\n",
    "gs = GridSearchCV(algo, param_grid, measures=['rmse', 'mae'], cv=3)\n",
    "gs.fit(data)\n",
    "\n",
    "# Print the best score and the best parameters\n",
    "print(gs.best_score['rmse'])\n",
    "print(gs.best_params['rmse'])"
   ]
  },
  {
   "cell_type": "markdown",
   "id": "87f7473f",
   "metadata": {},
   "source": [
    "#### Evaluate the model: \n",
    "Use different evaluation metrics to understand how well your model is performing. Common metrics for recommender systems include Root Mean Square Error (RMSE), Mean Absolute Error (MAE), precision, recall, F1 score, and Area Under the ROC Curve (AUC-ROC).\n",
    "#### Hyperparameter tuning: \n",
    "The SVD algorithm has several hyperparameters that can significantly impact its performance. You can use techniques like grid search or random search to find the optimal values for these parameters.\n",
    "#### Cross-validation:\n",
    "Implement cross-validation to get a more robust estimate of your model's performance. This involves splitting your data into multiple folds and training and testing your model on different combinations of these folds.\n",
    "#### Try different algorithms:\n",
    "While SVD is a powerful algorithm, there are many other algorithms for recommendation, including other matrix factorization methods (e.g., Non-negative Matrix Factorization), neighborhood-based methods, and deep learning methods. Different algorithms might work better for different types of data and different problem settings.\n",
    "#### Incorporate additional data:\n",
    "If you have additional data available (e.g., user demographic information, item features), you might consider using a hybrid recommendation approach that combines collaborative filtering with content-based filtering.\n",
    "#### Test the system with real users:\n",
    "Ultimately, the best way to evaluate a recommender system is to see how it performs with real users. Consider implementing an A/B test to compare your recommender system with a baseline or previous version.\n",
    "#### Optimize for scalability and efficiency: \n",
    "If your system works well on a small scale, consider how to optimize it to handle larger datasets and provide recommendations more quickly. This might involve improving your data processing code, parallelizing the computation, or moving to a distributed computing environment.\n",
    "#### Continuous learning:\n",
    "If new data comes in regularly (e.g., new user ratings), consider how to update your model over time. This could involve re-training the model from scratch periodically or using an online learning approach that updates the model incrementally.\n",
    "\n",
    "\n",
    "\n",
    "\n",
    "\n",
    "\n"
   ]
  },
  {
   "cell_type": "markdown",
   "id": "916ed815",
   "metadata": {},
   "source": [
    "### Note on the K-Nearest Neighbors methods\n",
    "(KNN) algorithm is a simple and commonly used method for making recommendations, but it can struggle with large datasets due to its computational complexity.\n",
    "\n",
    "KNN works by computing distances between items or users, which requires comparing each item (or user) to every other item (or user). As a result, the time and space complexity of the algorithm is quadratic in the number of items or users. This means that as the dataset grows, the time and memory required to run KNN increase rapidly.\n",
    "\n",
    "For a dataset with 350,000+ ratings, depending on the number of unique users and items, KNN might still be feasible, but it could be slow and require a large amount of memory. If your dataset is large and you're finding that KNN is too slow or requires too much memory, you might consider using a more scalable algorithm.\n",
    "\n",
    "Matrix factorization methods, such as SVD (Singular Value Decomposition) or NMF (Non-negative Matrix Factorization), are often a good choice for larger datasets. These methods are more computationally efficient than KNN, and they can also handle sparsity in the ratings matrix more effectively. They work by learning latent factors for each user and item, which capture the underlying patterns in the ratings and can be used to predict missing ratings.\n",
    "\n",
    "Another approach for large datasets is to use deep learning methods, which can model complex non-linear relationships and automatically learn useful features from the data. However, these methods can be more complex to implement and interpret, and they may require more computational resources and longer training times."
   ]
  },
  {
   "cell_type": "markdown",
   "id": "6c2a4353",
   "metadata": {},
   "source": [
    "In this code, we are using the default hyperparameters for the NMF algorithm, which are:\n",
    "\n",
    "n_factors: The number of factors. Default is 15.\n",
    "n_epochs: The number of iteration of the SGD procedure. Default is 50.\n",
    "biased: Whether to use baselines (or biases). Default is True."
   ]
  },
  {
   "cell_type": "code",
   "execution_count": 10,
   "id": "221c49b8",
   "metadata": {},
   "outputs": [
    {
     "name": "stdout",
     "output_type": "stream",
     "text": [
      "RMSE: 1.1729\n",
      "RMSE:  1.172942798785202\n",
      "MAE:  0.8180\n",
      "MAE:  0.8179957113033712\n"
     ]
    }
   ],
   "source": [
    "from surprise import NMF, Dataset, Reader, accuracy\n",
    "from surprise.model_selection import train_test_split\n",
    "\n",
    "# Assuming you have a pandas DataFrame df with columns 'user', 'item', 'rating'\n",
    "#reader = Reader(rating_scale=(1, 5))  # Here, we assume the ratings are on a scale of 1 to 5.\n",
    "#data = Dataset.load_from_df(df[['user', 'item', 'rating']], reader)\n",
    "\n",
    "# Split data into train and test\n",
    "trainset, testset = train_test_split(data, test_size=0.25)\n",
    "\n",
    "# Use the NMF algorithm\n",
    "algo = NMF()\n",
    "\n",
    "# Train the algorithm on the trainset, and predict ratings for the testset\n",
    "algo.fit(trainset)\n",
    "predictions = algo.test(testset)\n",
    "\n",
    "# Then compute RMSE\n",
    "print(\"RMSE: \", accuracy.rmse(predictions))\n",
    "\n",
    "# compute MAE\n",
    "print(\"MAE: \", accuracy.mae(predictions))\n"
   ]
  },
  {
   "cell_type": "code",
   "execution_count": 11,
   "id": "90970ef1",
   "metadata": {},
   "outputs": [
    {
     "name": "stdout",
     "output_type": "stream",
     "text": [
      "Evaluating RMSE, MAE of algorithm NMF on 5 split(s).\n",
      "\n",
      "                  Fold 1  Fold 2  Fold 3  Fold 4  Fold 5  Mean    Std     \n",
      "RMSE (testset)    1.1586  1.1600  1.1625  1.1561  1.1538  1.1582  0.0030  \n",
      "MAE (testset)     0.8008  0.7994  0.8075  0.7968  0.7919  0.7993  0.0051  \n",
      "Fit time          9.49    9.65    9.78    9.81    10.13   9.77    0.21    \n",
      "Test time         0.25    0.24    0.70    0.54    0.26    0.40    0.19    \n"
     ]
    },
    {
     "data": {
      "text/plain": [
       "{'test_rmse': array([1.15856256, 1.1599702 , 1.16251299, 1.15612594, 1.15381676]),\n",
       " 'test_mae': array([0.80077001, 0.79943531, 0.80750007, 0.79684666, 0.79191065]),\n",
       " 'fit_time': (9.489989042282104,\n",
       "  9.64850115776062,\n",
       "  9.780000925064087,\n",
       "  9.805248022079468,\n",
       "  10.128991842269897),\n",
       " 'test_time': (0.25104308128356934,\n",
       "  0.24487018585205078,\n",
       "  0.7042412757873535,\n",
       "  0.5388972759246826,\n",
       "  0.2569730281829834)}"
      ]
     },
     "execution_count": 11,
     "metadata": {},
     "output_type": "execute_result"
    }
   ],
   "source": [
    "# Run 5-fold cross-validation and print results\n",
    "cross_validate(algo, data, measures=['RMSE', 'MAE'], cv=5, verbose=True)"
   ]
  },
  {
   "cell_type": "markdown",
   "id": "61fd8003",
   "metadata": {},
   "source": [
    "Well it looks like the Mean RMSE is 1.15 and MAE is 0.79 while SVD had 1.09, 0.82 RMSE and MAE correspondingly. \n",
    "I prefer SVD due to its smaller EMSE, which means it makes less large errors and I want to be conservative and prefer to give slightly wrong compared to fe very wrong recommendations."
   ]
  },
  {
   "cell_type": "markdown",
   "id": "9e2575b5",
   "metadata": {},
   "source": [
    "## Biased SVD"
   ]
  },
  {
   "cell_type": "code",
   "execution_count": 12,
   "id": "bd0a715c",
   "metadata": {},
   "outputs": [
    {
     "name": "stdout",
     "output_type": "stream",
     "text": [
      "Evaluating RMSE, MAE of algorithm SVD on 5 split(s).\n",
      "\n",
      "                  Fold 1  Fold 2  Fold 3  Fold 4  Fold 5  Mean    Std     \n",
      "RMSE (testset)    1.0918  1.0937  1.0918  1.0945  1.0974  1.0938  0.0021  \n",
      "MAE (testset)     0.8222  0.8211  0.8205  0.8232  0.8251  0.8224  0.0016  \n",
      "Fit time          2.53    2.61    2.67    2.71    2.63    2.63    0.06    \n",
      "Test time         0.28    0.28    0.29    0.71    0.27    0.37    0.17    \n",
      "Fold 1\n",
      "RMSE: 1.09\n",
      "MAE: 0.82\n",
      "\n",
      "Fold 2\n",
      "RMSE: 1.09\n",
      "MAE: 0.82\n",
      "\n",
      "Fold 3\n",
      "RMSE: 1.09\n",
      "MAE: 0.82\n",
      "\n",
      "Fold 4\n",
      "RMSE: 1.09\n",
      "MAE: 0.82\n",
      "\n",
      "Fold 5\n",
      "RMSE: 1.10\n",
      "MAE: 0.83\n",
      "\n"
     ]
    }
   ],
   "source": [
    "from surprise import SVD, Dataset, Reader\n",
    "from surprise.model_selection import cross_validate\n",
    "\n",
    "# Assuming you have a pandas DataFrame df with columns 'user', 'item', 'rating'\n",
    "reader = Reader(rating_scale=(1, 5))  # Here, we assume the ratings are on a scale of 1 to 5.\n",
    "data = Dataset.load_from_df(df[['user', 'item', 'rating']], reader)\n",
    "\n",
    "# Use the biased SVD algorithm\n",
    "algo = SVD(biased=True) # default is True\n",
    "\n",
    "# Perform 5-fold cross-validation\n",
    "results = cross_validate(algo, data, measures=['RMSE', 'MAE'], cv=5, verbose=True)\n",
    "\n",
    "# The cross_validate function returns a dict containing measures of accuracy for each fold\n",
    "# You can print these out as follows:\n",
    "for i in range(5):\n",
    "    print(f\"Fold {i+1}\")\n",
    "    print(f\"RMSE: {results['test_rmse'][i]:.2f}\")\n",
    "    print(f\"MAE: {results['test_mae'][i]:.2f}\")\n",
    "    print()\n"
   ]
  },
  {
   "cell_type": "markdown",
   "id": "6be6bdd9",
   "metadata": {},
   "source": [
    "Well, it looks like Biased SVD doesn't perform much better, so we prefer the parsimonious model: Regular SVD."
   ]
  },
  {
   "cell_type": "markdown",
   "id": "cb6d7651",
   "metadata": {},
   "source": [
    "## Light FM"
   ]
  },
  {
   "cell_type": "markdown",
   "id": "d3f2b53a",
   "metadata": {},
   "source": [
    "LightFM is a hybrid matrix factorization model that represents users and items as linear combinations of their content features' latent factors. In other words, it is capable of using both collaborative and content-based information for recommendations, which makes it a good choice for dealing with both cold start and sparsity problems. \n",
    "\n",
    "The inputs to the LightFM model can be divided into two categories:\n",
    "\n",
    "#### Collaborative Input: \n",
    "This is the user-item interaction matrix. It's a binary matrix where each row represents a user, each column represents an item, and each cell represents the interaction between the user and the item. This can be expressed as explicit feedback (e.g., ratings) or implicit feedback (e.g., views, clicks).\n",
    "#### Content-Based Input: \n",
    "These are the user and item features. They are also represented as binary matrices:\n",
    "#### User features: \n",
    "Each row represents a user, and each column represents a user feature.\n",
    "#### Item features: \n",
    "Each row represents an item, and each column represents an item feature.\n",
    "Note that if you don't provide user and/or item features, LightFM uses their identities as features, which makes it equivalent to Matrix Factorization or collaborative filtering.\n",
    "\n",
    "Here is an example of how to create a LightFM model:"
   ]
  },
  {
   "cell_type": "code",
   "execution_count": 9,
   "id": "d5f575f5",
   "metadata": {},
   "outputs": [],
   "source": [
    "from lightfm import LightFM\n",
    "from lightfm.data import Dataset\n",
    "\n"
   ]
  },
  {
   "cell_type": "code",
   "execution_count": 10,
   "id": "c9373aae",
   "metadata": {},
   "outputs": [
    {
     "data": {
      "text/plain": [
       "array([nan, 'Size + Concentration + Formulation', 'Scent', 'Size',\n",
       "       'Color', 'Size + Concentration', 'Type', 'Formulation'],\n",
       "      dtype=object)"
      ]
     },
     "execution_count": 10,
     "metadata": {},
     "output_type": "execute_result"
    }
   ],
   "source": [
    "product_info.variation_type.unique()"
   ]
  },
  {
   "cell_type": "code",
   "execution_count": 11,
   "id": "581c52cd",
   "metadata": {},
   "outputs": [
    {
     "name": "stdout",
     "output_type": "stream",
     "text": [
      "<class 'pandas.core.frame.DataFrame'>\n",
      "RangeIndex: 8494 entries, 0 to 8493\n",
      "Data columns (total 8 columns):\n",
      " #   Column             Non-Null Count  Dtype \n",
      "---  ------             --------------  ----- \n",
      " 0   item_id            8494 non-null   object\n",
      " 1   limited_edition    8494 non-null   int64 \n",
      " 2   new                8494 non-null   int64 \n",
      " 3   online_only        8494 non-null   int64 \n",
      " 4   out_of_stock       8494 non-null   int64 \n",
      " 5   sephora_exclusive  8494 non-null   int64 \n",
      " 6   primary_category   8494 non-null   object\n",
      " 7   child_count        8494 non-null   int64 \n",
      "dtypes: int64(6), object(2)\n",
      "memory usage: 531.0+ KB\n"
     ]
    }
   ],
   "source": [
    "product_info2 = product_info.rename(columns={'product_id': 'item_id'})\n",
    "product_info3 = product_info2[['item_id','limited_edition', 'new', 'online_only', 'out_of_stock', 'sephora_exclusive', 'primary_category', 'child_count']]\n",
    "\n",
    "product_info3.info()"
   ]
  },
  {
   "cell_type": "code",
   "execution_count": 12,
   "id": "58701dc4",
   "metadata": {},
   "outputs": [
    {
     "name": "stdout",
     "output_type": "stream",
     "text": [
      "<class 'pandas.core.frame.DataFrame'>\n",
      "Index: 350638 entries, 5 to 49943\n",
      "Data columns (total 18 columns):\n",
      " #   Column                    Non-Null Count   Dtype  \n",
      "---  ------                    --------------   -----  \n",
      " 0   user_id                   350638 non-null  object \n",
      " 1   rating                    350638 non-null  int64  \n",
      " 2   is_recommended            350638 non-null  float64\n",
      " 3   helpfulness               350638 non-null  float64\n",
      " 4   total_feedback_count      350638 non-null  int64  \n",
      " 5   total_neg_feedback_count  350638 non-null  int64  \n",
      " 6   total_pos_feedback_count  350638 non-null  int64  \n",
      " 7   submission_time           350638 non-null  object \n",
      " 8   review_text               350638 non-null  object \n",
      " 9   review_title              350638 non-null  object \n",
      " 10  skin_tone                 350638 non-null  object \n",
      " 11  eye_color                 350638 non-null  object \n",
      " 12  skin_type                 350638 non-null  object \n",
      " 13  hair_color                350638 non-null  object \n",
      " 14  item_id                   350638 non-null  object \n",
      " 15  product_name              350638 non-null  object \n",
      " 16  brand_name                350638 non-null  object \n",
      " 17  price_usd                 350638 non-null  float64\n",
      "dtypes: float64(3), int64(4), object(11)\n",
      "memory usage: 50.8+ MB\n"
     ]
    }
   ],
   "source": [
    "interactions_df = df.rename(columns={'user': 'user_id', 'item':'item_id'})\n",
    "interactions_df.info()"
   ]
  },
  {
   "cell_type": "code",
   "execution_count": 13,
   "id": "8ac8fb7d",
   "metadata": {},
   "outputs": [],
   "source": [
    "item_features_df = product_info3[['item_id', 'limited_edition', 'new', 'online_only', 'out_of_stock', 'sephora_exclusive', 'primary_category', 'child_count']]\n",
    "user_features_df = interactions_df[['user_id','item_id', 'skin_tone', 'eye_color', 'skin_type', 'hair_color']]\n"
   ]
  },
  {
   "cell_type": "code",
   "execution_count": 14,
   "id": "517c44a3",
   "metadata": {},
   "outputs": [],
   "source": [
    "# Assuming item_ids in your interactions data is a list of item ids in the interaction data\n",
    "interaction_item_ids = set(interactions_df['item_id'])\n",
    "# Filter item features data\n",
    "filtered_item_features_df = item_features_df[item_features_df['item_id'].isin(interaction_item_ids)]\n",
    "\n"
   ]
  },
  {
   "cell_type": "code",
   "execution_count": 15,
   "id": "36308756",
   "metadata": {},
   "outputs": [],
   "source": [
    "\n"
   ]
  },
  {
   "cell_type": "code",
   "execution_count": 16,
   "id": "d09eec2f",
   "metadata": {},
   "outputs": [
    {
     "name": "stdout",
     "output_type": "stream",
     "text": [
      "[('P439055', [0, 0, 0, 0, 1, 'Skincare', 0]), ('P421277', [0, 0, 0, 0, 1, 'Skincare', 1]), ('P467602', [0, 0, 0, 0, 1, 'Skincare', 0]), ('P432045', [0, 0, 0, 0, 1, 'Skincare', 0]), ('P311143', [0, 0, 0, 0, 0, 'Skincare', 0]), ('P384537', [0, 0, 0, 0, 0, 'Skincare', 1]), ('P388200', [0, 0, 0, 1, 0, 'Skincare', 0]), ('P296413', [0, 0, 0, 0, 0, 'Skincare', 0]), ('P500716', [0, 0, 0, 0, 1, 'Skincare', 0]), ('P379907', [0, 0, 0, 0, 0, 'Skincare', 0]), ('P296415', [0, 0, 0, 0, 0, 'Skincare', 0]), ('P392945', [0, 0, 0, 0, 0, 'Skincare', 0]), ('P282935', [0, 0, 0, 1, 0, 'Skincare', 0]), ('P474809', [0, 0, 0, 0, 1, 'Skincare', 0]), ('P416552', [0, 0, 0, 0, 1, 'Skincare', 0]), ('P471000', [0, 0, 0, 0, 1, 'Skincare', 0]), ('P480274', [0, 0, 0, 0, 1, 'Skincare', 0]), ('P453818', [0, 0, 0, 0, 1, 'Skincare', 0]), ('P442859', [0, 0, 0, 0, 1, 'Skincare', 0]), ('P388262', [0, 0, 0, 0, 0, 'Skincare', 0]), ('P457694', [0, 0, 0, 0, 1, 'Skincare', 0]), ('P447504', [0, 0, 0, 0, 1, 'Skincare', 0]), ('P404169', [0, 0, 0, 0, 1, 'Skincare', 0]), ('P404168', [0, 0, 0, 0, 1, 'Skincare', 0]), ('P433469', [0, 0, 0, 0, 0, 'Skincare', 0]), ('P420638', [0, 0, 0, 0, 0, 'Skincare', 0]), ('P456990', [0, 0, 0, 0, 1, 'Skincare', 0]), ('P410809', [0, 0, 0, 0, 0, 'Skincare', 0]), ('P442860', [0, 0, 0, 0, 1, 'Skincare', 0]), ('P449164', [0, 0, 0, 0, 1, 'Skincare', 0]), ('P440949', [0, 0, 1, 0, 0, 'Skincare', 1]), ('P442540', [0, 0, 1, 0, 0, 'Skincare', 0]), ('P442539', [0, 0, 1, 0, 0, 'Skincare', 0]), ('P442546', [0, 0, 1, 0, 0, 'Skincare', 0]), ('P442548', [0, 0, 1, 0, 0, 'Skincare', 0]), ('P442537', [0, 0, 1, 0, 0, 'Skincare', 0]), ('P480150', [0, 0, 1, 0, 0, 'Skincare', 0]), ('P442542', [0, 0, 1, 0, 0, 'Skincare', 0]), ('P442545', [0, 0, 1, 0, 0, 'Skincare', 0]), ('P455237', [0, 0, 0, 0, 0, 'Skincare', 1]), ('P465741', [0, 0, 0, 0, 0, 'Skincare', 1]), ('P472302', [0, 0, 0, 0, 0, 'Skincare', 0]), ('P455613', [0, 0, 0, 0, 0, 'Skincare', 0]), ('P503197', [0, 0, 0, 0, 0, 'Skincare', 0]), ('P477492', [0, 0, 1, 0, 0, 'Skincare', 0]), ('P455614', [0, 0, 1, 0, 0, 'Skincare', 0]), ('P455612', [0, 0, 1, 0, 0, 'Skincare', 0]), ('P483643', [0, 0, 1, 0, 0, 'Skincare', 0]), ('P505338', [0, 1, 0, 0, 0, 'Skincare', 0]), ('P481058', [0, 0, 0, 0, 1, 'Skincare', 0]), ('P503262', [1, 0, 0, 1, 1, 'Skincare', 0]), ('P449150', [0, 0, 0, 0, 0, 'Skincare', 0]), ('P470506', [0, 0, 0, 0, 0, 'Skincare', 0]), ('P470509', [0, 0, 0, 0, 0, 'Skincare', 2]), ('P470507', [0, 0, 0, 0, 0, 'Skincare', 2]), ('P500420', [0, 0, 0, 0, 0, 'Skincare', 0]), ('P482510', [0, 0, 0, 0, 0, 'Skincare', 1]), ('P475907', [0, 0, 0, 0, 0, 'Skincare', 1]), ('P475906', [0, 0, 0, 0, 0, 'Skincare', 1]), ('P503926', [0, 0, 0, 0, 0, 'Skincare', 0]), ('P470510', [0, 0, 0, 0, 0, 'Skincare', 0]), ('P470508', [0, 0, 0, 0, 0, 'Skincare', 0]), ('P482661', [0, 0, 0, 0, 0, 'Skincare', 0]), ('P502235', [1, 0, 0, 0, 1, 'Skincare', 0]), ('P504018', [0, 1, 0, 0, 1, 'Skincare', 0]), ('P460779', [0, 0, 0, 0, 0, 'Skincare', 0]), ('P438637', [0, 0, 1, 0, 0, 'Skincare', 0]), ('P455623', [0, 0, 0, 0, 0, 'Skincare', 0]), ('P472448', [0, 0, 1, 0, 0, 'Skincare', 0]), ('P477961', [0, 0, 0, 0, 1, 'Skincare', 0]), ('P438643', [0, 0, 0, 0, 0, 'Skincare', 0]), ('P438628', [0, 0, 0, 0, 0, 'Skincare', 0]), ('P438635', [0, 0, 1, 0, 0, 'Skincare', 0]), ('P481060', [0, 0, 0, 0, 0, 'Skincare', 0]), ('P438648', [0, 0, 0, 0, 0, 'Skincare', 0]), ('P503562', [0, 0, 1, 0, 0, 'Skincare', 0]), ('P505145', [0, 1, 0, 0, 0, 'Skincare', 0]), ('P467106', [0, 0, 0, 0, 0, 'Skincare', 0]), ('P438642', [0, 0, 1, 0, 0, 'Skincare', 0]), ('P443810', [0, 0, 0, 0, 0, 'Skincare', 0]), ('P438632', [0, 0, 1, 0, 0, 'Skincare', 0]), ('P463792', [0, 0, 0, 0, 0, 'Skincare', 0]), ('P443812', [0, 0, 1, 0, 0, 'Skincare', 0]), ('P463791', [0, 0, 0, 0, 0, 'Skincare', 0]), ('P438629', [0, 0, 1, 0, 0, 'Skincare', 0]), ('P438640', [0, 0, 0, 0, 0, 'Skincare', 0]), ('P467107', [0, 0, 1, 0, 0, 'Skincare', 0]), ('P438634', [0, 0, 1, 0, 0, 'Skincare', 0]), ('P438638', [0, 0, 1, 0, 0, 'Skincare', 0]), ('P503552', [0, 0, 1, 0, 0, 'Skincare', 0]), ('P438630', [0, 0, 1, 0, 0, 'Skincare', 0]), ('P502237', [1, 0, 0, 0, 0, 'Skincare', 0]), ('P483141', [0, 0, 0, 0, 0, 'Skincare', 0]), ('P483089', [0, 0, 0, 0, 0, 'Skincare', 0]), ('P394639', [0, 0, 0, 0, 0, 'Skincare', 2]), ('P394624', [0, 0, 0, 0, 0, 'Skincare', 2]), ('P422905', [0, 0, 0, 0, 0, 'Skincare', 0]), ('P475908', [0, 0, 0, 0, 1, 'Skincare', 0]), ('P462336', [0, 0, 0, 0, 0, 'Skincare', 0]), ('P471535', [0, 0, 0, 0, 1, 'Skincare', 0]), ('P449175', [0, 0, 0, 0, 0, 'Skincare', 0]), ('P433443', [0, 0, 0, 1, 0, 'Skincare', 0]), ('P444057', [0, 0, 0, 0, 0, 'Skincare', 0]), ('P500019', [0, 0, 0, 0, 0, 'Skincare', 0]), ('P435801', [0, 0, 0, 0, 0, 'Skincare', 0]), ('P504888', [1, 1, 0, 0, 0, 'Skincare', 0]), ('P505031', [0, 1, 0, 0, 0, 'Skincare', 0]), ('P505023', [0, 1, 0, 0, 0, 'Skincare', 1]), ('P505009', [0, 1, 0, 0, 0, 'Skincare', 1]), ('P505024', [0, 1, 0, 0, 0, 'Skincare', 1]), ('P505020', [0, 1, 0, 0, 0, 'Skincare', 1]), ('P433887', [0, 0, 0, 0, 1, 'Skincare', 2]), ('P416563', [0, 0, 0, 0, 1, 'Skincare', 1]), ('P447210', [0, 0, 0, 0, 1, 'Skincare', 0]), ('P453224', [0, 0, 0, 0, 1, 'Skincare', 0]), ('P416561', [0, 0, 0, 0, 1, 'Skincare', 0]), ('P416562', [0, 0, 0, 0, 1, 'Skincare', 0]), ('P456410', [0, 0, 0, 0, 1, 'Skincare', 1]), ('P416560', [0, 0, 0, 0, 1, 'Skincare', 0]), ('P467110', [0, 0, 0, 0, 1, 'Skincare', 0]), ('P471003', [0, 0, 0, 0, 1, 'Skincare', 0]), ('P474304', [0, 0, 0, 0, 0, 'Skincare', 0]), ('P479304', [0, 0, 0, 0, 1, 'Skincare', 0]), ('P416564', [0, 0, 0, 0, 1, 'Skincare', 0]), ('P503642', [0, 0, 0, 0, 1, 'Skincare', 0]), ('P469439', [0, 0, 0, 0, 1, 'Skincare', 0]), ('P462829', [0, 0, 0, 1, 1, 'Skincare', 0]), ('P501213', [0, 0, 0, 0, 1, 'Skincare', 0]), ('P480278', [0, 0, 0, 0, 1, 'Skincare', 0]), ('P429659', [0, 0, 0, 0, 1, 'Skincare', 0]), ('P484033', [0, 0, 0, 0, 0, 'Skincare', 0]), ('P480280', [0, 0, 0, 0, 1, 'Skincare', 0]), ('P480279', [1, 0, 0, 0, 1, 'Skincare', 0]), ('P503892', [1, 1, 0, 0, 1, 'Skincare', 0]), ('P270594', [0, 0, 0, 0, 0, 'Skincare', 2]), ('P270544', [0, 0, 0, 0, 0, 'Skincare', 0]), ('P462339', [0, 0, 0, 0, 0, 'Skincare', 0]), ('P270543', [0, 0, 0, 0, 0, 'Skincare', 0]), ('P392648', [0, 0, 0, 0, 0, 'Skincare', 0]), ('P446518', [0, 0, 1, 0, 0, 'Skincare', 0]), ('P468634', [0, 0, 0, 0, 0, 'Skincare', 0]), ('P455332', [0, 0, 0, 0, 0, 'Skincare', 0]), ('P270600', [0, 0, 0, 0, 0, 'Skincare', 0]), ('P504452', [1, 0, 0, 0, 0, 'Skincare', 0]), ('P395507', [0, 0, 1, 0, 0, 'Skincare', 0]), ('P504288', [0, 0, 1, 0, 1, 'Skincare', 0]), ('P481408', [0, 0, 1, 0, 1, 'Skincare', 5]), ('P481817', [0, 0, 0, 0, 0, 'Skincare', 1]), ('P94421', [0, 0, 0, 0, 0, 'Skincare', 0]), ('P472454', [0, 0, 0, 0, 0, 'Skincare', 0]), ('P12045', [0, 0, 0, 0, 0, 'Skincare', 1]), ('P474938', [0, 0, 0, 0, 0, 'Skincare', 0]), ('P395615', [0, 0, 0, 0, 0, 'Skincare', 1]), ('P474937', [0, 0, 0, 0, 0, 'Skincare', 0]), ('P471226', [0, 0, 0, 0, 0, 'Skincare', 0]), ('P381020', [0, 0, 0, 0, 0, 'Skincare', 0]), ('P420224', [0, 0, 0, 0, 0, 'Skincare', 0]), ('P472453', [0, 0, 0, 0, 0, 'Skincare', 0]), ('P474939', [0, 0, 0, 0, 0, 'Skincare', 0]), ('P468637', [0, 0, 0, 0, 0, 'Skincare', 0]), ('P480285', [0, 0, 0, 0, 0, 'Skincare', 0]), ('P466114', [0, 0, 0, 0, 0, 'Skincare', 0]), ('P467750', [0, 0, 0, 0, 0, 'Skincare', 0]), ('P480160', [0, 0, 0, 0, 0, 'Skincare', 1]), ('P471227', [0, 0, 0, 0, 0, 'Skincare', 0]), ('P6028', [0, 0, 0, 1, 0, 'Skincare', 0]), ('P480284', [0, 0, 0, 0, 0, 'Skincare', 0]), ('P471009', [0, 0, 0, 0, 0, 'Skincare', 0]), ('P472455', [0, 0, 0, 0, 0, 'Skincare', 0]), ('P471541', [0, 0, 0, 0, 0, 'Skincare', 0]), ('P468813', [0, 0, 0, 0, 0, 'Skincare', 0]), ('P469444', [0, 0, 0, 0, 0, 'Skincare', 0]), ('P467748', [0, 0, 0, 0, 0, 'Skincare', 0]), ('P503657', [0, 1, 0, 0, 0, 'Skincare', 1]), ('P467749', [0, 0, 0, 0, 0, 'Skincare', 0]), ('P472451', [0, 0, 0, 0, 0, 'Skincare', 0]), ('P470007', [0, 0, 0, 0, 0, 'Skincare', 0]), ('P478239', [0, 0, 0, 0, 0, 'Skincare', 0]), ('P474936', [0, 0, 0, 0, 0, 'Skincare', 0]), ('P500016', [0, 0, 0, 0, 0, 'Skincare', 0]), ('P503655', [0, 0, 0, 0, 0, 'Skincare', 0]), ('P504881', [1, 1, 0, 0, 0, 'Skincare', 0]), ('P504848', [1, 1, 0, 0, 0, 'Skincare', 0]), ('P504850', [1, 1, 0, 0, 0, 'Skincare', 0]), ('P481366', [0, 1, 0, 0, 1, 'Skincare', 0]), ('P481367', [0, 0, 0, 0, 1, 'Skincare', 2]), ('P501587', [0, 0, 0, 0, 1, 'Skincare', 0]), ('P500399', [0, 0, 0, 0, 1, 'Skincare', 0]), ('P500287', [0, 0, 0, 0, 1, 'Skincare', 0]), ('P433520', [0, 0, 0, 0, 0, 'Skincare', 5]), ('P458755', [0, 0, 0, 0, 0, 'Skincare', 1]), ('P433521', [0, 0, 0, 0, 0, 'Skincare', 1]), ('P476843', [0, 0, 0, 0, 0, 'Skincare', 0]), ('P435975', [0, 0, 0, 0, 0, 'Skincare', 0]), ('P433519', [0, 0, 0, 0, 0, 'Skincare', 3]), ('P500753', [0, 0, 0, 0, 0, 'Skincare', 1]), ('P433522', [0, 0, 0, 0, 0, 'Skincare', 0]), ('P446612', [0, 0, 0, 1, 0, 'Skincare', 0]), ('P459835', [0, 0, 0, 0, 0, 'Skincare', 0]), ('P433524', [0, 0, 0, 0, 0, 'Skincare', 0]), ('P476842', [0, 0, 1, 0, 0, 'Skincare', 0]), ('P440505', [0, 0, 0, 0, 0, 'Skincare', 0]), ('P500248', [0, 0, 0, 0, 0, 'Skincare', 1]), ('P451728', [0, 0, 0, 0, 0, 'Skincare', 0]), ('P451727', [0, 0, 0, 0, 0, 'Skincare', 0]), ('P500238', [0, 0, 0, 0, 0, 'Skincare', 0]), ('P477812', [0, 0, 1, 0, 0, 'Skincare', 1]), ('P421235', [0, 0, 0, 0, 0, 'Skincare', 2]), ('P475921', [0, 0, 0, 0, 0, 'Skincare', 0]), ('P94812', [0, 0, 0, 0, 0, 'Skincare', 0]), ('P462666', [0, 0, 0, 0, 0, 'Skincare', 0]), ('P475084', [0, 0, 0, 0, 0, 'Skincare', 0]), ('P456194', [0, 0, 0, 0, 0, 'Skincare', 0]), ('P408230', [0, 0, 0, 0, 0, 'Skincare', 0]), ('P379064', [0, 0, 0, 0, 0, 'Skincare', 0]), ('P392004', [0, 0, 0, 0, 0, 'Skincare', 0]), ('P406941', [0, 0, 0, 0, 0, 'Skincare', 0]), ('P406942', [0, 0, 0, 0, 0, 'Skincare', 0]), ('P483060', [0, 1, 0, 0, 0, 'Skincare', 7]), ('P392522', [0, 0, 1, 0, 0, 'Skincare', 0]), ('P430338', [0, 0, 0, 0, 0, 'Skincare', 0]), ('P469449', [0, 0, 0, 0, 0, 'Skincare', 0]), ('P405589', [0, 0, 0, 0, 0, 'Skincare', 0]), ('P469448', [0, 0, 1, 0, 0, 'Skincare', 0]), ('P410657', [0, 0, 0, 0, 0, 'Skincare', 0]), ('P446111', [0, 0, 0, 0, 0, 'Skincare', 0]), ('P467755', [0, 0, 0, 0, 0, 'Skincare', 0]), ('P429504', [0, 0, 0, 0, 0, 'Skincare', 0]), ('P467756', [0, 0, 0, 0, 0, 'Skincare', 0]), ('P409227', [0, 0, 0, 0, 0, 'Skincare', 0]), ('P479946', [0, 0, 1, 1, 0, 'Skincare', 0]), ('P467757', [0, 0, 0, 0, 0, 'Skincare', 0]), ('P479947', [0, 0, 1, 0, 0, 'Skincare', 0]), ('P475083', [1, 0, 0, 0, 1, 'Skincare', 0]), ('P126301', [0, 0, 0, 0, 0, 'Skincare', 2]), ('P453816', [0, 0, 0, 0, 0, 'Skincare', 0]), ('P122900', [0, 0, 0, 0, 0, 'Skincare', 3]), ('P139000', [0, 0, 0, 0, 0, 'Skincare', 3]), ('P381030', [0, 0, 0, 0, 0, 'Skincare', 3]), ('P479734', [0, 0, 0, 0, 0, 'Skincare', 0]), ('P500718', [0, 0, 0, 0, 0, 'Skincare', 1]), ('P468351', [0, 0, 0, 0, 0, 'Skincare', 4]), ('P473267', [0, 0, 0, 0, 0, 'Skincare', 2]), ('P122774', [0, 0, 0, 0, 0, 'Skincare', 1]), ('P174502', [0, 0, 0, 0, 0, 'Skincare', 1]), ('P122882', [0, 0, 0, 0, 0, 'Skincare', 2]), ('P122718', [0, 0, 0, 0, 0, 'Skincare', 0]), ('P385432', [0, 0, 0, 0, 0, 'Skincare', 1]), ('P188309', [0, 0, 0, 0, 0, 'Skincare', 1]), ('P188307', [0, 0, 0, 0, 0, 'Skincare', 0]), ('P403817', [0, 0, 0, 0, 0, 'Skincare', 0]), ('P122881', [0, 0, 0, 0, 0, 'Skincare', 2]), ('P257537', [0, 0, 0, 0, 0, 'Skincare', 0]), ('P122762', [0, 0, 0, 0, 0, 'Skincare', 0]), ('P122661', [0, 0, 0, 0, 0, 'Skincare', 0]), ('P432241', [0, 0, 0, 0, 0, 'Skincare', 1]), ('P188306', [0, 0, 0, 0, 0, 'Skincare', 0]), ('P201440', [0, 0, 0, 0, 0, 'Skincare', 0]), ('P432242', [0, 0, 0, 0, 0, 'Skincare', 0]), ('P384821', [0, 0, 0, 0, 0, 'Skincare', 0]), ('P196542', [0, 0, 0, 0, 0, 'Skincare', 0]), ('P377577', [0, 0, 0, 0, 0, 'Skincare', 0]), ('P196524', [0, 0, 0, 0, 0, 'Skincare', 0]), ('P282920', [0, 0, 0, 0, 0, 'Skincare', 0]), ('P374841', [0, 0, 0, 0, 0, 'Skincare', 0]), ('P415773', [0, 0, 0, 0, 0, 'Skincare', 0]), ('P201439', [0, 0, 0, 0, 0, 'Skincare', 0]), ('P122727', [0, 0, 0, 0, 0, 'Skincare', 0]), ('P244701', [0, 0, 0, 0, 0, 'Skincare', 0]), ('P439643', [0, 0, 0, 1, 0, 'Skincare', 0]), ('P122782', [0, 0, 0, 0, 0, 'Skincare', 0]), ('P385631', [0, 0, 0, 0, 0, 'Skincare', 0]), ('P503747', [0, 0, 0, 0, 0, 'Skincare', 1]), ('P417984', [0, 0, 0, 0, 0, 'Skincare', 0]), ('P232327', [0, 0, 0, 0, 0, 'Skincare', 0]), ('P122876', [0, 0, 0, 0, 0, 'Skincare', 1]), ('P122651', [0, 0, 0, 0, 0, 'Skincare', 1]), ('P432243', [0, 0, 0, 0, 0, 'Skincare', 0]), ('P385632', [0, 0, 0, 0, 0, 'Skincare', 0]), ('P122767', [0, 0, 0, 1, 0, 'Skincare', 0]), ('P398717', [0, 0, 0, 0, 0, 'Skincare', 0]), ('P416824', [0, 0, 0, 0, 0, 'Skincare', 0]), ('P377576', [0, 0, 0, 0, 0, 'Skincare', 0]), ('P443383', [0, 0, 0, 0, 0, 'Skincare', 0]), ('P302900', [0, 0, 0, 0, 0, 'Skincare', 0]), ('P392472', [0, 0, 0, 0, 0, 'Skincare', 0]), ('P407040', [0, 0, 0, 0, 0, 'Skincare', 0]), ('P393501', [0, 0, 0, 0, 0, 'Skincare', 0]), ('P463613', [0, 0, 0, 0, 0, 'Skincare', 2]), ('P374115', [0, 0, 0, 0, 0, 'Skincare', 0]), ('P455622', [0, 0, 0, 0, 0, 'Skincare', 3]), ('P474940', [0, 0, 0, 0, 0, 'Skincare', 0]), ('P456991', [0, 0, 0, 0, 0, 'Skincare', 0]), ('P410101', [0, 0, 0, 0, 0, 'Skincare', 0]), ('P407381', [0, 0, 1, 0, 0, 'Skincare', 0]), ('P468818', [0, 0, 0, 0, 0, 'Skincare', 0]), ('P448563', [0, 0, 0, 0, 0, 'Skincare', 0]), ('P409920', [0, 0, 0, 0, 0, 'Skincare', 0]), ('P309409', [0, 0, 0, 0, 0, 'Skincare', 0]), ('P417323', [0, 0, 1, 0, 0, 'Skincare', 0]), ('P405286', [0, 0, 0, 0, 0, 'Skincare', 0]), ('P439648', [0, 0, 0, 1, 0, 'Skincare', 0]), ('P469451', [0, 0, 0, 0, 0, 'Skincare', 0]), ('P471011', [0, 0, 1, 0, 1, 'Skincare', 0]), ('P456992', [0, 0, 0, 1, 0, 'Skincare', 0]), ('P500771', [0, 0, 1, 0, 0, 'Skincare', 0]), ('P448564', [0, 0, 0, 0, 0, 'Skincare', 0]), ('P376946', [0, 0, 0, 0, 0, 'Skincare', 0]), ('P390987', [0, 0, 0, 0, 0, 'Skincare', 0]), ('P448565', [0, 0, 0, 0, 0, 'Skincare', 0]), ('P474942', [0, 0, 0, 0, 1, 'Skincare', 0]), ('P467608', [0, 0, 0, 0, 0, 'Skincare', 0]), ('P469452', [0, 0, 0, 0, 0, 'Skincare', 0]), ('P405825', [0, 0, 0, 0, 0, 'Skincare', 0]), ('P439099', [0, 0, 0, 0, 0, 'Skincare', 0]), ('P405285', [0, 0, 1, 0, 0, 'Skincare', 0]), ('P439098', [0, 0, 0, 0, 0, 'Skincare', 0]), ('P481668', [0, 0, 0, 0, 0, 'Skincare', 0]), ('P481062', [1, 0, 0, 0, 0, 'Skincare', 0]), ('P406656', [0, 0, 0, 1, 0, 'Skincare', 0]), ('P474941', [0, 0, 1, 0, 0, 'Skincare', 0]), ('P500098', [0, 0, 1, 0, 1, 'Skincare', 0]), ('P500114', [0, 0, 1, 0, 1, 'Skincare', 0]), ('P500094', [0, 0, 1, 0, 1, 'Skincare', 0]), ('P500113', [0, 0, 1, 0, 1, 'Skincare', 0]), ('P500109', [0, 0, 1, 0, 1, 'Skincare', 0]), ('P500096', [0, 0, 1, 0, 1, 'Skincare', 0]), ('P500106', [0, 0, 1, 0, 1, 'Skincare', 0]), ('P500120', [0, 0, 1, 0, 1, 'Skincare', 0]), ('P500116', [0, 0, 0, 0, 1, 'Skincare', 0]), ('P429516', [0, 0, 0, 0, 1, 'Skincare', 0]), ('P396623', [0, 0, 0, 0, 0, 'Skincare', 0]), ('P468640', [0, 0, 1, 0, 0, 'Skincare', 0]), ('P418221', [0, 0, 0, 0, 0, 'Skincare', 0]), ('P455618', [0, 0, 1, 0, 0, 'Skincare', 0]), ('P395723', [0, 0, 1, 0, 0, 'Skincare', 0]), ('P455341', [0, 0, 1, 0, 0, 'Skincare', 0]), ('P452002', [0, 0, 1, 0, 0, 'Skincare', 0]), ('P441645', [0, 0, 0, 0, 1, 'Skincare', 0]), ('P442267', [0, 0, 1, 0, 0, 'Skincare', 0]), ('P429508', [0, 0, 0, 1, 0, 'Skincare', 0]), ('P483057', [0, 0, 0, 0, 0, 'Skincare', 0]), ('P482259', [0, 0, 1, 0, 0, 'Skincare', 0]), ('P483078', [0, 0, 0, 0, 1, 'Skincare', 0]), ('P482258', [0, 0, 1, 0, 0, 'Skincare', 0]), ('P482256', [0, 0, 1, 1, 0, 'Skincare', 0]), ('P500880', [0, 0, 1, 0, 0, 'Skincare', 0]), ('P504987', [0, 1, 1, 0, 0, 'Skincare', 0]), ('P472021', [0, 0, 1, 0, 1, 'Skincare', 0]), ('P472023', [0, 0, 1, 0, 1, 'Skincare', 0]), ('P472025', [0, 0, 1, 0, 1, 'Skincare', 0]), ('P482260', [0, 0, 1, 0, 1, 'Skincare', 0]), ('P504988', [0, 1, 1, 0, 1, 'Skincare', 0]), ('P472024', [0, 0, 1, 0, 1, 'Skincare', 0]), ('P472022', [0, 0, 1, 0, 1, 'Skincare', 0]), ('P481342', [1, 0, 1, 0, 1, 'Skincare', 0]), ('P469454', [0, 0, 0, 0, 0, 'Skincare', 0]), ('P448181', [0, 0, 0, 0, 0, 'Skincare', 2]), ('P429043', [0, 0, 0, 0, 0, 'Skincare', 1]), ('P473268', [0, 0, 1, 0, 0, 'Skincare', 0]), ('P430809', [0, 0, 0, 0, 0, 'Skincare', 1]), ('P443352', [0, 0, 0, 0, 0, 'Skincare', 0]), ('P423688', [0, 0, 0, 0, 0, 'Skincare', 2]), ('P423148', [0, 0, 0, 0, 0, 'Skincare', 2]), ('P443350', [0, 0, 0, 0, 0, 'Skincare', 0]), ('P453930', [0, 0, 0, 0, 0, 'Skincare', 0]), ('P423136', [0, 0, 0, 0, 0, 'Skincare', 2]), ('P443700', [0, 0, 0, 0, 0, 'Skincare', 0]), ('P443370', [0, 0, 0, 0, 0, 'Skincare', 0]), ('P500240', [0, 0, 0, 0, 0, 'Skincare', 1]), ('P445832', [0, 0, 0, 0, 0, 'Skincare', 0]), ('P443359', [0, 0, 0, 0, 0, 'Skincare', 1]), ('P423142', [0, 0, 0, 0, 0, 'Skincare', 1]), ('P460624', [0, 0, 0, 0, 0, 'Skincare', 0]), ('P423130', [0, 0, 0, 0, 0, 'Skincare', 1]), ('P456582', [0, 0, 0, 0, 0, 'Skincare', 0]), ('P481697', [0, 0, 0, 0, 0, 'Skincare', 0]), ('P474822', [0, 0, 0, 0, 0, 'Skincare', 0]), ('P472810', [0, 0, 0, 0, 0, 'Skincare', 0]), ('P503814', [0, 0, 0, 0, 0, 'Skincare', 0]), ('P445833', [0, 0, 0, 0, 0, 'Skincare', 0]), ('P462344', [0, 0, 1, 0, 0, 'Skincare', 0]), ('P423150', [0, 0, 0, 0, 0, 'Skincare', 1]), ('P443351', [0, 0, 0, 0, 0, 'Skincare', 0]), ('P467111', [0, 0, 0, 0, 0, 'Skincare', 0]), ('P423123', [0, 0, 0, 0, 0, 'Skincare', 0]), ('P469118', [0, 0, 1, 0, 0, 'Skincare', 0]), ('P479692', [0, 0, 0, 0, 0, 'Skincare', 0]), ('P475086', [0, 0, 0, 0, 0, 'Skincare', 0]), ('P502326', [0, 0, 0, 0, 0, 'Skincare', 1]), ('P423135', [0, 0, 0, 0, 0, 'Skincare', 0]), ('P428240', [0, 0, 1, 0, 0, 'Skincare', 0]), ('P423134', [0, 0, 0, 0, 0, 'Skincare', 0]), ('P423127', [0, 0, 1, 0, 0, 'Skincare', 0]), ('P505139', [0, 1, 0, 0, 0, 'Skincare', 0]), ('P443369', [0, 0, 1, 0, 0, 'Skincare', 0]), ('P423125', [0, 0, 1, 0, 0, 'Skincare', 0]), ('P443358', [0, 0, 0, 0, 0, 'Skincare', 1]), ('P449177', [0, 0, 0, 0, 0, 'Skincare', 0]), ('P443366', [0, 0, 1, 0, 0, 'Skincare', 0]), ('P446638', [0, 0, 1, 0, 0, 'Skincare', 0]), ('P423143', [0, 0, 1, 0, 0, 'Skincare', 0]), ('P503820', [0, 0, 0, 0, 0, 'Skincare', 0]), ('P423690', [0, 0, 1, 0, 0, 'Skincare', 0]), ('P456569', [0, 0, 1, 0, 0, 'Skincare', 0]), ('P423145', [0, 0, 0, 0, 0, 'Skincare', 0]), ('P467112', [0, 0, 0, 0, 0, 'Skincare', 0]), ('P445822', [0, 0, 1, 0, 0, 'Skincare', 0]), ('P455915', [0, 0, 1, 0, 0, 'Skincare', 0]), ('P415619', [0, 0, 0, 0, 0, 'Skincare', 3]), ('P472028', [0, 0, 0, 0, 0, 'Skincare', 0]), ('P467945', [0, 0, 1, 0, 0, 'Skincare', 0]), ('P454806', [0, 0, 0, 0, 0, 'Skincare', 0]), ('P480162', [0, 0, 0, 0, 0, 'Skincare', 0]), ('P481972', [0, 0, 0, 0, 0, 'Skincare', 0]), ('P503999', [0, 1, 0, 0, 0, 'Skincare', 1]), ('P428255', [0, 0, 0, 0, 0, 'Skincare', 2]), ('P427729', [0, 0, 0, 0, 0, 'Skincare', 0]), ('P423264', [0, 0, 0, 0, 0, 'Skincare', 2]), ('P375354', [0, 0, 0, 0, 0, 'Skincare', 0]), ('P416728', [0, 0, 1, 0, 0, 'Skincare', 0]), ('P417604', [0, 0, 0, 0, 0, 'Skincare', 0]), ('P429676', [0, 0, 0, 0, 0, 'Skincare', 0]), ('P480600', [0, 0, 1, 0, 0, 'Skincare', 9]), ('P440923', [0, 0, 0, 0, 0, 'Skincare', 0]), ('P408542', [0, 0, 0, 0, 0, 'Skincare', 0]), ('P454807', [0, 0, 0, 0, 0, 'Skincare', 0]), ('P427731', [0, 0, 0, 0, 0, 'Skincare', 0]), ('P429675', [0, 0, 0, 0, 0, 'Skincare', 0]), ('P427732', [0, 0, 0, 0, 0, 'Skincare', 0]), ('P476432', [0, 0, 0, 0, 0, 'Skincare', 0]), ('P444987', [0, 0, 0, 0, 0, 'Skincare', 0]), ('P481970', [0, 0, 0, 0, 0, 'Skincare', 0]), ('P440922', [0, 0, 0, 0, 0, 'Skincare', 0]), ('P481971', [0, 0, 0, 0, 0, 'Skincare', 0]), ('P481077', [0, 0, 0, 0, 0, 'Skincare', 0]), ('P504053', [0, 1, 0, 0, 0, 'Skincare', 0]), ('P447212', [0, 0, 0, 0, 0, 'Skincare', 1]), ('P454936', [0, 0, 0, 0, 0, 'Skincare', 0]), ('P447782', [0, 0, 0, 0, 0, 'Skincare', 1]), ('P454935', [0, 0, 0, 0, 0, 'Skincare', 0]), ('P447781', [0, 0, 0, 0, 0, 'Skincare', 1]), ('P464233', [0, 0, 0, 1, 0, 'Skincare', 0]), ('P447785', [0, 0, 0, 0, 0, 'Skincare', 0]), ('P447783', [0, 0, 0, 0, 0, 'Skincare', 0]), ('P447789', [0, 0, 0, 0, 0, 'Skincare', 0]), ('P448554', [0, 0, 0, 0, 0, 'Skincare', 0]), ('P448711', [0, 0, 0, 0, 0, 'Skincare', 0]), ('P447790', [0, 0, 0, 0, 0, 'Skincare', 0]), ('P456997', [0, 0, 0, 0, 0, 'Skincare', 0]), ('P447787', [0, 0, 0, 0, 0, 'Skincare', 1]), ('P454937', [0, 0, 0, 0, 0, 'Skincare', 0]), ('P481973', [0, 0, 0, 0, 0, 'Skincare', 0]), ('P448715', [0, 0, 0, 0, 0, 'Skincare', 0]), ('P469200', [0, 0, 0, 0, 0, 'Skincare', 0]), ('P448553', [0, 0, 0, 0, 0, 'Skincare', 0]), ('P448558', [0, 0, 0, 0, 0, 'Skincare', 0]), ('P447788', [0, 0, 0, 1, 0, 'Skincare', 0]), ('P448557', [0, 0, 0, 0, 0, 'Skincare', 0]), ('P448542', [0, 0, 0, 0, 0, 'Skincare', 0]), ('P449601', [0, 0, 0, 0, 0, 'Skincare', 0]), ('P454375', [0, 0, 1, 0, 0, 'Skincare', 0]), ('P448548', [0, 0, 0, 0, 0, 'Skincare', 0]), ('P448545', [0, 0, 0, 0, 0, 'Skincare', 0]), ('P475926', [0, 0, 0, 0, 1, 'Skincare', 0]), ('P448546', [0, 0, 0, 0, 0, 'Skincare', 0]), ('P448549', [0, 0, 0, 0, 0, 'Skincare', 0]), ('P448544', [0, 0, 0, 0, 0, 'Skincare', 0]), ('P474036', [0, 0, 1, 0, 0, 'Skincare', 0]), ('P471017', [0, 0, 0, 0, 0, 'Skincare', 0]), ('P448713', [0, 0, 0, 0, 0, 'Skincare', 1]), ('P448551', [0, 0, 0, 0, 0, 'Skincare', 0]), ('P477150', [0, 0, 0, 0, 0, 'Skincare', 0]), ('P448550', [0, 0, 0, 0, 0, 'Skincare', 0]), ('P448547', [0, 0, 0, 0, 0, 'Skincare', 0]), ('P427397', [0, 0, 0, 0, 0, 'Skincare', 0]), ('P391802', [0, 0, 0, 0, 0, 'Skincare', 0]), ('P397310', [0, 0, 0, 0, 0, 'Skincare', 0]), ('P411254', [0, 0, 0, 0, 1, 'Skincare', 1]), ('P435209', [0, 0, 0, 0, 0, 'Skincare', 0]), ('P429662', [0, 0, 0, 0, 0, 'Skincare', 0]), ('P470217', [0, 0, 0, 0, 0, 'Skincare', 0]), ('P467614', [0, 0, 0, 0, 0, 'Skincare', 0]), ('P383053', [0, 0, 0, 0, 0, 'Skincare', 0]), ('P460758', [0, 0, 0, 0, 0, 'Skincare', 0]), ('P417625', [0, 0, 0, 0, 1, 'Skincare', 0]), ('P444225', [0, 0, 0, 0, 0, 'Skincare', 0]), ('P429661', [0, 0, 0, 0, 0, 'Skincare', 0]), ('P383052', [0, 0, 0, 0, 0, 'Skincare', 0]), ('P383051', [0, 0, 0, 0, 0, 'Skincare', 0]), ('P453822', [0, 0, 0, 0, 1, 'Skincare', 0]), ('P448710', [0, 0, 0, 0, 0, 'Skincare', 0]), ('P502640', [0, 0, 0, 0, 0, 'Skincare', 1]), ('P383054', [0, 0, 0, 0, 0, 'Skincare', 0]), ('P442001', [0, 0, 0, 0, 0, 'Skincare', 0]), ('P442263', [0, 0, 0, 0, 0, 'Skincare', 0]), ('P440302', [0, 0, 0, 0, 0, 'Skincare', 0]), ('P476570', [0, 0, 1, 0, 1, 'Skincare', 0]), ('P435790', [0, 0, 0, 1, 0, 'Skincare', 0]), ('P504411', [0, 1, 1, 0, 0, 'Skincare', 0]), ('P500151', [0, 0, 1, 0, 0, 'Skincare', 0]), ('P269122', [0, 0, 0, 0, 1, 'Skincare', 2]), ('P447592', [0, 0, 0, 1, 0, 'Skincare', 0]), ('P377533', [0, 0, 0, 0, 1, 'Skincare', 2]), ('P461439', [0, 0, 0, 0, 0, 'Skincare', 0]), ('P481340', [0, 0, 0, 0, 0, 'Skincare', 2]), ('P474825', [0, 0, 0, 0, 0, 'Skincare', 0]), ('P474826', [0, 0, 0, 0, 0, 'Skincare', 0]), ('P501190', [0, 0, 0, 0, 0, 'Skincare', 0]), ('P474824', [0, 0, 0, 0, 0, 'Skincare', 0]), ('P398761', [0, 0, 1, 0, 0, 'Skincare', 1]), ('P501169', [0, 0, 0, 0, 0, 'Skincare', 0]), ('P501157', [0, 0, 0, 0, 0, 'Skincare', 0]), ('P427393', [0, 0, 0, 0, 0, 'Skincare', 0]), ('P474823', [0, 0, 0, 0, 0, 'Skincare', 0]), ('P416755', [0, 0, 0, 0, 0, 'Skincare', 0]), ('P479313', [0, 0, 0, 0, 0, 'Skincare', 0]), ('P385773', [0, 0, 0, 0, 0, 'Skincare', 0]), ('P413613', [0, 0, 0, 1, 0, 'Skincare', 0]), ('P503927', [0, 1, 0, 0, 1, 'Skincare', 1]), ('P501166', [0, 0, 0, 0, 0, 'Skincare', 0]), ('P481341', [0, 0, 0, 0, 0, 'Skincare', 0]), ('P411360', [0, 0, 0, 1, 0, 'Skincare', 0]), ('P481975', [1, 0, 0, 0, 0, 'Skincare', 0]), ('P481339', [1, 0, 0, 0, 0, 'Skincare', 0]), ('P466878', [0, 0, 0, 0, 0, 'Skincare', 0]), ('P481376', [0, 0, 0, 0, 0, 'Skincare', 0]), ('P474943', [0, 0, 1, 0, 0, 'Skincare', 0]), ('P503912', [1, 0, 0, 0, 1, 'Skincare', 0]), ('P503906', [0, 1, 0, 0, 1, 'Skincare', 0]), ('P471545', [0, 0, 1, 0, 0, 'Skincare', 0]), ('P411540', [0, 0, 0, 0, 1, 'Skincare', 1]), ('P471546', [0, 0, 0, 0, 1, 'Skincare', 0]), ('P411539', [0, 0, 0, 0, 1, 'Skincare', 0]), ('P423259', [0, 0, 0, 0, 1, 'Skincare', 0]), ('P467615', [0, 0, 0, 1, 1, 'Skincare', 0]), ('P448185', [0, 0, 0, 0, 1, 'Skincare', 0]), ('P454019', [0, 0, 0, 0, 1, 'Skincare', 0]), ('P501005', [0, 0, 0, 0, 1, 'Skincare', 3]), ('P442857', [0, 0, 0, 0, 1, 'Skincare', 1]), ('P457008', [0, 0, 0, 0, 1, 'Skincare', 3]), ('P448184', [0, 0, 0, 1, 1, 'Skincare', 0]), ('P454086', [0, 0, 0, 0, 1, 'Skincare', 0]), ('P457521', [0, 0, 0, 0, 1, 'Skincare', 0]), ('P429250', [0, 0, 0, 0, 1, 'Skincare', 0]), ('P454085', [0, 0, 0, 0, 1, 'Skincare', 0]), ('P473828', [0, 0, 0, 0, 0, 'Skincare', 0]), ('P429529', [0, 0, 0, 0, 0, 'Skincare', 6]), ('P479632', [0, 0, 0, 0, 1, 'Skincare', 0]), ('P504007', [0, 1, 0, 0, 1, 'Skincare', 0]), ('P504042', [0, 1, 0, 0, 1, 'Skincare', 0]), ('P504001', [0, 1, 0, 0, 1, 'Skincare', 0]), ('P504064', [0, 1, 0, 0, 1, 'Skincare', 0]), ('P457522', [0, 0, 0, 0, 1, 'Skincare', 0]), ('P397624', [0, 0, 0, 0, 0, 'Skincare', 0]), ('P479633', [0, 0, 0, 0, 1, 'Skincare', 0]), ('P397623', [0, 0, 0, 0, 0, 'Skincare', 0]), ('P481700', [1, 0, 0, 0, 1, 'Skincare', 0]), ('P397622', [0, 0, 0, 0, 0, 'Skincare', 0]), ('P442854', [0, 0, 0, 0, 1, 'Skincare', 0]), ('P501031', [0, 0, 0, 0, 1, 'Skincare', 0]), ('P442853', [0, 0, 0, 0, 1, 'Skincare', 0]), ('P397625', [0, 0, 0, 0, 0, 'Skincare', 0]), ('P433884', [0, 0, 0, 1, 0, 'Skincare', 0]), ('P397626', [0, 0, 0, 0, 0, 'Skincare', 0]), ('P397627', [0, 0, 0, 0, 0, 'Skincare', 0]), ('P481699', [0, 0, 0, 0, 1, 'Skincare', 0]), ('P457011', [0, 0, 0, 0, 1, 'Skincare', 0]), ('P457012', [0, 0, 0, 0, 1, 'Skincare', 0]), ('P457010', [0, 0, 0, 0, 1, 'Skincare', 0]), ('P457009', [0, 0, 0, 0, 1, 'Skincare', 0]), ('P459127', [0, 0, 1, 0, 1, 'Skincare', 0]), ('P459130', [0, 0, 1, 0, 1, 'Skincare', 0]), ('P459128', [0, 0, 1, 0, 1, 'Skincare', 0]), ('P459129', [0, 0, 1, 0, 1, 'Skincare', 0]), ('P469121', [0, 0, 0, 0, 1, 'Skincare', 0]), ('P464238', [0, 0, 1, 0, 1, 'Skincare', 0]), ('P464243', [0, 0, 1, 0, 1, 'Skincare', 0]), ('P464239', [0, 0, 1, 0, 1, 'Skincare', 0]), ('P464245', [0, 0, 1, 0, 1, 'Skincare', 0]), ('P467617', [0, 0, 1, 0, 1, 'Skincare', 0]), ('P464241', [0, 0, 1, 0, 1, 'Skincare', 0]), ('P464234', [0, 0, 1, 0, 1, 'Skincare', 0]), ('P464235', [0, 0, 1, 0, 1, 'Skincare', 0]), ('P483128', [0, 0, 0, 0, 1, 'Skincare', 0]), ('P464242', [0, 0, 1, 0, 1, 'Skincare', 0]), ('P464244', [0, 0, 1, 0, 1, 'Skincare', 0]), ('P464240', [0, 0, 1, 0, 1, 'Skincare', 0]), ('P464237', [0, 0, 1, 0, 1, 'Skincare', 0]), ('P427421', [0, 0, 0, 0, 0, 'Skincare', 3]), ('P392246', [0, 0, 0, 0, 0, 'Skincare', 1]), ('P426836', [0, 0, 0, 0, 0, 'Skincare', 1]), ('P406712', [0, 0, 0, 0, 0, 'Skincare', 0]), ('P415777', [0, 0, 0, 0, 0, 'Skincare', 1]), ('P432668', [0, 0, 0, 1, 0, 'Skincare', 0]), ('P446938', [0, 0, 0, 0, 0, 'Skincare', 1]), ('P403818', [0, 0, 0, 0, 0, 'Skincare', 0]), ('P392245', [0, 0, 0, 0, 0, 'Skincare', 1]), ('P400259', [0, 0, 0, 0, 0, 'Skincare', 0]), ('P442566', [0, 0, 0, 0, 0, 'Skincare', 0]), ('P429515', [0, 0, 0, 0, 0, 'Skincare', 0]), ('P419222', [0, 0, 0, 0, 0, 'Skincare', 0]), ('P439926', [0, 0, 0, 0, 0, 'Skincare', 1]), ('P454120', [0, 0, 0, 0, 0, 'Skincare', 0]), ('P419223', [0, 0, 0, 0, 0, 'Skincare', 0]), ('P460515', [0, 0, 1, 0, 0, 'Skincare', 1]), ('P462347', [0, 0, 1, 0, 0, 'Skincare', 0]), ('P419221', [0, 0, 0, 0, 0, 'Skincare', 0]), ('P470024', [0, 0, 0, 0, 0, 'Skincare', 0]), ('P466117', [0, 0, 0, 0, 0, 'Skincare', 0]), ('P405584', [0, 0, 1, 0, 0, 'Skincare', 0]), ('P477985', [0, 0, 0, 0, 0, 'Skincare', 1]), ('P392248', [0, 0, 1, 0, 0, 'Skincare', 0]), ('P501028', [0, 0, 0, 1, 0, 'Skincare', 0]), ('P503693', [0, 0, 0, 0, 1, 'Skincare', 0]), ('P392249', [0, 0, 1, 0, 0, 'Skincare', 0]), ('P424378', [0, 0, 0, 0, 0, 'Skincare', 0]), ('P465752', [0, 0, 0, 0, 0, 'Skincare', 0]), ('P473304', [0, 0, 0, 0, 0, 'Skincare', 0]), ('P440658', [0, 0, 0, 0, 0, 'Skincare', 0]), ('P471761', [0, 0, 0, 1, 0, 'Skincare', 0]), ('P450947', [0, 0, 1, 0, 0, 'Skincare', 0]), ('P471547', [0, 0, 0, 0, 0, 'Skincare', 0]), ('P503294', [0, 0, 0, 0, 1, 'Skincare', 0]), ('P501591', [0, 0, 1, 1, 0, 'Skincare', 0]), ('P500983', [0, 0, 0, 1, 0, 'Skincare', 0]), ('P505120', [0, 1, 0, 0, 0, 'Skincare', 0]), ('P475932', [0, 0, 0, 0, 1, 'Skincare', 0]), ('P481701', [0, 0, 0, 0, 1, 'Skincare', 0]), ('P501421', [0, 0, 0, 1, 1, 'Skincare', 0]), ('P479839', [0, 0, 1, 0, 0, 'Skincare', 2]), ('P481084', [0, 0, 1, 0, 0, 'Skincare', 0]), ('P461159', [0, 0, 0, 0, 0, 'Skincare', 4]), ('P461160', [0, 0, 1, 0, 0, 'Skincare', 0]), ('P461933', [1, 0, 1, 0, 0, 'Skincare', 0]), ('P500701', [0, 0, 0, 0, 0, 'Skincare', 0]), ('P473820', [0, 0, 1, 0, 0, 'Skincare', 0]), ('P501176', [0, 0, 1, 0, 0, 'Skincare', 0]), ('P380000', [0, 0, 1, 0, 0, 'Skincare', 0]), ('P482529', [0, 0, 1, 0, 0, 'Skincare', 0]), ('P380027', [0, 0, 1, 0, 0, 'Skincare', 0]), ('P379995', [0, 0, 1, 0, 0, 'Skincare', 0]), ('P406529', [0, 0, 0, 0, 0, 'Skincare', 0]), ('P422648', [0, 0, 1, 0, 0, 'Skincare', 0]), ('P399934', [0, 0, 1, 0, 0, 'Skincare', 0]), ('P392892', [0, 0, 1, 1, 0, 'Skincare', 0]), ('P446908', [0, 0, 0, 0, 0, 'Skincare', 0]), ('P380030', [0, 0, 1, 0, 0, 'Skincare', 0]), ('P422649', [0, 0, 1, 0, 0, 'Skincare', 0]), ('P408273', [0, 0, 1, 0, 0, 'Skincare', 0]), ('P405032', [0, 0, 1, 0, 0, 'Skincare', 0]), ('P454939', [0, 0, 1, 0, 0, 'Skincare', 0]), ('P380001', [0, 0, 1, 0, 0, 'Skincare', 0]), ('P392891', [0, 0, 1, 1, 0, 'Skincare', 0]), ('P417359', [0, 0, 0, 0, 0, 'Skincare', 0]), ('P427513', [0, 0, 1, 0, 0, 'Skincare', 0]), ('P446102', [0, 0, 1, 0, 0, 'Skincare', 0]), ('P427640', [0, 0, 1, 0, 0, 'Skincare', 0]), ('P481081', [0, 0, 1, 0, 0, 'Skincare', 0]), ('P481082', [0, 0, 1, 0, 0, 'Skincare', 0]), ('P501153', [1, 0, 0, 0, 0, 'Skincare', 0]), ('P505174', [0, 1, 0, 0, 0, 'Skincare', 0]), ('P230538', [0, 0, 0, 0, 1, 'Skincare', 0]), ('P2043', [0, 0, 1, 0, 0, 'Skincare', 1]), ('P2046', [0, 0, 1, 0, 0, 'Skincare', 0]), ('P476683', [0, 0, 1, 0, 1, 'Skincare', 0]), ('P482675', [0, 0, 1, 0, 0, 'Skincare', 1]), ('P476679', [0, 0, 1, 0, 1, 'Skincare', 0]), ('P481086', [0, 0, 1, 0, 0, 'Skincare', 0]), ('P476678', [0, 0, 1, 0, 1, 'Skincare', 0]), ('P476674', [0, 0, 1, 0, 1, 'Skincare', 0]), ('P476675', [0, 0, 1, 0, 1, 'Skincare', 0]), ('P500705', [0, 0, 1, 0, 1, 'Skincare', 0]), ('P501017', [0, 0, 1, 0, 0, 'Skincare', 1]), ('P476676', [0, 0, 1, 0, 1, 'Skincare', 0]), ('P476680', [0, 0, 1, 0, 1, 'Skincare', 0]), ('P501004', [0, 0, 1, 0, 0, 'Skincare', 1]), ('P480300', [0, 0, 1, 0, 0, 'Skincare', 1]), ('P476681', [0, 0, 1, 1, 1, 'Skincare', 0]), ('P501024', [0, 0, 1, 0, 0, 'Skincare', 1]), ('P476677', [0, 0, 1, 0, 1, 'Skincare', 1]), ('P417238', [0, 0, 0, 0, 1, 'Skincare', 2]), ('P450271', [1, 0, 0, 0, 1, 'Skincare', 0]), ('P434548', [0, 0, 0, 0, 1, 'Skincare', 0]), ('P458209', [0, 0, 0, 0, 0, 'Skincare', 0]), ('P463036', [0, 0, 0, 0, 1, 'Skincare', 2]), ('P471025', [0, 0, 0, 0, 1, 'Skincare', 0]), ('P479318', [0, 0, 0, 0, 1, 'Skincare', 1]), ('P431187', [0, 0, 0, 0, 1, 'Skincare', 0]), ('P428416', [0, 0, 0, 0, 1, 'Skincare', 0]), ('P482676', [0, 0, 0, 0, 1, 'Skincare', 0]), ('P459141', [0, 0, 0, 0, 1, 'Skincare', 1]), ('P480301', [0, 0, 0, 0, 1, 'Skincare', 0]), ('P477157', [0, 0, 0, 0, 1, 'Skincare', 1]), ('P503879', [0, 0, 0, 0, 1, 'Skincare', 0]), ('P414293', [0, 0, 0, 0, 1, 'Skincare', 0]), ('P466661', [0, 0, 0, 0, 1, 'Skincare', 1]), ('P500288', [0, 0, 0, 0, 1, 'Skincare', 0]), ('P444226', [0, 0, 0, 0, 0, 'Skincare', 0]), ('P449188', [0, 0, 0, 0, 0, 'Skincare', 0]), ('P475540', [1, 0, 1, 0, 0, 'Skincare', 0]), ('P480165', [0, 0, 0, 0, 1, 'Skincare', 0]), ('P480444', [0, 0, 0, 0, 1, 'Skincare', 1]), ('P503997', [1, 0, 0, 0, 1, 'Skincare', 0]), ('P467249', [0, 0, 0, 0, 1, 'Skincare', 3]), ('P500307', [0, 0, 0, 0, 1, 'Skincare', 0]), ('P467248', [0, 0, 0, 0, 1, 'Skincare', 1]), ('P467247', [0, 0, 0, 0, 1, 'Skincare', 2]), ('P482264', [0, 0, 0, 1, 1, 'Skincare', 0]), ('P503692', [0, 0, 0, 1, 1, 'Skincare', 0]), ('P501581', [0, 0, 0, 0, 1, 'Skincare', 0]), ('P500894', [0, 0, 0, 0, 1, 'Skincare', 0]), ('P467251', [0, 0, 0, 1, 1, 'Skincare', 0]), ('P503250', [0, 0, 0, 0, 1, 'Skincare', 1]), ('P479319', [0, 0, 0, 0, 1, 'Skincare', 1]), ('P467250', [0, 0, 0, 0, 1, 'Skincare', 2]), ('P504240', [0, 1, 0, 0, 1, 'Skincare', 0]), ('P469087', [0, 0, 0, 0, 1, 'Skincare', 1]), ('P476485', [0, 0, 0, 0, 1, 'Skincare', 0]), ('P472311', [0, 0, 1, 0, 1, 'Skincare', 0]), ('P480166', [0, 0, 0, 0, 1, 'Skincare', 0]), ('P504880', [0, 1, 0, 0, 1, 'Skincare', 0]), ('P476496', [0, 0, 0, 0, 1, 'Skincare', 0]), ('P501886', [1, 0, 0, 1, 1, 'Skincare', 0]), ('P248407', [0, 0, 0, 0, 0, 'Skincare', 3]), ('P248404', [0, 0, 0, 0, 0, 'Skincare', 2]), ('P278317', [0, 0, 0, 0, 0, 'Skincare', 1]), ('P415237', [0, 0, 0, 0, 0, 'Skincare', 0]), ('P426707', [0, 0, 0, 0, 0, 'Skincare', 0]), ('P384539', [0, 0, 0, 0, 0, 'Skincare', 0]), ('P375534', [0, 0, 0, 0, 0, 'Skincare', 0]), ('P393076', [0, 0, 0, 0, 0, 'Skincare', 0]), ('P468821', [0, 0, 0, 0, 0, 'Skincare', 0]), ('P447603', [0, 0, 0, 0, 0, 'Skincare', 0]), ('P441220', [0, 0, 0, 0, 0, 'Skincare', 0]), ('P456994', [0, 0, 0, 0, 0, 'Skincare', 0]), ('P500756', [0, 0, 0, 0, 1, 'Skincare', 0]), ('P455894', [0, 0, 0, 0, 0, 'Skincare', 0]), ('P483658', [0, 0, 0, 0, 0, 'Skincare', 0]), ('P467115', [0, 0, 0, 0, 0, 'Skincare', 0]), ('P442713', [0, 0, 0, 0, 0, 'Skincare', 0]), ('P416825', [0, 0, 0, 0, 0, 'Skincare', 0]), ('P500746', [0, 0, 0, 0, 0, 'Skincare', 0]), ('P503809', [0, 1, 0, 0, 0, 'Skincare', 0]), ('P399656', [0, 0, 0, 1, 0, 'Skincare', 0]), ('P461161', [0, 0, 0, 0, 0, 'Skincare', 0]), ('P480603', [0, 0, 0, 0, 0, 'Skincare', 0]), ('P479840', [0, 0, 0, 0, 0, 'Skincare', 0]), ('P461162', [0, 0, 0, 0, 0, 'Skincare', 0]), ('P472031', [0, 0, 0, 1, 0, 'Skincare', 0]), ('P468354', [0, 1, 0, 0, 1, 'Skincare', 0]), ('P480604', [0, 0, 0, 0, 0, 'Skincare', 0]), ('P480445', [1, 0, 0, 0, 1, 'Skincare', 0]), ('P440981', [0, 0, 1, 0, 1, 'Skincare', 1]), ('P476860', [0, 0, 0, 0, 1, 'Skincare', 0]), ('P500998', [0, 0, 1, 0, 0, 'Skincare', 0]), ('P433453', [0, 0, 0, 0, 0, 'Skincare', 0]), ('P461935', [0, 0, 1, 0, 0, 'Skincare', 0]), ('P419633', [0, 0, 0, 0, 1, 'Skincare', 1]), ('P461936', [0, 0, 0, 0, 0, 'Skincare', 1]), ('P454821', [0, 0, 0, 0, 0, 'Skincare', 4]), ('P405827', [0, 0, 0, 0, 0, 'Skincare', 0]), ('P502848', [0, 0, 0, 0, 0, 'Skincare', 2]), ('P468652', [0, 0, 0, 0, 0, 'Skincare', 2]), ('P433466', [0, 0, 0, 0, 0, 'Skincare', 0]), ('P474830', [0, 0, 0, 0, 0, 'Skincare', 1]), ('P436346', [0, 0, 0, 0, 0, 'Skincare', 0]), ('P433465', [0, 0, 0, 0, 0, 'Skincare', 0]), ('P502818', [0, 0, 0, 0, 0, 'Skincare', 0]), ('P502827', [0, 0, 0, 0, 0, 'Skincare', 0]), ('P461937', [0, 0, 1, 0, 0, 'Skincare', 0]), ('P502831', [0, 0, 0, 0, 0, 'Skincare', 0]), ('P436343', [0, 0, 0, 1, 0, 'Skincare', 0]), ('P436347', [0, 0, 0, 0, 0, 'Skincare', 0]), ('P469862', [0, 0, 0, 0, 0, 'Skincare', 0]), ('P469818', [0, 0, 0, 0, 0, 'Skincare', 0]), ('P7880', [0, 0, 0, 0, 0, 'Skincare', 2]), ('P302103', [0, 0, 0, 0, 0, 'Skincare', 0]), ('P12336', [0, 0, 0, 0, 0, 'Skincare', 1]), ('P421243', [0, 0, 0, 0, 0, 'Skincare', 2]), ('P500633', [0, 0, 0, 0, 0, 'Skincare', 1]), ('P471237', [0, 0, 0, 0, 0, 'Skincare', 1]), ('P440312', [0, 0, 0, 0, 0, 'Skincare', 1]), ('P503936', [0, 0, 0, 0, 0, 'Skincare', 0]), ('P417936', [0, 0, 0, 0, 0, 'Skincare', 1]), ('P445827', [0, 0, 0, 0, 0, 'Skincare', 1]), ('P442858', [0, 0, 0, 0, 0, 'Skincare', 1]), ('P500777', [0, 0, 0, 0, 0, 'Skincare', 11]), ('P479841', [0, 0, 0, 0, 0, 'Skincare', 1]), ('P12295', [0, 0, 0, 0, 0, 'Skincare', 1]), ('P454378', [0, 0, 0, 0, 0, 'Skincare', 1]), ('P457005', [0, 0, 0, 0, 0, 'Skincare', 0]), ('P39970', [0, 0, 0, 0, 0, 'Skincare', 0]), ('P217513', [0, 0, 0, 0, 0, 'Skincare', 1]), ('P454396', [0, 0, 0, 0, 0, 'Skincare', 0]), ('P466122', [0, 0, 0, 0, 0, 'Skincare', 0]), ('P457517', [0, 0, 0, 0, 0, 'Skincare', 0]), ('P384778', [0, 0, 0, 0, 0, 'Skincare', 0]), ('P474832', [0, 0, 0, 0, 0, 'Skincare', 0]), ('P442003', [0, 0, 0, 0, 0, 'Skincare', 0]), ('P426080', [0, 0, 0, 0, 0, 'Skincare', 1]), ('P391799', [0, 0, 0, 0, 0, 'Skincare', 1]), ('P420158', [0, 0, 0, 0, 0, 'Skincare', 0]), ('P436353', [0, 0, 0, 0, 0, 'Skincare', 0]), ('P448192', [0, 0, 0, 0, 0, 'Skincare', 0]), ('P449158', [0, 0, 0, 0, 0, 'Skincare', 0]), ('P481703', [0, 0, 0, 0, 0, 'Skincare', 0]), ('P450211', [0, 0, 0, 0, 0, 'Skincare', 0]), ('P403748', [0, 0, 1, 0, 0, 'Skincare', 0]), ('P454395', [0, 0, 0, 0, 0, 'Skincare', 0]), ('P450210', [0, 0, 0, 0, 0, 'Skincare', 0]), ('P439626', [0, 0, 0, 0, 0, 'Skincare', 0]), ('P472466', [0, 0, 0, 0, 0, 'Skincare', 0]), ('P432256', [0, 0, 0, 0, 0, 'Skincare', 0]), ('P500012', [0, 0, 0, 0, 0, 'Skincare', 0]), ('P429538', [0, 0, 0, 0, 0, 'Skincare', 0]), ('P435387', [0, 0, 0, 0, 0, 'Skincare', 0]), ('P504272', [1, 1, 0, 0, 1, 'Skincare', 0]), ('P503226', [0, 0, 1, 0, 0, 'Skincare', 0]), ('P504273', [1, 1, 0, 0, 0, 'Skincare', 0]), ('P481704', [0, 0, 0, 0, 0, 'Skincare', 1]), ('P432255', [0, 0, 0, 0, 0, 'Skincare', 0]), ('P503915', [0, 1, 0, 0, 0, 'Skincare', 0]), ('P281835', [0, 0, 0, 0, 0, 'Skincare', 1]), ('P404465', [0, 0, 1, 0, 1, 'Skincare', 0]), ('P395389', [0, 0, 1, 0, 0, 'Skincare', 0]), ('P399755', [0, 0, 1, 0, 1, 'Skincare', 0]), ('P472467', [0, 0, 1, 0, 0, 'Skincare', 0]), ('P504523', [0, 1, 0, 0, 1, 'Skincare', 0]), ('P504524', [0, 1, 0, 0, 1, 'Skincare', 0]), ('P504794', [0, 1, 0, 0, 1, 'Skincare', 0]), ('P504786', [0, 1, 0, 0, 1, 'Skincare', 0]), ('P504773', [0, 1, 0, 0, 1, 'Skincare', 0]), ('P504774', [0, 1, 0, 0, 1, 'Skincare', 0]), ('P504795', [0, 1, 0, 0, 1, 'Skincare', 0]), ('P504919', [0, 1, 0, 0, 1, 'Skincare', 0]), ('P504784', [0, 1, 0, 0, 1, 'Skincare', 0]), ('P504778', [0, 1, 0, 0, 1, 'Skincare', 0]), ('P504780', [0, 1, 0, 0, 1, 'Skincare', 0]), ('P504810', [0, 1, 0, 0, 1, 'Skincare', 0]), ('P504815', [0, 1, 0, 0, 1, 'Skincare', 0]), ('P504790', [0, 1, 0, 0, 1, 'Skincare', 0]), ('P458219', [0, 0, 0, 0, 1, 'Skincare', 1]), ('P467762', [0, 0, 0, 0, 0, 'Skincare', 0]), ('P466123', [0, 0, 0, 0, 1, 'Skincare', 2]), ('P428819', [0, 0, 0, 0, 1, 'Skincare', 1]), ('P462699', [0, 0, 0, 0, 1, 'Skincare', 0]), ('P447791', [0, 0, 0, 0, 1, 'Skincare', 0]), ('P479327', [0, 0, 0, 0, 1, 'Skincare', 2]), ('P500472', [0, 0, 0, 0, 1, 'Skincare', 0]), ('P460516', [0, 0, 0, 0, 1, 'Skincare', 0]), ('P470529', [0, 0, 0, 0, 1, 'Skincare', 0]), ('P481989', [0, 0, 0, 0, 1, 'Skincare', 0]), ('P436359', [0, 0, 0, 0, 1, 'Skincare', 1]), ('P455236', [0, 0, 0, 0, 1, 'Skincare', 0]), ('P482535', [0, 0, 0, 0, 1, 'Skincare', 0]), ('P442744', [0, 0, 0, 0, 1, 'Skincare', 0]), ('P472468', [0, 0, 0, 0, 1, 'Skincare', 0]), ('P501760', [0, 0, 0, 0, 1, 'Skincare', 0]), ('P475543', [0, 0, 0, 0, 1, 'Skincare', 0]), ('P501254', [0, 0, 0, 0, 1, 'Skincare', 1]), ('P503634', [0, 1, 0, 0, 1, 'Skincare', 0]), ('P504125', [0, 1, 0, 0, 1, 'Skincare', 0]), ('P435386', [0, 0, 0, 0, 0, 'Skincare', 0]), ('P441323', [0, 0, 0, 0, 1, 'Skincare', 0]), ('P504171', [0, 0, 0, 0, 1, 'Skincare', 0]), ('P504325', [1, 1, 0, 0, 1, 'Skincare', 0]), ('P504849', [1, 1, 0, 0, 1, 'Skincare', 0]), ('P504636', [0, 1, 0, 0, 1, 'Skincare', 0]), ('P456213', [0, 0, 0, 0, 0, 'Skincare', 1]), ('P459299', [0, 0, 0, 0, 0, 'Skincare', 0]), ('P456208', [0, 0, 0, 0, 0, 'Skincare', 1]), ('P459301', [0, 0, 0, 0, 0, 'Skincare', 0]), ('P456211', [0, 0, 0, 0, 0, 'Skincare', 1]), ('P459300', [0, 0, 0, 0, 0, 'Skincare', 0]), ('P471029', [0, 0, 1, 0, 0, 'Skincare', 1]), ('P460578', [0, 0, 0, 0, 0, 'Skincare', 0]), ('P461165', [0, 0, 0, 0, 0, 'Skincare', 0]), ('P480606', [0, 0, 0, 0, 0, 'Skincare', 0]), ('P501243', [0, 0, 0, 0, 0, 'Skincare', 0]), ('P458964', [0, 0, 0, 0, 0, 'Skincare', 0]), ('P468143', [0, 0, 0, 0, 0, 'Skincare', 0]), ('P456210', [0, 0, 0, 0, 0, 'Skincare', 0]), ('P478274', [0, 0, 0, 0, 0, 'Skincare', 1]), ('P505408', [0, 1, 0, 1, 0, 'Skincare', 0]), ('P464250', [0, 0, 0, 0, 0, 'Skincare', 0]), ('P455010', [0, 0, 0, 1, 0, 'Skincare', 0]), ('P458961', [0, 0, 0, 1, 0, 'Skincare', 0]), ('P458962', [0, 0, 0, 0, 0, 'Skincare', 0]), ('P483058', [0, 0, 0, 0, 0, 'Skincare', 0]), ('P458963', [0, 0, 0, 0, 0, 'Skincare', 0]), ('P500471', [0, 0, 0, 0, 0, 'Skincare', 0]), ('P474953', [0, 0, 1, 0, 0, 'Skincare', 2]), ('P476513', [0, 0, 1, 0, 0, 'Skincare', 0]), ('P461451', [0, 0, 1, 0, 0, 'Skincare', 0]), ('P501236', [0, 0, 1, 0, 0, 'Skincare', 1]), ('P408678', [0, 0, 1, 0, 0, 'Skincare', 0]), ('P469806', [0, 0, 1, 1, 0, 'Skincare', 0]), ('P457272', [0, 0, 1, 0, 0, 'Skincare', 0]), ('P450934', [0, 0, 1, 0, 0, 'Skincare', 0]), ('P450935', [0, 0, 1, 0, 0, 'Skincare', 0]), ('P504985', [1, 1, 1, 0, 1, 'Skincare', 0]), ('P481993', [0, 0, 1, 0, 0, 'Skincare', 0]), ('P500112', [0, 0, 1, 0, 1, 'Skincare', 0]), ('P500778', [0, 0, 1, 0, 1, 'Skincare', 0]), ('P500117', [0, 0, 1, 0, 1, 'Skincare', 0]), ('P483453', [0, 0, 0, 0, 1, 'Skincare', 1]), ('P483455', [0, 0, 0, 0, 1, 'Skincare', 3]), ('P483457', [0, 0, 0, 0, 1, 'Skincare', 0]), ('P483458', [0, 0, 0, 0, 1, 'Skincare', 0]), ('P483460', [0, 0, 0, 0, 1, 'Skincare', 0]), ('P400207', [0, 0, 0, 0, 1, 'Skincare', 0]), ('P400203', [0, 0, 0, 0, 1, 'Skincare', 2]), ('P479904', [0, 0, 1, 0, 1, 'Skincare', 1]), ('P460747', [0, 0, 0, 0, 0, 'Skincare', 0]), ('P442564', [0, 0, 0, 0, 1, 'Skincare', 0]), ('P437981', [0, 0, 0, 0, 0, 'Skincare', 0]), ('P400204', [0, 0, 0, 0, 0, 'Skincare', 2]), ('P479903', [0, 0, 0, 0, 1, 'Skincare', 1]), ('P407444', [0, 0, 1, 0, 0, 'Skincare', 0]), ('P421600', [0, 0, 0, 0, 0, 'Skincare', 0]), ('P454100', [0, 0, 0, 0, 0, 'Skincare', 0]), ('P436891', [0, 0, 0, 0, 0, 'Skincare', 0]), ('P481096', [0, 0, 0, 0, 1, 'Skincare', 0]), ('P400205', [0, 0, 0, 0, 0, 'Skincare', 0]), ('P474326', [0, 0, 0, 0, 0, 'Skincare', 0]), ('P474325', [0, 0, 0, 0, 1, 'Skincare', 0]), ('P471033', [0, 0, 0, 0, 1, 'Skincare', 0]), ('P503923', [0, 1, 0, 0, 1, 'Skincare', 0]), ('P450583', [0, 0, 0, 0, 0, 'Skincare', 0]), ('P431840', [0, 0, 0, 0, 1, 'Skincare', 0]), ('P500988', [0, 0, 0, 0, 1, 'Skincare', 0]), ('P483661', [0, 0, 0, 0, 1, 'Skincare', 0]), ('P441045', [0, 0, 1, 0, 0, 'Skincare', 0]), ('P452004', [0, 0, 0, 0, 0, 'Skincare', 0]), ('P432662', [0, 0, 0, 0, 0, 'Skincare', 0]), ('P505316', [0, 1, 0, 0, 1, 'Skincare', 0]), ('P480607', [0, 0, 0, 0, 1, 'Skincare', 0]), ('P481334', [0, 0, 1, 0, 0, 'Skincare', 0]), ('P480174', [0, 0, 0, 0, 1, 'Skincare', 0]), ('P504637', [0, 1, 0, 0, 0, 'Skincare', 0]), ('P480608', [0, 0, 0, 0, 0, 'Skincare', 0]), ('P469831', [0, 0, 0, 0, 0, 'Skincare', 0]), ('P469832', [0, 0, 0, 0, 0, 'Skincare', 1]), ('P469833', [0, 0, 0, 0, 0, 'Skincare', 0]), ('P469830', [0, 0, 0, 0, 0, 'Skincare', 0]), ('P476686', [0, 0, 0, 0, 0, 'Skincare', 0]), ('P443349', [0, 0, 0, 0, 0, 'Skincare', 0]), ('P386754', [0, 0, 0, 0, 0, 'Skincare', 0]), ('P394826', [0, 0, 0, 0, 0, 'Skincare', 1]), ('P503052', [0, 0, 0, 0, 0, 'Skincare', 0]), ('P457510', [0, 0, 1, 0, 0, 'Skincare', 0]), ('P405826', [0, 0, 0, 0, 0, 'Skincare', 1]), ('P453713', [0, 0, 0, 0, 0, 'Skincare', 0]), ('P407387', [0, 0, 0, 0, 0, 'Skincare', 0]), ('P431847', [0, 0, 0, 0, 0, 'Skincare', 0]), ('P386755', [0, 0, 0, 0, 0, 'Skincare', 0]), ('P468149', [0, 0, 0, 0, 0, 'Skincare', 0]), ('P474839', [0, 0, 1, 0, 0, 'Skincare', 0]), ('P474838', [0, 0, 1, 0, 1, 'Skincare', 0]), ('P482005', [0, 0, 1, 0, 0, 'Skincare', 0]), ('P386759', [0, 0, 0, 0, 0, 'Skincare', 0]), ('P500111', [0, 0, 1, 0, 0, 'Skincare', 0]), ('P388982', [0, 0, 0, 1, 0, 'Skincare', 0]), ('P386760', [0, 0, 0, 0, 0, 'Skincare', 0]), ('P386764', [0, 0, 0, 0, 0, 'Skincare', 0]), ('P386757', [0, 0, 0, 0, 0, 'Skincare', 0]), ('P386762', [0, 0, 0, 0, 0, 'Skincare', 0]), ('P408271', [0, 0, 0, 0, 0, 'Skincare', 0]), ('P389097', [1, 0, 0, 0, 1, 'Skincare', 0]), ('P476428', [0, 0, 0, 0, 1, 'Skincare', 1]), ('P500614', [0, 0, 0, 0, 1, 'Skincare', 0]), ('P481710', [0, 0, 1, 0, 1, 'Skincare', 0]), ('P503216', [1, 0, 1, 0, 1, 'Skincare', 0]), ('P476515', [0, 0, 1, 0, 1, 'Skincare', 0]), ('P500445', [0, 0, 1, 0, 1, 'Skincare', 1]), ('P500412', [0, 0, 1, 0, 1, 'Skincare', 0]), ('P500245', [0, 0, 0, 0, 0, 'Skincare', 2]), ('P504071', [0, 0, 0, 0, 0, 'Skincare', 0]), ('P395417', [0, 0, 1, 1, 0, 'Skincare', 0]), ('P449102', [1, 0, 0, 0, 0, 'Skincare', 2]), ('P469478', [0, 0, 0, 0, 0, 'Skincare', 0]), ('P481712', [0, 0, 1, 1, 0, 'Skincare', 0]), ('P458958', [0, 0, 0, 0, 0, 'Skincare', 0]), ('P471037', [0, 0, 0, 0, 1, 'Skincare', 0]), ('P472469', [0, 0, 0, 0, 1, 'Skincare', 0]), ('P480447', [0, 0, 0, 0, 1, 'Skincare', 0]), ('P471039', [0, 0, 0, 0, 0, 'Skincare', 0]), ('P483127', [0, 0, 0, 0, 0, 'Skincare', 0]), ('P471038', [0, 0, 1, 0, 0, 'Skincare', 1]), ('P474329', [0, 0, 0, 0, 1, 'Skincare', 0]), ('P503865', [0, 1, 0, 1, 1, 'Skincare', 0]), ('P500687', [0, 0, 0, 0, 1, 'Skincare', 0]), ('P471041', [0, 0, 0, 0, 0, 'Skincare', 0]), ('P471042', [0, 0, 1, 0, 0, 'Skincare', 0]), ('P502322', [0, 0, 0, 1, 1, 'Skincare', 0]), ('P471040', [0, 0, 1, 0, 0, 'Skincare', 0]), ('P504892', [0, 1, 0, 0, 1, 'Skincare', 0]), ('P477413', [0, 0, 1, 0, 1, 'Skincare', 0]), ('P456392', [0, 0, 0, 0, 1, 'Skincare', 1]), ('P468658', [0, 0, 0, 0, 1, 'Skincare', 0]), ('P503891', [0, 0, 0, 0, 0, 'Skincare', 0]), ('P475951', [0, 0, 0, 0, 0, 'Skincare', 0]), ('P482006', [0, 0, 0, 0, 1, 'Skincare', 0]), ('P456395', [0, 0, 0, 0, 1, 'Skincare', 0]), ('P475112', [0, 0, 0, 0, 0, 'Skincare', 0]), ('P468672', [0, 0, 0, 0, 1, 'Skincare', 0]), ('P482007', [0, 0, 0, 0, 1, 'Skincare', 0]), ('P468671', [0, 0, 0, 0, 1, 'Skincare', 0]), ('P503928', [0, 0, 0, 0, 0, 'Skincare', 0]), ('P503901', [0, 0, 0, 0, 0, 'Skincare', 0]), ('P503890', [0, 0, 0, 0, 0, 'Skincare', 0]), ('P503942', [0, 0, 0, 0, 0, 'Skincare', 0]), ('P503930', [0, 0, 0, 0, 0, 'Skincare', 0]), ('P503935', [0, 0, 0, 0, 0, 'Skincare', 0]), ('P503894', [0, 0, 0, 0, 0, 'Skincare', 0]), ('P504840', [0, 0, 1, 0, 0, 'Skincare', 0]), ('P431180', [0, 0, 0, 0, 1, 'Skincare', 5]), ('P431181', [0, 0, 0, 0, 1, 'Skincare', 5]), ('P469482', [0, 0, 0, 0, 1, 'Skincare', 0]), ('P443829', [0, 0, 0, 0, 0, 'Skincare', 2]), ('P482008', [0, 0, 0, 0, 1, 'Skincare', 2]), ('P456988', [0, 0, 0, 0, 1, 'Skincare', 0]), ('P444614', [0, 0, 1, 1, 1, 'Skincare', 0]), ('P476540', [0, 0, 1, 0, 1, 'Skincare', 0]), ('P474957', [0, 0, 1, 0, 1, 'Skincare', 0]), ('P474956', [0, 0, 1, 0, 1, 'Skincare', 0]), ('P459140', [0, 0, 0, 1, 1, 'Skincare', 2]), ('P470533', [0, 0, 1, 0, 1, 'Skincare', 0]), ('P433155', [0, 0, 0, 0, 1, 'Skincare', 0]), ('P444990', [0, 0, 1, 0, 1, 'Skincare', 0]), ('P431419', [0, 0, 0, 0, 1, 'Skincare', 0]), ('P431418', [0, 0, 0, 0, 1, 'Skincare', 0]), ('P411403', [0, 0, 0, 0, 0, 'Skincare', 2]), ('P433435', [0, 0, 0, 0, 1, 'Skincare', 13]), ('P411401', [0, 0, 0, 0, 1, 'Skincare', 0]), ('P411393', [0, 0, 0, 0, 0, 'Skincare', 2]), ('P502656', [0, 0, 0, 0, 1, 'Skincare', 0]), ('P439057', [0, 0, 0, 0, 0, 'Skincare', 0]), ('P426829', [0, 0, 0, 0, 0, 'Skincare', 1]), ('P454837', [0, 0, 0, 0, 1, 'Skincare', 1]), ('P482681', [0, 0, 1, 0, 0, 'Skincare', 0]), ('P474332', [0, 0, 0, 0, 0, 'Skincare', 0]), ('P474330', [0, 0, 0, 0, 0, 'Skincare', 0]), ('P474333', [0, 0, 0, 0, 0, 'Skincare', 0]), ('P448934', [0, 0, 0, 0, 1, 'Skincare', 0]), ('P468369', [0, 0, 0, 0, 0, 'Skincare', 0]), ('P455610', [0, 0, 1, 0, 0, 'Skincare', 0]), ('P427641', [0, 0, 0, 0, 0, 'Skincare', 0]), ('P430143', [0, 0, 0, 0, 0, 'Skincare', 0]), ('P480610', [0, 0, 1, 0, 0, 'Skincare', 0]), ('P12573', [0, 0, 0, 0, 0, 'Skincare', 4]), ('P474057', [0, 0, 1, 0, 0, 'Skincare', 0]), ('P458573', [0, 0, 1, 0, 0, 'Skincare', 0]), ('P428414', [0, 0, 1, 0, 0, 'Skincare', 0]), ('P472471', [0, 0, 1, 0, 0, 'Skincare', 0]), ('P432240', [0, 0, 0, 0, 0, 'Skincare', 0]), ('P476571', [0, 0, 1, 0, 0, 'Skincare', 0]), ('P449156', [0, 0, 1, 0, 0, 'Skincare', 0]), ('P467126', [0, 0, 0, 0, 0, 'Skincare', 0]), ('P467124', [0, 0, 0, 0, 0, 'Skincare', 0]), ('P467123', [0, 0, 0, 0, 0, 'Skincare', 0]), ('P467122', [0, 0, 0, 0, 0, 'Skincare', 0]), ('P467120', [0, 0, 0, 0, 0, 'Skincare', 0]), ('P467118', [0, 0, 0, 0, 0, 'Skincare', 1]), ('P500002', [0, 0, 0, 0, 1, 'Skincare', 0]), ('P500318', [0, 0, 0, 0, 1, 'Skincare', 0]), ('P218700', [0, 0, 0, 0, 0, 'Skincare', 2]), ('P283501', [0, 0, 0, 0, 0, 'Skincare', 0]), ('P404338', [0, 0, 0, 0, 0, 'Skincare', 0]), ('P377570', [0, 0, 0, 0, 0, 'Skincare', 0]), ('P384780', [0, 0, 0, 0, 0, 'Skincare', 0]), ('P454084', [0, 0, 0, 0, 0, 'Skincare', 0]), ('P458900', [0, 0, 0, 0, 0, 'Skincare', 0]), ('P471043', [0, 0, 0, 0, 1, 'Skincare', 0]), ('P446641', [0, 0, 0, 0, 0, 'Skincare', 0]), ('P394124', [0, 0, 0, 0, 0, 'Skincare', 0]), ('P504044', [0, 0, 1, 0, 0, 'Skincare', 0]), ('P482269', [0, 0, 0, 0, 0, 'Skincare', 1]), ('P503123', [1, 0, 0, 0, 1, 'Skincare', 0]), ('P504277', [0, 1, 1, 0, 0, 'Skincare', 1]), ('P232903', [0, 0, 0, 0, 0, 'Skincare', 0]), ('P232915', [0, 0, 0, 0, 0, 'Skincare', 3]), ('P421276', [0, 0, 0, 0, 0, 'Skincare', 0]), ('P404322', [0, 0, 0, 0, 0, 'Skincare', 2]), ('P232906', [0, 0, 0, 0, 0, 'Skincare', 0]), ('P415667', [0, 0, 0, 0, 0, 'Skincare', 0]), ('P232910', [0, 0, 0, 0, 0, 'Skincare', 0]), ('P232907', [0, 0, 0, 0, 0, 'Skincare', 0]), ('P306941', [0, 0, 0, 0, 0, 'Skincare', 0]), ('P377368', [0, 0, 0, 0, 0, 'Skincare', 0]), ('P442867', [0, 0, 0, 0, 1, 'Skincare', 0]), ('P415202', [0, 0, 0, 0, 0, 'Skincare', 0]), ('P457695', [0, 0, 0, 0, 0, 'Skincare', 0]), ('P439927', [0, 0, 0, 0, 0, 'Skincare', 1]), ('P232902', [0, 0, 0, 0, 0, 'Skincare', 0]), ('P448932', [0, 0, 0, 0, 0, 'Skincare', 0]), ('P440305', [0, 0, 0, 0, 0, 'Skincare', 0]), ('P457697', [0, 0, 0, 0, 0, 'Skincare', 0]), ('P457696', [0, 0, 0, 0, 0, 'Skincare', 0]), ('P411881', [0, 0, 0, 0, 0, 'Skincare', 0]), ('P470535', [0, 0, 0, 0, 0, 'Skincare', 0]), ('P436365', [0, 0, 0, 0, 0, 'Skincare', 0]), ('P412117', [0, 0, 0, 0, 0, 'Skincare', 0]), ('P433468', [0, 0, 0, 0, 0, 'Skincare', 0]), ('P469111', [0, 0, 0, 0, 0, 'Skincare', 0]), ('P471045', [0, 0, 0, 0, 0, 'Skincare', 0]), ('P469112', [0, 0, 0, 0, 0, 'Skincare', 0]), ('P421271', [0, 0, 0, 0, 0, 'Skincare', 0]), ('P502200', [0, 0, 0, 0, 0, 'Skincare', 0]), ('P479701', [0, 0, 0, 0, 0, 'Skincare', 0]), ('P382356', [0, 0, 0, 0, 0, 'Skincare', 0]), ('P502197', [0, 0, 0, 0, 0, 'Skincare', 0]), ('P469110', [0, 0, 0, 0, 0, 'Skincare', 0]), ('P479703', [0, 0, 0, 0, 0, 'Skincare', 0]), ('P467028', [0, 0, 0, 0, 0, 'Skincare', 0]), ('P404232', [0, 0, 0, 0, 0, 'Skincare', 0]), ('P232920', [0, 0, 0, 0, 0, 'Skincare', 0]), ('P383308', [0, 0, 0, 0, 0, 'Skincare', 0]), ('P460511', [0, 0, 0, 0, 0, 'Skincare', 0]), ('P500124', [0, 0, 0, 0, 0, 'Skincare', 0]), ('P502195', [0, 0, 0, 0, 0, 'Skincare', 0]), ('P421996', [0, 1, 0, 0, 0, 'Skincare', 3]), ('P422510', [0, 1, 0, 0, 0, 'Skincare', 0]), ('P422000', [0, 0, 0, 0, 0, 'Skincare', 1]), ('P421998', [0, 0, 0, 0, 0, 'Skincare', 3]), ('P445951', [0, 0, 0, 0, 0, 'Skincare', 0]), ('P454838', [0, 0, 0, 0, 0, 'Skincare', 0]), ('P422022', [0, 0, 0, 0, 0, 'Skincare', 4]), ('P455611', [1, 0, 1, 1, 1, 'Skincare', 0]), ('P422007', [1, 0, 0, 0, 1, 'Skincare', 1]), ('P501029', [0, 0, 0, 0, 0, 'Skincare', 0]), ('P474840', [0, 0, 0, 0, 0, 'Skincare', 1]), ('P457864', [0, 0, 0, 1, 0, 'Skincare', 0]), ('P480177', [0, 0, 0, 0, 0, 'Skincare', 0]), ('P422002', [0, 0, 0, 0, 0, 'Skincare', 1]), ('P474060', [0, 0, 0, 0, 0, 'Skincare', 0]), ('P472472', [0, 0, 0, 0, 1, 'Skincare', 0]), ('P479329', [0, 0, 0, 0, 0, 'Skincare', 0]), ('P427529', [0, 0, 0, 0, 0, 'Skincare', 2]), ('P446422', [0, 0, 0, 0, 0, 'Skincare', 0]), ('P503913', [0, 1, 0, 0, 0, 'Skincare', 0]), ('P422013', [0, 0, 0, 0, 0, 'Skincare', 2]), ('P470221', [0, 0, 0, 0, 1, 'Skincare', 0]), ('P483664', [0, 0, 0, 0, 0, 'Skincare', 0]), ('P422257', [0, 0, 0, 0, 0, 'Skincare', 0]), ('P440937', [0, 0, 0, 0, 0, 'Skincare', 0]), ('P449541', [0, 0, 0, 0, 0, 'Skincare', 0]), ('P470040', [0, 0, 0, 0, 0, 'Skincare', 0]), ('P421997', [0, 0, 0, 0, 0, 'Skincare', 2]), ('P432239', [0, 0, 0, 0, 0, 'Skincare', 0]), ('P422248', [0, 0, 0, 0, 0, 'Skincare', 0]), ('P422011', [0, 1, 0, 0, 0, 'Skincare', 0]), ('P461948', [0, 0, 0, 0, 0, 'Skincare', 1]), ('P422012', [0, 0, 0, 0, 0, 'Skincare', 0]), ('P422003', [0, 0, 0, 0, 0, 'Skincare', 0]), ('P429522', [0, 1, 0, 0, 0, 'Skincare', 1]), ('P422004', [0, 0, 0, 1, 0, 'Skincare', 0]), ('P422005', [0, 0, 0, 0, 0, 'Skincare', 0]), ('P431733', [0, 0, 0, 0, 0, 'Skincare', 0]), ('P461947', [0, 0, 0, 0, 0, 'Skincare', 0]), ('P436378', [0, 0, 0, 1, 0, 'Skincare', 0]), ('P422253', [0, 0, 0, 0, 0, 'Skincare', 0]), ('P467628', [0, 0, 0, 0, 0, 'Skincare', 0]), ('P422260', [0, 0, 1, 0, 0, 'Skincare', 1]), ('P482021', [0, 0, 0, 0, 0, 'Skincare', 0]), ('P504464', [1, 1, 0, 0, 0, 'Skincare', 0]), ('P294018', [0, 0, 0, 0, 0, 'Skincare', 1]), ('P434336', [0, 0, 0, 0, 1, 'Skincare', 0]), ('P418624', [0, 0, 0, 0, 1, 'Skincare', 1]), ('P471046', [0, 0, 0, 0, 1, 'Skincare', 1]), ('P455241', [0, 0, 0, 0, 1, 'Skincare', 0]), ('P433627', [0, 0, 0, 0, 0, 'Skincare', 1]), ('P461177', [0, 0, 1, 0, 1, 'Skincare', 0]), ('P468684', [0, 0, 1, 0, 0, 'Skincare', 0]), ('P476876', [0, 0, 0, 0, 1, 'Skincare', 1]), ('P428816', [0, 0, 0, 0, 1, 'Skincare', 0]), ('P446419', [0, 0, 0, 0, 1, 'Skincare', 0]), ('P500618', [0, 0, 0, 0, 1, 'Skincare', 0]), ('P500055', [0, 0, 0, 0, 0, 'Skincare', 1]), ('P474068', [0, 0, 1, 0, 1, 'Skincare', 0]), ('P440072', [0, 0, 0, 0, 0, 'Skincare', 0]), ('P432835', [0, 0, 0, 0, 0, 'Skincare', 0]), ('P456412', [0, 0, 1, 0, 0, 'Skincare', 1]), ('P480612', [0, 0, 1, 0, 0, 'Skincare', 0]), ('P456207', [0, 0, 1, 0, 0, 'Skincare', 0]), ('P456418', [0, 0, 1, 0, 0, 'Skincare', 0]), ('P456417', [0, 0, 1, 0, 0, 'Skincare', 0]), ('P456414', [0, 0, 1, 0, 0, 'Skincare', 0]), ('P474340', [0, 0, 1, 0, 0, 'Skincare', 0]), ('P456421', [0, 0, 1, 0, 0, 'Skincare', 0]), ('P456413', [0, 0, 1, 0, 0, 'Skincare', 0]), ('P455919', [0, 0, 1, 0, 0, 'Skincare', 0]), ('P500329', [0, 0, 0, 0, 0, 'Skincare', 0]), ('P502745', [0, 0, 0, 0, 0, 'Skincare', 0]), ('P387511', [0, 0, 1, 0, 0, 'Skincare', 0]), ('P442734', [0, 0, 1, 0, 0, 'Skincare', 0]), ('P457273', [0, 0, 1, 0, 0, 'Skincare', 0]), ('P457274', [1, 0, 0, 0, 0, 'Skincare', 0]), ('P416341', [0, 0, 0, 0, 0, 'Skincare', 3]), ('P426501', [0, 0, 0, 0, 0, 'Skincare', 0]), ('P461949', [0, 0, 0, 0, 0, 'Skincare', 1]), ('P480613', [0, 0, 0, 0, 0, 'Skincare', 1]), ('P482024', [0, 0, 0, 0, 0, 'Skincare', 0]), ('P475124', [0, 0, 0, 0, 0, 'Skincare', 1]), ('P455924', [0, 0, 0, 0, 0, 'Skincare', 0]), ('P417241', [0, 0, 0, 0, 0, 'Skincare', 1]), ('P417242', [0, 0, 0, 0, 0, 'Skincare', 0]), ('P450290', [0, 0, 0, 0, 0, 'Skincare', 0]), ('P429637', [0, 0, 0, 0, 0, 'Skincare', 2]), ('P416344', [0, 0, 0, 0, 0, 'Skincare', 1]), ('P505160', [0, 1, 1, 0, 0, 'Skincare', 3]), ('P417107', [0, 0, 0, 0, 0, 'Skincare', 0]), ('P417118', [0, 0, 0, 0, 0, 'Skincare', 0]), ('P421249', [0, 0, 0, 0, 0, 'Skincare', 0]), ('P444964', [0, 0, 0, 0, 0, 'Skincare', 0]), ('P417111', [0, 0, 0, 0, 0, 'Skincare', 0]), ('P431416', [0, 0, 0, 0, 0, 'Skincare', 0]), ('P417243', [0, 0, 0, 0, 0, 'Skincare', 0]), ('P417114', [0, 0, 0, 0, 0, 'Skincare', 1]), ('P416538', [0, 0, 0, 0, 0, 'Skincare', 1]), ('P417115', [0, 0, 0, 0, 0, 'Skincare', 0]), ('P416725', [0, 0, 0, 0, 0, 'Skincare', 0]), ('P433962', [0, 0, 0, 0, 0, 'Skincare', 0]), ('P428636', [0, 0, 0, 0, 0, 'Skincare', 0]), ('P428637', [0, 0, 0, 0, 0, 'Skincare', 0]), ('P461950', [0, 0, 0, 0, 0, 'Skincare', 0]), ('P417110', [0, 0, 1, 0, 0, 'Skincare', 0]), ('P475961', [1, 1, 1, 0, 0, 'Skincare', 0]), ('P428639', [0, 0, 0, 0, 0, 'Skincare', 0]), ('P430405', [0, 0, 0, 0, 0, 'Skincare', 0]), ('P379510', [0, 0, 0, 0, 0, 'Skincare', 3]), ('P54509', [0, 0, 0, 1, 0, 'Skincare', 0]), ('P453825', [0, 0, 0, 1, 0, 'Skincare', 0]), ('P422430', [0, 0, 0, 1, 0, 'Skincare', 0]), ('P470041', [1, 0, 0, 0, 1, 'Skincare', 0]), ('P375841', [0, 0, 0, 0, 0, 'Skincare', 0]), ('P470536', [0, 0, 0, 0, 0, 'Skincare', 0]), ('P472981', [0, 0, 0, 0, 0, 'Skincare', 0]), ('P479971', [0, 0, 0, 0, 0, 'Skincare', 0]), ('P502761', [0, 0, 0, 0, 0, 'Skincare', 0]), ('P217932', [0, 0, 0, 0, 0, 'Skincare', 0]), ('P453826', [0, 0, 0, 0, 0, 'Skincare', 0]), ('P467630', [0, 0, 0, 0, 0, 'Skincare', 0]), ('P217931', [0, 0, 0, 1, 0, 'Skincare', 0]), ('P474843', [0, 0, 1, 0, 0, 'Skincare', 1]), ('P474844', [0, 0, 1, 0, 0, 'Skincare', 0]), ('P482025', [0, 0, 1, 0, 0, 'Skincare', 0]), ('P430813', [0, 0, 0, 1, 0, 'Skincare', 0]), ('P422428', [0, 0, 1, 0, 0, 'Skincare', 0]), ('P376135', [0, 0, 0, 0, 0, 'Skincare', 0]), ('P433461', [0, 0, 0, 1, 0, 'Skincare', 0]), ('P379009', [0, 0, 0, 0, 0, 'Skincare', 0]), ('P447607', [0, 0, 0, 1, 0, 'Skincare', 0]), ('P447608', [0, 0, 0, 0, 0, 'Skincare', 0]), ('P454029', [0, 0, 1, 0, 0, 'Skincare', 0]), ('P438362', [1, 0, 0, 1, 0, 'Skincare', 0]), ('P451737', [1, 0, 0, 1, 0, 'Skincare', 0]), ('P505452', [0, 1, 0, 0, 0, 'Skincare', 0]), ('P502823', [0, 0, 1, 0, 0, 'Skincare', 0]), ('P420652', [0, 0, 0, 0, 1, 'Skincare', 3]), ('P443563', [0, 0, 0, 0, 1, 'Skincare', 3]), ('P446930', [0, 0, 0, 0, 1, 'Skincare', 0]), ('P454313', [0, 0, 0, 0, 1, 'Skincare', 0]), ('P469490', [0, 0, 0, 0, 1, 'Skincare', 0]), ('P482693', [0, 0, 0, 0, 0, 'Skincare', 1]), ('P466134', [0, 0, 0, 0, 1, 'Skincare', 0]), ('P479330', [0, 0, 0, 0, 1, 'Skincare', 0]), ('P482692', [0, 0, 0, 0, 1, 'Skincare', 0]), ('P460514', [0, 0, 0, 0, 1, 'Skincare', 0]), ('P460513', [0, 0, 0, 0, 1, 'Skincare', 0]), ('P503867', [0, 0, 0, 0, 1, 'Skincare', 0]), ('P501030', [0, 0, 0, 0, 1, 'Skincare', 0]), ('P504212', [1, 1, 0, 0, 1, 'Skincare', 0]), ('P482695', [0, 0, 0, 0, 1, 'Skincare', 0]), ('P481825', [0, 0, 0, 0, 1, 'Skincare', 0]), ('P482696', [0, 0, 0, 0, 1, 'Skincare', 0]), ('P484055', [0, 0, 0, 0, 1, 'Skincare', 0]), ('P459116', [0, 0, 0, 1, 1, 'Skincare', 0]), ('P504208', [1, 1, 0, 0, 1, 'Skincare', 0]), ('P482694', [0, 0, 0, 0, 1, 'Skincare', 0]), ('P500982', [0, 0, 0, 0, 1, 'Skincare', 0]), ('P503868', [1, 0, 1, 0, 1, 'Skincare', 0]), ('P482698', [0, 0, 0, 0, 1, 'Skincare', 0]), ('P482697', [0, 0, 0, 0, 1, 'Skincare', 0]), ('P503934', [0, 1, 0, 0, 1, 'Skincare', 0]), ('P458546', [0, 0, 0, 0, 1, 'Skincare', 0]), ('P454771', [0, 0, 1, 1, 0, 'Skincare', 0]), ('P455191', [0, 0, 1, 1, 0, 'Skincare', 0]), ('P505140', [0, 1, 1, 0, 1, 'Skincare', 0]), ('P505142', [0, 1, 1, 0, 1, 'Skincare', 0]), ('P505131', [0, 1, 1, 0, 1, 'Skincare', 0]), ('P505133', [0, 1, 1, 0, 1, 'Skincare', 0]), ('P503992', [0, 1, 0, 0, 0, 'Skincare', 0]), ('P503991', [0, 1, 0, 0, 0, 'Skincare', 1]), ('P504026', [0, 1, 0, 0, 0, 'Skincare', 0]), ('P504016', [0, 1, 0, 0, 0, 'Skincare', 0]), ('P504031', [0, 1, 0, 0, 0, 'Skincare', 1]), ('P504059', [0, 1, 0, 0, 0, 'Skincare', 0]), ('P504199', [0, 1, 0, 0, 0, 'Skincare', 0]), ('P504134', [0, 1, 1, 0, 0, 'Skincare', 1]), ('P504023', [0, 1, 0, 0, 0, 'Skincare', 0]), ('P504040', [0, 1, 0, 0, 0, 'Skincare', 0]), ('P440498', [0, 0, 0, 0, 0, 'Skincare', 1]), ('P440482', [0, 0, 0, 0, 0, 'Skincare', 1]), ('P440503', [0, 0, 0, 0, 0, 'Skincare', 2]), ('P440483', [0, 0, 0, 0, 0, 'Skincare', 1]), ('P444967', [0, 0, 0, 0, 0, 'Skincare', 0]), ('P440484', [0, 0, 0, 0, 0, 'Skincare', 1]), ('P440490', [0, 0, 0, 0, 0, 'Skincare', 0]), ('P440502', [0, 0, 0, 0, 0, 'Skincare', 0]), ('P440486', [0, 0, 0, 0, 0, 'Skincare', 0]), ('P440485', [0, 0, 0, 0, 0, 'Skincare', 0]), ('P444968', [0, 0, 0, 0, 0, 'Skincare', 0]), ('P440489', [0, 0, 0, 0, 0, 'Skincare', 0]), ('P440501', [0, 0, 0, 0, 0, 'Skincare', 0]), ('P440494', [0, 0, 0, 0, 0, 'Skincare', 0]), ('P444969', [0, 0, 0, 0, 0, 'Skincare', 0]), ('P440496', [0, 0, 0, 0, 0, 'Skincare', 0]), ('P440491', [0, 0, 0, 0, 0, 'Skincare', 0]), ('P440492', [0, 0, 1, 0, 0, 'Skincare', 0]), ('P444615', [0, 0, 0, 0, 0, 'Skincare', 0]), ('P440499', [0, 0, 0, 0, 0, 'Skincare', 0]), ('P455909', [0, 0, 0, 0, 0, 'Skincare', 0]), ('P440493', [0, 0, 0, 0, 0, 'Skincare', 0]), ('P440500', [0, 0, 0, 0, 0, 'Skincare', 0]), ('P460756', [0, 0, 0, 0, 0, 'Skincare', 0]), ('P474964', [0, 0, 0, 0, 0, 'Skincare', 1]), ('P479973', [0, 0, 0, 0, 0, 'Skincare', 0]), ('P462378', [0, 0, 0, 0, 0, 'Skincare', 0]), ('P462381', [0, 0, 0, 1, 0, 'Skincare', 0]), ('P479974', [0, 0, 0, 0, 0, 'Skincare', 0]), ('P462379', [0, 0, 0, 0, 0, 'Skincare', 0]), ('P462375', [0, 0, 0, 0, 0, 'Skincare', 0]), ('P462384', [0, 0, 0, 0, 0, 'Skincare', 0]), ('P468196', [1, 0, 0, 0, 1, 'Skincare', 0]), ('P462383', [0, 0, 0, 1, 0, 'Skincare', 0]), ('P460757', [0, 0, 0, 0, 0, 'Skincare', 0]), ('P462386', [0, 0, 1, 0, 0, 'Skincare', 0]), ('P471784', [0, 0, 0, 1, 0, 'Skincare', 0]), ('P502709', [1, 0, 0, 1, 0, 'Skincare', 0]), ('P500256', [0, 0, 0, 0, 0, 'Skincare', 0]), ('P502966', [0, 0, 0, 0, 1, 'Skincare', 0]), ('P453253', [0, 0, 0, 0, 1, 'Skincare', 0]), ('P404795', [0, 0, 0, 0, 1, 'Skincare', 0]), ('P404793', [0, 0, 0, 0, 1, 'Skincare', 0]), ('P456126', [0, 0, 0, 0, 1, 'Skincare', 0]), ('P430903', [0, 0, 0, 0, 1, 'Skincare', 0]), ('P404794', [0, 0, 0, 0, 1, 'Skincare', 0]), ('P500102', [0, 0, 0, 0, 1, 'Skincare', 0]), ('P500101', [0, 0, 0, 0, 1, 'Skincare', 0]), ('P432049', [0, 0, 0, 0, 0, 'Skincare', 2]), ('P454799', [0, 0, 0, 0, 0, 'Skincare', 0]), ('P435800', [0, 0, 0, 0, 1, 'Skincare', 1]), ('P432831', [0, 0, 0, 0, 1, 'Skincare', 0]), ('P423157', [0, 0, 0, 0, 0, 'Skincare', 0]), ('P454090', [0, 0, 0, 0, 1, 'Skincare', 0]), ('P457002', [0, 0, 0, 1, 0, 'Skincare', 1]), ('P477202', [0, 0, 0, 0, 1, 'Skincare', 0]), ('P423159', [0, 0, 0, 0, 0, 'Skincare', 0]), ('P454315', [0, 0, 0, 0, 1, 'Skincare', 0]), ('P503944', [0, 0, 1, 0, 1, 'Skincare', 0]), ('P469193', [1, 0, 1, 0, 0, 'Skincare', 0]), ('P468390', [0, 0, 0, 0, 0, 'Skincare', 0]), ('P470538', [0, 0, 1, 0, 0, 'Skincare', 0]), ('P432823', [0, 0, 1, 0, 0, 'Skincare', 3]), ('P432824', [0, 0, 1, 0, 0, 'Skincare', 0]), ('P501518', [0, 0, 1, 0, 0, 'Skincare', 0]), ('P434340', [0, 0, 1, 0, 0, 'Skincare', 0]), ('P440309', [0, 0, 1, 0, 0, 'Skincare', 0]), ('P444470', [0, 0, 1, 0, 0, 'Skincare', 0]), ('P446639', [0, 0, 1, 0, 0, 'Skincare', 0]), ('P467635', [0, 0, 1, 0, 0, 'Skincare', 0]), ('P447604', [0, 0, 1, 0, 0, 'Skincare', 0]), ('P4016', [0, 0, 0, 0, 0, 'Skincare', 1]), ('P440651', [0, 0, 0, 0, 0, 'Skincare', 0]), ('P411365', [0, 0, 0, 0, 0, 'Skincare', 2]), ('P440650', [0, 0, 0, 0, 0, 'Skincare', 0]), ('P254720', [0, 0, 0, 0, 0, 'Skincare', 0]), ('P4015', [0, 0, 0, 0, 0, 'Skincare', 0]), ('P9940', [0, 0, 0, 0, 0, 'Skincare', 0]), ('P4010', [0, 0, 0, 0, 0, 'Skincare', 1]), ('P394397', [0, 0, 0, 0, 0, 'Skincare', 0]), ('P471788', [0, 0, 0, 0, 0, 'Skincare', 0]), ('P446423', [0, 0, 0, 0, 0, 'Skincare', 1]), ('P466673', [0, 0, 0, 0, 0, 'Skincare', 1]), ('P34402', [0, 0, 0, 0, 0, 'Skincare', 0]), ('P427638', [0, 0, 0, 0, 0, 'Skincare', 0]), ('P421432', [0, 0, 0, 0, 0, 'Skincare', 0]), ('P446934', [0, 0, 0, 0, 0, 'Skincare', 0]), ('P500857', [0, 0, 0, 0, 0, 'Skincare', 0]), ('P7365', [0, 0, 0, 1, 0, 'Skincare', 0]), ('P479645', [0, 0, 0, 1, 0, 'Skincare', 0]), ('P482540', [0, 0, 0, 0, 0, 'Skincare', 0]), ('P268700', [0, 0, 0, 0, 0, 'Skincare', 0]), ('P9941', [0, 0, 0, 0, 0, 'Skincare', 0]), ('P480461', [0, 0, 0, 0, 1, 'Skincare', 1]), ('P453928', [0, 0, 0, 0, 0, 'Skincare', 0]), ('P470227', [0, 0, 0, 0, 0, 'Skincare', 0]), ('P444970', [0, 0, 0, 0, 0, 'Skincare', 0]), ('P456571', [0, 0, 0, 0, 0, 'Skincare', 1]), ('P417980', [0, 0, 0, 0, 0, 'Skincare', 1]), ('P475135', [0, 0, 1, 0, 0, 'Skincare', 0]), ('P474075', [0, 0, 0, 0, 0, 'Skincare', 0]), ('P453929', [0, 0, 0, 0, 0, 'Skincare', 0]), ('P4032', [0, 0, 0, 0, 0, 'Skincare', 0]), ('P434550', [0, 0, 0, 0, 0, 'Skincare', 0]), ('P456572', [0, 0, 0, 0, 0, 'Skincare', 0]), ('P9939', [0, 0, 0, 0, 0, 'Skincare', 0]), ('P433143', [0, 0, 0, 0, 0, 'Skincare', 0]), ('P38217', [0, 0, 0, 0, 0, 'Skincare', 0]), ('P107306', [0, 0, 0, 0, 0, 'Skincare', 0]), ('P4039', [0, 0, 0, 0, 0, 'Skincare', 0]), ('P377178', [0, 0, 0, 0, 0, 'Skincare', 0]), ('P429526', [0, 0, 0, 0, 0, 'Skincare', 0]), ('P454514', [0, 0, 0, 0, 0, 'Skincare', 0]), ('P467129', [0, 0, 0, 0, 0, 'Skincare', 0]), ('P501003', [0, 0, 0, 0, 1, 'Skincare', 0]), ('P479646', [0, 0, 0, 0, 0, 'Skincare', 0]), ('P479696', [0, 0, 0, 0, 0, 'Skincare', 0]), ('P433973', [0, 0, 0, 0, 1, 'Skincare', 0]), ('P473133', [0, 0, 1, 0, 0, 'Skincare', 0]), ('P444216', [0, 0, 0, 0, 0, 'Skincare', 0]), ('P433971', [0, 0, 0, 0, 1, 'Skincare', 0]), ('P473148', [0, 0, 1, 0, 0, 'Skincare', 0]), ('P433975', [0, 0, 0, 0, 1, 'Skincare', 0]), ('P433974', [0, 0, 0, 0, 1, 'Skincare', 0]), ('P450587', [0, 0, 0, 0, 1, 'Skincare', 0]), ('P500160', [0, 0, 1, 0, 1, 'Skincare', 0]), ('P478020', [0, 0, 1, 0, 1, 'Skincare', 0]), ('P478021', [0, 0, 1, 0, 1, 'Skincare', 0]), ('P500993', [0, 0, 0, 0, 0, 'Skincare', 0]), ('P500039', [0, 0, 1, 0, 0, 'Skincare', 0]), ('P481828', [0, 0, 0, 0, 0, 'Skincare', 4]), ('P476894', [0, 0, 0, 0, 0, 'Skincare', 0]), ('P476893', [0, 0, 0, 0, 0, 'Skincare', 0]), ('P475143', [0, 0, 0, 0, 0, 'Skincare', 0]), ('P502852', [0, 1, 0, 0, 1, 'Skincare', 1]), ('P385320', [1, 0, 1, 0, 1, 'Skincare', 0]), ('P402992', [0, 0, 0, 1, 0, 'Skincare', 0]), ('P474968', [0, 0, 0, 0, 0, 'Skincare', 1]), ('P428005', [0, 0, 1, 0, 0, 'Skincare', 0]), ('P474967', [0, 0, 0, 0, 0, 'Skincare', 0]), ('P383182', [0, 0, 1, 0, 0, 'Skincare', 0]), ('P393600', [0, 0, 1, 0, 0, 'Skincare', 0]), ('P481138', [0, 0, 0, 0, 0, 'Skincare', 0]), ('P402993', [0, 0, 0, 1, 0, 'Skincare', 0]), ('P504221', [0, 1, 0, 0, 1, 'Skincare', 0]), ('P430337', [0, 0, 0, 0, 1, 'Skincare', 0]), ('P439061', [0, 0, 0, 0, 1, 'Skincare', 1]), ('P448207', [0, 0, 0, 0, 1, 'Skincare', 0]), ('P416816', [0, 0, 0, 0, 1, 'Skincare', 0]), ('P431848', [0, 0, 0, 0, 1, 'Skincare', 0]), ('P473322', [0, 0, 0, 0, 0, 'Skincare', 0]), ('P416815', [0, 0, 0, 0, 1, 'Skincare', 1]), ('P466142', [0, 0, 0, 0, 1, 'Skincare', 1]), ('P434545', [0, 0, 0, 0, 1, 'Skincare', 0]), ('P456566', [0, 0, 0, 0, 1, 'Skincare', 0]), ('P472050', [0, 0, 0, 0, 1, 'Skincare', 0]), ('P469213', [0, 0, 0, 0, 1, 'Skincare', 0]), ('P418872', [0, 0, 0, 0, 1, 'Skincare', 0]), ('P479339', [0, 0, 0, 0, 1, 'Skincare', 1]), ('P483679', [0, 0, 0, 0, 1, 'Skincare', 0]), ('P500613', [0, 0, 0, 0, 1, 'Skincare', 0]), ('P453227', [0, 0, 0, 0, 1, 'Skincare', 1]), ('P459133', [0, 0, 0, 0, 1, 'Skincare', 0]), ('P434546', [0, 0, 0, 0, 1, 'Skincare', 0]), ('P503651', [0, 0, 0, 0, 1, 'Skincare', 0]), ('P504639', [0, 1, 0, 0, 1, 'Skincare', 2]), ('P504043', [0, 1, 0, 0, 1, 'Skincare', 0]), ('P470240', [0, 0, 0, 0, 1, 'Skincare', 0]), ('P503878', [0, 1, 0, 0, 1, 'Skincare', 0]), ('P459131', [0, 0, 0, 0, 1, 'Skincare', 0]), ('P471566', [0, 0, 0, 0, 1, 'Skincare', 0]), ('P472180', [0, 0, 0, 0, 1, 'Skincare', 0]), ('P503572', [0, 0, 0, 0, 0, 'Skincare', 0]), ('P454800', [0, 0, 0, 0, 1, 'Skincare', 0]), ('P503933', [1, 0, 0, 0, 1, 'Skincare', 0]), ('P503876', [0, 1, 0, 0, 1, 'Skincare', 0]), ('P461667', [0, 0, 0, 0, 1, 'Skincare', 0]), ('P91627362', [0, 0, 0, 0, 1, 'Skincare', 1]), ('P297524', [0, 0, 1, 0, 0, 'Skincare', 1]), ('P297516', [0, 0, 1, 0, 0, 'Skincare', 1]), ('P378852', [0, 0, 1, 0, 0, 'Skincare', 0]), ('P422536', [0, 0, 1, 0, 0, 'Skincare', 1]), ('P397890', [0, 0, 1, 0, 0, 'Skincare', 1]), ('P297517', [0, 0, 1, 0, 0, 'Skincare', 0]), ('P440925', [0, 0, 1, 0, 0, 'Skincare', 1]), ('P386197', [0, 0, 1, 0, 0, 'Skincare', 0]), ('P434360', [0, 0, 1, 0, 0, 'Skincare', 0]), ('P446421', [0, 0, 1, 0, 0, 'Skincare', 0]), ('P433444', [0, 0, 1, 0, 0, 'Skincare', 0]), ('P297551', [0, 0, 1, 0, 0, 'Skincare', 0]), ('P475589', [0, 0, 1, 0, 0, 'Skincare', 2]), ('P482298', [0, 0, 1, 0, 0, 'Skincare', 0]), ('P297531', [0, 0, 1, 0, 0, 'Skincare', 0]), ('P434361', [0, 0, 1, 0, 0, 'Skincare', 0]), ('P462891', [0, 0, 1, 0, 0, 'Skincare', 0]), ('P468396', [0, 0, 1, 0, 0, 'Skincare', 0]), ('P385253', [0, 0, 1, 0, 0, 'Skincare', 0]), ('P394702', [0, 0, 1, 0, 0, 'Skincare', 0]), ('P440933', [0, 0, 1, 0, 0, 'Skincare', 0]), ('P502046', [0, 0, 1, 0, 0, 'Skincare', 0]), ('P440929', [0, 0, 1, 0, 0, 'Skincare', 0]), ('P440926', [0, 0, 1, 0, 0, 'Skincare', 0]), ('P377919', [0, 0, 1, 0, 0, 'Skincare', 0]), ('P471567', [0, 0, 1, 0, 0, 'Skincare', 0]), ('P401570', [0, 0, 1, 0, 0, 'Skincare', 0]), ('P408241', [0, 0, 1, 0, 0, 'Skincare', 0]), ('P409834', [0, 0, 1, 0, 0, 'Skincare', 0]), ('P409816', [0, 0, 1, 0, 0, 'Skincare', 0]), ('P470048', [0, 0, 1, 0, 0, 'Skincare', 0]), ('P475590', [0, 0, 1, 0, 0, 'Skincare', 0]), ('P442745', [0, 0, 1, 0, 0, 'Skincare', 0]), ('P443550', [0, 0, 1, 0, 0, 'Skincare', 0]), ('P443549', [0, 0, 1, 0, 0, 'Skincare', 0]), ('P433446', [0, 0, 1, 0, 0, 'Skincare', 0]), ('P482058', [0, 0, 1, 0, 0, 'Skincare', 0]), ('P474369', [0, 0, 1, 0, 0, 'Skincare', 0]), ('P469502', [0, 0, 0, 0, 0, 'Skincare', 2]), ('P469506', [0, 0, 0, 0, 0, 'Skincare', 0]), ('P469503', [0, 0, 0, 0, 0, 'Skincare', 0]), ('P469522', [0, 0, 0, 0, 0, 'Skincare', 1]), ('P501288', [0, 0, 0, 0, 0, 'Skincare', 0]), ('P501282', [0, 0, 0, 0, 0, 'Skincare', 0]), ('P504433', [0, 1, 0, 0, 0, 'Skincare', 0]), ('P469510', [0, 0, 0, 0, 0, 'Skincare', 0]), ('P469519', [0, 0, 0, 0, 0, 'Skincare', 0]), ('P469511', [0, 0, 0, 0, 0, 'Skincare', 0]), ('P469507', [0, 0, 0, 0, 0, 'Skincare', 0]), ('P469520', [0, 0, 0, 0, 0, 'Skincare', 0]), ('P480628', [0, 0, 0, 0, 0, 'Skincare', 0]), ('P481348', [0, 0, 0, 0, 0, 'Skincare', 0]), ('P471793', [0, 0, 0, 0, 0, 'Skincare', 0]), ('P469505', [0, 0, 0, 0, 0, 'Skincare', 0]), ('P473126', [0, 0, 0, 0, 0, 'Skincare', 0]), ('P469528', [0, 0, 0, 0, 0, 'Skincare', 0]), ('P469524', [0, 0, 0, 0, 0, 'Skincare', 0]), ('P469517', [0, 0, 0, 0, 0, 'Skincare', 0]), ('P469513', [0, 0, 0, 0, 0, 'Skincare', 0]), ('P469515', [0, 0, 0, 0, 0, 'Skincare', 0]), ('P481390', [0, 0, 0, 0, 0, 'Skincare', 0]), ('P469527', [0, 0, 0, 0, 0, 'Skincare', 0]), ('P469516', [0, 0, 0, 0, 0, 'Skincare', 0]), ('P469525', [0, 0, 0, 0, 0, 'Skincare', 0]), ('P469514', [0, 0, 0, 0, 0, 'Skincare', 0]), ('P474970', [0, 0, 1, 0, 0, 'Skincare', 0]), ('P469504', [0, 0, 0, 0, 0, 'Skincare', 0]), ('P469508', [0, 0, 0, 0, 0, 'Skincare', 0]), ('P469526', [0, 0, 0, 0, 0, 'Skincare', 0]), ('P469512', [0, 0, 0, 0, 0, 'Skincare', 0]), ('P469518', [0, 0, 0, 0, 0, 'Skincare', 0]), ('P469521', [0, 0, 0, 0, 0, 'Skincare', 0]), ('P469523', [0, 0, 0, 0, 0, 'Skincare', 0]), ('P481347', [0, 0, 0, 0, 1, 'Skincare', 0]), ('P481350', [0, 0, 0, 0, 1, 'Skincare', 0]), ('P421275', [0, 0, 0, 0, 0, 'Skincare', 1]), ('P428250', [0, 0, 0, 0, 0, 'Skincare', 0]), ('P467038', [0, 0, 0, 0, 1, 'Skincare', 0]), ('P500757', [0, 0, 0, 0, 1, 'Skincare', 0]), ('P503721', [0, 0, 0, 0, 0, 'Skincare', 1]), ('P472052', [0, 0, 0, 0, 1, 'Skincare', 0]), ('P479340', [0, 0, 0, 0, 1, 'Skincare', 0]), ('P501781', [0, 0, 0, 0, 1, 'Skincare', 0]), ('P480629', [0, 0, 0, 0, 1, 'Skincare', 0]), ('P469530', [0, 0, 0, 0, 1, 'Skincare', 0]), ('P474971', [0, 0, 0, 0, 1, 'Skincare', 0]), ('P465365', [0, 0, 0, 0, 1, 'Skincare', 0]), ('P502997', [0, 0, 0, 0, 1, 'Skincare', 0]), ('P503683', [0, 0, 0, 0, 0, 'Skincare', 0]), ('P500856', [1, 0, 1, 0, 1, 'Skincare', 0]), ('P415701', [0, 0, 0, 0, 0, 'Skincare', 1]), ('P377561', [0, 0, 0, 0, 0, 'Skincare', 2]), ('P450917', [0, 0, 0, 0, 0, 'Skincare', 0]), ('P39274', [0, 0, 0, 0, 0, 'Skincare', 1]), ('P449599', [0, 0, 1, 0, 0, 'Skincare', 0]), ('P114902', [0, 0, 0, 0, 0, 'Skincare', 0]), ('P3617', [0, 0, 0, 0, 0, 'Skincare', 0]), ('P458576', [0, 0, 0, 0, 0, 'Skincare', 1]), ('P471065', [0, 0, 0, 0, 0, 'Skincare', 0]), ('P428100', [0, 0, 0, 0, 0, 'Skincare', 0]), ('P387261', [0, 0, 0, 0, 0, 'Skincare', 0]), ('P453824', [0, 0, 1, 0, 0, 'Skincare', 0]), ('P283106', [0, 0, 0, 0, 0, 'Skincare', 0]), ('P3550', [0, 0, 0, 0, 0, 'Skincare', 1]), ('P474078', [0, 0, 0, 1, 0, 'Skincare', 0]), ('P453823', [0, 0, 1, 0, 0, 'Skincare', 0]), ('P251529', [0, 0, 0, 0, 0, 'Skincare', 0]), ('P442741', [0, 0, 0, 0, 0, 'Skincare', 0]), ('P399932', [0, 0, 0, 1, 0, 'Skincare', 0]), ('P442742', [0, 0, 0, 0, 0, 'Skincare', 0]), ('P392608', [0, 0, 1, 0, 0, 'Skincare', 0]), ('P382204', [0, 0, 0, 0, 0, 'Skincare', 0]), ('P442743', [0, 0, 0, 0, 0, 'Skincare', 0]), ('P467137', [0, 0, 0, 0, 0, 'Skincare', 0]), ('P271682', [0, 0, 0, 0, 0, 'Skincare', 0]), ('P479706', [0, 0, 0, 0, 0, 'Skincare', 0]), ('P470243', [0, 0, 0, 0, 1, 'Skincare', 0]), ('P474079', [0, 0, 0, 0, 0, 'Skincare', 0]), ('P448719', [0, 0, 0, 0, 1, 'Skincare', 0]), ('P479705', [0, 0, 0, 0, 0, 'Skincare', 0]), ('P462390', [0, 0, 0, 0, 1, 'Skincare', 0]), ('P412025', [0, 0, 0, 0, 0, 'Skincare', 0]), ('P454102', [0, 0, 0, 0, 1, 'Skincare', 1]), ('P433456', [0, 0, 0, 0, 0, 'Skincare', 0]), ('P406104', [0, 0, 0, 0, 0, 'Skincare', 0]), ('P433457', [0, 0, 0, 1, 0, 'Skincare', 0]), ('P423254', [0, 0, 0, 0, 0, 'Skincare', 0]), ('P482061', [0, 0, 0, 0, 0, 'Skincare', 0]), ('P503690', [0, 0, 0, 0, 0, 'Skincare', 0]), ('P500244', [0, 0, 0, 0, 0, 'Skincare', 0]), ('P392607', [0, 0, 1, 0, 0, 'Skincare', 0]), ('P481142', [0, 0, 0, 0, 1, 'Skincare', 0]), ('P430812', [0, 0, 0, 0, 0, 'Skincare', 0]), ('P410883', [0, 0, 0, 0, 0, 'Skincare', 0]), ('P440317', [0, 0, 0, 1, 0, 'Skincare', 0]), ('P471062', [1, 1, 0, 0, 1, 'Skincare', 0]), ('P457519', [0, 0, 0, 0, 0, 'Skincare', 0]), ('P471064', [0, 0, 0, 0, 0, 'Skincare', 0]), ('P457520', [0, 0, 0, 0, 0, 'Skincare', 0]), ('P464799', [0, 0, 0, 0, 0, 'Skincare', 0]), ('P473185', [0, 0, 0, 0, 0, 'Skincare', 0]), ('P474080', [0, 0, 0, 0, 0, 'Skincare', 0]), ('P502740', [0, 0, 0, 0, 0, 'Skincare', 0]), ('P502725', [0, 0, 0, 0, 0, 'Skincare', 0]), ('P501550', [0, 0, 0, 0, 0, 'Skincare', 0]), ('P432818', [0, 0, 1, 0, 0, 'Skincare', 1]), ('P446630', [0, 0, 1, 0, 0, 'Skincare', 0]), ('P398502', [0, 0, 1, 0, 0, 'Skincare', 1]), ('P401158', [0, 0, 1, 0, 0, 'Skincare', 0]), ('P446629', [0, 0, 1, 0, 0, 'Skincare', 0]), ('P467969', [0, 0, 1, 0, 0, 'Skincare', 0]), ('P398500', [0, 0, 1, 0, 0, 'Skincare', 1]), ('P467970', [0, 0, 1, 0, 0, 'Skincare', 0]), ('P476436', [0, 0, 1, 0, 0, 'Skincare', 0]), ('P456192', [0, 0, 0, 0, 0, 'Skincare', 0]), ('P456193', [0, 0, 0, 1, 0, 'Skincare', 0]), ('P504644', [0, 1, 1, 0, 0, 'Skincare', 0]), ('P481335', [0, 0, 0, 0, 0, 'Skincare', 1]), ('P481354', [0, 0, 0, 0, 0, 'Skincare', 0]), ('P481336', [0, 0, 0, 0, 0, 'Skincare', 0]), ('P481363', [0, 0, 0, 0, 0, 'Skincare', 0]), ('P481371', [0, 0, 0, 0, 0, 'Skincare', 0]), ('P504446', [0, 1, 1, 0, 0, 'Skincare', 0]), ('P481401', [0, 0, 0, 0, 0, 'Skincare', 0]), ('P481368', [0, 0, 0, 0, 0, 'Skincare', 0]), ('P203616', [0, 0, 0, 0, 0, 'Skincare', 0]), ('P428095', [0, 0, 0, 0, 0, 'Skincare', 2]), ('P465368', [0, 0, 0, 0, 0, 'Skincare', 1]), ('P214002', [0, 0, 0, 0, 0, 'Skincare', 0]), ('P436094', [0, 0, 0, 0, 0, 'Skincare', 0]), ('P415620', [0, 0, 0, 0, 0, 'Skincare', 0]), ('P457512', [0, 0, 0, 0, 0, 'Skincare', 0]), ('P442990', [0, 0, 0, 0, 0, 'Skincare', 0]), ('P481732', [0, 0, 0, 0, 0, 'Skincare', 0]), ('P467971', [0, 0, 0, 0, 0, 'Skincare', 0]), ('P475159', [0, 0, 0, 0, 0, 'Skincare', 0]), ('P454095', [0, 0, 0, 0, 0, 'Skincare', 0]), ('P484067', [0, 0, 0, 0, 0, 'Skincare', 0]), ('P473172', [0, 0, 0, 0, 0, 'Skincare', 0]), ('P474371', [0, 0, 0, 0, 0, 'Skincare', 0]), ('P504056', [0, 1, 1, 0, 0, 'Skincare', 0]), ('P476726', [0, 0, 0, 0, 0, 'Skincare', 0]), ('P437477', [0, 0, 0, 0, 0, 'Skincare', 0]), ('P470049', [0, 0, 0, 0, 0, 'Skincare', 0]), ('P455227', [0, 0, 0, 0, 1, 'Skincare', 0]), ('P504309', [0, 1, 0, 0, 1, 'Skincare', 1]), ('P481145', [0, 0, 0, 0, 1, 'Skincare', 1]), ('P500696', [0, 0, 0, 0, 0, 'Skincare', 0]), ('P476010', [0, 0, 0, 0, 1, 'Skincare', 1]), ('P504315', [0, 0, 1, 0, 1, 'Skincare', 0]), ('P476009', [0, 0, 0, 0, 1, 'Skincare', 0]), ('P504594', [1, 0, 1, 0, 1, 'Skincare', 0]), ('P504283', [0, 1, 0, 0, 1, 'Skincare', 0]), ('P468850', [0, 0, 1, 0, 0, 'Skincare', 0]), ('P470245', [0, 0, 1, 0, 0, 'Skincare', 0]), ('P470247', [0, 0, 1, 0, 0, 'Skincare', 0]), ('P470246', [0, 0, 1, 0, 0, 'Skincare', 0]), ('P470248', [0, 0, 1, 0, 0, 'Skincare', 0]), ('P480346', [0, 0, 1, 0, 0, 'Skincare', 1]), ('P500502', [0, 0, 0, 0, 0, 'Skincare', 0]), ('P42204', [0, 0, 0, 0, 0, 'Skincare', 0]), ('P42205', [0, 0, 0, 0, 0, 'Skincare', 0]), ('P266126', [0, 0, 0, 0, 0, 'Skincare', 0]), ('P164932', [0, 0, 0, 0, 0, 'Skincare', 0]), ('P392239', [0, 0, 0, 0, 0, 'Skincare', 0]), ('P397465', [0, 0, 0, 0, 0, 'Skincare', 0]), ('P468211', [0, 0, 0, 0, 1, 'Skincare', 1]), ('P444222', [0, 0, 0, 0, 0, 'Skincare', 1]), ('P501321', [0, 0, 0, 0, 0, 'Skincare', 0]), ('P461491', [0, 0, 0, 0, 0, 'Skincare', 0]), ('P467972', [0, 0, 0, 0, 0, 'Skincare', 0]), ('P473723', [0, 0, 0, 0, 0, 'Skincare', 0]), ('P482068', [0, 0, 0, 0, 1, 'Skincare', 0]), ('P501185', [0, 0, 1, 0, 0, 'Skincare', 0]), ('P409800', [0, 0, 0, 1, 1, 'Skincare', 1]), ('P442594', [0, 0, 0, 0, 1, 'Skincare', 1]), ('P460855', [0, 0, 0, 1, 1, 'Skincare', 3]), ('P438619', [0, 0, 0, 0, 1, 'Skincare', 0]), ('P460723', [0, 0, 0, 0, 0, 'Skincare', 10]), ('P500744', [0, 0, 0, 0, 1, 'Skincare', 5]), ('P438620', [0, 0, 0, 0, 1, 'Skincare', 0]), ('P442589', [0, 0, 0, 0, 1, 'Skincare', 1]), ('P442535', [0, 0, 0, 1, 1, 'Skincare', 0]), ('P438617', [0, 0, 0, 0, 1, 'Skincare', 0]), ('P438618', [0, 0, 0, 0, 1, 'Skincare', 0]), ('P460701', [0, 0, 0, 0, 1, 'Skincare', 8]), ('P460856', [0, 0, 0, 0, 1, 'Skincare', 3]), ('P483138', [0, 0, 0, 0, 1, 'Skincare', 0]), ('P467647', [0, 0, 0, 0, 1, 'Skincare', 0]), ('P483137', [0, 0, 0, 0, 1, 'Skincare', 0]), ('P467652', [0, 0, 0, 0, 1, 'Skincare', 2]), ('P473725', [0, 0, 0, 0, 1, 'Skincare', 0]), ('P472057', [0, 0, 0, 0, 1, 'Skincare', 0]), ('P457442', [0, 0, 0, 0, 1, 'Skincare', 1]), ('P504429', [0, 1, 0, 0, 0, 'Skincare', 0]), ('P458724', [0, 0, 0, 0, 1, 'Skincare', 0]), ('P504421', [0, 1, 0, 0, 1, 'Skincare', 0]), ('P483136', [0, 0, 0, 0, 1, 'Skincare', 0]), ('P473729', [0, 0, 0, 1, 1, 'Skincare', 3]), ('P461522', [0, 0, 0, 0, 1, 'Skincare', 0]), ('P473726', [0, 0, 0, 0, 1, 'Skincare', 0]), ('P461520', [0, 0, 0, 0, 1, 'Skincare', 1]), ('P500626', [0, 0, 0, 0, 1, 'Skincare', 0]), ('P465803', [0, 0, 0, 0, 1, 'Skincare', 0]), ('P439672', [0, 0, 0, 0, 1, 'Skincare', 0]), ('P502986', [0, 1, 0, 0, 1, 'Skincare', 0]), ('P455212', [0, 0, 0, 0, 1, 'Skincare', 0]), ('P460554', [0, 0, 0, 0, 0, 'Skincare', 0]), ('P469196', [0, 0, 0, 0, 1, 'Skincare', 0]), ('P483146', [0, 0, 0, 0, 1, 'Skincare', 0]), ('P469086', [0, 0, 0, 0, 1, 'Skincare', 0]), ('P432421', [0, 0, 0, 1, 1, 'Skincare', 0]), ('P444013', [1, 0, 0, 0, 1, 'Skincare', 0]), ('P465808', [0, 0, 0, 0, 1, 'Skincare', 0]), ('P461521', [0, 0, 0, 0, 1, 'Skincare', 1]), ('P455217', [0, 0, 0, 1, 1, 'Skincare', 0]), ('P456957', [0, 0, 0, 1, 1, 'Skincare', 0]), ('P473728', [0, 0, 0, 0, 0, 'Skincare', 0]), ('P467651', [0, 0, 0, 0, 1, 'Skincare', 0]), ('P473724', [0, 0, 0, 0, 1, 'Skincare', 0]), ('P445726', [0, 0, 0, 0, 1, 'Skincare', 0]), ('P455215', [0, 0, 0, 0, 1, 'Skincare', 0]), ('P480986', [0, 0, 0, 0, 1, 'Skincare', 0]), ('P482312', [0, 0, 0, 0, 1, 'Skincare', 0]), ('P458733', [0, 0, 0, 0, 1, 'Skincare', 0]), ('P477714', [0, 0, 0, 1, 1, 'Skincare', 0]), ('P479688', [1, 0, 0, 0, 1, 'Skincare', 2]), ('P469085', [0, 0, 0, 0, 1, 'Skincare', 0]), ('P461195', [0, 0, 0, 0, 1, 'Skincare', 0]), ('P471085', [0, 0, 0, 0, 1, 'Skincare', 0]), ('P446820', [0, 0, 0, 0, 1, 'Skincare', 0]), ('P483151', [0, 0, 0, 0, 1, 'Skincare', 1]), ('P457441', [0, 0, 0, 0, 1, 'Skincare', 0]), ('P467650', [0, 0, 0, 0, 1, 'Skincare', 0]), ('P483092', [0, 0, 0, 0, 1, 'Skincare', 0]), ('P457439', [0, 0, 0, 0, 1, 'Skincare', 0]), ('P471086', [0, 0, 0, 0, 1, 'Skincare', 0]), ('P461200', [0, 0, 0, 0, 1, 'Skincare', 0]), ('P446822', [0, 0, 0, 0, 1, 'Skincare', 0]), ('P483075', [0, 0, 0, 0, 1, 'Skincare', 0]), ('P461199', [0, 0, 0, 1, 1, 'Skincare', 0]), ('P469028', [0, 0, 0, 0, 1, 'Skincare', 0]), ('P472067', [0, 0, 0, 0, 1, 'Skincare', 0]), ('P500774', [0, 0, 0, 0, 1, 'Skincare', 0]), ('P460704', [0, 0, 0, 0, 1, 'Skincare', 0]), ('P464288', [0, 0, 0, 0, 1, 'Skincare', 2]), ('P483090', [0, 0, 0, 0, 1, 'Skincare', 0]), ('P500743', [0, 0, 0, 0, 1, 'Skincare', 3]), ('P482314', [0, 0, 0, 0, 1, 'Skincare', 0]), ('P472068', [1, 0, 0, 0, 1, 'Skincare', 0]), ('P500785', [1, 0, 0, 0, 1, 'Skincare', 0]), ('P482311', [0, 0, 1, 0, 1, 'Skincare', 0]), ('P504441', [0, 1, 0, 0, 0, 'Skincare', 1]), ('P477734', [0, 0, 0, 0, 1, 'Skincare', 0]), ('P444237', [0, 0, 0, 1, 1, 'Skincare', 0]), ('P504447', [0, 1, 0, 0, 0, 'Skincare', 0]), ('P502996', [0, 1, 0, 0, 1, 'Skincare', 0]), ('P479478', [0, 0, 0, 0, 1, 'Skincare', 0]), ('P482313', [0, 0, 0, 0, 1, 'Skincare', 0]), ('P467649', [0, 0, 0, 0, 1, 'Skincare', 1]), ('P483145', [0, 0, 0, 0, 0, 'Skincare', 0]), ('P500729', [0, 0, 0, 0, 0, 'Skincare', 0]), ('P482309', [1, 0, 1, 0, 1, 'Skincare', 0]), ('P502842', [1, 0, 0, 0, 1, 'Skincare', 0]), ('P500763', [0, 0, 0, 1, 0, 'Skincare', 0]), ('P474090', [1, 0, 0, 0, 1, 'Skincare', 0]), ('P503000', [1, 1, 0, 0, 1, 'Skincare', 0]), ('P504424', [0, 1, 0, 0, 0, 'Skincare', 0]), ('P455926', [0, 0, 0, 0, 1, 'Skincare', 1]), ('P455927', [0, 0, 0, 0, 1, 'Skincare', 0]), ('P455929', [0, 0, 0, 0, 1, 'Skincare', 0]), ('P467973', [0, 0, 0, 0, 1, 'Skincare', 0]), ('P478731', [0, 0, 0, 0, 1, 'Skincare', 0]), ('P455930', [0, 0, 0, 0, 1, 'Skincare', 0]), ('P471097', [0, 0, 1, 0, 1, 'Skincare', 0]), ('P503920', [0, 1, 0, 0, 1, 'Skincare', 0]), ('P455931', [0, 0, 1, 0, 1, 'Skincare', 0]), ('P502216', [0, 0, 1, 0, 1, 'Skincare', 0]), ('P456398', [0, 0, 0, 0, 0, 'Skincare', 2]), ('P173726', [0, 0, 0, 0, 0, 'Skincare', 1]), ('P429242', [0, 0, 0, 0, 0, 'Skincare', 0]), ('P448203', [0, 0, 0, 0, 0, 'Skincare', 0]), ('P482739', [0, 0, 0, 0, 0, 'Skincare', 2]), ('P482742', [0, 0, 0, 0, 0, 'Skincare', 0]), ('P448202', [0, 0, 0, 0, 0, 'Skincare', 2]), ('P463105', [0, 0, 0, 0, 0, 'Skincare', 0]), ('P481164', [0, 0, 0, 0, 0, 'Skincare', 0]), ('P481161', [0, 0, 0, 0, 0, 'Skincare', 4]), ('P456399', [0, 0, 0, 0, 0, 'Skincare', 0]), ('P504986', [0, 1, 0, 0, 1, 'Skincare', 0]), ('P173619', [0, 0, 0, 0, 0, 'Skincare', 1]), ('P482741', [0, 0, 0, 0, 0, 'Skincare', 0]), ('P481162', [0, 0, 0, 0, 0, 'Skincare', 1]), ('P205614', [0, 0, 0, 0, 0, 'Skincare', 0]), ('P173652', [0, 0, 0, 0, 0, 'Skincare', 0]), ('P405944', [0, 0, 0, 0, 0, 'Skincare', 0]), ('P448201', [0, 0, 0, 0, 0, 'Skincare', 0]), ('P448200', [0, 0, 0, 0, 0, 'Skincare', 0]), ('P388545', [0, 0, 0, 0, 0, 'Skincare', 0]), ('P385262', [0, 0, 0, 0, 0, 'Skincare', 0]), ('P433618', [0, 0, 0, 0, 0, 'Skincare', 0]), ('P378219', [0, 0, 0, 0, 0, 'Skincare', 0]), ('P173622', [0, 0, 0, 0, 0, 'Skincare', 0]), ('P482740', [0, 0, 0, 0, 0, 'Skincare', 0]), ('P433617', [0, 0, 0, 0, 0, 'Skincare', 0]), ('P423165', [0, 0, 1, 0, 0, 'Skincare', 0]), ('P202935', [0, 0, 0, 0, 0, 'Skincare', 0]), ('P428423', [0, 0, 1, 0, 0, 'Skincare', 0]), ('P443375', [0, 0, 0, 0, 0, 'Skincare', 0]), ('P428422', [0, 0, 0, 0, 0, 'Skincare', 0]), ('P433621', [0, 0, 0, 0, 0, 'Skincare', 0]), ('P423164', [0, 0, 1, 0, 0, 'Skincare', 0]), ('P455421', [0, 0, 0, 0, 0, 'Skincare', 0]), ('P443376', [0, 0, 0, 0, 0, 'Skincare', 0]), ('P433619', [0, 0, 0, 0, 0, 'Skincare', 0]), ('P457854', [0, 0, 1, 0, 0, 'Skincare', 0]), ('P423163', [0, 0, 1, 0, 0, 'Skincare', 0]), ('P443377', [0, 0, 0, 0, 0, 'Skincare', 0]), ('P423169', [0, 0, 1, 0, 0, 'Skincare', 0]), ('P433620', [0, 0, 0, 0, 0, 'Skincare', 0]), ('P484076', [1, 1, 1, 0, 1, 'Skincare', 0]), ('P463951', [0, 0, 0, 0, 0, 'Skincare', 0]), ('P463106', [0, 0, 1, 0, 0, 'Skincare', 0]), ('P423166', [0, 0, 1, 0, 0, 'Skincare', 0]), ('P455229', [0, 0, 1, 0, 0, 'Skincare', 0]), ('P423167', [0, 0, 1, 0, 0, 'Skincare', 0]), ('P423168', [0, 0, 1, 0, 0, 'Skincare', 0]), ('P375849', [0, 0, 0, 0, 0, 'Skincare', 3]), ('P426183', [0, 0, 0, 0, 0, 'Skincare', 0]), ('P375853', [0, 0, 0, 0, 0, 'Skincare', 0]), ('P375850', [0, 0, 0, 0, 0, 'Skincare', 0]), ('P468409', [0, 0, 0, 0, 0, 'Skincare', 0]), ('P468408', [0, 0, 0, 0, 0, 'Skincare', 0]), ('P468411', [0, 0, 0, 0, 0, 'Skincare', 0]), ('P375852', [0, 0, 0, 0, 0, 'Skincare', 1]), ('P410756', [0, 0, 0, 0, 0, 'Skincare', 0]), ('P410755', [0, 0, 0, 0, 0, 'Skincare', 0]), ('P447773', [0, 0, 0, 0, 0, 'Skincare', 0]), ('P375864', [0, 0, 0, 0, 0, 'Skincare', 0]), ('P375854', [0, 0, 0, 0, 0, 'Skincare', 0]), ('P468412', [0, 0, 0, 0, 0, 'Skincare', 0]), ('P428103', [0, 0, 0, 0, 0, 'Skincare', 0]), ('P468410', [0, 0, 0, 0, 0, 'Skincare', 0]), ('P416312', [0, 0, 0, 1, 1, 'Skincare', 0]), ('P416589', [0, 0, 0, 1, 1, 'Skincare', 0]), ('P416588', [0, 0, 0, 1, 1, 'Skincare', 0]), ('P442840', [0, 0, 0, 0, 1, 'Skincare', 3]), ('P479860', [0, 0, 0, 0, 1, 'Skincare', 0]), ('P442836', [0, 0, 0, 0, 1, 'Skincare', 0]), ('P442838', [0, 0, 0, 0, 1, 'Skincare', 0]), ('P481739', [0, 0, 0, 0, 1, 'Skincare', 1]), ('P442839', [0, 0, 0, 0, 1, 'Skincare', 0]), ('P471101', [0, 0, 0, 0, 1, 'Skincare', 0]), ('P442843', [0, 0, 0, 0, 1, 'Skincare', 0]), ('P503668', [0, 0, 0, 0, 1, 'Skincare', 0]), ('P476415', [0, 0, 0, 0, 1, 'Skincare', 0]), ('P479348', [0, 0, 0, 0, 1, 'Skincare', 0]), ('P442837', [0, 0, 0, 0, 1, 'Skincare', 0]), ('P505049', [0, 1, 0, 0, 0, 'Skincare', 0]), ('P442850', [0, 0, 0, 0, 1, 'Skincare', 0]), ('P446916', [0, 0, 0, 0, 0, 'Skincare', 0]), ('P502169', [0, 0, 0, 0, 1, 'Skincare', 0]), ('P448562', [0, 0, 0, 0, 1, 'Skincare', 0]), ('P442841', [0, 0, 1, 0, 1, 'Skincare', 0]), ('P502192', [0, 0, 1, 0, 1, 'Skincare', 0]), ('P402944', [0, 0, 0, 0, 0, 'Skincare', 8]), ('P402942', [0, 0, 0, 0, 0, 'Skincare', 6]), ('P402943', [0, 0, 1, 0, 0, 'Skincare', 6]), ('P477761', [0, 0, 1, 0, 0, 'Skincare', 0]), ('P447213', [0, 0, 1, 0, 0, 'Skincare', 0]), ('P451748', [0, 0, 1, 0, 0, 'Skincare', 0]), ('P451745', [0, 0, 1, 0, 0, 'Skincare', 0]), ('P451750', [0, 0, 1, 0, 0, 'Skincare', 0]), ('P477706', [0, 0, 1, 0, 0, 'Skincare', 0]), ('P415747', [0, 0, 0, 0, 1, 'Skincare', 0]), ('P504517', [0, 1, 1, 0, 0, 'Skincare', 0]), ('P504509', [0, 1, 0, 0, 0, 'Skincare', 0]), ('P504515', [0, 1, 0, 0, 0, 'Skincare', 0]), ('P481831', [0, 0, 0, 0, 0, 'Skincare', 0]), ('P407450', [0, 0, 0, 0, 0, 'Skincare', 1]), ('P481830', [0, 0, 0, 0, 0, 'Skincare', 0]), ('P407448', [0, 0, 0, 0, 0, 'Skincare', 1]), ('P456206', [0, 0, 0, 0, 0, 'Skincare', 0]), ('P432262', [0, 0, 0, 0, 0, 'Skincare', 0]), ('P481832', [0, 0, 0, 0, 0, 'Skincare', 0]), ('P456400', [0, 0, 0, 0, 0, 'Skincare', 0]), ('P429683', [0, 0, 0, 0, 0, 'Skincare', 0]), ('P419466', [0, 0, 0, 0, 0, 'Skincare', 0]), ('P442747', [0, 0, 0, 0, 0, 'Skincare', 0]), ('P456204', [0, 0, 1, 0, 0, 'Skincare', 0]), ('P456401', [0, 0, 0, 0, 0, 'Skincare', 0]), ('P456203', [0, 0, 0, 0, 0, 'Skincare', 0]), ('P482318', [0, 0, 1, 0, 0, 'Skincare', 0]), ('P483691', [0, 0, 1, 0, 0, 'Skincare', 0]), ('P474113', [0, 0, 1, 0, 0, 'Skincare', 2]), ('P474117', [0, 0, 1, 0, 0, 'Skincare', 0]), ('P474110', [0, 0, 1, 1, 0, 'Skincare', 0]), ('P474121', [0, 0, 1, 0, 0, 'Skincare', 0]), ('P474109', [0, 0, 1, 0, 0, 'Skincare', 0]), ('P474122', [0, 0, 1, 0, 0, 'Skincare', 0]), ('P474111', [0, 0, 1, 0, 0, 'Skincare', 0]), ('P480191', [0, 0, 1, 0, 0, 'Skincare', 0]), ('P474116', [0, 0, 1, 0, 0, 'Skincare', 0]), ('P474115', [0, 0, 1, 0, 0, 'Skincare', 0]), ('P474107', [0, 0, 1, 0, 0, 'Skincare', 0]), ('P481743', [0, 0, 1, 0, 0, 'Skincare', 0]), ('P481742', [0, 0, 1, 0, 0, 'Skincare', 0]), ('P474118', [0, 0, 1, 0, 0, 'Skincare', 0]), ('P502758', [0, 0, 1, 0, 0, 'Skincare', 0]), ('P474125', [0, 0, 1, 0, 1, 'Skincare', 0]), ('P474114', [0, 0, 1, 0, 0, 'Skincare', 0]), ('P469538', [0, 0, 0, 0, 0, 'Skincare', 2]), ('P476729', [0, 0, 0, 0, 1, 'Skincare', 0]), ('P505346', [1, 1, 0, 0, 1, 'Skincare', 0]), ('P450633', [0, 0, 0, 0, 1, 'Skincare', 1]), ('P476730', [0, 0, 0, 0, 1, 'Skincare', 0]), ('P481833', [0, 0, 0, 0, 1, 'Skincare', 2]), ('P469537', [0, 0, 0, 0, 0, 'Skincare', 0]), ('P450632', [0, 0, 0, 0, 0, 'Skincare', 1]), ('P476731', [0, 0, 0, 0, 1, 'Skincare', 0]), ('P483708', [0, 0, 0, 0, 1, 'Skincare', 0]), ('P483692', [0, 0, 0, 0, 0, 'Skincare', 1]), ('P502395', [0, 0, 0, 0, 1, 'Skincare', 2]), ('P475172', [0, 0, 0, 0, 0, 'Skincare', 0]), ('P481834', [0, 0, 0, 0, 0, 'Skincare', 0]), ('P463110', [0, 0, 0, 0, 0, 'Skincare', 0]), ('P483694', [0, 0, 0, 0, 0, 'Skincare', 0]), ('P463109', [0, 0, 0, 0, 0, 'Skincare', 0]), ('P502448', [0, 0, 0, 0, 0, 'Skincare', 0]), ('P483693', [0, 0, 0, 0, 0, 'Skincare', 0]), ('P429952', [0, 0, 0, 0, 0, 'Skincare', 1]), ('P480630', [0, 0, 0, 0, 0, 'Skincare', 0]), ('P455936', [0, 0, 0, 0, 0, 'Skincare', 5]), ('P449180', [0, 0, 0, 0, 0, 'Skincare', 0]), ('P466153', [0, 0, 0, 0, 0, 'Skincare', 1]), ('P479125', [0, 0, 0, 0, 0, 'Skincare', 0]), ('P436387', [0, 0, 0, 0, 0, 'Skincare', 0]), ('P440504', [0, 0, 0, 1, 0, 'Skincare', 0]), ('P482074', [0, 0, 0, 0, 0, 'Skincare', 0]), ('P480192', [0, 0, 0, 0, 0, 'Skincare', 0]), ('P455242', [0, 0, 0, 0, 0, 'Skincare', 0]), ('P503827', [0, 1, 0, 0, 0, 'Skincare', 0]), ('P476028', [0, 0, 0, 0, 0, 'Skincare', 0]), ('P309308', [0, 0, 0, 0, 0, 'Skincare', 2]), ('P393718', [0, 0, 0, 0, 0, 'Skincare', 1]), ('P410400', [0, 0, 0, 0, 0, 'Skincare', 1]), ('P418346', [0, 0, 0, 0, 0, 'Skincare', 2]), ('P476414', [0, 0, 0, 0, 0, 'Skincare', 0]), ('P424948', [0, 0, 0, 0, 0, 'Skincare', 0]), ('P402718', [0, 0, 0, 0, 0, 'Skincare', 0]), ('P448937', [0, 0, 0, 0, 0, 'Skincare', 0]), ('P418629', [0, 0, 0, 0, 0, 'Skincare', 1]), ('P416139', [0, 0, 0, 0, 0, 'Skincare', 1]), ('P309310', [0, 0, 0, 0, 0, 'Skincare', 0]), ('P442761', [0, 0, 0, 0, 0, 'Skincare', 1]), ('P503726', [0, 0, 0, 0, 1, 'Skincare', 0]), ('P309306', [0, 0, 0, 0, 0, 'Skincare', 1]), ('P482551', [0, 0, 0, 0, 0, 'Skincare', 1]), ('P483076', [0, 1, 0, 0, 1, 'Skincare', 0]), ('P440075', [0, 0, 0, 0, 0, 'Skincare', 2]), ('P402014', [0, 0, 1, 0, 0, 'Skincare', 0]), ('P432053', [0, 0, 0, 0, 0, 'Skincare', 0]), ('P460627', [0, 0, 0, 0, 0, 'Skincare', 0]), ('P463964', [0, 0, 0, 0, 0, 'Skincare', 0]), ('P455235', [1, 0, 0, 0, 0, 'Skincare', 0]), ('P461535', [0, 0, 0, 0, 0, 'Skincare', 0]), ('P483495', [0, 0, 0, 0, 0, 'Skincare', 0]), ('P483494', [0, 0, 0, 0, 0, 'Skincare', 0]), ('P454380', [1, 0, 0, 0, 1, 'Skincare', 2]), ('P470255', [0, 0, 0, 0, 1, 'Skincare', 0]), ('P456218', [0, 0, 0, 0, 1, 'Skincare', 5]), ('P482320', [0, 0, 0, 1, 1, 'Skincare', 0]), ('P454383', [0, 0, 0, 0, 0, 'Skincare', 2]), ('P454384', [0, 0, 0, 0, 0, 'Skincare', 0]), ('P439928', [0, 0, 0, 0, 0, 'Skincare', 0]), ('P466154', [0, 0, 0, 0, 1, 'Skincare', 0]), ('P463353', [0, 0, 0, 0, 0, 'Skincare', 12]), ('P429953', [0, 0, 0, 0, 0, 'Skincare', 0]), ('P470057', [0, 0, 0, 0, 0, 'Skincare', 1]), ('P482321', [0, 0, 0, 0, 1, 'Skincare', 0]), ('P453226', [0, 0, 0, 1, 0, 'Skincare', 0]), ('P454387', [0, 0, 0, 0, 0, 'Skincare', 1]), ('P454388', [0, 0, 1, 0, 0, 'Skincare', 0]), ('P482323', [0, 0, 0, 0, 0, 'Skincare', 1]), ('P467976', [0, 0, 0, 0, 0, 'Skincare', 3]), ('P504045', [0, 0, 0, 0, 1, 'Skincare', 0]), ('P446909', [0, 0, 0, 0, 0, 'Skincare', 0]), ('P482325', [0, 0, 0, 0, 1, 'Skincare', 0]), ('P454389', [0, 0, 0, 0, 0, 'Skincare', 0]), ('P479351', [0, 0, 0, 0, 1, 'Skincare', 0]), ('P470058', [0, 0, 0, 0, 1, 'Skincare', 0]), ('P476733', [0, 0, 0, 0, 0, 'Skincare', 1]), ('P505211', [0, 1, 1, 0, 0, 'Skincare', 0]), ('P454385', [0, 0, 0, 0, 0, 'Skincare', 0]), ('P482322', [0, 0, 0, 0, 1, 'Skincare', 0]), ('P456407', [0, 0, 0, 0, 0, 'Skincare', 0]), ('P454391', [0, 0, 0, 0, 0, 'Skincare', 0]), ('P482746', [0, 0, 0, 0, 0, 'Skincare', 0]), ('P504320', [0, 0, 0, 0, 1, 'Skincare', 0]), ('P500782', [0, 0, 0, 0, 1, 'Skincare', 0]), ('P500060', [0, 0, 0, 0, 0, 'Skincare', 0]), ('P482747', [0, 0, 1, 0, 0, 'Skincare', 0]), ('P424988', [0, 0, 0, 0, 0, 'Skincare', 3]), ('P424989', [0, 0, 0, 0, 0, 'Skincare', 1]), ('P424986', [0, 0, 0, 0, 0, 'Skincare', 0]), ('P424990', [0, 0, 0, 0, 0, 'Skincare', 0]), ('P447199', [0, 0, 0, 0, 0, 'Skincare', 0]), ('P424985', [0, 0, 0, 0, 0, 'Skincare', 1]), ('P424984', [0, 0, 0, 0, 0, 'Skincare', 1]), ('P456989', [0, 0, 0, 0, 0, 'Skincare', 0]), ('P474376', [0, 0, 1, 0, 0, 'Skincare', 1]), ('P433440', [0, 0, 1, 0, 0, 'Skincare', 0]), ('P424987', [0, 0, 0, 0, 0, 'Skincare', 0]), ('P470545', [0, 0, 0, 0, 0, 'Skincare', 0]), ('P481837', [0, 0, 0, 0, 0, 'Skincare', 0]), ('P376726', [0, 0, 0, 0, 0, 'Skincare', 1]), ('P405599', [0, 0, 0, 0, 1, 'Skincare', 1]), ('P405096', [1, 0, 0, 1, 1, 'Skincare', 0]), ('P409631', [0, 0, 0, 1, 1, 'Skincare', 0]), ('P377545', [0, 0, 0, 0, 0, 'Skincare', 0]), ('P414737', [0, 0, 0, 0, 0, 'Skincare', 0]), ('P430818', [0, 0, 0, 1, 1, 'Skincare', 0]), ('P409630', [0, 0, 0, 1, 1, 'Skincare', 0]), ('P420230', [0, 0, 0, 1, 0, 'Skincare', 0]), ('P442989', [0, 0, 0, 1, 0, 'Skincare', 0]), ('P447200', [0, 0, 0, 0, 0, 'Skincare', 1]), ('P440306', [0, 0, 0, 1, 1, 'Skincare', 0]), ('P454376', [0, 0, 0, 0, 1, 'Skincare', 0]), ('P449835', [0, 0, 0, 0, 0, 'Skincare', 0]), ('P449836', [1, 0, 0, 1, 1, 'Skincare', 0]), ('P447409', [0, 0, 0, 0, 0, 'Skincare', 0]), ('P457468', [1, 0, 0, 0, 0, 'Skincare', 0]), ('P454822', [0, 0, 0, 1, 1, 'Skincare', 0]), ('P454377', [0, 0, 0, 0, 1, 'Skincare', 0]), ('P449411', [0, 0, 0, 1, 0, 'Skincare', 0]), ('P456434', [0, 0, 0, 0, 0, 'Skincare', 1]), ('P457279', [0, 0, 0, 0, 0, 'Skincare', 0]), ('P470548', [0, 0, 0, 0, 0, 'Skincare', 0]), ('P379707', [0, 0, 0, 0, 0, 'Skincare', 0]), ('P379710', [0, 0, 0, 0, 0, 'Skincare', 1]), ('P458917', [0, 0, 0, 0, 0, 'Skincare', 1]), ('P432048', [0, 0, 0, 0, 0, 'Skincare', 0]), ('P429954', [0, 0, 0, 0, 0, 'Skincare', 1]), ('P462747', [0, 0, 1, 0, 0, 'Skincare', 0]), ('P420143', [0, 0, 0, 0, 0, 'Skincare', 0]), ('P379711', [0, 0, 0, 0, 0, 'Skincare', 0]), ('P386739', [0, 0, 0, 0, 0, 'Skincare', 1]), ('P392144', [0, 0, 0, 0, 0, 'Skincare', 1]), ('P462748', [0, 0, 1, 0, 0, 'Skincare', 0]), ('P379709', [0, 0, 0, 0, 0, 'Skincare', 0]), ('P408301', [0, 0, 0, 0, 0, 'Skincare', 0]), ('P392143', [0, 0, 0, 1, 0, 'Skincare', 0]), ('P392142', [0, 0, 0, 0, 0, 'Skincare', 0]), ('P379705', [0, 0, 0, 0, 0, 'Skincare', 0]), ('P412407', [0, 0, 0, 0, 0, 'Skincare', 0]), ('P379704', [0, 0, 0, 0, 0, 'Skincare', 0]), ('P472341', [0, 0, 1, 0, 0, 'Skincare', 0]), ('P472343', [0, 0, 1, 0, 0, 'Skincare', 0]), ('P476736', [0, 0, 1, 0, 0, 'Skincare', 0]), ('P442748', [0, 0, 0, 0, 0, 'Skincare', 0]), ('P422848', [0, 0, 0, 0, 0, 'Skincare', 0]), ('P449410', [0, 0, 1, 0, 0, 'Skincare', 0]), ('P472342', [0, 0, 1, 0, 0, 'Skincare', 0]), ('P500482', [0, 0, 0, 0, 1, 'Skincare', 0]), ('P480354', [1, 0, 1, 0, 0, 'Skincare', 0]), ('P418218', [0, 0, 0, 0, 1, 'Skincare', 2]), ('P454794', [0, 0, 1, 0, 1, 'Skincare', 0]), ('P441101', [0, 0, 0, 0, 1, 'Skincare', 2]), ('P415771', [0, 0, 0, 0, 0, 'Skincare', 2]), ('P473160', [0, 0, 0, 0, 1, 'Skincare', 0]), ('P461537', [0, 0, 0, 0, 1, 'Skincare', 2]), ('P504595', [0, 1, 1, 0, 1, 'Skincare', 0]), ('P427536', [0, 0, 0, 0, 1, 'Skincare', 1]), ('P504615', [0, 1, 1, 0, 1, 'Skincare', 0]), ('P399623', [0, 0, 0, 0, 1, 'Skincare', 1]), ('P392235', [0, 0, 0, 0, 0, 'Skincare', 0]), ('P460512', [0, 0, 0, 0, 1, 'Skincare', 0]), ('P426340', [0, 0, 0, 0, 0, 'Skincare', 3]), ('P439058', [0, 0, 0, 0, 1, 'Skincare', 0]), ('P447780', [0, 0, 0, 0, 1, 'Skincare', 0]), ('P466155', [0, 0, 0, 0, 1, 'Skincare', 0]), ('P454018', [0, 0, 0, 0, 1, 'Skincare', 0]), ('P453225', [0, 0, 0, 0, 1, 'Skincare', 0]), ('P474377', [0, 0, 0, 0, 1, 'Skincare', 1]), ('P503191', [0, 0, 0, 0, 1, 'Skincare', 0]), ('P440934', [0, 0, 0, 0, 0, 'Skincare', 0]), ('P413326', [0, 0, 0, 0, 1, 'Skincare', 0]), ('P420699', [0, 0, 0, 0, 0, 'Skincare', 0]), ('P481169', [0, 0, 0, 0, 1, 'Skincare', 1]), ('P417867', [0, 0, 0, 0, 0, 'Skincare', 0]), ('P479352', [0, 0, 0, 0, 1, 'Skincare', 0]), ('P482552', [0, 0, 0, 0, 1, 'Skincare', 0]), ('P403315', [0, 0, 0, 0, 0, 'Skincare', 0]), ('P504506', [0, 1, 0, 0, 1, 'Skincare', 0]), ('P399622', [0, 0, 0, 0, 0, 'Skincare', 0]), ('P460746', [0, 0, 0, 0, 1, 'Skincare', 0]), ('P504218', [0, 1, 0, 0, 1, 'Skincare', 0]), ('P468229', [0, 0, 1, 0, 1, 'Skincare', 0]), ('P504327', [0, 1, 0, 0, 1, 'Skincare', 0]), ('P504203', [0, 1, 0, 0, 1, 'Skincare', 0]), ('P501323', [1, 0, 0, 1, 0, 'Skincare', 0]), ('P504303', [1, 1, 0, 0, 1, 'Skincare', 0]), ('P502365', [1, 0, 0, 1, 1, 'Skincare', 0]), ('P454795', [0, 0, 1, 0, 1, 'Skincare', 0]), ('P455364', [0, 0, 0, 0, 1, 'Skincare', 1]), ('P478030', [0, 0, 0, 0, 1, 'Skincare', 0]), ('P443845', [0, 0, 0, 0, 1, 'Skincare', 0]), ('P443840', [0, 0, 0, 0, 1, 'Skincare', 0]), ('P443833', [0, 0, 0, 0, 1, 'Skincare', 0]), ('P443842', [0, 0, 0, 0, 1, 'Skincare', 0]), ('P448802', [0, 0, 0, 0, 1, 'Skincare', 0]), ('P446942', [0, 0, 0, 0, 1, 'Skincare', 0]), ('P443830', [0, 0, 0, 0, 1, 'Skincare', 0]), ('P467655', [0, 0, 0, 0, 0, 'Skincare', 0]), ('P455369', [0, 0, 0, 0, 1, 'Skincare', 0]), ('P455368', [0, 0, 0, 0, 1, 'Skincare', 0]), ('P455366', [0, 0, 0, 0, 1, 'Skincare', 0]), ('P443843', [0, 0, 0, 0, 1, 'Skincare', 0]), ('P443846', [0, 0, 0, 0, 1, 'Skincare', 0]), ('P479354', [0, 0, 0, 0, 1, 'Skincare', 0]), ('P443841', [0, 0, 0, 0, 1, 'Skincare', 0]), ('P450614', [0, 0, 0, 0, 1, 'Skincare', 0]), ('P450262', [0, 0, 0, 0, 0, 'Skincare', 0]), ('P442871', [0, 0, 0, 0, 1, 'Skincare', 0]), ('P447778', [0, 0, 0, 0, 1, 'Skincare', 0]), ('P469088', [0, 0, 0, 0, 1, 'Skincare', 1]), ('P478029', [0, 0, 0, 0, 1, 'Skincare', 0]), ('P450244', [0, 0, 0, 0, 1, 'Skincare', 0]), ('P455365', [0, 0, 0, 0, 1, 'Skincare', 0]), ('P443838', [0, 0, 0, 0, 1, 'Skincare', 0]), ('P443837', [0, 0, 1, 0, 1, 'Skincare', 0]), ('P479353', [0, 0, 0, 0, 1, 'Skincare', 0]), ('P479722', [0, 0, 0, 0, 0, 'Skincare', 0]), ('P443834', [0, 0, 0, 0, 1, 'Skincare', 0]), ('P443839', [0, 0, 1, 0, 1, 'Skincare', 0]), ('P448537', [0, 0, 0, 0, 1, 'Skincare', 0]), ('P502749', [0, 0, 0, 0, 1, 'Skincare', 0]), ('P502691', [0, 0, 0, 0, 1, 'Skincare', 0]), ('P474972', [0, 0, 0, 0, 1, 'Skincare', 0]), ('P502741', [0, 0, 0, 0, 1, 'Skincare', 0]), ('P502710', [0, 0, 0, 0, 1, 'Skincare', 0]), ('P502756', [0, 0, 0, 0, 1, 'Skincare', 0]), ('P469544', [0, 0, 0, 0, 1, 'Skincare', 0]), ('P500775', [1, 0, 0, 0, 1, 'Skincare', 0]), ('P476459', [0, 0, 1, 0, 1, 'Skincare', 0]), ('P476447', [0, 0, 1, 0, 0, 'Skincare', 1]), ('P476538', [0, 0, 1, 0, 0, 'Skincare', 0]), ('P476554', [0, 0, 1, 0, 0, 'Skincare', 0]), ('P476553', [0, 0, 1, 0, 0, 'Skincare', 0]), ('P480358', [0, 0, 0, 0, 0, 'Skincare', 0]), ('P504049', [0, 1, 1, 0, 0, 'Skincare', 0]), ('P505210', [0, 1, 1, 0, 1, 'Skincare', 0]), ('P427417', [0, 0, 0, 0, 0, 'Skincare', 1]), ('P427419', [0, 0, 0, 0, 1, 'Skincare', 1]), ('P442563', [0, 0, 0, 0, 0, 'Skincare', 0]), ('P427406', [0, 0, 0, 0, 0, 'Skincare', 0]), ('P427416', [0, 0, 0, 0, 0, 'Skincare', 0]), ('P427414', [0, 0, 0, 0, 0, 'Skincare', 1]), ('P427415', [0, 0, 0, 0, 0, 'Skincare', 0]), ('P427420', [0, 0, 0, 0, 0, 'Skincare', 1]), ('P427413', [0, 0, 0, 0, 0, 'Skincare', 0]), ('P427410', [0, 0, 1, 0, 0, 'Skincare', 0]), ('P427411', [0, 0, 0, 0, 0, 'Skincare', 1]), ('P444718', [0, 0, 0, 0, 0, 'Skincare', 1]), ('P427412', [0, 0, 0, 0, 0, 'Skincare', 1]), ('P427418', [0, 0, 0, 0, 0, 'Skincare', 0]), ('P442830', [0, 0, 0, 0, 0, 'Skincare', 0]), ('P448530', [0, 0, 0, 0, 0, 'Skincare', 1]), ('P442754', [0, 0, 1, 0, 0, 'Skincare', 0]), ('P442758', [0, 0, 1, 0, 0, 'Skincare', 0]), ('P427409', [0, 0, 1, 0, 0, 'Skincare', 0]), ('P447596', [0, 0, 1, 0, 0, 'Skincare', 0]), ('P479732', [0, 0, 0, 0, 0, 'Skincare', 0]), ('P455900', [0, 0, 1, 0, 0, 'Skincare', 0]), ('P442752', [0, 0, 0, 0, 0, 'Skincare', 0]), ('P442753', [0, 0, 1, 0, 0, 'Skincare', 0]), ('P442757', [0, 0, 1, 1, 0, 'Skincare', 0]), ('P455899', [0, 0, 1, 0, 0, 'Skincare', 0]), ('P427405', [0, 0, 1, 0, 0, 'Skincare', 0]), ('P442759', [0, 0, 1, 0, 0, 'Skincare', 0]), ('P504028', [0, 1, 0, 0, 0, 'Skincare', 0]), ('P455898', [0, 0, 1, 0, 0, 'Skincare', 0]), ('P455338', [0, 0, 0, 0, 0, 'Skincare', 0]), ('P455339', [0, 0, 1, 0, 0, 'Skincare', 0]), ('P427404', [0, 0, 1, 0, 0, 'Skincare', 0]), ('P442755', [0, 0, 1, 0, 0, 'Skincare', 0]), ('P442756', [0, 0, 1, 0, 0, 'Skincare', 0]), ('P442833', [0, 0, 1, 1, 0, 'Skincare', 0]), ('P482327', [0, 0, 0, 0, 0, 'Skincare', 0]), ('P468709', [0, 0, 0, 0, 0, 'Skincare', 0]), ('P482328', [0, 0, 0, 0, 0, 'Skincare', 0]), ('P447597', [0, 0, 1, 1, 0, 'Skincare', 0]), ('P483496', [0, 0, 0, 0, 0, 'Skincare', 0]), ('P455897', [0, 0, 1, 1, 0, 'Skincare', 0]), ('P479861', [0, 0, 0, 0, 0, 'Skincare', 0]), ('P500139', [1, 0, 0, 0, 1, 'Skincare', 0]), ('P505274', [0, 1, 0, 0, 0, 'Skincare', 0]), ('P504073', [0, 1, 0, 0, 0, 'Skincare', 0]), ('P483697', [0, 0, 0, 0, 1, 'Skincare', 0]), ('P504076', [0, 0, 0, 0, 0, 'Skincare', 0]), ('P483699', [0, 0, 0, 0, 1, 'Skincare', 0]), ('P483700', [0, 0, 0, 0, 1, 'Skincare', 0]), ('P483698', [0, 0, 0, 0, 1, 'Skincare', 0]), ('P483696', [0, 0, 0, 0, 1, 'Skincare', 0]), ('P483701', [0, 0, 0, 0, 1, 'Skincare', 0]), ('P470259', [0, 0, 0, 0, 1, 'Skincare', 1]), ('P484080', [0, 0, 0, 0, 0, 'Skincare', 0]), ('P448852', [0, 0, 0, 0, 0, 'Skincare', 2]), ('P448853', [0, 0, 0, 0, 0, 'Skincare', 0]), ('P500121', [0, 0, 0, 0, 0, 'Skincare', 0]), ('P475182', [0, 0, 0, 0, 0, 'Skincare', 2]), ('P482757', [0, 0, 0, 0, 0, 'Skincare', 0]), ('P475185', [0, 0, 0, 0, 0, 'Skincare', 2]), ('P475203', [0, 0, 0, 0, 0, 'Skincare', 0]), ('P475190', [0, 0, 0, 0, 0, 'Skincare', 0]), ('P475181', [0, 0, 0, 0, 0, 'Skincare', 0]), ('P475194', [0, 0, 0, 0, 0, 'Skincare', 0]), ('P481748', [0, 0, 0, 0, 0, 'Skincare', 0]), ('P482753', [0, 0, 0, 0, 0, 'Skincare', 0]), ('P475201', [0, 0, 0, 0, 0, 'Skincare', 0]), ('P484081', [0, 0, 0, 0, 1, 'Skincare', 0]), ('P503652', [0, 1, 0, 0, 0, 'Skincare', 0]), ('P475180', [0, 0, 0, 0, 0, 'Skincare', 0]), ('P475188', [0, 0, 0, 0, 0, 'Skincare', 0]), ('P501316', [0, 0, 0, 0, 0, 'Skincare', 0]), ('P475189', [0, 0, 0, 0, 0, 'Skincare', 0]), ('P482754', [0, 0, 0, 0, 0, 'Skincare', 0]), ('P475197', [0, 0, 0, 0, 0, 'Skincare', 0]), ('P475184', [0, 0, 0, 0, 0, 'Skincare', 0]), ('P475195', [0, 0, 0, 0, 0, 'Skincare', 0]), ('P475192', [0, 0, 0, 0, 0, 'Skincare', 0]), ('P475183', [0, 0, 0, 0, 0, 'Skincare', 0]), ('P475204', [0, 0, 0, 0, 0, 'Skincare', 0]), ('P475193', [0, 0, 0, 0, 0, 'Skincare', 0]), ('P475186', [0, 0, 0, 0, 0, 'Skincare', 0]), ('P475196', [0, 0, 0, 0, 0, 'Skincare', 0]), ('P475200', [0, 0, 0, 0, 0, 'Skincare', 0]), ('P475187', [0, 0, 0, 0, 0, 'Skincare', 0]), ('P482755', [0, 0, 0, 0, 0, 'Skincare', 0]), ('P460010', [0, 0, 0, 0, 1, 'Skincare', 0]), ('P428668', [0, 0, 0, 0, 0, 'Skincare', 1]), ('P437960', [0, 0, 0, 0, 0, 'Skincare', 0]), ('P503635', [0, 0, 1, 0, 0, 'Skincare', 0]), ('P501165', [0, 0, 1, 1, 0, 'Skincare', 0]), ('P501187', [0, 0, 1, 0, 0, 'Skincare', 0]), ('P501188', [0, 0, 1, 0, 0, 'Skincare', 0]), ('P501170', [0, 0, 1, 0, 0, 'Skincare', 0]), ('P501171', [0, 0, 1, 1, 0, 'Skincare', 0]), ('P501189', [0, 0, 1, 0, 0, 'Skincare', 0]), ('P501199', [0, 0, 1, 1, 0, 'Skincare', 0]), ('P501178', [0, 0, 1, 0, 0, 'Skincare', 0]), ('P455676', [0, 0, 0, 0, 1, 'Skincare', 1]), ('P458216', [0, 0, 0, 0, 1, 'Skincare', 0]), ('P461213', [0, 0, 0, 0, 1, 'Skincare', 0]), ('P471111', [0, 0, 0, 0, 1, 'Skincare', 0]), ('P466163', [0, 0, 0, 0, 1, 'Skincare', 0]), ('P463665', [0, 0, 0, 0, 1, 'Skincare', 0]), ('P475629', [0, 0, 0, 0, 1, 'Skincare', 0]), ('P501790', [0, 0, 0, 0, 1, 'Skincare', 0]), ('P500428', [0, 0, 0, 0, 1, 'Skincare', 0]), ('P502771', [0, 0, 0, 0, 1, 'Skincare', 0]), ('P411387', [0, 0, 0, 0, 0, 'Skincare', 2]), ('P441644', [0, 0, 0, 0, 0, 'Skincare', 0]), ('P440307', [0, 0, 0, 0, 0, 'Skincare', 1]), ('P461555', [0, 0, 0, 0, 0, 'Skincare', 0]), ('P432829', [0, 0, 0, 0, 0, 'Skincare', 1]), ('P463371', [0, 0, 1, 0, 0, 'Skincare', 0]), ('P411388', [0, 0, 0, 0, 0, 'Skincare', 0]), ('P430146', [0, 0, 0, 0, 0, 'Skincare', 0]), ('P466164', [0, 0, 0, 0, 0, 'Skincare', 0]), ('P477830', [0, 0, 0, 0, 0, 'Skincare', 0]), ('P455934', [0, 0, 0, 0, 0, 'Skincare', 0]), ('P475630', [0, 0, 0, 0, 0, 'Skincare', 0]), ('P463144', [0, 0, 0, 0, 0, 'Skincare', 0]), ('P479362', [0, 0, 0, 0, 0, 'Skincare', 0]), ('P444980', [0, 0, 0, 0, 0, 'Skincare', 0]), ('P500138', [0, 0, 0, 0, 1, 'Skincare', 0]), ('P470065', [0, 0, 0, 0, 0, 'Skincare', 0]), ('P416923', [0, 0, 0, 0, 0, 'Skincare', 0]), ('P482329', [0, 0, 0, 0, 0, 'Skincare', 0]), ('P502479', [0, 0, 0, 0, 0, 'Skincare', 0]), ('P473336', [0, 0, 0, 0, 0, 'Skincare', 0]), ('P504313', [0, 1, 0, 0, 1, 'Skincare', 0]), ('P501474', [1, 0, 1, 0, 1, 'Skincare', 0]), ('P502977', [1, 0, 0, 0, 0, 'Skincare', 0]), ('P502978', [0, 0, 0, 0, 0, 'Skincare', 0])]\n"
     ]
    }
   ],
   "source": [
    "items_features = [(row[0], list(row[1:])) for row in filtered_item_features_df.values]\n",
    "print(items_features)\n"
   ]
  },
  {
   "cell_type": "code",
   "execution_count": 17,
   "id": "0701957e",
   "metadata": {},
   "outputs": [
    {
     "name": "stderr",
     "output_type": "stream",
     "text": [
      "IOPub data rate exceeded.\n",
      "The notebook server will temporarily stop sending output\n",
      "to the client in order to avoid crashing it.\n",
      "To change this limit, set the config variable\n",
      "`--NotebookApp.iopub_data_rate_limit`.\n",
      "\n",
      "Current values:\n",
      "NotebookApp.iopub_data_rate_limit=1000000.0 (bytes/sec)\n",
      "NotebookApp.rate_limit_window=3.0 (secs)\n",
      "\n"
     ]
    }
   ],
   "source": [
    "users_features =  [(row[0], list(row[1:])) for row in user_features_df.values]\n",
    "#print(users_features)\n"
   ]
  },
  {
   "cell_type": "code",
   "execution_count": 19,
   "id": "f804e1a4",
   "metadata": {},
   "outputs": [],
   "source": [
    "# Assuming we have interaction data and item and user features\n",
    "# interactions_df: user_id, item_id\n",
    "# item_features_df: item_id, feature_1, feature_2, ...\n",
    "# user_features_df: user_id, feature_1, feature_2, ...\n",
    "\n",
    "# Create a LightFM dataset\n",
    "dataset = Dataset()\n",
    "dataset.fit(\n",
    "   users=interactions_df['user_id'],\n",
    "   items=interactions_df['item_id'],\n",
    "   item_features=['limited_edition', 'new', 'online_only', 'out_of_stock', 'sephora_exclusive', 'primary_category', 'child_count'],\n",
    "   user_features=['skin_tone', 'eye_color', 'skin_type', 'hair_color']\n",
    ")"
   ]
  },
  {
   "cell_type": "code",
   "execution_count": 20,
   "id": "bce4bd6c",
   "metadata": {},
   "outputs": [],
   "source": [
    "# Building the interactions matrix\n",
    "(interactions, weights) = dataset.build_interactions((row['user_id'], row['item_id']) for index, row in interactions_df.iterrows())"
   ]
  },
  {
   "cell_type": "code",
   "execution_count": 23,
   "id": "871f527c",
   "metadata": {},
   "outputs": [
    {
     "ename": "ValueError",
     "evalue": "Feature P420652 not in feature mapping. Call fit first.",
     "output_type": "error",
     "traceback": [
      "\u001b[0;31m---------------------------------------------------------------------------\u001b[0m",
      "\u001b[0;31mValueError\u001b[0m                                Traceback (most recent call last)",
      "Input \u001b[0;32mIn [23]\u001b[0m, in \u001b[0;36m<cell line: 1>\u001b[0;34m()\u001b[0m\n\u001b[0;32m----> 1\u001b[0m user_features_list \u001b[38;5;241m=\u001b[39m \u001b[43mdataset\u001b[49m\u001b[38;5;241;43m.\u001b[39;49m\u001b[43mbuild_user_features\u001b[49m\u001b[43m(\u001b[49m\u001b[43musers_features\u001b[49m\u001b[43m)\u001b[49m\n\u001b[1;32m      2\u001b[0m item_features_list \u001b[38;5;241m=\u001b[39m dataset\u001b[38;5;241m.\u001b[39mbuild_item_features(items_features)\n",
      "File \u001b[0;32m~/opt/anaconda3/lib/python3.9/site-packages/lightfm/data.py:376\u001b[0m, in \u001b[0;36mDataset.build_user_features\u001b[0;34m(self, data, normalize)\u001b[0m\n\u001b[1;32m    346\u001b[0m \u001b[38;5;124;03m\"\"\"\u001b[39;00m\n\u001b[1;32m    347\u001b[0m \u001b[38;5;124;03mBuild a user features matrix out of an iterable of the form\u001b[39;00m\n\u001b[1;32m    348\u001b[0m \u001b[38;5;124;03m(user id, [list of feature names]) or (user id, {feature name: feature weight}).\u001b[39;00m\n\u001b[0;32m   (...)\u001b[0m\n\u001b[1;32m    365\u001b[0m \u001b[38;5;124;03m    Matrix of user features.\u001b[39;00m\n\u001b[1;32m    366\u001b[0m \u001b[38;5;124;03m\"\"\"\u001b[39;00m\n\u001b[1;32m    368\u001b[0m builder \u001b[38;5;241m=\u001b[39m _FeatureBuilder(\n\u001b[1;32m    369\u001b[0m     \u001b[38;5;28mself\u001b[39m\u001b[38;5;241m.\u001b[39m_user_id_mapping,\n\u001b[1;32m    370\u001b[0m     \u001b[38;5;28mself\u001b[39m\u001b[38;5;241m.\u001b[39m_user_feature_mapping,\n\u001b[0;32m   (...)\u001b[0m\n\u001b[1;32m    373\u001b[0m     \u001b[38;5;124m\"\u001b[39m\u001b[38;5;124muser\u001b[39m\u001b[38;5;124m\"\u001b[39m,\n\u001b[1;32m    374\u001b[0m )\n\u001b[0;32m--> 376\u001b[0m \u001b[38;5;28;01mreturn\u001b[39;00m \u001b[43mbuilder\u001b[49m\u001b[38;5;241;43m.\u001b[39;49m\u001b[43mbuild\u001b[49m\u001b[43m(\u001b[49m\u001b[43mdata\u001b[49m\u001b[43m)\u001b[49m\n",
      "File \u001b[0;32m~/opt/anaconda3/lib/python3.9/site-packages/lightfm/data.py:119\u001b[0m, in \u001b[0;36m_FeatureBuilder.build\u001b[0;34m(self, data)\u001b[0m\n\u001b[1;32m    116\u001b[0m         features\u001b[38;5;241m.\u001b[39mappend(idx, \u001b[38;5;28mself\u001b[39m\u001b[38;5;241m.\u001b[39m_feature_mapping[_id], \u001b[38;5;241m1.0\u001b[39m)\n\u001b[1;32m    118\u001b[0m \u001b[38;5;28;01mfor\u001b[39;00m datum \u001b[38;5;129;01min\u001b[39;00m data:\n\u001b[0;32m--> 119\u001b[0m     \u001b[38;5;28;01mfor\u001b[39;00m (entity_idx, feature_idx, weight) \u001b[38;5;129;01min\u001b[39;00m \u001b[38;5;28mself\u001b[39m\u001b[38;5;241m.\u001b[39m_process_features(datum):\n\u001b[1;32m    120\u001b[0m         features\u001b[38;5;241m.\u001b[39mappend(entity_idx, feature_idx, weight)\n\u001b[1;32m    122\u001b[0m features \u001b[38;5;241m=\u001b[39m features\u001b[38;5;241m.\u001b[39mtocoo()\u001b[38;5;241m.\u001b[39mtocsr()\n",
      "File \u001b[0;32m~/opt/anaconda3/lib/python3.9/site-packages/lightfm/data.py:101\u001b[0m, in \u001b[0;36m_FeatureBuilder._process_features\u001b[0;34m(self, datum)\u001b[0m\n\u001b[1;32m     99\u001b[0m \u001b[38;5;28;01mfor\u001b[39;00m (feature, weight) \u001b[38;5;129;01min\u001b[39;00m \u001b[38;5;28mself\u001b[39m\u001b[38;5;241m.\u001b[39m_iter_features(features):\n\u001b[1;32m    100\u001b[0m     \u001b[38;5;28;01mif\u001b[39;00m feature \u001b[38;5;129;01mnot\u001b[39;00m \u001b[38;5;129;01min\u001b[39;00m \u001b[38;5;28mself\u001b[39m\u001b[38;5;241m.\u001b[39m_feature_mapping:\n\u001b[0;32m--> 101\u001b[0m         \u001b[38;5;28;01mraise\u001b[39;00m \u001b[38;5;167;01mValueError\u001b[39;00m(\n\u001b[1;32m    102\u001b[0m             \u001b[38;5;124m\"\u001b[39m\u001b[38;5;124mFeature \u001b[39m\u001b[38;5;132;01m{}\u001b[39;00m\u001b[38;5;124m not in feature mapping. \u001b[39m\u001b[38;5;124m\"\u001b[39m\n\u001b[1;32m    103\u001b[0m             \u001b[38;5;124m\"\u001b[39m\u001b[38;5;124mCall fit first.\u001b[39m\u001b[38;5;124m\"\u001b[39m\u001b[38;5;241m.\u001b[39mformat(feature)\n\u001b[1;32m    104\u001b[0m         )\n\u001b[1;32m    106\u001b[0m     feature_idx \u001b[38;5;241m=\u001b[39m \u001b[38;5;28mself\u001b[39m\u001b[38;5;241m.\u001b[39m_feature_mapping[feature]\n\u001b[1;32m    108\u001b[0m     \u001b[38;5;28;01myield\u001b[39;00m (idx, feature_idx, weight)\n",
      "\u001b[0;31mValueError\u001b[0m: Feature P420652 not in feature mapping. Call fit first."
     ]
    }
   ],
   "source": [
    "user_features_list = dataset.build_user_features(users_features)\n",
    "item_features_list = dataset.build_item_features(items_features)"
   ]
  },
  {
   "cell_type": "code",
   "execution_count": 22,
   "id": "9785b1b2",
   "metadata": {},
   "outputs": [
    {
     "ename": "AttributeError",
     "evalue": "'list' object has no attribute 'tocsr'",
     "output_type": "error",
     "traceback": [
      "\u001b[0;31m---------------------------------------------------------------------------\u001b[0m",
      "\u001b[0;31mAttributeError\u001b[0m                            Traceback (most recent call last)",
      "Input \u001b[0;32mIn [22]\u001b[0m, in \u001b[0;36m<cell line: 3>\u001b[0;34m()\u001b[0m\n\u001b[1;32m      1\u001b[0m \u001b[38;5;66;03m# Train the model\u001b[39;00m\n\u001b[1;32m      2\u001b[0m model \u001b[38;5;241m=\u001b[39m LightFM()\n\u001b[0;32m----> 3\u001b[0m \u001b[43mmodel\u001b[49m\u001b[38;5;241;43m.\u001b[39;49m\u001b[43mfit\u001b[49m\u001b[43m(\u001b[49m\u001b[43minteractions\u001b[49m\u001b[43m,\u001b[49m\u001b[43m \u001b[49m\u001b[43muser_features\u001b[49m\u001b[38;5;241;43m=\u001b[39;49m\u001b[43musers_features\u001b[49m\u001b[43m,\u001b[49m\u001b[43m \u001b[49m\u001b[43mitem_features\u001b[49m\u001b[38;5;241;43m=\u001b[39;49m\u001b[43mitems_features\u001b[49m\u001b[43m,\u001b[49m\u001b[43m \u001b[49m\u001b[43mepochs\u001b[49m\u001b[38;5;241;43m=\u001b[39;49m\u001b[38;5;241;43m10\u001b[39;49m\u001b[43m)\u001b[49m\n",
      "File \u001b[0;32m~/opt/anaconda3/lib/python3.9/site-packages/lightfm/lightfm.py:550\u001b[0m, in \u001b[0;36mLightFM.fit\u001b[0;34m(self, interactions, user_features, item_features, sample_weight, epochs, num_threads, verbose)\u001b[0m\n\u001b[1;32m    547\u001b[0m \u001b[38;5;66;03m# Discard old results, if any\u001b[39;00m\n\u001b[1;32m    548\u001b[0m \u001b[38;5;28mself\u001b[39m\u001b[38;5;241m.\u001b[39m_reset_state()\n\u001b[0;32m--> 550\u001b[0m \u001b[38;5;28;01mreturn\u001b[39;00m \u001b[38;5;28;43mself\u001b[39;49m\u001b[38;5;241;43m.\u001b[39;49m\u001b[43mfit_partial\u001b[49m\u001b[43m(\u001b[49m\n\u001b[1;32m    551\u001b[0m \u001b[43m    \u001b[49m\u001b[43minteractions\u001b[49m\u001b[43m,\u001b[49m\n\u001b[1;32m    552\u001b[0m \u001b[43m    \u001b[49m\u001b[43muser_features\u001b[49m\u001b[38;5;241;43m=\u001b[39;49m\u001b[43muser_features\u001b[49m\u001b[43m,\u001b[49m\n\u001b[1;32m    553\u001b[0m \u001b[43m    \u001b[49m\u001b[43mitem_features\u001b[49m\u001b[38;5;241;43m=\u001b[39;49m\u001b[43mitem_features\u001b[49m\u001b[43m,\u001b[49m\n\u001b[1;32m    554\u001b[0m \u001b[43m    \u001b[49m\u001b[43msample_weight\u001b[49m\u001b[38;5;241;43m=\u001b[39;49m\u001b[43msample_weight\u001b[49m\u001b[43m,\u001b[49m\n\u001b[1;32m    555\u001b[0m \u001b[43m    \u001b[49m\u001b[43mepochs\u001b[49m\u001b[38;5;241;43m=\u001b[39;49m\u001b[43mepochs\u001b[49m\u001b[43m,\u001b[49m\n\u001b[1;32m    556\u001b[0m \u001b[43m    \u001b[49m\u001b[43mnum_threads\u001b[49m\u001b[38;5;241;43m=\u001b[39;49m\u001b[43mnum_threads\u001b[49m\u001b[43m,\u001b[49m\n\u001b[1;32m    557\u001b[0m \u001b[43m    \u001b[49m\u001b[43mverbose\u001b[49m\u001b[38;5;241;43m=\u001b[39;49m\u001b[43mverbose\u001b[49m\u001b[43m,\u001b[49m\n\u001b[1;32m    558\u001b[0m \u001b[43m\u001b[49m\u001b[43m)\u001b[49m\n",
      "File \u001b[0;32m~/opt/anaconda3/lib/python3.9/site-packages/lightfm/lightfm.py:625\u001b[0m, in \u001b[0;36mLightFM.fit_partial\u001b[0;34m(self, interactions, user_features, item_features, sample_weight, epochs, num_threads, verbose)\u001b[0m\n\u001b[1;32m    622\u001b[0m sample_weight_data \u001b[38;5;241m=\u001b[39m \u001b[38;5;28mself\u001b[39m\u001b[38;5;241m.\u001b[39m_process_sample_weight(interactions, sample_weight)\n\u001b[1;32m    624\u001b[0m n_users, n_items \u001b[38;5;241m=\u001b[39m interactions\u001b[38;5;241m.\u001b[39mshape\n\u001b[0;32m--> 625\u001b[0m (user_features, item_features) \u001b[38;5;241m=\u001b[39m \u001b[38;5;28;43mself\u001b[39;49m\u001b[38;5;241;43m.\u001b[39;49m\u001b[43m_construct_feature_matrices\u001b[49m\u001b[43m(\u001b[49m\n\u001b[1;32m    626\u001b[0m \u001b[43m    \u001b[49m\u001b[43mn_users\u001b[49m\u001b[43m,\u001b[49m\u001b[43m \u001b[49m\u001b[43mn_items\u001b[49m\u001b[43m,\u001b[49m\u001b[43m \u001b[49m\u001b[43muser_features\u001b[49m\u001b[43m,\u001b[49m\u001b[43m \u001b[49m\u001b[43mitem_features\u001b[49m\n\u001b[1;32m    627\u001b[0m \u001b[43m\u001b[49m\u001b[43m)\u001b[49m\n\u001b[1;32m    629\u001b[0m \u001b[38;5;28;01mfor\u001b[39;00m input_data \u001b[38;5;129;01min\u001b[39;00m (\n\u001b[1;32m    630\u001b[0m     user_features\u001b[38;5;241m.\u001b[39mdata,\n\u001b[1;32m    631\u001b[0m     item_features\u001b[38;5;241m.\u001b[39mdata,\n\u001b[1;32m    632\u001b[0m     interactions\u001b[38;5;241m.\u001b[39mdata,\n\u001b[1;32m    633\u001b[0m     sample_weight_data,\n\u001b[1;32m    634\u001b[0m ):\n\u001b[1;32m    635\u001b[0m     \u001b[38;5;28mself\u001b[39m\u001b[38;5;241m.\u001b[39m_check_input_finite(input_data)\n",
      "File \u001b[0;32m~/opt/anaconda3/lib/python3.9/site-packages/lightfm/lightfm.py:321\u001b[0m, in \u001b[0;36mLightFM._construct_feature_matrices\u001b[0;34m(self, n_users, n_items, user_features, item_features)\u001b[0m\n\u001b[1;32m    319\u001b[0m     user_features \u001b[38;5;241m=\u001b[39m sp\u001b[38;5;241m.\u001b[39midentity(n_users, dtype\u001b[38;5;241m=\u001b[39mCYTHON_DTYPE, \u001b[38;5;28mformat\u001b[39m\u001b[38;5;241m=\u001b[39m\u001b[38;5;124m\"\u001b[39m\u001b[38;5;124mcsr\u001b[39m\u001b[38;5;124m\"\u001b[39m)\n\u001b[1;32m    320\u001b[0m \u001b[38;5;28;01melse\u001b[39;00m:\n\u001b[0;32m--> 321\u001b[0m     user_features \u001b[38;5;241m=\u001b[39m \u001b[43muser_features\u001b[49m\u001b[38;5;241;43m.\u001b[39;49m\u001b[43mtocsr\u001b[49m()\n\u001b[1;32m    323\u001b[0m \u001b[38;5;28;01mif\u001b[39;00m item_features \u001b[38;5;129;01mis\u001b[39;00m \u001b[38;5;28;01mNone\u001b[39;00m:\n\u001b[1;32m    324\u001b[0m     item_features \u001b[38;5;241m=\u001b[39m sp\u001b[38;5;241m.\u001b[39midentity(n_items, dtype\u001b[38;5;241m=\u001b[39mCYTHON_DTYPE, \u001b[38;5;28mformat\u001b[39m\u001b[38;5;241m=\u001b[39m\u001b[38;5;124m\"\u001b[39m\u001b[38;5;124mcsr\u001b[39m\u001b[38;5;124m\"\u001b[39m)\n",
      "\u001b[0;31mAttributeError\u001b[0m: 'list' object has no attribute 'tocsr'"
     ]
    }
   ],
   "source": [
    "# Train the model\n",
    "model = LightFM()\n",
    "model.fit(interactions, user_features=users_features, item_features=items_features, epochs=10)"
   ]
  },
  {
   "cell_type": "code",
   "execution_count": null,
   "id": "388d55c5",
   "metadata": {},
   "outputs": [],
   "source": []
  },
  {
   "cell_type": "code",
   "execution_count": null,
   "id": "d705ff71",
   "metadata": {},
   "outputs": [],
   "source": []
  }
 ],
 "metadata": {
  "kernelspec": {
   "display_name": "Python 3 (ipykernel)",
   "language": "python",
   "name": "python3"
  },
  "language_info": {
   "codemirror_mode": {
    "name": "ipython",
    "version": 3
   },
   "file_extension": ".py",
   "mimetype": "text/x-python",
   "name": "python",
   "nbconvert_exporter": "python",
   "pygments_lexer": "ipython3",
   "version": "3.9.12"
  }
 },
 "nbformat": 4,
 "nbformat_minor": 5
}
