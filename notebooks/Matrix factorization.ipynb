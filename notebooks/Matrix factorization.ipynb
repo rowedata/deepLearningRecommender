{
 "cells": [
  {
   "cell_type": "markdown",
   "id": "a20148d1",
   "metadata": {},
   "source": [
    "# Modeling"
   ]
  },
  {
   "cell_type": "markdown",
   "id": "0e845bc9",
   "metadata": {},
   "source": [
    "## Model1 : Collaborative Filtering with Surprise SVD\n",
    "Collaborative filtering is to discover the similarities on the user’s past behavior and make predictions to the user based on a similar preference with other users. This model is then used to predict items (or ratings for items) that the user may have an interest in.\n"
   ]
  },
  {
   "cell_type": "markdown",
   "id": "497a244c",
   "metadata": {},
   "source": [
    "#### Load the packages"
   ]
  },
  {
   "cell_type": "code",
   "execution_count": 39,
   "id": "bb91889f",
   "metadata": {},
   "outputs": [],
   "source": [
    "#standard packages\n",
    "%matplotlib inline\n",
    "import numpy as np\n",
    "import pandas as pd \n",
    "import matplotlib.pyplot as plt\n",
    "import seaborn as sns\n",
    "from sklearn.metrics import roc_curve, auc\n",
    "\n",
    "# Surprise modules\n",
    "from surprise import SVD\n",
    "from surprise.prediction_algorithms import KNNWithMeans, KNNBasic, KNNBaseline\n",
    "from surprise import Dataset, Reader\n",
    "from surprise import accuracy\n",
    "from surprise.model_selection import cross_validate, train_test_split, GridSearchCV"
   ]
  },
  {
   "cell_type": "code",
   "execution_count": 40,
   "id": "f1a27e86",
   "metadata": {},
   "outputs": [],
   "source": [
    "# Load the data\n",
    "product_info = pd.read_csv('../data/raw/archive/product_info.csv')\n",
    "reviews250 = pd.read_csv('../data/raw/archive/reviews_0_250.csv', low_memory=False, index_col=0)\n",
    "reviews500 = pd.read_csv('../data/raw/archive/reviews_250_500.csv', low_memory=False, index_col=0)\n",
    "reviews750 = pd.read_csv('../data/raw/archive/reviews_500_750.csv', low_memory=False, index_col=0)\n",
    "reviews1000 = pd.read_csv('../data/raw/archive/reviews_750_1000.csv', low_memory=False, index_col=0)\n",
    "reviews1500 = pd.read_csv('../data/raw/archive/reviews_1000_1500.csv', low_memory=False, index_col=0)\n",
    "reviewsend = pd.read_csv('../data/raw/archive/reviews_1500_end.csv', low_memory=False, index_col=0)"
   ]
  },
  {
   "cell_type": "code",
   "execution_count": 48,
   "id": "cbb716c3",
   "metadata": {},
   "outputs": [
    {
     "name": "stdout",
     "output_type": "stream",
     "text": [
      "(1301136, 3)\n",
      "(1088886, 3)\n"
     ]
    }
   ],
   "source": [
    "df = pd.concat([reviews250, reviews500, reviews750, reviews1000, reviews1500, reviewsend])\n",
    "df.rename(columns = {'author_id':'user_id', 'product_id':'item_id'}, inplace=True)\n",
    "df = df[['user_id', 'item_id', 'rating']]\n",
    "df.dropna(axis = 0, how = 'any', inplace = True)    \n",
    "# All item ids are unique in the dataset\n",
    "print(df.shape)\n",
    "df = df.drop_duplicates(subset = ['user_id', 'item_id'])\n",
    "print(df.shape)"
   ]
  },
  {
   "cell_type": "markdown",
   "id": "91f2bfc4",
   "metadata": {},
   "source": [
    "### Model fitting"
   ]
  },
  {
   "cell_type": "code",
   "execution_count": 49,
   "id": "9803319e",
   "metadata": {},
   "outputs": [],
   "source": [
    "# Assume you have a pandas DataFrame df with columns 'user', 'item', 'rating'\n",
    "reader = Reader(rating_scale=(1, 5))  \n",
    "data = Dataset.load_from_df(df, reader)"
   ]
  },
  {
   "cell_type": "code",
   "execution_count": 50,
   "id": "95c0f8ba",
   "metadata": {},
   "outputs": [],
   "source": [
    "# Split data into train and test\n",
    "trainset, testset = train_test_split(data, test_size=0.2)"
   ]
  },
  {
   "cell_type": "code",
   "execution_count": 51,
   "id": "40b48339",
   "metadata": {},
   "outputs": [
    {
     "data": {
      "text/plain": [
       "<surprise.prediction_algorithms.matrix_factorization.SVD at 0x7f87c7a04fd0>"
      ]
     },
     "execution_count": 51,
     "metadata": {},
     "output_type": "execute_result"
    }
   ],
   "source": [
    "# Instantiate SVD and fit the trainset\n",
    "algo = SVD()\n",
    "algo.fit(trainset)"
   ]
  },
  {
   "cell_type": "markdown",
   "id": "414ffc33",
   "metadata": {},
   "source": [
    "### Model Evaluation\n",
    "\n",
    "We use different evaluation metrics to understand how well  model is performing. \n",
    "\n",
    "Metrics used:  Root Mean Square Error (RMSE), Mean Absolute Error (MAE), precision, recall, F1 score, and Area Under the ROC Curve (AUC-ROC)."
   ]
  },
  {
   "cell_type": "code",
   "execution_count": 52,
   "id": "dd223b3c",
   "metadata": {},
   "outputs": [
    {
     "name": "stdout",
     "output_type": "stream",
     "text": [
      "RMSE: 1.0287\n",
      "MAE:  0.7566\n",
      "Precision: 0.85\n",
      "Recall: 0.98\n",
      "F1: 0.91\n"
     ]
    }
   ],
   "source": [
    "predictions = algo.test(testset)\n",
    "\n",
    "# Then compute RMSE and MAE\n",
    "accuracy.rmse(predictions)\n",
    "accuracy.mae(predictions)\n",
    "\n",
    "# For precision and recall we need to define a threshold for positive vs. negative ratings\n",
    "# Here we'll use 3.5 (on a 5-point scale), but this will depend on how your ratings are distributed\n",
    "threshold = 3.5\n",
    "true_positives = sum([1 for prediction in predictions if prediction.r_ui >= threshold and prediction.est >= threshold])\n",
    "true_negatives = sum([1 for prediction in predictions if prediction.r_ui < threshold and prediction.est < threshold])\n",
    "false_positives = sum([1 for prediction in predictions if prediction.r_ui < threshold and prediction.est >= threshold])\n",
    "false_negatives = sum([1 for prediction in predictions if prediction.r_ui >= threshold and prediction.est < threshold])\n",
    "\n",
    "# Compute precision, recall, and F1 score\n",
    "precision = true_positives / (true_positives + false_positives)\n",
    "recall = true_positives / (true_positives + false_negatives)\n",
    "f1 = 2 * (precision * recall) / (precision + recall)\n",
    "\n",
    "print(f\"Precision: {precision:.2f}\")\n",
    "print(f\"Recall: {recall:.2f}\")\n",
    "print(f\"F1: {f1:.2f}\")\n",
    "\n"
   ]
  },
  {
   "cell_type": "markdown",
   "id": "b1d81757",
   "metadata": {},
   "source": [
    "### Classification metrics\n",
    "We also binarize the ratings into 'good' and 'bad' to produce classification metrics "
   ]
  },
  {
   "cell_type": "code",
   "execution_count": null,
   "id": "d8054cea",
   "metadata": {},
   "outputs": [],
   "source": [
    "# Binarize the ratings in testset\n",
    "testset_binarized = [1 if rating >= 4 else 0 for (_, _, rating) in testset]\n",
    "\n",
    "# Predict ratings for the testset\n",
    "preds = [pred.est for pred in predictions]\n",
    "\n",
    "# Compute ROC curve and ROC area\n",
    "fpr, tpr, _ = roc_curve(testset_binarized, preds)\n",
    "roc_auc = auc(fpr, tpr)\n",
    "\n",
    "# Plot ROC curve\n",
    "plt.figure()\n",
    "plt.plot(fpr, tpr, color='darkorange', lw=2, label='ROC curve (area = %0.2f)' % roc_auc)\n",
    "plt.plot([0, 1], [0, 1], color='navy', lw=2, linestyle='--')\n",
    "plt.xlim([0.0, 1.0])\n",
    "plt.ylim([0.0, 1.05])\n",
    "plt.xlabel('False Positive Rate')\n",
    "plt.ylabel('True Positive Rate')\n",
    "plt.title('Receiver Operating Characteristic')\n",
    "plt.legend(loc=\"lower right\")\n",
    "plt.show()"
   ]
  },
  {
   "cell_type": "markdown",
   "id": "da877755",
   "metadata": {},
   "source": [
    "### Cross-validation\n",
    "\n",
    "We implement cross-validation to get a more robust estimate of model's performance. "
   ]
  },
  {
   "cell_type": "code",
   "execution_count": 34,
   "id": "c368d464",
   "metadata": {},
   "outputs": [
    {
     "name": "stdout",
     "output_type": "stream",
     "text": [
      "Evaluating RMSE, MAE of algorithm SVD on 5 split(s).\n",
      "\n",
      "                  Fold 1  Fold 2  Fold 3  Fold 4  Fold 5  Mean    Std     \n",
      "RMSE (testset)    1.0341  1.0326  1.0333  1.0303  1.0262  1.0313  0.0028  \n",
      "MAE (testset)     0.7602  0.7593  0.7581  0.7582  0.7550  0.7582  0.0018  \n",
      "Fit time          8.34    9.82    8.53    8.54    9.05    8.86    0.54    \n",
      "Test time         4.03    2.54    0.91    1.03    0.94    1.89    1.23    \n"
     ]
    },
    {
     "data": {
      "text/plain": [
       "{'test_rmse': array([1.03407334, 1.03259883, 1.03333561, 1.03030181, 1.02620245]),\n",
       " 'test_mae': array([0.760241  , 0.75928813, 0.75813547, 0.75821863, 0.75500364]),\n",
       " 'fit_time': (8.340489864349365,\n",
       "  9.821595191955566,\n",
       "  8.53267788887024,\n",
       "  8.54078221321106,\n",
       "  9.054226875305176),\n",
       " 'test_time': (4.0313379764556885,\n",
       "  2.5376667976379395,\n",
       "  0.9078688621520996,\n",
       "  1.029163122177124,\n",
       "  0.9350221157073975)}"
      ]
     },
     "execution_count": 34,
     "metadata": {},
     "output_type": "execute_result"
    }
   ],
   "source": [
    "# Run 5-fold cross-validation and print results\n",
    "cross_validate(algo, data, measures=['RMSE', 'MAE'], cv=5, verbose=True)"
   ]
  },
  {
   "cell_type": "code",
   "execution_count": null,
   "id": "4d6aff74",
   "metadata": {},
   "outputs": [],
   "source": [
    "### Hyperparameter tuning"
   ]
  },
  {
   "cell_type": "code",
   "execution_count": null,
   "id": "64db4cae",
   "metadata": {},
   "outputs": [],
   "source": [
    "# Define the parameter grid\n",
    "param_grid = {\n",
    "    'lr_all': [0.002, 0.005, 0.01],  # learning rates\n",
    "    'reg_all': [0.2, 0.4, 0.6]  # regularization terms\n",
    "}\n",
    "\n",
    "# Use the SVD algorithm\n",
    "algo = SVD\n",
    "\n",
    "# Run a grid search with cross-validation\n",
    "gs = GridSearchCV(algo, param_grid, measures=['rmse', 'mae'], cv=3)\n",
    "gs.fit(data)\n",
    "\n",
    "# Get the best parameters\n",
    "print(gs.best_params['rmse'])"
   ]
  },
  {
   "cell_type": "markdown",
   "id": "32920b90",
   "metadata": {},
   "source": [
    "### Using predictions to produce recommendations"
   ]
  },
  {
   "cell_type": "code",
   "execution_count": null,
   "id": "d5f14985",
   "metadata": {},
   "outputs": [],
   "source": [
    "# Predictions can now be made with the predict() method\n",
    "# For example, predicting the rating of the item with id 'item_id' for the user with id 'user_id'\n",
    "user_id = '6538326896'\n",
    "item_id = 'P480354'\n",
    "prediction = algo.predict(user_id, item_id)\n",
    "print(prediction.est)\n",
    "\n",
    "# Assume user_ids and item_ids are arrays or lists of user ids and item ids.\n",
    "user_ids = ['7446977307', '1991973234', '42434587408']\n",
    "item_ids = ['P467602', 'P481993', 'P481993']\n",
    "\n",
    "# Assuming 'algo' is your trained model\n",
    "predictions = [algo.predict(user_id, item_id) for user_id, item_id in zip(user_ids, item_ids)]\n",
    "\n",
    "# Extract the estimated ratings\n",
    "estimated_ratings = [pred.est for pred in predictions]"
   ]
  },
  {
   "cell_type": "code",
   "execution_count": null,
   "id": "be1e1f4d",
   "metadata": {},
   "outputs": [],
   "source": [
    "user_id = '6538326896'  # replace with actual user id\n",
    "item_ids = df['item_id'].unique()\n",
    "preds = [algo.predict(user_id, item_id) for item_id in item_ids]\n",
    "preds_df = pd.DataFrame([(pred.uid, pred.iid, pred.est) for pred in preds], columns=['user_id', 'item_id', 'rating'])\n",
    "\n",
    "n_recommendations = 5\n",
    "top_n_recs = preds_df[preds_df['user_id'] == user_id].nlargest(n_recommendations, 'rating')\n",
    "print(top_n_recs)"
   ]
  },
  {
   "cell_type": "markdown",
   "id": "84ae965d",
   "metadata": {},
   "source": [
    "### Provide top 10 recommendations to a user"
   ]
  },
  {
   "cell_type": "code",
   "execution_count": 70,
   "id": "d22d9282",
   "metadata": {},
   "outputs": [],
   "source": [
    "\n",
    "def recommend_unreviewed_items(user_id, model, df, n_recommendations=10):\n",
    "    # Get the item IDs that the user has already rated\n",
    "    rated_item_ids = df[df['user_id'] == user_id]['item_id']\n",
    "\n",
    "    # Get all item IDs\n",
    "    all_item_ids = df['item_id'].unique()\n",
    "\n",
    "    # Get the item IDs that the user hasn't rated yet\n",
    "    unrated_item_ids = np.setdiff1d(all_item_ids, rated_item_ids)\n",
    "\n",
    "    # Make predictions for the unrated items only\n",
    "    preds = [model.predict(user_id, item_id) for item_id in unrated_item_ids]\n",
    "\n",
    "    # Convert predictions to DataFrame\n",
    "    preds_df = pd.DataFrame([(pred.uid, pred.iid, pred.est) for pred in preds], columns=['user_id', 'item_id', 'rating'])\n",
    "\n",
    "    # Get top N recommendations\n",
    "    top_n_recs = preds_df.nlargest(n_recommendations, 'rating')\n",
    "\n",
    "    return top_n_recs\n",
    "\n"
   ]
  },
  {
   "cell_type": "code",
   "execution_count": 76,
   "id": "efd4b9cb",
   "metadata": {},
   "outputs": [
    {
     "name": "stdout",
     "output_type": "stream",
     "text": [
      "For user  6538326896  we recommend items:  ['P4010', 'P471788', 'P460516', 'P188309', 'P419466', 'P470247', 'P122718', 'P426340', 'P465803', 'P459128']\n"
     ]
    }
   ],
   "source": [
    "# Example usage:\n",
    "user_id = '6538326896'  # replace with actual user id\n",
    "#print(recommend_unreviewed_items(user_id, algo, df))\n",
    "\n",
    "print('For user ', user_id, ' we recommend items: ' , recommend_unreviewed_items(user_id, algo, df).item_id.tolist())"
   ]
  },
  {
   "cell_type": "markdown",
   "id": "f6630e5f",
   "metadata": {},
   "source": [
    "Through our exploration, we employed multiple machine learning methods, including SVD, NMF, KNN, and hybrid models like LightFM. SVD and LightFM (with both item and user features) showed promising results. Despite some challenges related to data sparsity and computational requirements, the models performed reasonably well."
   ]
  },
  {
   "cell_type": "markdown",
   "id": "3ec14ad4",
   "metadata": {},
   "source": [
    "### Additional work to explore other models"
   ]
  },
  {
   "cell_type": "markdown",
   "id": "8ba75f6d",
   "metadata": {},
   "source": [
    "### Show which items were rated by user given user_id"
   ]
  },
  {
   "cell_type": "code",
   "execution_count": 63,
   "id": "f649aa87",
   "metadata": {},
   "outputs": [
    {
     "name": "stdout",
     "output_type": "stream",
     "text": [
      "            user_id  item_id  rating\n",
      "4       47056667835  P420652       5\n",
      "184800  47056667835  P443563       5\n"
     ]
    }
   ],
   "source": [
    "def rated_items(user_id, df):\n",
    "    # Get the items rated by the user\n",
    "    rated_df = df[df['user_id'] == user_id]\n",
    "\n",
    "    return rated_df\n",
    "\n",
    "# Example usage:\n",
    "user_id = '47056667835'  # replace with actual user id\n",
    "print(rated_items(user_id, df))\n"
   ]
  },
  {
   "cell_type": "markdown",
   "id": "711c568f",
   "metadata": {},
   "source": [
    "### See how many ratings each user gave"
   ]
  },
  {
   "cell_type": "code",
   "execution_count": 80,
   "id": "c3bc0af6",
   "metadata": {},
   "outputs": [
    {
     "data": {
      "image/png": "[encoded data removed]",
      "text/plain": [
       "<Figure size 720x360 with 1 Axes>"
      ]
     },
     "metadata": {
      "needs_background": "light"
     },
     "output_type": "display_data"
    }
   ],
   "source": [
    "# Count the number of ratings each user has made\n",
    "ratings_count = df.groupby('user_id')['rating'].count()\n",
    "\n",
    "# Convert the Series to a DataFrame\n",
    "ratings_count_df = ratings_count.reset_index()\n",
    "\n",
    "# Rename the columns\n",
    "ratings_count_df.columns = ['user_id', 'num_ratings']\n",
    "\n",
    "# Show the DataFrame\n",
    "#print(ratings_count_df)\n",
    "plt.figure(figsize=(10,5))\n",
    "plt.hist(ratings_count_df['num_ratings'], bins=10, edgecolor='black')\n",
    "plt.xlabel('Number of Ratings')\n",
    "plt.ylabel('Number of Users')\n",
    "plt.title('Distribution of Number of Ratings per User')\n",
    "plt.show()\n"
   ]
  },
  {
   "cell_type": "markdown",
   "id": "6c97d6c9",
   "metadata": {},
   "source": [
    "### Exploring additional methods\n",
    "Other common collaborative filtering algoriths include KNN, NMf and Biased SVD.\n",
    "\n",
    "### Note on KNN\n",
    "KNN algorithm is a simple and commonly used method for making recommendations, but it can struggle with large datasets due to its computational complexity.\n",
    "KNN works by computing distances between items or users, which requires comparing each item (or user) to every other item (or user). As a result, the time and space complexity of the algorithm is quadratic in the number of items or users. This means that as the dataset grows, the time and memory required to run KNN increase rapidly.\n",
    "\n",
    "For a dataset with 1,088,886 ratings of unique users and items, KNN was too slow and required a large amount of memory, so we consider using a more scalable algorithm.\n"
   ]
  },
  {
   "cell_type": "markdown",
   "id": "110814cc",
   "metadata": {},
   "source": [
    "### Model 2: NMF"
   ]
  },
  {
   "cell_type": "markdown",
   "id": "7ed22c79",
   "metadata": {},
   "source": [
    "In this code, we are using the default hyperparameters for the NMF algorithm, which are:\n",
    "\n",
    "n_factors: The number of factors. Default is 15.\n",
    "n_epochs: The number of iteration of the SGD procedure. Default is 50.\n",
    "biased: Whether to use baselines (or biases). Default is True."
   ]
  },
  {
   "cell_type": "code",
   "execution_count": 19,
   "id": "66e480c1",
   "metadata": {},
   "outputs": [
    {
     "name": "stdout",
     "output_type": "stream",
     "text": [
      "RMSE: 1.0019\n",
      "RMSE:  1.0019127397679086\n",
      "MAE:  0.6839\n",
      "MAE:  0.6838654487444777\n"
     ]
    }
   ],
   "source": [
    "from surprise import NMF, Dataset, Reader, accuracy\n",
    "from surprise.model_selection import train_test_split\n",
    "\n",
    "algo2 = NMF()\n",
    "algo2.fit(trainset)\n",
    "predictions = algo2.test(testset)\n",
    "\n",
    "# Then compute RMSE\n",
    "print(\"RMSE: \", accuracy.rmse(predictions))\n",
    "\n",
    "# compute MAE\n",
    "print(\"MAE: \", accuracy.mae(predictions))\n"
   ]
  },
  {
   "cell_type": "code",
   "execution_count": 21,
   "id": "7643dd42",
   "metadata": {},
   "outputs": [
    {
     "name": "stdout",
     "output_type": "stream",
     "text": [
      "Evaluating RMSE, MAE of algorithm NMF on 2 split(s).\n",
      "\n",
      "                  Fold 1  Fold 2  Mean    Std     \n",
      "RMSE (testset)    1.0998  1.1003  1.1001  0.0002  \n",
      "MAE (testset)     0.7892  0.7896  0.7894  0.0002  \n",
      "Fit time          23.01   23.87   23.44   0.43    \n",
      "Test time         9.16    4.93    7.04    2.12    \n"
     ]
    },
    {
     "data": {
      "text/plain": [
       "{'test_rmse': array([1.09982652, 1.10030994]),\n",
       " 'test_mae': array([0.78924875, 0.7895833 ]),\n",
       " 'fit_time': (23.012303113937378, 23.867035150527954),\n",
       " 'test_time': (9.161565065383911, 4.926636695861816)}"
      ]
     },
     "execution_count": 21,
     "metadata": {},
     "output_type": "execute_result"
    }
   ],
   "source": [
    "# Run 5-fold cross-validation and print results\n",
    "cross_validate(algo2, data, measures=['RMSE', 'MAE'], cv=2, verbose=True)"
   ]
  },
  {
   "cell_type": "markdown",
   "id": "eeed5d8b",
   "metadata": {},
   "source": [
    "Well it looks like the Mean RMSE is 1.10 and MAE is 0.79 while SVD had 0.91, 0.64 RMSE and MAE correspondingly. \n",
    "So SVD seems to do better."
   ]
  },
  {
   "cell_type": "markdown",
   "id": "de3e2326",
   "metadata": {},
   "source": [
    "### Model 3: Biased SVD"
   ]
  },
  {
   "cell_type": "code",
   "execution_count": 23,
   "id": "9caf861f",
   "metadata": {},
   "outputs": [],
   "source": [
    "# Use the biased SVD algorithm\n",
    "algo3 = SVD(biased = True) # default is True"
   ]
  },
  {
   "cell_type": "code",
   "execution_count": 24,
   "id": "f7015eda",
   "metadata": {},
   "outputs": [
    {
     "name": "stdout",
     "output_type": "stream",
     "text": [
      "Evaluating RMSE, MAE of algorithm SVD on 5 split(s).\n",
      "\n",
      "                  Fold 1  Fold 2  Fold 3  Fold 4  Fold 5  Mean    Std     \n",
      "RMSE (testset)    0.9170  0.9170  0.9155  0.9149  0.9199  0.9169  0.0017  \n",
      "MAE (testset)     0.6465  0.6466  0.6451  0.6455  0.6481  0.6464  0.0011  \n",
      "Fit time          10.25   10.11   10.39   10.37   10.11   10.24   0.12    \n",
      "Test time         1.17    1.22    1.22    1.15    1.22    1.20    0.03    \n"
     ]
    },
    {
     "data": {
      "text/plain": [
       "{'test_rmse': array([0.91697627, 0.91695062, 0.91548728, 0.91490322, 0.91993438]),\n",
       " 'test_mae': array([0.64653607, 0.64657084, 0.64509574, 0.64550031, 0.64814452]),\n",
       " 'fit_time': (10.2471342086792,\n",
       "  10.109180927276611,\n",
       "  10.387124061584473,\n",
       "  10.371218919754028,\n",
       "  10.107017278671265),\n",
       " 'test_time': (1.1713521480560303,\n",
       "  1.2228519916534424,\n",
       "  1.2185652256011963,\n",
       "  1.1538362503051758,\n",
       "  1.2164320945739746)}"
      ]
     },
     "execution_count": 24,
     "metadata": {},
     "output_type": "execute_result"
    }
   ],
   "source": [
    "# Run 5-fold cross-validation and print results\n",
    "cross_validate(algo3, data, measures = ['RMSE', 'MAE'], cv = 5, verbose = True)"
   ]
  },
  {
   "cell_type": "markdown",
   "id": "241a7d81",
   "metadata": {},
   "source": [
    "Well, it looks like Biased SVD doesn't perform much better, so we prefer the parsimonious model: Regular SVD."
   ]
  },
  {
   "cell_type": "code",
   "execution_count": null,
   "id": "55736f35",
   "metadata": {},
   "outputs": [],
   "source": []
  }
 ],
 "metadata": {
  "kernelspec": {
   "display_name": "Python 3 (ipykernel)",
   "language": "python",
   "name": "python3"
  },
  "language_info": {
   "codemirror_mode": {
    "name": "ipython",
    "version": 3
   },
   "file_extension": ".py",
   "mimetype": "text/x-python",
   "name": "python",
   "nbconvert_exporter": "python",
   "pygments_lexer": "ipython3",
   "version": "3.9.12"
  }
 },
 "nbformat": 4,
 "nbformat_minor": 5
}
