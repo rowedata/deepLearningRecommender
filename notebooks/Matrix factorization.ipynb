{
 "cells": [
  {
   "cell_type": "markdown",
   "id": "424bd260",
   "metadata": {},
   "source": [
    "# Modeling"
   ]
  },
  {
   "cell_type": "markdown",
   "id": "0e845bc9",
   "metadata": {},
   "source": [
    "## Model1 : Collaborative Filtering with Surprise SVD\n",
    "Collaborative filtering is to discover the similarities on the user’s past behavior and make predictions to the user based on a similar preference with other users. This model is then used to predict items (or ratings for items) that the user may have an interest in.\n"
   ]
  },
  {
   "cell_type": "markdown",
   "id": "79ab8280",
   "metadata": {},
   "source": [
    "#### Load the packages"
   ]
  },
  {
   "cell_type": "code",
   "execution_count": 39,
   "id": "bb91889f",
   "metadata": {},
   "outputs": [],
   "source": [
    "#standard packages\n",
    "%matplotlib inline\n",
    "import numpy as np\n",
    "import pandas as pd \n",
    "import matplotlib.pyplot as plt\n",
    "import seaborn as sns\n",
    "from sklearn.metrics import roc_curve, auc\n",
    "\n",
    "# Surprise modules\n",
    "from surprise import SVD\n",
    "from surprise.prediction_algorithms import KNNWithMeans, KNNBasic, KNNBaseline\n",
    "from surprise import Dataset, Reader\n",
    "from surprise import accuracy\n",
    "from surprise.model_selection import cross_validate, train_test_split, GridSearchCV"
   ]
  },
  {
   "cell_type": "code",
   "execution_count": 40,
   "id": "f1a27e86",
   "metadata": {},
   "outputs": [],
   "source": [
    "# Load the data\n",
    "product_info = pd.read_csv('../data/raw/archive/product_info.csv')\n",
    "reviews250 = pd.read_csv('../data/raw/archive/reviews_0_250.csv', low_memory=False, index_col=0)\n",
    "reviews500 = pd.read_csv('../data/raw/archive/reviews_250_500.csv', low_memory=False, index_col=0)\n",
    "reviews750 = pd.read_csv('../data/raw/archive/reviews_500_750.csv', low_memory=False, index_col=0)\n",
    "reviews1000 = pd.read_csv('../data/raw/archive/reviews_750_1000.csv', low_memory=False, index_col=0)\n",
    "reviews1500 = pd.read_csv('../data/raw/archive/reviews_1000_1500.csv', low_memory=False, index_col=0)\n",
    "reviewsend = pd.read_csv('../data/raw/archive/reviews_1500_end.csv', low_memory=False, index_col=0)"
   ]
  },
  {
   "cell_type": "code",
   "execution_count": 48,
   "id": "37d1a28a",
   "metadata": {},
   "outputs": [
    {
     "name": "stdout",
     "output_type": "stream",
     "text": [
      "(1301136, 3)\n",
      "(1088886, 3)\n"
     ]
    }
   ],
   "source": [
    "df = pd.concat([reviews250, reviews500, reviews750, reviews1000, reviews1500, reviewsend])\n",
    "df.rename(columns = {'author_id':'user_id', 'product_id':'item_id'}, inplace=True)\n",
    "df = df[['user_id', 'item_id', 'rating']]\n",
    "df.dropna(axis = 0, how = 'any', inplace = True)    \n",
    "# All item ids are unique in the dataset\n",
    "print(df.shape)\n",
    "df = df.drop_duplicates(subset = ['user_id', 'item_id'])\n",
    "print(df.shape)"
   ]
  },
  {
   "cell_type": "markdown",
   "id": "d5663025",
   "metadata": {},
   "source": [
    "### Model fitting"
   ]
  },
  {
   "cell_type": "markdown",
   "id": "7955824c",
   "metadata": {},
   "source": [
    "Prepare the data using Reader function, specify rating type.\n",
    "Perform train/test split\n",
    "Fit the SVD model on the train set"
   ]
  },
  {
   "cell_type": "code",
   "execution_count": 49,
   "id": "9803319e",
   "metadata": {},
   "outputs": [],
   "source": [
    "# Assume you have a pandas DataFrame df with columns 'user', 'item', 'rating'\n",
    "reader = Reader(rating_scale=(1, 5))  \n",
    "data = Dataset.load_from_df(df, reader)\n",
    "# Split data into train and test\n",
    "trainset, testset = train_test_split(data, test_size=0.2)\n",
    "# Instantiate SVD and fit the trainset\n",
    "algo = SVD()\n",
    "algo.fit(trainset)"
   ]
  },
  {
   "cell_type": "markdown",
   "id": "21e3ed25",
   "metadata": {},
   "source": [
    "### Model Evaluation\n",
    "\n",
    "We use different evaluation metrics to understand how well  model is performing. \n",
    "\n",
    "Metrics used:  Root Mean Square Error (RMSE), Mean Absolute Error (MAE), precision, recall, F1 score, and Area Under the ROC Curve (AUC-ROC)."
   ]
  },
  {
   "cell_type": "code",
   "execution_count": 52,
   "id": "9da2555b",
   "metadata": {},
   "outputs": [
    {
     "name": "stdout",
     "output_type": "stream",
     "text": [
      "RMSE: 1.0287\n",
      "MAE:  0.7566\n",
      "Precision: 0.85\n",
      "Recall: 0.98\n",
      "F1: 0.91\n"
     ]
    }
   ],
   "source": [
    "predictions = algo.test(testset)\n",
    "\n",
    "# Then compute RMSE and MAE\n",
    "accuracy.rmse(predictions)\n",
    "accuracy.mae(predictions)\n",
    "\n",
    "# For precision and recall we need to define a threshold for positive vs. negative ratings\n",
    "# Here we'll use 3.5 (on a 5-point scale), but this will depend on how your ratings are distributed\n",
    "threshold = 3.5\n",
    "true_positives = sum([1 for prediction in predictions if prediction.r_ui >= threshold and prediction.est >= threshold])\n",
    "true_negatives = sum([1 for prediction in predictions if prediction.r_ui < threshold and prediction.est < threshold])\n",
    "false_positives = sum([1 for prediction in predictions if prediction.r_ui < threshold and prediction.est >= threshold])\n",
    "false_negatives = sum([1 for prediction in predictions if prediction.r_ui >= threshold and prediction.est < threshold])\n",
    "\n",
    "# Compute precision, recall, and F1 score\n",
    "precision = true_positives / (true_positives + false_positives)\n",
    "recall = true_positives / (true_positives + false_negatives)\n",
    "f1 = 2 * (precision * recall) / (precision + recall)\n",
    "\n",
    "print(f\"Precision: {precision:.2f}\")\n",
    "print(f\"Recall: {recall:.2f}\")\n",
    "print(f\"F1: {f1:.2f}\")\n",
    "\n"
   ]
  },
  {
   "cell_type": "markdown",
   "id": "355bbdee",
   "metadata": {},
   "source": [
    "### Classification metrics\n",
    "We also binarize the ratings into 'good' and 'bad' to produce classification metrics "
   ]
  },
  {
   "cell_type": "code",
   "execution_count": null,
   "id": "7bc84e07",
   "metadata": {},
   "outputs": [],
   "source": [
    "# Binarize the ratings in testset\n",
    "testset_binarized = [1 if rating >= 4 else 0 for (_, _, rating) in testset]\n",
    "\n",
    "# Predict ratings for the testset\n",
    "preds = [pred.est for pred in predictions]\n",
    "\n",
    "# Compute ROC curve and ROC area\n",
    "fpr, tpr, _ = roc_curve(testset_binarized, preds)\n",
    "roc_auc = auc(fpr, tpr)\n",
    "\n",
    "# Plot ROC curve\n",
    "plt.figure()\n",
    "plt.plot(fpr, tpr, color='darkorange', lw=2, label='ROC curve (area = %0.2f)' % roc_auc)\n",
    "plt.plot([0, 1], [0, 1], color='navy', lw=2, linestyle='--')\n",
    "plt.xlim([0.0, 1.0])\n",
    "plt.ylim([0.0, 1.05])\n",
    "plt.xlabel('False Positive Rate')\n",
    "plt.ylabel('True Positive Rate')\n",
    "plt.title('Receiver Operating Characteristic')\n",
    "plt.legend(loc=\"lower right\")\n",
    "plt.show()"
   ]
  },
  {
   "cell_type": "markdown",
   "id": "a149ae3c",
   "metadata": {},
   "source": [
    "### Cross-validation\n",
    "\n",
    "We implement cross-validation to get a more robust estimate of model's performance. "
   ]
  },
  {
   "cell_type": "code",
   "execution_count": 34,
   "id": "ed8f4026",
   "metadata": {},
   "outputs": [
    {
     "name": "stdout",
     "output_type": "stream",
     "text": [
      "Evaluating RMSE, MAE of algorithm SVD on 5 split(s).\n",
      "\n",
      "                  Fold 1  Fold 2  Fold 3  Fold 4  Fold 5  Mean    Std     \n",
      "RMSE (testset)    1.0341  1.0326  1.0333  1.0303  1.0262  1.0313  0.0028  \n",
      "MAE (testset)     0.7602  0.7593  0.7581  0.7582  0.7550  0.7582  0.0018  \n",
      "Fit time          8.34    9.82    8.53    8.54    9.05    8.86    0.54    \n",
      "Test time         4.03    2.54    0.91    1.03    0.94    1.89    1.23    \n"
     ]
    },
    {
     "data": {
      "text/plain": [
       "{'test_rmse': array([1.03407334, 1.03259883, 1.03333561, 1.03030181, 1.02620245]),\n",
       " 'test_mae': array([0.760241  , 0.75928813, 0.75813547, 0.75821863, 0.75500364]),\n",
       " 'fit_time': (8.340489864349365,\n",
       "  9.821595191955566,\n",
       "  8.53267788887024,\n",
       "  8.54078221321106,\n",
       "  9.054226875305176),\n",
       " 'test_time': (4.0313379764556885,\n",
       "  2.5376667976379395,\n",
       "  0.9078688621520996,\n",
       "  1.029163122177124,\n",
       "  0.9350221157073975)}"
      ]
     },
     "execution_count": 34,
     "metadata": {},
     "output_type": "execute_result"
    }
   ],
   "source": [
    "# Run 5-fold cross-validation and print results\n",
    "cross_validate(algo, data, measures=['RMSE', 'MAE'], cv=5, verbose=True)"
   ]
  },
  {
   "cell_type": "markdown",
   "id": "1e9db5e4",
   "metadata": {},
   "source": [
    "### Using predictions to produce recommendations"
   ]
  },
  {
   "cell_type": "code",
   "execution_count": null,
   "id": "717c7e5c",
   "metadata": {},
   "outputs": [],
   "source": [
    "# Predictions can now be made with the predict() method\n",
    "# For example, predicting the rating of the item with id 'item_id' for the user with id 'user_id'\n",
    "user_id = '6538326896'\n",
    "item_id = 'P480354'\n",
    "prediction = algo.predict(user_id, item_id)\n",
    "print(prediction.est)\n",
    "\n",
    "# Assume user_ids and item_ids are arrays or lists of user ids and item ids.\n",
    "user_ids = ['7446977307', '1991973234', '42434587408']\n",
    "item_ids = ['P467602', 'P481993', 'P481993']\n",
    "\n",
    "# Assuming 'algo' is your trained model\n",
    "predictions = [algo.predict(user_id, item_id) for user_id, item_id in zip(user_ids, item_ids)]\n",
    "\n",
    "# Extract the estimated ratings\n",
    "estimated_ratings = [pred.est for pred in predictions]"
   ]
  },
  {
   "cell_type": "code",
   "execution_count": null,
   "id": "0979df15",
   "metadata": {},
   "outputs": [],
   "source": [
    "user_id = '6538326896'  # replace with actual user id\n",
    "item_ids = df['item_id'].unique()\n",
    "preds = [algo.predict(user_id, item_id) for item_id in item_ids]\n",
    "preds_df = pd.DataFrame([(pred.uid, pred.iid, pred.est) for pred in preds], columns=['user_id', 'item_id', 'rating'])\n",
    "\n",
    "n_recommendations = 5\n",
    "top_n_recs = preds_df[preds_df['user_id'] == user_id].nlargest(n_recommendations, 'rating')\n",
    "print(top_n_recs)"
   ]
  },
  {
   "cell_type": "markdown",
   "id": "20cd851c",
   "metadata": {},
   "source": [
    "### Provide top 10 recommendations to a user"
   ]
  },
  {
   "cell_type": "code",
   "execution_count": 70,
   "id": "b135378d",
   "metadata": {},
   "outputs": [],
   "source": [
    "\n",
    "def recommend_unreviewed_items(user_id, model, df, n_recommendations=10):\n",
    "    # Get the item IDs that the user has already rated\n",
    "    rated_item_ids = df[df['user_id'] == user_id]['item_id']\n",
    "\n",
    "    # Get all item IDs\n",
    "    all_item_ids = df['item_id'].unique()\n",
    "\n",
    "    # Get the item IDs that the user hasn't rated yet\n",
    "    unrated_item_ids = np.setdiff1d(all_item_ids, rated_item_ids)\n",
    "\n",
    "    # Make predictions for the unrated items only\n",
    "    preds = [model.predict(user_id, item_id) for item_id in unrated_item_ids]\n",
    "\n",
    "    # Convert predictions to DataFrame\n",
    "    preds_df = pd.DataFrame([(pred.uid, pred.iid, pred.est) for pred in preds], columns=['user_id', 'item_id', 'rating'])\n",
    "\n",
    "    # Get top N recommendations\n",
    "    top_n_recs = preds_df.nlargest(n_recommendations, 'rating')\n",
    "\n",
    "    return top_n_recs\n",
    "\n"
   ]
  },
  {
   "cell_type": "code",
   "execution_count": 76,
   "id": "5b772698",
   "metadata": {},
   "outputs": [
    {
     "name": "stdout",
     "output_type": "stream",
     "text": [
      "For user  6538326896  we recommend items:  ['P4010', 'P471788', 'P460516', 'P188309', 'P419466', 'P470247', 'P122718', 'P426340', 'P465803', 'P459128']\n"
     ]
    }
   ],
   "source": [
    "# Example usage:\n",
    "user_id = '6538326896'  # replace with actual user id\n",
    "#print(recommend_unreviewed_items(user_id, algo, df))\n",
    "\n",
    "print('For user ', user_id, ' we recommend items: ' , recommend_unreviewed_items(user_id, algo, df).item_id.tolist())"
   ]
  },
  {
   "cell_type": "markdown",
   "id": "783fef7a",
   "metadata": {},
   "source": [
    "Through our exploration, we employed multiple machine learning methods, including SVD, NMF, KNN, and hybrid models like LightFM. SVD and LightFM (with both item and user features) showed promising results. Despite some challenges related to data sparsity and computational requirements, the models performed reasonably well."
   ]
  },
  {
   "cell_type": "markdown",
   "id": "d2f1b26f",
   "metadata": {},
   "source": [
    "### Exploring additional methods\n",
    "Other common collaborative filtering algoriths include KNN, NMF and Biased SVD.\n",
    "\n",
    "### Note on KNN\n",
    "KNN algorithm is a simple and commonly used method for making recommendations, but it can struggle with large datasets due to its computational complexity.\n",
    "KNN works by computing distances between items or users, which requires comparing each item (or user) to every other item (or user). As a result, the time and space complexity of the algorithm is quadratic in the number of items or users. This means that as the dataset grows, the time and memory required to run KNN increase rapidly.\n",
    "\n",
    "For a dataset with 1,088,886 ratings of unique users and items, KNN was too slow and required a large amount of memory, so we consider using a more scalable algorithm.\n"
   ]
  },
  {
   "cell_type": "markdown",
   "id": "d43d650c",
   "metadata": {},
   "source": [
    "### Model 2: NMF"
   ]
  },
  {
   "cell_type": "markdown",
   "id": "5358cb8e",
   "metadata": {},
   "source": [
    "In this code, we are using the default hyperparameters for the NMF algorithm, which are:\n",
    "\n",
    "n_factors: The number of factors. Default is 15.\n",
    "n_epochs: The number of iteration of the SGD procedure. Default is 50.\n",
    "biased: Whether to use baselines (or biases). Default is True."
   ]
  },
  {
   "cell_type": "code",
   "execution_count": 86,
   "id": "66f31ec8",
   "metadata": {},
   "outputs": [
    {
     "name": "stdout",
     "output_type": "stream",
     "text": [
      "RMSE: 1.1584\n",
      "RMSE:  1.1583855801426348\n",
      "MAE:  0.8601\n",
      "MAE:  0.8601049504416256\n"
     ]
    }
   ],
   "source": [
    "from surprise import NMF, Dataset, Reader, accuracy\n",
    "from surprise.model_selection import train_test_split\n",
    "\n",
    "algo2 = NMF()\n",
    "algo2.fit(trainset)\n",
    "predictions = algo2.test(testset)\n",
    "\n",
    "# Then compute RMSE\n",
    "print(\"RMSE: \", accuracy.rmse(predictions))\n",
    "\n",
    "# compute MAE\n",
    "print(\"MAE: \", accuracy.mae(predictions))\n"
   ]
  },
  {
   "cell_type": "code",
   "execution_count": 87,
   "id": "c187d252",
   "metadata": {},
   "outputs": [
    {
     "name": "stdout",
     "output_type": "stream",
     "text": [
      "Evaluating RMSE, MAE of algorithm NMF on 5 split(s).\n",
      "\n",
      "                  Fold 1  Fold 2  Fold 3  Fold 4  Fold 5  Mean    Std     \n",
      "RMSE (testset)    1.1493  1.1554  1.1578  1.1477  1.1581  1.1537  0.0044  \n",
      "MAE (testset)     0.8490  0.8560  0.8610  0.8451  0.8615  0.8545  0.0065  \n",
      "Fit time          32.00   31.67   32.34   32.66   32.82   32.30   0.42    \n",
      "Test time         10.21   1.03    0.90    1.05    0.95    2.83    3.69    \n"
     ]
    },
    {
     "data": {
      "text/plain": [
       "{'test_rmse': array([1.14927826, 1.15544079, 1.15779815, 1.14766195, 1.15809633]),\n",
       " 'test_mae': array([0.84895867, 0.85603301, 0.86104387, 0.84505642, 0.86151159]),\n",
       " 'fit_time': (32.00271677970886,\n",
       "  31.669156074523926,\n",
       "  32.33762812614441,\n",
       "  32.6611430644989,\n",
       "  32.815375089645386),\n",
       " 'test_time': (10.21259069442749,\n",
       "  1.0284769535064697,\n",
       "  0.9006240367889404,\n",
       "  1.054893970489502,\n",
       "  0.9451949596405029)}"
      ]
     },
     "execution_count": 87,
     "metadata": {},
     "output_type": "execute_result"
    }
   ],
   "source": [
    "# Run 5-fold cross-validation and print results\n",
    "cross_validate(algo2, data, measures=['RMSE', 'MAE'], cv=5, verbose=True)"
   ]
  },
  {
   "cell_type": "markdown",
   "id": "b69d8af9",
   "metadata": {},
   "source": [
    "Well it looks like the Mean RMSE is 1.10 and MAE is 0.79 while SVD had 0.91, 0.64 RMSE and MAE correspondingly. \n",
    "So SVD seems to do better."
   ]
  },
  {
   "cell_type": "markdown",
   "id": "12fa1750",
   "metadata": {},
   "source": [
    "### Model 3: Biased SVD"
   ]
  },
  {
   "cell_type": "code",
   "execution_count": 23,
   "id": "bb7d1068",
   "metadata": {},
   "outputs": [],
   "source": [
    "# Use the biased SVD algorithm\n",
    "algo3 = SVD(biased = True) # default is True"
   ]
  },
  {
   "cell_type": "code",
   "execution_count": 24,
   "id": "7884d542",
   "metadata": {},
   "outputs": [
    {
     "name": "stdout",
     "output_type": "stream",
     "text": [
      "Evaluating RMSE, MAE of algorithm SVD on 5 split(s).\n",
      "\n",
      "                  Fold 1  Fold 2  Fold 3  Fold 4  Fold 5  Mean    Std     \n",
      "RMSE (testset)    0.9170  0.9170  0.9155  0.9149  0.9199  0.9169  0.0017  \n",
      "MAE (testset)     0.6465  0.6466  0.6451  0.6455  0.6481  0.6464  0.0011  \n",
      "Fit time          10.25   10.11   10.39   10.37   10.11   10.24   0.12    \n",
      "Test time         1.17    1.22    1.22    1.15    1.22    1.20    0.03    \n"
     ]
    },
    {
     "data": {
      "text/plain": [
       "{'test_rmse': array([0.91697627, 0.91695062, 0.91548728, 0.91490322, 0.91993438]),\n",
       " 'test_mae': array([0.64653607, 0.64657084, 0.64509574, 0.64550031, 0.64814452]),\n",
       " 'fit_time': (10.2471342086792,\n",
       "  10.109180927276611,\n",
       "  10.387124061584473,\n",
       "  10.371218919754028,\n",
       "  10.107017278671265),\n",
       " 'test_time': (1.1713521480560303,\n",
       "  1.2228519916534424,\n",
       "  1.2185652256011963,\n",
       "  1.1538362503051758,\n",
       "  1.2164320945739746)}"
      ]
     },
     "execution_count": 24,
     "metadata": {},
     "output_type": "execute_result"
    }
   ],
   "source": [
    "# Run 5-fold cross-validation and print results\n",
    "cross_validate(algo3, data, measures = ['RMSE', 'MAE'], cv = 5, verbose = True)"
   ]
  },
  {
   "cell_type": "markdown",
   "id": "91d00f13",
   "metadata": {},
   "source": [
    "Well, it looks like Biased SVD performs better, but has longer fit time\n"
   ]
  },
  {
   "cell_type": "code",
   "execution_count": 88,
   "id": "40d101cf",
   "metadata": {},
   "outputs": [
    {
     "name": "stdout",
     "output_type": "stream",
     "text": [
      "RMSE: 0.6414\n",
      "MAE:  0.4355\n",
      "Precision: 0.93\n",
      "Recall: 0.99\n",
      "F1: 0.96\n"
     ]
    }
   ],
   "source": [
    "predictions = algo3.test(testset)\n",
    "\n",
    "# Then compute RMSE and MAE\n",
    "accuracy.rmse(predictions)\n",
    "accuracy.mae(predictions)\n",
    "\n",
    "# For precision and recall we need to define a threshold for positive vs. negative ratings\n",
    "# Here we'll use 3.5 (on a 5-point scale), but this will depend on how your ratings are distributed\n",
    "threshold = 3.5\n",
    "true_positives = sum([1 for prediction in predictions if prediction.r_ui >= threshold and prediction.est >= threshold])\n",
    "true_negatives = sum([1 for prediction in predictions if prediction.r_ui < threshold and prediction.est < threshold])\n",
    "false_positives = sum([1 for prediction in predictions if prediction.r_ui < threshold and prediction.est >= threshold])\n",
    "false_negatives = sum([1 for prediction in predictions if prediction.r_ui >= threshold and prediction.est < threshold])\n",
    "\n",
    "# Compute precision, recall, and F1 score\n",
    "precision = true_positives / (true_positives + false_positives)\n",
    "recall = true_positives / (true_positives + false_negatives)\n",
    "f1 = 2 * (precision * recall) / (precision + recall)\n",
    "\n",
    "print(f\"Precision: {precision:.2f}\")\n",
    "print(f\"Recall: {recall:.2f}\")\n",
    "print(f\"F1: {f1:.2f}\")\n",
    "\n"
   ]
  },
  {
   "cell_type": "code",
   "execution_count": 90,
   "id": "f5e55cfa",
   "metadata": {},
   "outputs": [
    {
     "data": {
      "image/png": "[encoded data removed]",
      "text/plain": [
       "<Figure size 432x288 with 1 Axes>"
      ]
     },
     "metadata": {
      "needs_background": "light"
     },
     "output_type": "display_data"
    }
   ],
   "source": [
    "# Binarize the ratings in testset\n",
    "testset_binarized = [1 if rating >= 4 else 0 for (_, _, rating) in testset]\n",
    "\n",
    "# Predict ratings for the testset\n",
    "preds = [pred.est for pred in predictions]\n",
    "\n",
    "# Compute ROC curve and ROC area\n",
    "fpr, tpr, _ = roc_curve(testset_binarized, preds)\n",
    "roc_auc = auc(fpr, tpr)\n",
    "\n",
    "# Plot ROC curve\n",
    "plt.figure()\n",
    "plt.plot(fpr, tpr, color='darkorange', lw=2, label='ROC curve (area = %0.2f)' % roc_auc)\n",
    "plt.plot([0, 1], [0, 1], color='navy', lw=2, linestyle='--')\n",
    "plt.xlim([0.0, 1.0])\n",
    "plt.ylim([0.0, 1.05])\n",
    "plt.xlabel('False Positive Rate')\n",
    "plt.ylabel('True Positive Rate')\n",
    "plt.title('Receiver Operating Characteristic')\n",
    "plt.legend(loc=\"lower right\")\n",
    "plt.show()"
   ]
  },
  {
   "cell_type": "markdown",
   "id": "2afb72bb",
   "metadata": {},
   "source": [
    "### Top 10 predictions for Biased SVD"
   ]
  },
  {
   "cell_type": "code",
   "execution_count": 91,
   "id": "ab342e0b",
   "metadata": {},
   "outputs": [
    {
     "name": "stdout",
     "output_type": "stream",
     "text": [
      "For user  6538326896  we recommend items:  ['P421275', 'P122900', 'P423688', 'P442745', 'P428250', 'P481335', 'P454380', 'P443352', 'P470255', 'P420699']\n"
     ]
    }
   ],
   "source": [
    "# Example usage:\n",
    "user_id = '6538326896'  # replace with actual user id\n",
    "#print(recommend_unreviewed_items(user_id, algo, df))\n",
    "\n",
    "print('For user ', user_id, ' we recommend items: ' , recommend_unreviewed_items(user_id, algo3, df).item_id.tolist())"
   ]
  },
  {
   "cell_type": "code",
   "execution_count": 104,
   "id": "a68b27f2",
   "metadata": {},
   "outputs": [
    {
     "name": "stdout",
     "output_type": "stream",
     "text": [
      "<class 'pandas.core.frame.DataFrame'>\n",
      "RangeIndex: 8494 entries, 0 to 8493\n",
      "Data columns (total 27 columns):\n",
      " #   Column              Non-Null Count  Dtype  \n",
      "---  ------              --------------  -----  \n",
      " 0   product_id          8494 non-null   object \n",
      " 1   product_name        8494 non-null   object \n",
      " 2   brand_id            8494 non-null   int64  \n",
      " 3   brand_name          8494 non-null   object \n",
      " 4   loves_count         8494 non-null   int64  \n",
      " 5   rating              8216 non-null   float64\n",
      " 6   reviews             8216 non-null   float64\n",
      " 7   size                6863 non-null   object \n",
      " 8   variation_type      7050 non-null   object \n",
      " 9   variation_value     6896 non-null   object \n",
      " 10  variation_desc      1250 non-null   object \n",
      " 11  ingredients         7549 non-null   object \n",
      " 12  price_usd           8494 non-null   float64\n",
      " 13  value_price_usd     451 non-null    float64\n",
      " 14  sale_price_usd      270 non-null    float64\n",
      " 15  limited_edition     8494 non-null   int64  \n",
      " 16  new                 8494 non-null   int64  \n",
      " 17  online_only         8494 non-null   int64  \n",
      " 18  out_of_stock        8494 non-null   int64  \n",
      " 19  sephora_exclusive   8494 non-null   int64  \n",
      " 20  highlights          6287 non-null   object \n",
      " 21  primary_category    8494 non-null   object \n",
      " 22  secondary_category  8486 non-null   object \n",
      " 23  tertiary_category   7504 non-null   object \n",
      " 24  child_count         8494 non-null   int64  \n",
      " 25  child_max_price     2754 non-null   float64\n",
      " 26  child_min_price     2754 non-null   float64\n",
      "dtypes: float64(7), int64(8), object(12)\n",
      "memory usage: 1.7+ MB\n"
     ]
    }
   ],
   "source": [
    "product_info.info()"
   ]
  },
  {
   "cell_type": "code",
   "execution_count": 108,
   "id": "749ec276",
   "metadata": {},
   "outputs": [
    {
     "name": "stdout",
     "output_type": "stream",
     "text": [
      "     product_id                              product_name  brand_id  \\\n",
      "1392    P122900   Dramatically Different Moisturizing Gel      1254   \n",
      "1842    P443352        Mini Daily Microfoliant Exfoliator      6219   \n",
      "1843    P423688             Daily Microfoliant Exfoliator      6219   \n",
      "5779    P442745  Plantscription Retinol Night Moisturizer      3733   \n",
      "6040    P421275          Salicylic Acid Acne Healing Dots      6209   \n",
      "6041    P428250       Oil-Absorbing Pore Treatment Strips      6209   \n",
      "6229    P481335  Brightening Saffron Serum - Radiant Rani      6475   \n",
      "7255    P454380             Unseen Sunscreen SPF 40 PA+++      5987   \n",
      "7256    P470255        Mini Unseen Sunscreen SPF 40 PA+++      5987   \n",
      "7529    P420699                    Violet-C Radiance Mask      6041   \n",
      "\n",
      "       brand_name  loves_count  rating  reviews                 size  \\\n",
      "1392     CLINIQUE        95864  4.4383   3977.0  4.2 oz Pump/ 125 mL   \n",
      "1842  Dermalogica       110141  4.6960   4598.0        0.45 oz/ 13 g   \n",
      "1843  Dermalogica        95311  4.6960   4598.0          2.6 oz/ 74g   \n",
      "5779      Origins        11217  4.5385     39.0          1 oz/ 30 mL   \n",
      "6040    Peace Out       316297  4.1779   4560.0      20 Healing Dots   \n",
      "6041    Peace Out       102327  3.9750   1562.0                  NaN   \n",
      "6229      RANAVAT         7269  4.7824    216.0          1 oz/ 30 mL   \n",
      "7255   Supergoop!       302951  4.2600   3262.0      2.5 oz/ 73.9 mL   \n",
      "7256   Supergoop!        66960  4.2604   3260.0       0.68 oz/ 20 mL   \n",
      "7529       Tatcha        96300  4.0507    651.0        1.7 oz/ 50 mL   \n",
      "\n",
      "     variation_type      variation_value  ... online_only out_of_stock  \\\n",
      "1392           Size  4.2 oz Pump/ 125 mL  ...           0            0   \n",
      "1842           Size        0.45 oz/ 13 g  ...           0            0   \n",
      "1843           Size          2.6 oz/ 74g  ...           0            0   \n",
      "5779           Size          1 oz/ 30 mL  ...           1            0   \n",
      "6040           Size      20 Healing Dots  ...           0            0   \n",
      "6041            NaN                  NaN  ...           0            0   \n",
      "6229           Size          1 oz/ 30 mL  ...           0            0   \n",
      "7255           Size      2.5 oz/ 73.9 mL  ...           0            0   \n",
      "7256           Size       0.68 oz/ 20 mL  ...           0            0   \n",
      "7529           Size        1.7 oz/ 50 mL  ...           0            0   \n",
      "\n",
      "      sephora_exclusive                                         highlights  \\\n",
      "1392                  0  ['Best for Oily Skin', 'Without Phthalates', '...   \n",
      "1842                  0  ['Vegan', 'Good for: Dullness/Uneven Texture',...   \n",
      "1843                  0  ['Vegan', 'Good for: Dullness/Uneven Texture',...   \n",
      "5779                  0  ['Vegan', 'Clean at Sephora', 'Retinol', 'Good...   \n",
      "6040                  0  ['Good for: Redness', 'allure 2019 Best of Bea...   \n",
      "6041                  0  ['Best for Oily Skin', 'Good for: Pores', 'Cle...   \n",
      "6229                  0  ['Vegan', 'Good for: Dullness/Uneven Texture',...   \n",
      "7255                  1  ['Natural Finish', 'allure 2019 Best of Beauty...   \n",
      "7256                  1  ['Natural Finish', 'allure 2019 Best of Beauty...   \n",
      "7529                  0  ['Good for: Dullness/Uneven Texture', 'Vitamin...   \n",
      "\n",
      "      primary_category  secondary_category          tertiary_category  \\\n",
      "1392          Skincare        Moisturizers               Moisturizers   \n",
      "1842          Skincare           Mini Size                        NaN   \n",
      "1843          Skincare           Cleansers                Exfoliators   \n",
      "5779          Skincare        Moisturizers               Moisturizers   \n",
      "6040          Skincare          Treatments  Blemish & Acne Treatments   \n",
      "6041          Skincare          Treatments  Blemish & Acne Treatments   \n",
      "6229          Skincare          Treatments                Face Serums   \n",
      "7255          Skincare           Sunscreen             Face Sunscreen   \n",
      "7256          Skincare           Mini Size                        NaN   \n",
      "7529          Skincare               Masks                 Face Masks   \n",
      "\n",
      "      child_count  child_max_price  child_min_price  \n",
      "1392            3             45.0              6.5  \n",
      "1842            0              NaN              NaN  \n",
      "1843            2             56.0             18.0  \n",
      "5779            0              NaN              NaN  \n",
      "6040            1             32.0             32.0  \n",
      "6041            0              NaN              NaN  \n",
      "6229            1             35.0             35.0  \n",
      "7255            2             38.0             22.0  \n",
      "7256            0              NaN              NaN  \n",
      "7529            0              NaN              NaN  \n",
      "\n",
      "[10 rows x 27 columns]\n"
     ]
    }
   ],
   "source": [
    "item_ids = ['P421275', 'P122900', 'P423688', 'P442745', 'P428250', 'P481335', 'P454380', 'P443352', 'P470255', 'P420699']\n",
    "\n",
    "subset_df = product_info[product_info['product_id'].isin(item_ids)]\n",
    "print(subset_df)\n",
    "subset_df.to_csv('../reports/figures/recommendation_result.csv', index=False)\n"
   ]
  },
  {
   "cell_type": "code",
   "execution_count": 100,
   "id": "85c46162",
   "metadata": {},
   "outputs": [],
   "source": [
    "# Create dataframe of true and predicted ratings\n",
    "true_ratings = [pred.r_ui for pred in predictions]\n",
    "predicted_ratings = [pred.est for pred in predictions]\n",
    "\n"
   ]
  },
  {
   "cell_type": "code",
   "execution_count": 99,
   "id": "9c8f08b1",
   "metadata": {},
   "outputs": [
    {
     "data": {
      "image/png": "[encoded data removed]",
      "text/plain": [
       "<Figure size 720x432 with 1 Axes>"
      ]
     },
     "metadata": {
      "needs_background": "light"
     },
     "output_type": "display_data"
    }
   ],
   "source": [
    "import pandas as pd\n",
    "import seaborn as sns\n",
    "import matplotlib.pyplot as plt\n",
    "\n",
    "# Create a dataframe from true and predicted ratings\n",
    "df = pd.DataFrame(data={\"True Ratings\": true_ratings, \"Predicted Ratings\": predicted_ratings})\n",
    "\n",
    "# Round predicted ratings to nearest integer to make groups for plotting\n",
    "df['Predicted Ratings'] #= df['Predicted Ratings'].round()\n",
    "\n",
    "# Generate violin plot\n",
    "plt.figure(figsize=(10,6))\n",
    "sns.violinplot(x=\"True Ratings\", y=\"Predicted Ratings\", data=df)\n",
    "plt.title('Distribution of Predicted Ratings for Each True Rating')\n",
    "plt.show()\n"
   ]
  },
  {
   "cell_type": "code",
   "execution_count": null,
   "id": "e76399ea",
   "metadata": {},
   "outputs": [],
   "source": []
  }
 ],
 "metadata": {
  "kernelspec": {
   "display_name": "Python 3 (ipykernel)",
   "language": "python",
   "name": "python3"
  },
  "language_info": {
   "codemirror_mode": {
    "name": "ipython",
    "version": 3
   },
   "file_extension": ".py",
   "mimetype": "text/x-python",
   "name": "python",
   "nbconvert_exporter": "python",
   "pygments_lexer": "ipython3",
   "version": "3.9.12"
  }
 },
 "nbformat": 4,
 "nbformat_minor": 5
}
