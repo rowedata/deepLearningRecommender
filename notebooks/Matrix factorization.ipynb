{
 "cells": [
  {
   "cell_type": "markdown",
   "id": "54c0bf0b",
   "metadata": {},
   "source": [
    "# Modeling"
   ]
  },
  {
   "cell_type": "markdown",
   "id": "0e845bc9",
   "metadata": {},
   "source": [
    "## Model1 : Collaborative Filtering with Surprise SVD\n",
    "Collaborative filtering is to discover the similarities on the user’s past behavior and make predictions to the user based on a similar preference with other users. This model is then used to predict items (or ratings for items) that the user may have an interest in.\n"
   ]
  },
  {
   "cell_type": "markdown",
   "id": "f4d6644f",
   "metadata": {},
   "source": [
    "#### Load the packages"
   ]
  },
  {
   "cell_type": "code",
   "execution_count": 39,
   "id": "bb91889f",
   "metadata": {},
   "outputs": [],
   "source": [
    "#standard packages\n",
    "%matplotlib inline\n",
    "import numpy as np\n",
    "import pandas as pd \n",
    "import matplotlib.pyplot as plt\n",
    "import seaborn as sns\n",
    "from sklearn.metrics import roc_curve, auc\n",
    "\n",
    "# Surprise modules\n",
    "from surprise import SVD\n",
    "from surprise.prediction_algorithms import KNNWithMeans, KNNBasic, KNNBaseline\n",
    "from surprise import Dataset, Reader\n",
    "from surprise import accuracy\n",
    "from surprise.model_selection import cross_validate, train_test_split, GridSearchCV"
   ]
  },
  {
   "cell_type": "code",
   "execution_count": 40,
   "id": "f1a27e86",
   "metadata": {},
   "outputs": [],
   "source": [
    "# Load the data\n",
    "product_info = pd.read_csv('../data/raw/archive/product_info.csv')\n",
    "reviews250 = pd.read_csv('../data/raw/archive/reviews_0_250.csv', low_memory=False, index_col=0)\n",
    "reviews500 = pd.read_csv('../data/raw/archive/reviews_250_500.csv', low_memory=False, index_col=0)\n",
    "reviews750 = pd.read_csv('../data/raw/archive/reviews_500_750.csv', low_memory=False, index_col=0)\n",
    "reviews1000 = pd.read_csv('../data/raw/archive/reviews_750_1000.csv', low_memory=False, index_col=0)\n",
    "reviews1500 = pd.read_csv('../data/raw/archive/reviews_1000_1500.csv', low_memory=False, index_col=0)\n",
    "reviewsend = pd.read_csv('../data/raw/archive/reviews_1500_end.csv', low_memory=False, index_col=0)"
   ]
  },
  {
   "cell_type": "code",
   "execution_count": 48,
   "id": "da057275",
   "metadata": {},
   "outputs": [
    {
     "name": "stdout",
     "output_type": "stream",
     "text": [
      "(1301136, 3)\n",
      "(1088886, 3)\n"
     ]
    }
   ],
   "source": [
    "df = pd.concat([reviews250, reviews500, reviews750, reviews1000, reviews1500, reviewsend])\n",
    "df.rename(columns = {'author_id':'user_id', 'product_id':'item_id'}, inplace=True)\n",
    "df = df[['user_id', 'item_id', 'rating']]\n",
    "df.dropna(axis = 0, how = 'any', inplace = True)    \n",
    "# All item ids are unique in the dataset\n",
    "print(df.shape)\n",
    "df = df.drop_duplicates(subset = ['user_id', 'item_id'])\n",
    "print(df.shape)"
   ]
  },
  {
   "cell_type": "markdown",
   "id": "03e0667a",
   "metadata": {},
   "source": [
    "### Model fitting"
   ]
  },
  {
   "cell_type": "code",
   "execution_count": 49,
   "id": "9803319e",
   "metadata": {},
   "outputs": [],
   "source": [
    "# Assume you have a pandas DataFrame df with columns 'user', 'item', 'rating'\n",
    "reader = Reader(rating_scale=(1, 5))  \n",
    "data = Dataset.load_from_df(df, reader)"
   ]
  },
  {
   "cell_type": "code",
   "execution_count": 50,
   "id": "95c0f8ba",
   "metadata": {},
   "outputs": [],
   "source": [
    "# Split data into train and test\n",
    "trainset, testset = train_test_split(data, test_size=0.2)"
   ]
  },
  {
   "cell_type": "code",
   "execution_count": 51,
   "id": "40b48339",
   "metadata": {},
   "outputs": [
    {
     "data": {
      "text/plain": [
       "<surprise.prediction_algorithms.matrix_factorization.SVD at 0x7f87c7a04fd0>"
      ]
     },
     "execution_count": 51,
     "metadata": {},
     "output_type": "execute_result"
    }
   ],
   "source": [
    "# Instantiate SVD and fit the trainset\n",
    "algo = SVD()\n",
    "algo.fit(trainset)"
   ]
  },
  {
   "cell_type": "markdown",
   "id": "0ec044bf",
   "metadata": {},
   "source": [
    "### Model Evaluation\n",
    "\n",
    "We use different evaluation metrics to understand how well  model is performing. \n",
    "\n",
    "Metrics used:  Root Mean Square Error (RMSE), Mean Absolute Error (MAE), precision, recall, F1 score, and Area Under the ROC Curve (AUC-ROC)."
   ]
  },
  {
   "cell_type": "code",
   "execution_count": 52,
   "id": "6b1a10da",
   "metadata": {},
   "outputs": [
    {
     "name": "stdout",
     "output_type": "stream",
     "text": [
      "RMSE: 1.0287\n",
      "MAE:  0.7566\n",
      "Precision: 0.85\n",
      "Recall: 0.98\n",
      "F1: 0.91\n"
     ]
    }
   ],
   "source": [
    "predictions = algo.test(testset)\n",
    "\n",
    "# Then compute RMSE and MAE\n",
    "accuracy.rmse(predictions)\n",
    "accuracy.mae(predictions)\n",
    "\n",
    "# For precision and recall we need to define a threshold for positive vs. negative ratings\n",
    "# Here we'll use 3.5 (on a 5-point scale), but this will depend on how your ratings are distributed\n",
    "threshold = 3.5\n",
    "true_positives = sum([1 for prediction in predictions if prediction.r_ui >= threshold and prediction.est >= threshold])\n",
    "true_negatives = sum([1 for prediction in predictions if prediction.r_ui < threshold and prediction.est < threshold])\n",
    "false_positives = sum([1 for prediction in predictions if prediction.r_ui < threshold and prediction.est >= threshold])\n",
    "false_negatives = sum([1 for prediction in predictions if prediction.r_ui >= threshold and prediction.est < threshold])\n",
    "\n",
    "# Compute precision, recall, and F1 score\n",
    "precision = true_positives / (true_positives + false_positives)\n",
    "recall = true_positives / (true_positives + false_negatives)\n",
    "f1 = 2 * (precision * recall) / (precision + recall)\n",
    "\n",
    "print(f\"Precision: {precision:.2f}\")\n",
    "print(f\"Recall: {recall:.2f}\")\n",
    "print(f\"F1: {f1:.2f}\")\n",
    "\n"
   ]
  },
  {
   "cell_type": "code",
   "execution_count": 53,
   "id": "28cf3a95",
   "metadata": {},
   "outputs": [
    {
     "data": {
      "image/png": "[encoded data removed]",
      "text/plain": [
       "<Figure size 432x288 with 1 Axes>"
      ]
     },
     "metadata": {
      "needs_background": "light"
     },
     "output_type": "display_data"
    }
   ],
   "source": [
    "# Binarize the ratings in testset\n",
    "testset_binarized = [1 if rating >= 4 else 0 for (_, _, rating) in testset]\n",
    "\n",
    "# Predict ratings for the testset\n",
    "preds = [pred.est for pred in predictions]\n",
    "\n",
    "# Compute ROC curve and ROC area\n",
    "fpr, tpr, _ = roc_curve(testset_binarized, preds)\n",
    "roc_auc = auc(fpr, tpr)\n",
    "\n",
    "# Plot ROC curve\n",
    "plt.figure()\n",
    "plt.plot(fpr, tpr, color='darkorange', lw=2, label='ROC curve (area = %0.2f)' % roc_auc)\n",
    "plt.plot([0, 1], [0, 1], color='navy', lw=2, linestyle='--')\n",
    "plt.xlim([0.0, 1.0])\n",
    "plt.ylim([0.0, 1.05])\n",
    "plt.xlabel('False Positive Rate')\n",
    "plt.ylabel('True Positive Rate')\n",
    "plt.title('Receiver Operating Characteristic')\n",
    "plt.legend(loc=\"lower right\")\n",
    "plt.show()"
   ]
  },
  {
   "cell_type": "markdown",
   "id": "4c330949",
   "metadata": {},
   "source": [
    "### Cross-validation\n",
    "\n",
    "We implement cross-validation to get a more robust estimate of model's performance. "
   ]
  },
  {
   "cell_type": "code",
   "execution_count": 34,
   "id": "41cf66f9",
   "metadata": {},
   "outputs": [
    {
     "name": "stdout",
     "output_type": "stream",
     "text": [
      "Evaluating RMSE, MAE of algorithm SVD on 5 split(s).\n",
      "\n",
      "                  Fold 1  Fold 2  Fold 3  Fold 4  Fold 5  Mean    Std     \n",
      "RMSE (testset)    1.0341  1.0326  1.0333  1.0303  1.0262  1.0313  0.0028  \n",
      "MAE (testset)     0.7602  0.7593  0.7581  0.7582  0.7550  0.7582  0.0018  \n",
      "Fit time          8.34    9.82    8.53    8.54    9.05    8.86    0.54    \n",
      "Test time         4.03    2.54    0.91    1.03    0.94    1.89    1.23    \n"
     ]
    },
    {
     "data": {
      "text/plain": [
       "{'test_rmse': array([1.03407334, 1.03259883, 1.03333561, 1.03030181, 1.02620245]),\n",
       " 'test_mae': array([0.760241  , 0.75928813, 0.75813547, 0.75821863, 0.75500364]),\n",
       " 'fit_time': (8.340489864349365,\n",
       "  9.821595191955566,\n",
       "  8.53267788887024,\n",
       "  8.54078221321106,\n",
       "  9.054226875305176),\n",
       " 'test_time': (4.0313379764556885,\n",
       "  2.5376667976379395,\n",
       "  0.9078688621520996,\n",
       "  1.029163122177124,\n",
       "  0.9350221157073975)}"
      ]
     },
     "execution_count": 34,
     "metadata": {},
     "output_type": "execute_result"
    }
   ],
   "source": [
    "# Run 5-fold cross-validation and print results\n",
    "cross_validate(algo, data, measures=['RMSE', 'MAE'], cv=5, verbose=True)"
   ]
  },
  {
   "cell_type": "markdown",
   "id": "e45d62bd",
   "metadata": {},
   "source": [
    "### Hyperparameter tuning\n",
    "\n",
    "The SVD algorithm has several hyperparameters that can significantly impact its performance. We use grid search  to find the optimal values for these parameters."
   ]
  },
  {
   "cell_type": "code",
   "execution_count": 16,
   "id": "01e1d611",
   "metadata": {},
   "outputs": [
    {
     "ename": "KeyboardInterrupt",
     "evalue": "",
     "output_type": "error",
     "traceback": [
      "\u001b[0;31m---------------------------------------------------------------------------\u001b[0m",
      "\u001b[0;31mKeyboardInterrupt\u001b[0m                         Traceback (most recent call last)",
      "Input \u001b[0;32mIn [16]\u001b[0m, in \u001b[0;36m<cell line: 11>\u001b[0;34m()\u001b[0m\n\u001b[1;32m      9\u001b[0m \u001b[38;5;66;03m# Run a grid search with cross validation\u001b[39;00m\n\u001b[1;32m     10\u001b[0m gs \u001b[38;5;241m=\u001b[39m GridSearchCV(algo, param_grid, measures\u001b[38;5;241m=\u001b[39m[\u001b[38;5;124m'\u001b[39m\u001b[38;5;124mrmse\u001b[39m\u001b[38;5;124m'\u001b[39m, \u001b[38;5;124m'\u001b[39m\u001b[38;5;124mmae\u001b[39m\u001b[38;5;124m'\u001b[39m], cv\u001b[38;5;241m=\u001b[39m\u001b[38;5;241m3\u001b[39m)\n\u001b[0;32m---> 11\u001b[0m \u001b[43mgs\u001b[49m\u001b[38;5;241;43m.\u001b[39;49m\u001b[43mfit\u001b[49m\u001b[43m(\u001b[49m\u001b[43mdata\u001b[49m\u001b[43m)\u001b[49m\n\u001b[1;32m     13\u001b[0m \u001b[38;5;66;03m# Print the best score and the best parameters\u001b[39;00m\n\u001b[1;32m     14\u001b[0m \u001b[38;5;28mprint\u001b[39m(gs\u001b[38;5;241m.\u001b[39mbest_score[\u001b[38;5;124m'\u001b[39m\u001b[38;5;124mrmse\u001b[39m\u001b[38;5;124m'\u001b[39m])\n",
      "File \u001b[0;32m~/opt/anaconda3/lib/python3.9/site-packages/surprise/model_selection/search.py:104\u001b[0m, in \u001b[0;36mBaseSearchCV.fit\u001b[0;34m(self, data)\u001b[0m\n\u001b[1;32m     90\u001b[0m cv \u001b[38;5;241m=\u001b[39m get_cv(\u001b[38;5;28mself\u001b[39m\u001b[38;5;241m.\u001b[39mcv)\n\u001b[1;32m     92\u001b[0m delayed_list \u001b[38;5;241m=\u001b[39m (\n\u001b[1;32m     93\u001b[0m     delayed(fit_and_score)(\n\u001b[1;32m     94\u001b[0m         \u001b[38;5;28mself\u001b[39m\u001b[38;5;241m.\u001b[39malgo_class(\u001b[38;5;241m*\u001b[39m\u001b[38;5;241m*\u001b[39mparams),\n\u001b[0;32m   (...)\u001b[0m\n\u001b[1;32m    102\u001b[0m     )\n\u001b[1;32m    103\u001b[0m )\n\u001b[0;32m--> 104\u001b[0m out \u001b[38;5;241m=\u001b[39m \u001b[43mParallel\u001b[49m\u001b[43m(\u001b[49m\n\u001b[1;32m    105\u001b[0m \u001b[43m    \u001b[49m\u001b[43mn_jobs\u001b[49m\u001b[38;5;241;43m=\u001b[39;49m\u001b[38;5;28;43mself\u001b[39;49m\u001b[38;5;241;43m.\u001b[39;49m\u001b[43mn_jobs\u001b[49m\u001b[43m,\u001b[49m\n\u001b[1;32m    106\u001b[0m \u001b[43m    \u001b[49m\u001b[43mpre_dispatch\u001b[49m\u001b[38;5;241;43m=\u001b[39;49m\u001b[38;5;28;43mself\u001b[39;49m\u001b[38;5;241;43m.\u001b[39;49m\u001b[43mpre_dispatch\u001b[49m\u001b[43m,\u001b[49m\n\u001b[1;32m    107\u001b[0m \u001b[43m    \u001b[49m\u001b[43mverbose\u001b[49m\u001b[38;5;241;43m=\u001b[39;49m\u001b[38;5;28;43mself\u001b[39;49m\u001b[38;5;241;43m.\u001b[39;49m\u001b[43mjoblib_verbose\u001b[49m\u001b[43m,\u001b[49m\n\u001b[1;32m    108\u001b[0m \u001b[43m\u001b[49m\u001b[43m)\u001b[49m\u001b[43m(\u001b[49m\u001b[43mdelayed_list\u001b[49m\u001b[43m)\u001b[49m\n\u001b[1;32m    110\u001b[0m (test_measures_dicts, train_measures_dicts, fit_times, test_times) \u001b[38;5;241m=\u001b[39m \u001b[38;5;28mzip\u001b[39m(\u001b[38;5;241m*\u001b[39mout)\n\u001b[1;32m    112\u001b[0m \u001b[38;5;66;03m# test_measures_dicts is a list of dict like this:\u001b[39;00m\n\u001b[1;32m    113\u001b[0m \u001b[38;5;66;03m# [{'mae': 1, 'rmse': 2}, {'mae': 2, 'rmse': 3} ...]\u001b[39;00m\n\u001b[1;32m    114\u001b[0m \u001b[38;5;66;03m# E.g. for 5 splits, the first 5 dicts are for the first param\u001b[39;00m\n\u001b[0;32m   (...)\u001b[0m\n\u001b[1;32m    121\u001b[0m \u001b[38;5;66;03m# (n_parameters_combinations, n_splits). This way we can easily compute\u001b[39;00m\n\u001b[1;32m    122\u001b[0m \u001b[38;5;66;03m# the mean and std dev over all splits or over all param comb.\u001b[39;00m\n",
      "File \u001b[0;32m~/opt/anaconda3/lib/python3.9/site-packages/joblib/parallel.py:1046\u001b[0m, in \u001b[0;36mParallel.__call__\u001b[0;34m(self, iterable)\u001b[0m\n\u001b[1;32m   1043\u001b[0m \u001b[38;5;28;01mif\u001b[39;00m \u001b[38;5;28mself\u001b[39m\u001b[38;5;241m.\u001b[39mdispatch_one_batch(iterator):\n\u001b[1;32m   1044\u001b[0m     \u001b[38;5;28mself\u001b[39m\u001b[38;5;241m.\u001b[39m_iterating \u001b[38;5;241m=\u001b[39m \u001b[38;5;28mself\u001b[39m\u001b[38;5;241m.\u001b[39m_original_iterator \u001b[38;5;129;01mis\u001b[39;00m \u001b[38;5;129;01mnot\u001b[39;00m \u001b[38;5;28;01mNone\u001b[39;00m\n\u001b[0;32m-> 1046\u001b[0m \u001b[38;5;28;01mwhile\u001b[39;00m \u001b[38;5;28;43mself\u001b[39;49m\u001b[38;5;241;43m.\u001b[39;49m\u001b[43mdispatch_one_batch\u001b[49m\u001b[43m(\u001b[49m\u001b[43miterator\u001b[49m\u001b[43m)\u001b[49m:\n\u001b[1;32m   1047\u001b[0m     \u001b[38;5;28;01mpass\u001b[39;00m\n\u001b[1;32m   1049\u001b[0m \u001b[38;5;28;01mif\u001b[39;00m pre_dispatch \u001b[38;5;241m==\u001b[39m \u001b[38;5;124m\"\u001b[39m\u001b[38;5;124mall\u001b[39m\u001b[38;5;124m\"\u001b[39m \u001b[38;5;129;01mor\u001b[39;00m n_jobs \u001b[38;5;241m==\u001b[39m \u001b[38;5;241m1\u001b[39m:\n\u001b[1;32m   1050\u001b[0m     \u001b[38;5;66;03m# The iterable was consumed all at once by the above for loop.\u001b[39;00m\n\u001b[1;32m   1051\u001b[0m     \u001b[38;5;66;03m# No need to wait for async callbacks to trigger to\u001b[39;00m\n\u001b[1;32m   1052\u001b[0m     \u001b[38;5;66;03m# consumption.\u001b[39;00m\n",
      "File \u001b[0;32m~/opt/anaconda3/lib/python3.9/site-packages/joblib/parallel.py:861\u001b[0m, in \u001b[0;36mParallel.dispatch_one_batch\u001b[0;34m(self, iterator)\u001b[0m\n\u001b[1;32m    859\u001b[0m     \u001b[38;5;28;01mreturn\u001b[39;00m \u001b[38;5;28;01mFalse\u001b[39;00m\n\u001b[1;32m    860\u001b[0m \u001b[38;5;28;01melse\u001b[39;00m:\n\u001b[0;32m--> 861\u001b[0m     \u001b[38;5;28;43mself\u001b[39;49m\u001b[38;5;241;43m.\u001b[39;49m\u001b[43m_dispatch\u001b[49m\u001b[43m(\u001b[49m\u001b[43mtasks\u001b[49m\u001b[43m)\u001b[49m\n\u001b[1;32m    862\u001b[0m     \u001b[38;5;28;01mreturn\u001b[39;00m \u001b[38;5;28;01mTrue\u001b[39;00m\n",
      "File \u001b[0;32m~/opt/anaconda3/lib/python3.9/site-packages/joblib/parallel.py:779\u001b[0m, in \u001b[0;36mParallel._dispatch\u001b[0;34m(self, batch)\u001b[0m\n\u001b[1;32m    777\u001b[0m \u001b[38;5;28;01mwith\u001b[39;00m \u001b[38;5;28mself\u001b[39m\u001b[38;5;241m.\u001b[39m_lock:\n\u001b[1;32m    778\u001b[0m     job_idx \u001b[38;5;241m=\u001b[39m \u001b[38;5;28mlen\u001b[39m(\u001b[38;5;28mself\u001b[39m\u001b[38;5;241m.\u001b[39m_jobs)\n\u001b[0;32m--> 779\u001b[0m     job \u001b[38;5;241m=\u001b[39m \u001b[38;5;28;43mself\u001b[39;49m\u001b[38;5;241;43m.\u001b[39;49m\u001b[43m_backend\u001b[49m\u001b[38;5;241;43m.\u001b[39;49m\u001b[43mapply_async\u001b[49m\u001b[43m(\u001b[49m\u001b[43mbatch\u001b[49m\u001b[43m,\u001b[49m\u001b[43m \u001b[49m\u001b[43mcallback\u001b[49m\u001b[38;5;241;43m=\u001b[39;49m\u001b[43mcb\u001b[49m\u001b[43m)\u001b[49m\n\u001b[1;32m    780\u001b[0m     \u001b[38;5;66;03m# A job can complete so quickly than its callback is\u001b[39;00m\n\u001b[1;32m    781\u001b[0m     \u001b[38;5;66;03m# called before we get here, causing self._jobs to\u001b[39;00m\n\u001b[1;32m    782\u001b[0m     \u001b[38;5;66;03m# grow. To ensure correct results ordering, .insert is\u001b[39;00m\n\u001b[1;32m    783\u001b[0m     \u001b[38;5;66;03m# used (rather than .append) in the following line\u001b[39;00m\n\u001b[1;32m    784\u001b[0m     \u001b[38;5;28mself\u001b[39m\u001b[38;5;241m.\u001b[39m_jobs\u001b[38;5;241m.\u001b[39minsert(job_idx, job)\n",
      "File \u001b[0;32m~/opt/anaconda3/lib/python3.9/site-packages/joblib/_parallel_backends.py:208\u001b[0m, in \u001b[0;36mSequentialBackend.apply_async\u001b[0;34m(self, func, callback)\u001b[0m\n\u001b[1;32m    206\u001b[0m \u001b[38;5;28;01mdef\u001b[39;00m \u001b[38;5;21mapply_async\u001b[39m(\u001b[38;5;28mself\u001b[39m, func, callback\u001b[38;5;241m=\u001b[39m\u001b[38;5;28;01mNone\u001b[39;00m):\n\u001b[1;32m    207\u001b[0m     \u001b[38;5;124;03m\"\"\"Schedule a func to be run\"\"\"\u001b[39;00m\n\u001b[0;32m--> 208\u001b[0m     result \u001b[38;5;241m=\u001b[39m \u001b[43mImmediateResult\u001b[49m\u001b[43m(\u001b[49m\u001b[43mfunc\u001b[49m\u001b[43m)\u001b[49m\n\u001b[1;32m    209\u001b[0m     \u001b[38;5;28;01mif\u001b[39;00m callback:\n\u001b[1;32m    210\u001b[0m         callback(result)\n",
      "File \u001b[0;32m~/opt/anaconda3/lib/python3.9/site-packages/joblib/_parallel_backends.py:572\u001b[0m, in \u001b[0;36mImmediateResult.__init__\u001b[0;34m(self, batch)\u001b[0m\n\u001b[1;32m    569\u001b[0m \u001b[38;5;28;01mdef\u001b[39;00m \u001b[38;5;21m__init__\u001b[39m(\u001b[38;5;28mself\u001b[39m, batch):\n\u001b[1;32m    570\u001b[0m     \u001b[38;5;66;03m# Don't delay the application, to avoid keeping the input\u001b[39;00m\n\u001b[1;32m    571\u001b[0m     \u001b[38;5;66;03m# arguments in memory\u001b[39;00m\n\u001b[0;32m--> 572\u001b[0m     \u001b[38;5;28mself\u001b[39m\u001b[38;5;241m.\u001b[39mresults \u001b[38;5;241m=\u001b[39m \u001b[43mbatch\u001b[49m\u001b[43m(\u001b[49m\u001b[43m)\u001b[49m\n",
      "File \u001b[0;32m~/opt/anaconda3/lib/python3.9/site-packages/joblib/parallel.py:262\u001b[0m, in \u001b[0;36mBatchedCalls.__call__\u001b[0;34m(self)\u001b[0m\n\u001b[1;32m    258\u001b[0m \u001b[38;5;28;01mdef\u001b[39;00m \u001b[38;5;21m__call__\u001b[39m(\u001b[38;5;28mself\u001b[39m):\n\u001b[1;32m    259\u001b[0m     \u001b[38;5;66;03m# Set the default nested backend to self._backend but do not set the\u001b[39;00m\n\u001b[1;32m    260\u001b[0m     \u001b[38;5;66;03m# change the default number of processes to -1\u001b[39;00m\n\u001b[1;32m    261\u001b[0m     \u001b[38;5;28;01mwith\u001b[39;00m parallel_backend(\u001b[38;5;28mself\u001b[39m\u001b[38;5;241m.\u001b[39m_backend, n_jobs\u001b[38;5;241m=\u001b[39m\u001b[38;5;28mself\u001b[39m\u001b[38;5;241m.\u001b[39m_n_jobs):\n\u001b[0;32m--> 262\u001b[0m         \u001b[38;5;28;01mreturn\u001b[39;00m [func(\u001b[38;5;241m*\u001b[39margs, \u001b[38;5;241m*\u001b[39m\u001b[38;5;241m*\u001b[39mkwargs)\n\u001b[1;32m    263\u001b[0m                 \u001b[38;5;28;01mfor\u001b[39;00m func, args, kwargs \u001b[38;5;129;01min\u001b[39;00m \u001b[38;5;28mself\u001b[39m\u001b[38;5;241m.\u001b[39mitems]\n",
      "File \u001b[0;32m~/opt/anaconda3/lib/python3.9/site-packages/joblib/parallel.py:262\u001b[0m, in \u001b[0;36m<listcomp>\u001b[0;34m(.0)\u001b[0m\n\u001b[1;32m    258\u001b[0m \u001b[38;5;28;01mdef\u001b[39;00m \u001b[38;5;21m__call__\u001b[39m(\u001b[38;5;28mself\u001b[39m):\n\u001b[1;32m    259\u001b[0m     \u001b[38;5;66;03m# Set the default nested backend to self._backend but do not set the\u001b[39;00m\n\u001b[1;32m    260\u001b[0m     \u001b[38;5;66;03m# change the default number of processes to -1\u001b[39;00m\n\u001b[1;32m    261\u001b[0m     \u001b[38;5;28;01mwith\u001b[39;00m parallel_backend(\u001b[38;5;28mself\u001b[39m\u001b[38;5;241m.\u001b[39m_backend, n_jobs\u001b[38;5;241m=\u001b[39m\u001b[38;5;28mself\u001b[39m\u001b[38;5;241m.\u001b[39m_n_jobs):\n\u001b[0;32m--> 262\u001b[0m         \u001b[38;5;28;01mreturn\u001b[39;00m [\u001b[43mfunc\u001b[49m\u001b[43m(\u001b[49m\u001b[38;5;241;43m*\u001b[39;49m\u001b[43margs\u001b[49m\u001b[43m,\u001b[49m\u001b[43m \u001b[49m\u001b[38;5;241;43m*\u001b[39;49m\u001b[38;5;241;43m*\u001b[39;49m\u001b[43mkwargs\u001b[49m\u001b[43m)\u001b[49m\n\u001b[1;32m    263\u001b[0m                 \u001b[38;5;28;01mfor\u001b[39;00m func, args, kwargs \u001b[38;5;129;01min\u001b[39;00m \u001b[38;5;28mself\u001b[39m\u001b[38;5;241m.\u001b[39mitems]\n",
      "File \u001b[0;32m~/opt/anaconda3/lib/python3.9/site-packages/surprise/model_selection/validation.py:186\u001b[0m, in \u001b[0;36mfit_and_score\u001b[0;34m(algo, trainset, testset, measures, return_train_measures)\u001b[0m\n\u001b[1;32m    184\u001b[0m \u001b[38;5;28;01mfor\u001b[39;00m m \u001b[38;5;129;01min\u001b[39;00m measures:\n\u001b[1;32m    185\u001b[0m     f \u001b[38;5;241m=\u001b[39m \u001b[38;5;28mgetattr\u001b[39m(accuracy, m\u001b[38;5;241m.\u001b[39mlower())\n\u001b[0;32m--> 186\u001b[0m     test_measures[m] \u001b[38;5;241m=\u001b[39m \u001b[43mf\u001b[49m\u001b[43m(\u001b[49m\u001b[43mpredictions\u001b[49m\u001b[43m,\u001b[49m\u001b[43m \u001b[49m\u001b[43mverbose\u001b[49m\u001b[38;5;241;43m=\u001b[39;49m\u001b[38;5;241;43m0\u001b[39;49m\u001b[43m)\u001b[49m\n\u001b[1;32m    187\u001b[0m     \u001b[38;5;28;01mif\u001b[39;00m return_train_measures:\n\u001b[1;32m    188\u001b[0m         train_measures[m] \u001b[38;5;241m=\u001b[39m f(train_predictions, verbose\u001b[38;5;241m=\u001b[39m\u001b[38;5;241m0\u001b[39m)\n",
      "File \u001b[0;32m~/opt/anaconda3/lib/python3.9/site-packages/surprise/accuracy.py:117\u001b[0m, in \u001b[0;36mmae\u001b[0;34m(predictions, verbose)\u001b[0m\n\u001b[1;32m    114\u001b[0m \u001b[38;5;28;01mif\u001b[39;00m \u001b[38;5;129;01mnot\u001b[39;00m predictions:\n\u001b[1;32m    115\u001b[0m     \u001b[38;5;28;01mraise\u001b[39;00m \u001b[38;5;167;01mValueError\u001b[39;00m(\u001b[38;5;124m\"\u001b[39m\u001b[38;5;124mPrediction list is empty.\u001b[39m\u001b[38;5;124m\"\u001b[39m)\n\u001b[0;32m--> 117\u001b[0m mae_ \u001b[38;5;241m=\u001b[39m np\u001b[38;5;241m.\u001b[39mmean([\u001b[38;5;28mfloat\u001b[39m(\u001b[38;5;28mabs\u001b[39m(true_r \u001b[38;5;241m-\u001b[39m est)) \u001b[38;5;28;01mfor\u001b[39;00m (_, _, true_r, est, _) \u001b[38;5;129;01min\u001b[39;00m predictions])\n\u001b[1;32m    119\u001b[0m \u001b[38;5;28;01mif\u001b[39;00m verbose:\n\u001b[1;32m    120\u001b[0m     \u001b[38;5;28mprint\u001b[39m(\u001b[38;5;124mf\u001b[39m\u001b[38;5;124m\"\u001b[39m\u001b[38;5;124mMAE:  \u001b[39m\u001b[38;5;132;01m{\u001b[39;00mmae_\u001b[38;5;132;01m:\u001b[39;00m\u001b[38;5;124m1.4f\u001b[39m\u001b[38;5;132;01m}\u001b[39;00m\u001b[38;5;124m\"\u001b[39m)\n",
      "File \u001b[0;32m~/opt/anaconda3/lib/python3.9/site-packages/surprise/accuracy.py:117\u001b[0m, in \u001b[0;36m<listcomp>\u001b[0;34m(.0)\u001b[0m\n\u001b[1;32m    114\u001b[0m \u001b[38;5;28;01mif\u001b[39;00m \u001b[38;5;129;01mnot\u001b[39;00m predictions:\n\u001b[1;32m    115\u001b[0m     \u001b[38;5;28;01mraise\u001b[39;00m \u001b[38;5;167;01mValueError\u001b[39;00m(\u001b[38;5;124m\"\u001b[39m\u001b[38;5;124mPrediction list is empty.\u001b[39m\u001b[38;5;124m\"\u001b[39m)\n\u001b[0;32m--> 117\u001b[0m mae_ \u001b[38;5;241m=\u001b[39m np\u001b[38;5;241m.\u001b[39mmean([\u001b[38;5;28;43mfloat\u001b[39;49m(\u001b[38;5;28mabs\u001b[39m(true_r \u001b[38;5;241m-\u001b[39m est)) \u001b[38;5;28;01mfor\u001b[39;00m (_, _, true_r, est, _) \u001b[38;5;129;01min\u001b[39;00m predictions])\n\u001b[1;32m    119\u001b[0m \u001b[38;5;28;01mif\u001b[39;00m verbose:\n\u001b[1;32m    120\u001b[0m     \u001b[38;5;28mprint\u001b[39m(\u001b[38;5;124mf\u001b[39m\u001b[38;5;124m\"\u001b[39m\u001b[38;5;124mMAE:  \u001b[39m\u001b[38;5;132;01m{\u001b[39;00mmae_\u001b[38;5;132;01m:\u001b[39;00m\u001b[38;5;124m1.4f\u001b[39m\u001b[38;5;132;01m}\u001b[39;00m\u001b[38;5;124m\"\u001b[39m)\n",
      "\u001b[0;31mKeyboardInterrupt\u001b[0m: "
     ]
    }
   ],
   "source": [
    "# Define the parameter grid\n",
    "param_grid = {\n",
    "    'n_epochs': [5, 10, 20], \n",
    "    'lr_all': [0.002, 0.005, 0.01], \n",
    "    'reg_all': [0.2, 0.4, 0.6]\n",
    "}\n",
    "\n",
    "algo = SVD\n",
    "# Run a grid search with cross validation\n",
    "gs = GridSearchCV(algo, param_grid, measures=['rmse', 'mae'], cv=3)\n",
    "gs.fit(data)\n",
    "\n",
    "# Print the best score and the best parameters\n",
    "print(gs.best_score['rmse'])\n",
    "print(gs.best_params['rmse'])"
   ]
  },
  {
   "cell_type": "markdown",
   "id": "efc505f2",
   "metadata": {},
   "source": [
    "### Using predictions to produce recommendations"
   ]
  },
  {
   "cell_type": "code",
   "execution_count": null,
   "id": "bfb657d2",
   "metadata": {},
   "outputs": [],
   "source": [
    "# Predictions can now be made with the predict() method\n",
    "# For example, predicting the rating of the item with id 'item_id' for the user with id 'user_id'\n",
    "user_id = '6538326896'\n",
    "item_id = 'P480354'\n",
    "prediction = algo.predict(user_id, item_id)\n",
    "print(prediction.est)\n",
    "\n",
    "# Assume user_ids and item_ids are arrays or lists of user ids and item ids.\n",
    "user_ids = ['7446977307', '1991973234', '42434587408']\n",
    "item_ids = ['P467602', 'P481993', 'P481993']\n",
    "\n",
    "# Assuming 'algo' is your trained model\n",
    "predictions = [algo.predict(user_id, item_id) for user_id, item_id in zip(user_ids, item_ids)]\n",
    "\n",
    "# Extract the estimated ratings\n",
    "estimated_ratings = [pred.est for pred in predictions]"
   ]
  },
  {
   "cell_type": "code",
   "execution_count": 54,
   "id": "22778d4d",
   "metadata": {},
   "outputs": [
    {
     "data": {
      "text/html": [
       "<div>\n",
       "<style scoped>\n",
       "    .dataframe tbody tr th:only-of-type {\n",
       "        vertical-align: middle;\n",
       "    }\n",
       "\n",
       "    .dataframe tbody tr th {\n",
       "        vertical-align: top;\n",
       "    }\n",
       "\n",
       "    .dataframe thead th {\n",
       "        text-align: right;\n",
       "    }\n",
       "</style>\n",
       "<table border=\"1\" class=\"dataframe\">\n",
       "  <thead>\n",
       "    <tr style=\"text-align: right;\">\n",
       "      <th></th>\n",
       "      <th>user_id</th>\n",
       "      <th>item_id</th>\n",
       "      <th>rating</th>\n",
       "    </tr>\n",
       "  </thead>\n",
       "  <tbody>\n",
       "    <tr>\n",
       "      <th>0</th>\n",
       "      <td>1741593524</td>\n",
       "      <td>P504322</td>\n",
       "      <td>5</td>\n",
       "    </tr>\n",
       "    <tr>\n",
       "      <th>1</th>\n",
       "      <td>31423088263</td>\n",
       "      <td>P420652</td>\n",
       "      <td>1</td>\n",
       "    </tr>\n",
       "    <tr>\n",
       "      <th>2</th>\n",
       "      <td>5061282401</td>\n",
       "      <td>P420652</td>\n",
       "      <td>5</td>\n",
       "    </tr>\n",
       "    <tr>\n",
       "      <th>3</th>\n",
       "      <td>6083038851</td>\n",
       "      <td>P420652</td>\n",
       "      <td>5</td>\n",
       "    </tr>\n",
       "    <tr>\n",
       "      <th>4</th>\n",
       "      <td>47056667835</td>\n",
       "      <td>P420652</td>\n",
       "      <td>5</td>\n",
       "    </tr>\n",
       "  </tbody>\n",
       "</table>\n",
       "</div>"
      ],
      "text/plain": [
       "       user_id  item_id  rating\n",
       "0   1741593524  P504322       5\n",
       "1  31423088263  P420652       1\n",
       "2   5061282401  P420652       5\n",
       "3   6083038851  P420652       5\n",
       "4  47056667835  P420652       5"
      ]
     },
     "execution_count": 54,
     "metadata": {},
     "output_type": "execute_result"
    }
   ],
   "source": [
    "df.head()"
   ]
  },
  {
   "cell_type": "code",
   "execution_count": 55,
   "id": "b26225c6",
   "metadata": {},
   "outputs": [],
   "source": [
    "user_id = '6538326896'  # replace with actual user id\n",
    "item_ids = df['item_id'].unique()"
   ]
  },
  {
   "cell_type": "code",
   "execution_count": 57,
   "id": "3fb000db",
   "metadata": {},
   "outputs": [],
   "source": [
    "\n",
    "preds = [algo.predict(user_id, item_id) for item_id in item_ids]\n"
   ]
  },
  {
   "cell_type": "code",
   "execution_count": 59,
   "id": "9fb43676",
   "metadata": {},
   "outputs": [],
   "source": [
    "preds_df = pd.DataFrame([(pred.uid, pred.iid, pred.est) for pred in preds], columns=['user_id', 'item_id', 'rating'])\n"
   ]
  },
  {
   "cell_type": "code",
   "execution_count": 61,
   "id": "cdf04d11",
   "metadata": {},
   "outputs": [
    {
     "name": "stdout",
     "output_type": "stream",
     "text": [
      "         user_id  item_id    rating\n",
      "387   6538326896    P4010  5.000000\n",
      "402   6538326896  P471788  5.000000\n",
      "188   6538326896  P460516  4.910437\n",
      "285   6538326896  P188309  4.882838\n",
      "1595  6538326896  P419466  4.842847\n"
     ]
    }
   ],
   "source": [
    "n_recommendations = 5\n",
    "top_n_recs = preds_df[preds_df['user_id'] == user_id].nlargest(n_recommendations, 'rating')\n",
    "print(top_n_recs)\n"
   ]
  },
  {
   "cell_type": "markdown",
   "id": "85e8594a",
   "metadata": {},
   "source": [
    "### Provide top 10 recommendations to a user"
   ]
  },
  {
   "cell_type": "code",
   "execution_count": 70,
   "id": "48bb5b87",
   "metadata": {},
   "outputs": [],
   "source": [
    "\n",
    "def recommend_unreviewed_items(user_id, model, df, n_recommendations=10):\n",
    "    # Get the item IDs that the user has already rated\n",
    "    rated_item_ids = df[df['user_id'] == user_id]['item_id']\n",
    "\n",
    "    # Get all item IDs\n",
    "    all_item_ids = df['item_id'].unique()\n",
    "\n",
    "    # Get the item IDs that the user hasn't rated yet\n",
    "    unrated_item_ids = np.setdiff1d(all_item_ids, rated_item_ids)\n",
    "\n",
    "    # Make predictions for the unrated items only\n",
    "    preds = [model.predict(user_id, item_id) for item_id in unrated_item_ids]\n",
    "\n",
    "    # Convert predictions to DataFrame\n",
    "    preds_df = pd.DataFrame([(pred.uid, pred.iid, pred.est) for pred in preds], columns=['user_id', 'item_id', 'rating'])\n",
    "\n",
    "    # Get top N recommendations\n",
    "    top_n_recs = preds_df.nlargest(n_recommendations, 'rating')\n",
    "\n",
    "    return top_n_recs\n",
    "\n"
   ]
  },
  {
   "cell_type": "code",
   "execution_count": 76,
   "id": "c2593bf7",
   "metadata": {},
   "outputs": [
    {
     "name": "stdout",
     "output_type": "stream",
     "text": [
      "For user  6538326896  we recommend items:  ['P4010', 'P471788', 'P460516', 'P188309', 'P419466', 'P470247', 'P122718', 'P426340', 'P465803', 'P459128']\n"
     ]
    }
   ],
   "source": [
    "# Example usage:\n",
    "user_id = '6538326896'  # replace with actual user id\n",
    "#print(recommend_unreviewed_items(user_id, algo, df))\n",
    "\n",
    "print('For user ', user_id, ' we recommend items: ' , recommend_unreviewed_items(user_id, algo, df).item_id.tolist())"
   ]
  },
  {
   "cell_type": "markdown",
   "id": "0026898a",
   "metadata": {},
   "source": [
    "### Show which items were rated by user given user_id"
   ]
  },
  {
   "cell_type": "code",
   "execution_count": 63,
   "id": "d4bdbc66",
   "metadata": {},
   "outputs": [
    {
     "name": "stdout",
     "output_type": "stream",
     "text": [
      "            user_id  item_id  rating\n",
      "4       47056667835  P420652       5\n",
      "184800  47056667835  P443563       5\n"
     ]
    }
   ],
   "source": [
    "def rated_items(user_id, df):\n",
    "    # Get the items rated by the user\n",
    "    rated_df = df[df['user_id'] == user_id]\n",
    "\n",
    "    return rated_df\n",
    "\n",
    "# Example usage:\n",
    "user_id = '47056667835'  # replace with actual user id\n",
    "print(rated_items(user_id, df))\n"
   ]
  },
  {
   "cell_type": "code",
   "execution_count": 64,
   "id": "089bd524",
   "metadata": {},
   "outputs": [
    {
     "name": "stdout",
     "output_type": "stream",
     "text": [
      "                user_id  num_ratings\n",
      "0           10000015049            1\n",
      "1            1000001620            1\n",
      "2           10000049623            1\n",
      "3           10000060335            1\n",
      "4           10000098796            2\n",
      "...                 ...          ...\n",
      "503211    orderGen51156            7\n",
      "503212    orderGen53499            1\n",
      "503213  orderGen5563740            4\n",
      "503214   orderGen703225            1\n",
      "503215   orderGen899861            1\n",
      "\n",
      "[503216 rows x 2 columns]\n"
     ]
    }
   ],
   "source": [
    "# Count the number of ratings each user has made\n",
    "ratings_count = df.groupby('user_id')['rating'].count()\n",
    "\n",
    "# Convert the Series to a DataFrame\n",
    "ratings_count_df = ratings_count.reset_index()\n",
    "\n",
    "# Rename the columns\n",
    "ratings_count_df.columns = ['user_id', 'num_ratings']\n",
    "\n",
    "# Show the DataFrame\n",
    "print(ratings_count_df)\n"
   ]
  },
  {
   "cell_type": "markdown",
   "id": "c74242f9",
   "metadata": {},
   "source": [
    "### Exploring additional methods\n",
    "Other common collaborative filtering algoriths include KNN, NMf and Biased SVD.\n",
    "\n",
    "### Note on KNN\n",
    "KNN algorithm is a simple and commonly used method for making recommendations, but it can struggle with large datasets due to its computational complexity.\n",
    "KNN works by computing distances between items or users, which requires comparing each item (or user) to every other item (or user). As a result, the time and space complexity of the algorithm is quadratic in the number of items or users. This means that as the dataset grows, the time and memory required to run KNN increase rapidly.\n",
    "\n",
    "For a dataset with 1,088,886 ratings of unique users and items, KNN was too slow and required a large amount of memory, so we consider using a more scalable algorithm.\n"
   ]
  },
  {
   "cell_type": "markdown",
   "id": "724163b4",
   "metadata": {},
   "source": [
    "### Model 2: NMF"
   ]
  },
  {
   "cell_type": "markdown",
   "id": "cd600b69",
   "metadata": {},
   "source": [
    "In this code, we are using the default hyperparameters for the NMF algorithm, which are:\n",
    "\n",
    "n_factors: The number of factors. Default is 15.\n",
    "n_epochs: The number of iteration of the SGD procedure. Default is 50.\n",
    "biased: Whether to use baselines (or biases). Default is True."
   ]
  },
  {
   "cell_type": "code",
   "execution_count": 19,
   "id": "5edbc4bc",
   "metadata": {},
   "outputs": [
    {
     "name": "stdout",
     "output_type": "stream",
     "text": [
      "RMSE: 1.0019\n",
      "RMSE:  1.0019127397679086\n",
      "MAE:  0.6839\n",
      "MAE:  0.6838654487444777\n"
     ]
    }
   ],
   "source": [
    "from surprise import NMF, Dataset, Reader, accuracy\n",
    "from surprise.model_selection import train_test_split\n",
    "\n",
    "algo2 = NMF()\n",
    "algo2.fit(trainset)\n",
    "predictions = algo2.test(testset)\n",
    "\n",
    "# Then compute RMSE\n",
    "print(\"RMSE: \", accuracy.rmse(predictions))\n",
    "\n",
    "# compute MAE\n",
    "print(\"MAE: \", accuracy.mae(predictions))\n"
   ]
  },
  {
   "cell_type": "code",
   "execution_count": 21,
   "id": "d0537140",
   "metadata": {},
   "outputs": [
    {
     "name": "stdout",
     "output_type": "stream",
     "text": [
      "Evaluating RMSE, MAE of algorithm NMF on 2 split(s).\n",
      "\n",
      "                  Fold 1  Fold 2  Mean    Std     \n",
      "RMSE (testset)    1.0998  1.1003  1.1001  0.0002  \n",
      "MAE (testset)     0.7892  0.7896  0.7894  0.0002  \n",
      "Fit time          23.01   23.87   23.44   0.43    \n",
      "Test time         9.16    4.93    7.04    2.12    \n"
     ]
    },
    {
     "data": {
      "text/plain": [
       "{'test_rmse': array([1.09982652, 1.10030994]),\n",
       " 'test_mae': array([0.78924875, 0.7895833 ]),\n",
       " 'fit_time': (23.012303113937378, 23.867035150527954),\n",
       " 'test_time': (9.161565065383911, 4.926636695861816)}"
      ]
     },
     "execution_count": 21,
     "metadata": {},
     "output_type": "execute_result"
    }
   ],
   "source": [
    "# Run 5-fold cross-validation and print results\n",
    "cross_validate(algo2, data, measures=['RMSE', 'MAE'], cv=2, verbose=True)"
   ]
  },
  {
   "cell_type": "markdown",
   "id": "d3231aa4",
   "metadata": {},
   "source": [
    "Well it looks like the Mean RMSE is 1.10 and MAE is 0.79 while SVD had 0.91, 0.64 RMSE and MAE correspondingly. \n",
    "So SVD seems to do better."
   ]
  },
  {
   "cell_type": "markdown",
   "id": "90bc762f",
   "metadata": {},
   "source": [
    "### Model 3: Biased SVD"
   ]
  },
  {
   "cell_type": "code",
   "execution_count": 23,
   "id": "1f5779e1",
   "metadata": {},
   "outputs": [],
   "source": [
    "# Use the biased SVD algorithm\n",
    "algo3 = SVD(biased=True) # default is True"
   ]
  },
  {
   "cell_type": "code",
   "execution_count": 24,
   "id": "faa019a3",
   "metadata": {},
   "outputs": [
    {
     "name": "stdout",
     "output_type": "stream",
     "text": [
      "Evaluating RMSE, MAE of algorithm SVD on 5 split(s).\n",
      "\n",
      "                  Fold 1  Fold 2  Fold 3  Fold 4  Fold 5  Mean    Std     \n",
      "RMSE (testset)    0.9170  0.9170  0.9155  0.9149  0.9199  0.9169  0.0017  \n",
      "MAE (testset)     0.6465  0.6466  0.6451  0.6455  0.6481  0.6464  0.0011  \n",
      "Fit time          10.25   10.11   10.39   10.37   10.11   10.24   0.12    \n",
      "Test time         1.17    1.22    1.22    1.15    1.22    1.20    0.03    \n"
     ]
    },
    {
     "data": {
      "text/plain": [
       "{'test_rmse': array([0.91697627, 0.91695062, 0.91548728, 0.91490322, 0.91993438]),\n",
       " 'test_mae': array([0.64653607, 0.64657084, 0.64509574, 0.64550031, 0.64814452]),\n",
       " 'fit_time': (10.2471342086792,\n",
       "  10.109180927276611,\n",
       "  10.387124061584473,\n",
       "  10.371218919754028,\n",
       "  10.107017278671265),\n",
       " 'test_time': (1.1713521480560303,\n",
       "  1.2228519916534424,\n",
       "  1.2185652256011963,\n",
       "  1.1538362503051758,\n",
       "  1.2164320945739746)}"
      ]
     },
     "execution_count": 24,
     "metadata": {},
     "output_type": "execute_result"
    }
   ],
   "source": [
    "# Run 5-fold cross-validation and print results\n",
    "cross_validate(algo3, data, measures=['RMSE', 'MAE'], cv=5, verbose=True)"
   ]
  },
  {
   "cell_type": "markdown",
   "id": "76994428",
   "metadata": {},
   "source": [
    "Well, it looks like Biased SVD doesn't perform much better, so we prefer the parsimonious model: Regular SVD."
   ]
  },
  {
   "cell_type": "markdown",
   "id": "a2ae2c7b",
   "metadata": {},
   "source": [
    "### Model 4: Light FM"
   ]
  },
  {
   "cell_type": "markdown",
   "id": "5b163a58",
   "metadata": {},
   "source": [
    "LightFM is a hybrid matrix factorization model that represents users and items as linear combinations of their content features' latent factors. In other words, it is capable of using both collaborative and content-based information for recommendations, which makes it a good choice for dealing with both cold start and sparsity problems. \n",
    "\n"
   ]
  },
  {
   "cell_type": "code",
   "execution_count": 25,
   "id": "e1b88076",
   "metadata": {},
   "outputs": [
    {
     "name": "stderr",
     "output_type": "stream",
     "text": [
      "/Users/benazirrowe/opt/anaconda3/lib/python3.9/site-packages/lightfm/_lightfm_fast.py:9: UserWarning: LightFM was compiled without OpenMP support. Only a single thread will be used.\n",
      "  warnings.warn(\n"
     ]
    }
   ],
   "source": [
    "from lightfm import LightFM\n",
    "from lightfm.data import Dataset\n",
    "from lightfm.evaluation import auc_score\n",
    "from lightfm.evaluation import precision_at_k\n",
    "\n",
    "from scipy.sparse import csr_matrix"
   ]
  },
  {
   "cell_type": "code",
   "execution_count": null,
   "id": "ac067387",
   "metadata": {},
   "outputs": [],
   "source": []
  }
 ],
 "metadata": {
  "kernelspec": {
   "display_name": "Python 3 (ipykernel)",
   "language": "python",
   "name": "python3"
  },
  "language_info": {
   "codemirror_mode": {
    "name": "ipython",
    "version": 3
   },
   "file_extension": ".py",
   "mimetype": "text/x-python",
   "name": "python",
   "nbconvert_exporter": "python",
   "pygments_lexer": "ipython3",
   "version": "3.9.12"
  }
 },
 "nbformat": 4,
 "nbformat_minor": 5
}
